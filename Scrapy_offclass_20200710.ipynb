{
 "cells": [
  {
   "cell_type": "code",
   "execution_count": 20,
   "metadata": {},
   "outputs": [
    {
     "name": "stdout",
     "output_type": "stream",
     "text": [
      "Collecting scrapy-fake-useragent\n",
      "  Downloading scrapy_fake_useragent-1.2.0-py2.py3-none-any.whl (4.8 kB)\n",
      "Requirement already satisfied: fake-useragent in /Users/jhkim/opt/miniconda3/lib/python3.7/site-packages (from scrapy-fake-useragent) (0.1.11)\n",
      "Installing collected packages: scrapy-fake-useragent\n",
      "Successfully installed scrapy-fake-useragent-1.2.0\n"
     ]
    }
   ],
   "source": [
    "!pip install scrapy-fake-useragent\n"
   ]
  },
  {
   "cell_type": "markdown",
   "metadata": {},
   "source": [
    "### playnommore\n",
    "http://playnomore.co.kr"
   ]
  },
  {
   "cell_type": "code",
   "execution_count": 16,
   "metadata": {},
   "outputs": [],
   "source": [
    "import scrapy\n",
    "import requests\n",
    "\n",
    "from scrapy.http import TextResponse\n",
    "from fake_useragent import UserAgent"
   ]
  },
  {
   "cell_type": "code",
   "execution_count": 17,
   "metadata": {},
   "outputs": [
    {
     "name": "stdout",
     "output_type": "stream",
     "text": [
      "Error: scrapy.cfg already exists in /Users/jhkim/Documents/dev/TIL_/playnomore\n"
     ]
    }
   ],
   "source": [
    "\n",
    "!scrapy startproject playnomore"
   ]
  },
  {
   "cell_type": "code",
   "execution_count": 18,
   "metadata": {},
   "outputs": [
    {
     "name": "stdout",
     "output_type": "stream",
     "text": [
      "Overwriting playnomore/playnomore/items.py\n"
     ]
    }
   ],
   "source": [
    "%%writefile playnomore/playnomore/items.py\n",
    "class PlaynomoreItem(scrapy.Item):\n",
    "    title = scrapy.Field()\n",
    "    price = scrapy.Field()\n",
    "    img = scrapy.Field()\n",
    "    link = scrapy.Field()"
   ]
  },
  {
   "cell_type": "code",
   "execution_count": 19,
   "metadata": {},
   "outputs": [
    {
     "ename": "NameError",
     "evalue": "name 'response' is not defined",
     "output_type": "error",
     "traceback": [
      "\u001b[0;31m---------------------------------------------------------------------------\u001b[0m",
      "\u001b[0;31mNameError\u001b[0m                                 Traceback (most recent call last)",
      "\u001b[0;32m<ipython-input-19-47699e13f49f>\u001b[0m in \u001b[0;36m<module>\u001b[0;34m\u001b[0m\n\u001b[1;32m      4\u001b[0m \u001b[0mreq\u001b[0m \u001b[0;34m=\u001b[0m \u001b[0mrequests\u001b[0m\u001b[0;34m.\u001b[0m\u001b[0mget\u001b[0m\u001b[0;34m(\u001b[0m\u001b[0murl\u001b[0m\u001b[0;34m,\u001b[0m \u001b[0mheaders\u001b[0m \u001b[0;34m=\u001b[0m \u001b[0mheaders\u001b[0m\u001b[0;34m)\u001b[0m\u001b[0;34m\u001b[0m\u001b[0;34m\u001b[0m\u001b[0m\n\u001b[1;32m      5\u001b[0m \u001b[0mreponse\u001b[0m \u001b[0;34m=\u001b[0m \u001b[0mTextResponse\u001b[0m\u001b[0;34m(\u001b[0m\u001b[0mreq\u001b[0m\u001b[0;34m.\u001b[0m\u001b[0murl\u001b[0m\u001b[0;34m,\u001b[0m \u001b[0mbody\u001b[0m\u001b[0;34m=\u001b[0m\u001b[0mreq\u001b[0m\u001b[0;34m.\u001b[0m\u001b[0mtext\u001b[0m\u001b[0;34m,\u001b[0m \u001b[0mencoding\u001b[0m \u001b[0;34m=\u001b[0m \u001b[0;34m\"utf-8\"\u001b[0m\u001b[0;34m)\u001b[0m\u001b[0;34m\u001b[0m\u001b[0;34m\u001b[0m\u001b[0m\n\u001b[0;32m----> 6\u001b[0;31m \u001b[0mresponse\u001b[0m\u001b[0;34m\u001b[0m\u001b[0;34m\u001b[0m\u001b[0m\n\u001b[0m",
      "\u001b[0;31mNameError\u001b[0m: name 'response' is not defined"
     ]
    }
   ],
   "source": [
    "url = \"http://www.playnomore.co.kr/category/bag/24/\"\n",
    "#headers = {\"User-Agent\": \"Mozilla/5.0 (Macintosh; Intel Mac OS X 10_15_5) AppleWebKit/537.36 (KHTML, like Gecko) Chrome/83.0.4103.116 Safari/537.36\"}\n",
    "headers = {\"User-Agent\": UserAgent().chrome}\n",
    "req = requests.get(url, headers = headers)\n",
    "reponse = TextResponse(req.url, body=req.text, encoding = \"utf-8\")\n",
    "response\n"
   ]
  },
  {
   "cell_type": "code",
   "execution_count": null,
   "metadata": {},
   "outputs": [],
   "source": [
    "links = response.xpath('//*[@id=\"contents\"]/div[2]/ul/li/div[1]/a/@href').extreat()\n",
    "links = map(lambda data: reponse.urljoin(data), links)\n"
   ]
  },
  {
   "cell_type": "code",
   "execution_count": 21,
   "metadata": {},
   "outputs": [
    {
     "ename": "SyntaxError",
     "evalue": "invalid syntax (<ipython-input-21-3a2d4eecca95>, line 1)",
     "output_type": "error",
     "traceback": [
      "\u001b[0;36m  File \u001b[0;32m\"<ipython-input-21-3a2d4eecca95>\"\u001b[0;36m, line \u001b[0;32m1\u001b[0m\n\u001b[0;31m    //*[@id=\"contents\"]/div[1]/div[1]/div[1]/div[2]/ul/li[1]/img\u001b[0m\n\u001b[0m     ^\u001b[0m\n\u001b[0;31mSyntaxError\u001b[0m\u001b[0;31m:\u001b[0m invalid syntax\n"
     ]
    }
   ],
   "source": [
    "//*[@id=\"contents\"]/div[1]/div[1]/div[1]/div[2]/ul/li[1]/img"
   ]
  },
  {
   "cell_type": "markdown",
   "metadata": {},
   "source": [
    "# spider "
   ]
  },
  {
   "cell_type": "code",
   "execution_count": null,
   "metadata": {},
   "outputs": [],
   "source": [
    "%%writefile playnomore/playnomore/spiders/spiders.py\n",
    "import scrapy\n",
    "from playnomore.items import PlaynomoreItem\n",
    "\n",
    "class PlaynomoreSpider(scrapy.Spider):\n",
    "    name = \"Playnomore\"\n",
    "    # user-agent setting\n",
    "    custom_settings = {\n",
    "        \"DOWNLOADER_MIDDLEWARES\": {\n",
    "            \"scrapy.downloadmiddlewares.useragent.UserAgentMiddleware\": None,\n",
    "            \"scrapy_fake_useragent.middlewares.RandomUserAgentMiddleware\": 400,\n",
    "        }\n",
    "    }\n",
    "    \n",
    "    def start_requests(self):\n",
    "        urls = [\"http://www.playnomore.co.kr/category/bag/24/\"] #start urls 에 넣은것과 같은데이터\n",
    "        for url in urls:\n",
    "            yield scrapy.Request(url, callback=self.parse)\n",
    "            \n",
    "    def parse(self, response)\n",
    "        links = response.xpath('//*[@id=\"contents\"]/div[2]/ul/li/div[1]/a/@href').extreat()\n",
    "        links = map(lambda data: reponse.urljoin(data), links)\n",
    "        for link in links:\n",
    "            yield scrapy.Request(link, callback=self.parse_content)\n",
    "    \n",
    "    def parse_content(self, response):\n",
    "        item = PlaynomoreItem()\n",
    "        title1= response.xpath('//*[@id=\"contents\"]/div[1]/div[1]/div[1]/div[2]/ul/li[1]/img')"
   ]
  },
  {
   "cell_type": "markdown",
   "metadata": {},
   "source": [
    "# arg setting"
   ]
  },
  {
   "cell_type": "markdown",
   "metadata": {},
   "source": [
    "# run scrpay "
   ]
  },
  {
   "cell_type": "code",
   "execution_count": null,
   "metadata": {},
   "outputs": [],
   "source": [
    "%%writefile run.sh\n",
    "cd playnomore\n",
    "scrapy crawl Playnomore -o playnomore.py"
   ]
  },
  {
   "cell_type": "code",
   "execution_count": null,
   "metadata": {},
   "outputs": [],
   "source": [
    "!soruce run.sh"
   ]
  },
  {
   "cell_type": "code",
   "execution_count": null,
   "metadata": {},
   "outputs": [],
   "source": [
    "pd.read_csv(\"playnomore/playnomore.sh\")"
   ]
  },
  {
   "cell_type": "code",
   "execution_count": null,
   "metadata": {},
   "outputs": [],
   "source": []
  }
 ],
 "metadata": {
  "kernelspec": {
   "display_name": "Python 3",
   "language": "python",
   "name": "python3"
  },
  "language_info": {
   "codemirror_mode": {
    "name": "ipython",
    "version": 3
   },
   "file_extension": ".py",
   "mimetype": "text/x-python",
   "name": "python",
   "nbconvert_exporter": "python",
   "pygments_lexer": "ipython3",
   "version": "3.7.4"
  }
 },
 "nbformat": 4,
 "nbformat_minor": 4
}
