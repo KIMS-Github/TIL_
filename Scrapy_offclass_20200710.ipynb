{
 "cells": [
  {
   "cell_type": "code",
   "execution_count": 20,
   "metadata": {},
   "outputs": [
    {
     "name": "stdout",
     "output_type": "stream",
     "text": [
      "Collecting scrapy-fake-useragent\n",
      "  Downloading scrapy_fake_useragent-1.2.0-py2.py3-none-any.whl (4.8 kB)\n",
      "Requirement already satisfied: fake-useragent in /Users/jhkim/opt/miniconda3/lib/python3.7/site-packages (from scrapy-fake-useragent) (0.1.11)\n",
      "Installing collected packages: scrapy-fake-useragent\n",
      "Successfully installed scrapy-fake-useragent-1.2.0\n"
     ]
    }
   ],
   "source": [
    "!pip install scrapy-fake-useragent\n"
   ]
  },
  {
   "cell_type": "markdown",
   "metadata": {},
   "source": [
    "### playnommore\n",
    "http://playnomore.co.kr"
   ]
  },
  {
   "cell_type": "code",
   "execution_count": 1,
   "metadata": {},
   "outputs": [],
   "source": [
    "import scrapy\n",
    "import requests\n",
    "\n",
    "from scrapy.http import TextResponse\n",
    "from fake_useragent import UserAgent"
   ]
  },
  {
   "cell_type": "code",
   "execution_count": 3,
   "metadata": {},
   "outputs": [
    {
     "name": "stdout",
     "output_type": "stream",
     "text": [
      "New Scrapy project 'playnomore', using template directory '/Users/jhkim/opt/miniconda3/lib/python3.7/site-packages/scrapy/templates/project', created in:\n",
      "    /Users/jhkim/Documents/dev/TIL_/playnomore\n",
      "\n",
      "You can start your first spider with:\n",
      "    cd playnomore\n",
      "    scrapy genspider example example.com\n"
     ]
    }
   ],
   "source": [
    "!rm -rf playnomore\n",
    "!scrapy startproject playnomore"
   ]
  },
  {
   "cell_type": "code",
   "execution_count": 5,
   "metadata": {},
   "outputs": [
    {
     "name": "stdout",
     "output_type": "stream",
     "text": [
      "Overwriting playnomore/playnomore/items.py\n"
     ]
    }
   ],
   "source": [
    "%%writefile playnomore/playnomore/items.py\n",
    "import scrapy\n",
    "\n",
    "\n",
    "class PlaynomoreItem(scrapy.Item):\n",
    "    title = scrapy.Field()\n",
    "    price = scrapy.Field()\n",
    "    img = scrapy.Field()\n",
    "    link = scrapy.Field()\n"
   ]
  },
  {
   "cell_type": "code",
   "execution_count": 8,
   "metadata": {},
   "outputs": [
    {
     "data": {
      "text/plain": [
       "<200 http://www.playnomore.co.kr/category/bag/24/>"
      ]
     },
     "execution_count": 8,
     "metadata": {},
     "output_type": "execute_result"
    }
   ],
   "source": [
    "url = \"http://www.playnomore.co.kr/category/bag/24/\"\n",
    "#headers = {\"User-Agent\": \"Mozilla/5.0 (Macintosh; Intel Mac OS X 10_15_5) AppleWebKit/537.36 (KHTML, like Gecko) Chrome/83.0.4103.116 Safari/537.36\"}\n",
    "headers = {\"User-Agent\": UserAgent().chrome}\n",
    "req = requests.get(url, headers = headers)\n",
    "response = TextResponse(req.url, body = req.text, encoding = \"utf-8\")\n",
    "response"
   ]
  },
  {
   "cell_type": "code",
   "execution_count": null,
   "metadata": {},
   "outputs": [],
   "source": [
    "#links = response.xpath('//*[@id=\"contents\"]/div[2]/ul/li/div[1]/a/@href').extreat()\n",
    "#links = map(lambda data: reponse.urljoin(data), links)\n",
    "#"
   ]
  },
  {
   "cell_type": "code",
   "execution_count": 27,
   "metadata": {},
   "outputs": [],
   "source": [
    "links = response.xpath('//*[@id=\"contents\"]/div[2]/div/ul/li/div/a/@href').extract()\n",
    "links = list(map(lambda data:response.urljoin(data), links))"
   ]
  },
  {
   "cell_type": "markdown",
   "metadata": {},
   "source": [
    "# detail : title, price, image url"
   ]
  },
  {
   "cell_type": "code",
   "execution_count": 28,
   "metadata": {},
   "outputs": [
    {
     "data": {
      "text/plain": [
       "<200 http://www.playnomore.co.kr/product/pre-order20off-micro-baguette-yellow-180/573/?cate_no=24&display_group=1>"
      ]
     },
     "execution_count": 28,
     "metadata": {},
     "output_type": "execute_result"
    }
   ],
   "source": [
    "url = links[0]\n",
    "headers = {\"User-Agent\": UserAgent().chrome}\n",
    "req = requests.get(url, headers = headers)\n",
    "response = TextResponse(req.url, body = req.text, encoding = \"utf-8\")\n",
    "response"
   ]
  },
  {
   "cell_type": "code",
   "execution_count": 46,
   "metadata": {},
   "outputs": [
    {
     "data": {
      "text/plain": [
       "('[Pre-Order/20%off] MICRO BAGUETTE yellow ',\n",
       " ['$ 180'],\n",
       " 'http://www.playnomore.co.kr/web/product/big/20200407/626de3d4081df6e1dff057623e9e4877.jpg')"
      ]
     },
     "execution_count": 46,
     "metadata": {},
     "output_type": "execute_result"
    }
   ],
   "source": [
    "#title1 = response.xpath('//*[@id=\"contents\"]/div[1]/div[1]/div[2]/div[1]/font/text()')[0].extract()\n",
    "#title1 = response.xpath('//*[@id=\"contents\"]/div[1]/div[1]/div[2]/div[1]/font/text()')[0].extract()\n",
    "title1 = response.xpath('//*[@id=\"contents\"]/div[1]/div[1]/div[2]/div[1]/font/text()')[0].extract()\n",
    "title2 = response.xpath('//*[@id=\"contents\"]/div[1]/div[1]/div[2]/div[1]/text()').extract()\n",
    "#title2 = response.xpath('')//*[@id=\"contents\"]/div[1]/div[1]/div[2]/div[1]\n",
    "title = \"\".join(title1) + \"\".join(title2)\n",
    "price = response.xpath('//*[@id=\"contents\"]/div[1]/div[1]/div[2]/div[1]/stirke/text()').extract()\n",
    "img = \"http:\" + response.xpath('//*[@id=\"contents\"]/div[1]/div[1]/div[1]/div[1]/img/@src')[0].extract()\n",
    "title, price, img"
   ]
  },
  {
   "cell_type": "code",
   "execution_count": 47,
   "metadata": {},
   "outputs": [
    {
     "name": "stdout",
     "output_type": "stream",
     "text": [
      "Requirement already satisfied: scrapy-fake-useragent in /Users/jhkim/opt/miniconda3/lib/python3.7/site-packages (1.2.0)\n",
      "Requirement already satisfied: fake-useragent in /Users/jhkim/opt/miniconda3/lib/python3.7/site-packages (from scrapy-fake-useragent) (0.1.11)\n"
     ]
    }
   ],
   "source": [
    "!pip install scrapy-fake-useragent"
   ]
  },
  {
   "cell_type": "code",
   "execution_count": 48,
   "metadata": {},
   "outputs": [
    {
     "name": "stdout",
     "output_type": "stream",
     "text": [
      "fake-useragent            0.1.11\n",
      "scrapy-fake-useragent     1.2.0\n"
     ]
    }
   ],
   "source": [
    "!pip list | grep fake"
   ]
  },
  {
   "cell_type": "markdown",
   "metadata": {},
   "source": [
    "# spider "
   ]
  },
  {
   "cell_type": "code",
   "execution_count": 49,
   "metadata": {},
   "outputs": [
    {
     "name": "stdout",
     "output_type": "stream",
     "text": [
      "Overwriting playnomore/playnomore/spiders/spiders.py\n"
     ]
    }
   ],
   "source": [
    "%%writefile playnomore/playnomore/spiders/spiders.py\n",
    "import scrapy\n",
    "from playnomore.items import PlaynomoreItem\n",
    "\n",
    "class PlaynomoreSpider(scrapy.Spider):\n",
    "    name = \"Playnomore\"\n",
    "    custom_settings = {\n",
    "        \"DOWNLOADER_MIDDLEWARES\": {\n",
    "            \"scrapy.downloadmiddlewares.useragent.UserAgentMiddleware\": None,\n",
    "            \"scrapy_fake_useragent.middleware.RandomUserAgentMiddleware\": 400,\n",
    "        }\n",
    "    }\n",
    "    \n",
    "    def __init__(self,category1, category2, **kwargs): #스크래피 실행시 아규먼트 설정\n",
    "        self.start_urls = [\"http://palynomore.co.kr/category/{}/{}\".format(category1, category2)]#스크래피 실행시 아규먼트 설정\n",
    "        super.__init__(**kwargs)#스크래피 실행시 아규먼트 설정\n",
    "    \n",
    "    def start_requests(self):\n",
    "        self.start_urls = [\"http://playnomore.co.kr/category/bag/24/\"]#스크래피 실행시 아규먼트 설정\n",
    "        for url in urls:\n",
    "            yield scrapy.Request(url, callback=self.parse)\n",
    "    \n",
    "    def parse(self, response):\n",
    "        links = response.xpath('//*[@id=\"contents\"]/div[2]/div/ul/li/div[1]/a/@href').extract()\n",
    "        links = list(map(lambda data:response.urljoin(data), links))\n",
    "        for link in links:\n",
    "            yield scrapy.Request(link, callback=self.parse_content)\n",
    "            \n",
    "    def parse_content(self, response):\n",
    "        item = PlaynomoreItem()\n",
    "        title1 = response.xpath('//*[@id=\"contents\"]/div[1]/div[1]/div[2]/div[1]/font/text()')[0].extract()\n",
    "        title2 = response.xpath('//*[@id=\"contents\"]/div[1]/div[1]/div[2]/div[1]/text()').extract()\n",
    "        item[\"title\"] = title1 + \" \".join(title2)\n",
    "        item[\"price\"] = response.xpath('//*[@id=\"contents\"]/div[1]/div[1]/div[2]/div[2]/text()')[0].extract()\n",
    "        item[\"img\"] = \"http:\" + response.xpath('//*[@id=\"contents\"]/div[1]/div[1]/div[1]/div[2]/ul/li[1]/img/@src')[0].extract()\n",
    "        item[\"link\"] = response.url\n",
    "        yield item"
   ]
  },
  {
   "cell_type": "markdown",
   "metadata": {},
   "source": [
    "# arg setting"
   ]
  },
  {
   "cell_type": "markdown",
   "metadata": {},
   "source": [
    "# run scrpay "
   ]
  },
  {
   "cell_type": "code",
   "execution_count": 50,
   "metadata": {},
   "outputs": [
    {
     "name": "stdout",
     "output_type": "stream",
     "text": [
      "Overwriting run.sh\n"
     ]
    }
   ],
   "source": [
    "%%writefile run.sh\n",
    "cd playnomore\n",
    "scrapy crawl Playnomore -o playnomore_new.py"
   ]
  },
  {
   "cell_type": "code",
   "execution_count": 51,
   "metadata": {},
   "outputs": [
    {
     "name": "stdout",
     "output_type": "stream",
     "text": [
      "/bin/sh: soruce: command not found\n"
     ]
    }
   ],
   "source": [
    "!soruce run.sh"
   ]
  },
  {
   "cell_type": "code",
   "execution_count": null,
   "metadata": {},
   "outputs": [],
   "source": [
    "pd.read_csv(\"playnomore/playnomore.sh\")"
   ]
  },
  {
   "cell_type": "code",
   "execution_count": null,
   "metadata": {},
   "outputs": [],
   "source": []
  }
 ],
 "metadata": {
  "kernelspec": {
   "display_name": "Python 3",
   "language": "python",
   "name": "python3"
  },
  "language_info": {
   "codemirror_mode": {
    "name": "ipython",
    "version": 3
   },
   "file_extension": ".py",
   "mimetype": "text/x-python",
   "name": "python",
   "nbconvert_exporter": "python",
   "pygments_lexer": "ipython3",
   "version": "3.7.4"
  }
 },
 "nbformat": 4,
 "nbformat_minor": 4
}
