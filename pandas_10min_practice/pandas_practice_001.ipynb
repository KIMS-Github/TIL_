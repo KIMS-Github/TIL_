{
 "cells": [
  {
   "cell_type": "markdown",
   "metadata": {},
   "source": [
    "# Object creation"
   ]
  },
  {
   "cell_type": "code",
   "execution_count": 1,
   "metadata": {},
   "outputs": [
    {
     "data": {
      "text/plain": [
       "0    1.0\n",
       "1    3.0\n",
       "2    5.0\n",
       "3    NaN\n",
       "4    6.0\n",
       "5    9.0\n",
       "dtype: float64"
      ]
     },
     "execution_count": 1,
     "metadata": {},
     "output_type": "execute_result"
    }
   ],
   "source": [
    "s = pd.Series([1, 3, 5, np.nan, 6, 9])\n",
    "s"
   ]
  },
  {
   "cell_type": "code",
   "execution_count": 2,
   "metadata": {},
   "outputs": [
    {
     "data": {
      "text/plain": [
       "DatetimeIndex(['2020-06-22', '2020-06-23', '2020-06-24', '2020-06-25',\n",
       "               '2020-06-26', '2020-06-27'],\n",
       "              dtype='datetime64[ns]', freq='D')"
      ]
     },
     "execution_count": 2,
     "metadata": {},
     "output_type": "execute_result"
    }
   ],
   "source": [
    "dates = pd.date_range('20200622', periods=6)\n",
    "dates"
   ]
  },
  {
   "cell_type": "code",
   "execution_count": 3,
   "metadata": {},
   "outputs": [
    {
     "data": {
      "text/html": [
       "<div>\n",
       "<style scoped>\n",
       "    .dataframe tbody tr th:only-of-type {\n",
       "        vertical-align: middle;\n",
       "    }\n",
       "\n",
       "    .dataframe tbody tr th {\n",
       "        vertical-align: top;\n",
       "    }\n",
       "\n",
       "    .dataframe thead th {\n",
       "        text-align: right;\n",
       "    }\n",
       "</style>\n",
       "<table border=\"1\" class=\"dataframe\">\n",
       "  <thead>\n",
       "    <tr style=\"text-align: right;\">\n",
       "      <th></th>\n",
       "      <th>A</th>\n",
       "      <th>B</th>\n",
       "      <th>C</th>\n",
       "      <th>D</th>\n",
       "    </tr>\n",
       "  </thead>\n",
       "  <tbody>\n",
       "    <tr>\n",
       "      <th>2020-06-22</th>\n",
       "      <td>0.825774</td>\n",
       "      <td>0.109317</td>\n",
       "      <td>-0.330521</td>\n",
       "      <td>-0.552342</td>\n",
       "    </tr>\n",
       "    <tr>\n",
       "      <th>2020-06-23</th>\n",
       "      <td>0.294168</td>\n",
       "      <td>-0.477440</td>\n",
       "      <td>0.274235</td>\n",
       "      <td>-1.579116</td>\n",
       "    </tr>\n",
       "    <tr>\n",
       "      <th>2020-06-24</th>\n",
       "      <td>-1.089297</td>\n",
       "      <td>0.211316</td>\n",
       "      <td>-0.326994</td>\n",
       "      <td>1.858009</td>\n",
       "    </tr>\n",
       "    <tr>\n",
       "      <th>2020-06-25</th>\n",
       "      <td>1.427319</td>\n",
       "      <td>0.034961</td>\n",
       "      <td>-1.870035</td>\n",
       "      <td>0.795084</td>\n",
       "    </tr>\n",
       "    <tr>\n",
       "      <th>2020-06-26</th>\n",
       "      <td>1.235706</td>\n",
       "      <td>-2.473946</td>\n",
       "      <td>-0.690439</td>\n",
       "      <td>0.166659</td>\n",
       "    </tr>\n",
       "    <tr>\n",
       "      <th>2020-06-27</th>\n",
       "      <td>-0.440443</td>\n",
       "      <td>0.222631</td>\n",
       "      <td>-0.264885</td>\n",
       "      <td>-0.026370</td>\n",
       "    </tr>\n",
       "  </tbody>\n",
       "</table>\n",
       "</div>"
      ],
      "text/plain": [
       "                   A         B         C         D\n",
       "2020-06-22  0.825774  0.109317 -0.330521 -0.552342\n",
       "2020-06-23  0.294168 -0.477440  0.274235 -1.579116\n",
       "2020-06-24 -1.089297  0.211316 -0.326994  1.858009\n",
       "2020-06-25  1.427319  0.034961 -1.870035  0.795084\n",
       "2020-06-26  1.235706 -2.473946 -0.690439  0.166659\n",
       "2020-06-27 -0.440443  0.222631 -0.264885 -0.026370"
      ]
     },
     "execution_count": 3,
     "metadata": {},
     "output_type": "execute_result"
    }
   ],
   "source": [
    "df = pd.DataFrame(np.random.randn(6, 4), index = dates, columns=list('ABCD'))\n",
    "df"
   ]
  },
  {
   "cell_type": "code",
   "execution_count": 4,
   "metadata": {},
   "outputs": [
    {
     "data": {
      "text/html": [
       "<div>\n",
       "<style scoped>\n",
       "    .dataframe tbody tr th:only-of-type {\n",
       "        vertical-align: middle;\n",
       "    }\n",
       "\n",
       "    .dataframe tbody tr th {\n",
       "        vertical-align: top;\n",
       "    }\n",
       "\n",
       "    .dataframe thead th {\n",
       "        text-align: right;\n",
       "    }\n",
       "</style>\n",
       "<table border=\"1\" class=\"dataframe\">\n",
       "  <thead>\n",
       "    <tr style=\"text-align: right;\">\n",
       "      <th></th>\n",
       "      <th>a</th>\n",
       "      <th>b</th>\n",
       "      <th>c</th>\n",
       "      <th>d</th>\n",
       "      <th>e</th>\n",
       "      <th>f</th>\n",
       "    </tr>\n",
       "  </thead>\n",
       "  <tbody>\n",
       "    <tr>\n",
       "      <th>0</th>\n",
       "      <td>1.0</td>\n",
       "      <td>2020-06-22</td>\n",
       "      <td>1.0</td>\n",
       "      <td>3</td>\n",
       "      <td>test</td>\n",
       "      <td>foo</td>\n",
       "    </tr>\n",
       "    <tr>\n",
       "      <th>1</th>\n",
       "      <td>1.0</td>\n",
       "      <td>2020-06-22</td>\n",
       "      <td>1.0</td>\n",
       "      <td>3</td>\n",
       "      <td>train</td>\n",
       "      <td>foo</td>\n",
       "    </tr>\n",
       "    <tr>\n",
       "      <th>2</th>\n",
       "      <td>1.0</td>\n",
       "      <td>2020-06-22</td>\n",
       "      <td>1.0</td>\n",
       "      <td>3</td>\n",
       "      <td>test</td>\n",
       "      <td>foo</td>\n",
       "    </tr>\n",
       "    <tr>\n",
       "      <th>3</th>\n",
       "      <td>1.0</td>\n",
       "      <td>2020-06-22</td>\n",
       "      <td>1.0</td>\n",
       "      <td>3</td>\n",
       "      <td>train</td>\n",
       "      <td>foo</td>\n",
       "    </tr>\n",
       "  </tbody>\n",
       "</table>\n",
       "</div>"
      ],
      "text/plain": [
       "     a          b    c  d      e    f\n",
       "0  1.0 2020-06-22  1.0  3   test  foo\n",
       "1  1.0 2020-06-22  1.0  3  train  foo\n",
       "2  1.0 2020-06-22  1.0  3   test  foo\n",
       "3  1.0 2020-06-22  1.0  3  train  foo"
      ]
     },
     "execution_count": 4,
     "metadata": {},
     "output_type": "execute_result"
    }
   ],
   "source": [
    "df2 = pd.DataFrame({\n",
    "    'a': 1.,\n",
    "    'b': pd.Timestamp('20200622'),\n",
    "    'c': pd.Series(1, index=list(range(4)), dtype = 'float32'),\n",
    "    'd': np.array([3] * 4, dtype='int32'),\n",
    "    'e': pd.Categorical([\"test\", \"train\", \"test\",\"train\"]),\n",
    "    'f': 'foo'\n",
    "    \n",
    "})\n",
    "df2"
   ]
  },
  {
   "cell_type": "code",
   "execution_count": 5,
   "metadata": {},
   "outputs": [
    {
     "data": {
      "text/plain": [
       "a           float64\n",
       "b    datetime64[ns]\n",
       "c           float32\n",
       "d             int32\n",
       "e          category\n",
       "f            object\n",
       "dtype: object"
      ]
     },
     "execution_count": 5,
     "metadata": {},
     "output_type": "execute_result"
    }
   ],
   "source": [
    "df2.dtypes # dtypes"
   ]
  },
  {
   "cell_type": "raw",
   "metadata": {},
   "source": [
    "df2.<tab>"
   ]
  },
  {
   "cell_type": "markdown",
   "metadata": {},
   "source": [
    "# Viewing data"
   ]
  },
  {
   "cell_type": "code",
   "execution_count": 6,
   "metadata": {},
   "outputs": [
    {
     "data": {
      "text/html": [
       "<div>\n",
       "<style scoped>\n",
       "    .dataframe tbody tr th:only-of-type {\n",
       "        vertical-align: middle;\n",
       "    }\n",
       "\n",
       "    .dataframe tbody tr th {\n",
       "        vertical-align: top;\n",
       "    }\n",
       "\n",
       "    .dataframe thead th {\n",
       "        text-align: right;\n",
       "    }\n",
       "</style>\n",
       "<table border=\"1\" class=\"dataframe\">\n",
       "  <thead>\n",
       "    <tr style=\"text-align: right;\">\n",
       "      <th></th>\n",
       "      <th>A</th>\n",
       "      <th>B</th>\n",
       "      <th>C</th>\n",
       "      <th>D</th>\n",
       "    </tr>\n",
       "  </thead>\n",
       "  <tbody>\n",
       "    <tr>\n",
       "      <th>2020-06-22</th>\n",
       "      <td>0.480312</td>\n",
       "      <td>0.571861</td>\n",
       "      <td>1.125708</td>\n",
       "      <td>-0.838538</td>\n",
       "    </tr>\n",
       "    <tr>\n",
       "      <th>2020-06-23</th>\n",
       "      <td>-0.456420</td>\n",
       "      <td>0.159586</td>\n",
       "      <td>-0.335346</td>\n",
       "      <td>0.346654</td>\n",
       "    </tr>\n",
       "    <tr>\n",
       "      <th>2020-06-24</th>\n",
       "      <td>1.166765</td>\n",
       "      <td>0.746158</td>\n",
       "      <td>-1.990102</td>\n",
       "      <td>0.081215</td>\n",
       "    </tr>\n",
       "    <tr>\n",
       "      <th>2020-06-25</th>\n",
       "      <td>0.400445</td>\n",
       "      <td>1.692777</td>\n",
       "      <td>0.163886</td>\n",
       "      <td>-0.079004</td>\n",
       "    </tr>\n",
       "    <tr>\n",
       "      <th>2020-06-26</th>\n",
       "      <td>0.336020</td>\n",
       "      <td>1.618398</td>\n",
       "      <td>1.383444</td>\n",
       "      <td>-1.207175</td>\n",
       "    </tr>\n",
       "  </tbody>\n",
       "</table>\n",
       "</div>"
      ],
      "text/plain": [
       "                   A         B         C         D\n",
       "2020-06-22  0.480312  0.571861  1.125708 -0.838538\n",
       "2020-06-23 -0.456420  0.159586 -0.335346  0.346654\n",
       "2020-06-24  1.166765  0.746158 -1.990102  0.081215\n",
       "2020-06-25  0.400445  1.692777  0.163886 -0.079004\n",
       "2020-06-26  0.336020  1.618398  1.383444 -1.207175"
      ]
     },
     "execution_count": 6,
     "metadata": {},
     "output_type": "execute_result"
    }
   ],
   "source": [
    "df.head()"
   ]
  },
  {
   "cell_type": "code",
   "execution_count": 7,
   "metadata": {},
   "outputs": [
    {
     "data": {
      "text/html": [
       "<div>\n",
       "<style scoped>\n",
       "    .dataframe tbody tr th:only-of-type {\n",
       "        vertical-align: middle;\n",
       "    }\n",
       "\n",
       "    .dataframe tbody tr th {\n",
       "        vertical-align: top;\n",
       "    }\n",
       "\n",
       "    .dataframe thead th {\n",
       "        text-align: right;\n",
       "    }\n",
       "</style>\n",
       "<table border=\"1\" class=\"dataframe\">\n",
       "  <thead>\n",
       "    <tr style=\"text-align: right;\">\n",
       "      <th></th>\n",
       "      <th>A</th>\n",
       "      <th>B</th>\n",
       "      <th>C</th>\n",
       "      <th>D</th>\n",
       "    </tr>\n",
       "  </thead>\n",
       "  <tbody>\n",
       "    <tr>\n",
       "      <th>2020-06-26</th>\n",
       "      <td>0.336020</td>\n",
       "      <td>1.618398</td>\n",
       "      <td>1.383444</td>\n",
       "      <td>-1.207175</td>\n",
       "    </tr>\n",
       "    <tr>\n",
       "      <th>2020-06-27</th>\n",
       "      <td>-1.581854</td>\n",
       "      <td>0.040083</td>\n",
       "      <td>-0.682903</td>\n",
       "      <td>0.561686</td>\n",
       "    </tr>\n",
       "  </tbody>\n",
       "</table>\n",
       "</div>"
      ],
      "text/plain": [
       "                   A         B         C         D\n",
       "2020-06-26  0.336020  1.618398  1.383444 -1.207175\n",
       "2020-06-27 -1.581854  0.040083 -0.682903  0.561686"
      ]
     },
     "execution_count": 7,
     "metadata": {},
     "output_type": "execute_result"
    }
   ],
   "source": [
    "df.tail(2)"
   ]
  },
  {
   "cell_type": "code",
   "execution_count": 8,
   "metadata": {},
   "outputs": [
    {
     "data": {
      "text/plain": [
       "DatetimeIndex(['2020-06-22', '2020-06-23', '2020-06-24', '2020-06-25',\n",
       "               '2020-06-26', '2020-06-27'],\n",
       "              dtype='datetime64[ns]', freq='D')"
      ]
     },
     "execution_count": 8,
     "metadata": {},
     "output_type": "execute_result"
    }
   ],
   "source": [
    "df.index"
   ]
  },
  {
   "cell_type": "code",
   "execution_count": 9,
   "metadata": {},
   "outputs": [
    {
     "data": {
      "text/plain": [
       "Index(['A', 'B', 'C', 'D'], dtype='object')"
      ]
     },
     "execution_count": 9,
     "metadata": {},
     "output_type": "execute_result"
    }
   ],
   "source": [
    "df.columns"
   ]
  },
  {
   "cell_type": "code",
   "execution_count": 10,
   "metadata": {},
   "outputs": [
    {
     "data": {
      "text/plain": [
       "array([[1.0, Timestamp('2020-06-22 00:00:00'), 1.0, 3, 'test', 'foo'],\n",
       "       [1.0, Timestamp('2020-06-22 00:00:00'), 1.0, 3, 'train', 'foo'],\n",
       "       [1.0, Timestamp('2020-06-22 00:00:00'), 1.0, 3, 'test', 'foo'],\n",
       "       [1.0, Timestamp('2020-06-22 00:00:00'), 1.0, 3, 'train', 'foo']],\n",
       "      dtype=object)"
      ]
     },
     "execution_count": 10,
     "metadata": {},
     "output_type": "execute_result"
    }
   ],
   "source": [
    "df2.to_numpy()"
   ]
  },
  {
   "cell_type": "code",
   "execution_count": 13,
   "metadata": {},
   "outputs": [
    {
     "data": {
      "text/html": [
       "<div>\n",
       "<style scoped>\n",
       "    .dataframe tbody tr th:only-of-type {\n",
       "        vertical-align: middle;\n",
       "    }\n",
       "\n",
       "    .dataframe tbody tr th {\n",
       "        vertical-align: top;\n",
       "    }\n",
       "\n",
       "    .dataframe thead th {\n",
       "        text-align: right;\n",
       "    }\n",
       "</style>\n",
       "<table border=\"1\" class=\"dataframe\">\n",
       "  <thead>\n",
       "    <tr style=\"text-align: right;\">\n",
       "      <th></th>\n",
       "      <th>A</th>\n",
       "      <th>B</th>\n",
       "      <th>C</th>\n",
       "      <th>D</th>\n",
       "    </tr>\n",
       "  </thead>\n",
       "  <tbody>\n",
       "    <tr>\n",
       "      <th>count</th>\n",
       "      <td>6.000000</td>\n",
       "      <td>6.000000</td>\n",
       "      <td>6.000000</td>\n",
       "      <td>6.000000</td>\n",
       "    </tr>\n",
       "    <tr>\n",
       "      <th>mean</th>\n",
       "      <td>0.057544</td>\n",
       "      <td>0.804810</td>\n",
       "      <td>-0.055886</td>\n",
       "      <td>-0.189193</td>\n",
       "    </tr>\n",
       "    <tr>\n",
       "      <th>std</th>\n",
       "      <td>0.954570</td>\n",
       "      <td>0.708412</td>\n",
       "      <td>1.243268</td>\n",
       "      <td>0.691975</td>\n",
       "    </tr>\n",
       "    <tr>\n",
       "      <th>min</th>\n",
       "      <td>-1.581854</td>\n",
       "      <td>0.040083</td>\n",
       "      <td>-1.990102</td>\n",
       "      <td>-1.207175</td>\n",
       "    </tr>\n",
       "    <tr>\n",
       "      <th>25%</th>\n",
       "      <td>-0.258310</td>\n",
       "      <td>0.262654</td>\n",
       "      <td>-0.596014</td>\n",
       "      <td>-0.648654</td>\n",
       "    </tr>\n",
       "    <tr>\n",
       "      <th>50%</th>\n",
       "      <td>0.368232</td>\n",
       "      <td>0.659009</td>\n",
       "      <td>-0.085730</td>\n",
       "      <td>0.001106</td>\n",
       "    </tr>\n",
       "    <tr>\n",
       "      <th>75%</th>\n",
       "      <td>0.460345</td>\n",
       "      <td>1.400338</td>\n",
       "      <td>0.885252</td>\n",
       "      <td>0.280295</td>\n",
       "    </tr>\n",
       "    <tr>\n",
       "      <th>max</th>\n",
       "      <td>1.166765</td>\n",
       "      <td>1.692777</td>\n",
       "      <td>1.383444</td>\n",
       "      <td>0.561686</td>\n",
       "    </tr>\n",
       "  </tbody>\n",
       "</table>\n",
       "</div>"
      ],
      "text/plain": [
       "              A         B         C         D\n",
       "count  6.000000  6.000000  6.000000  6.000000\n",
       "mean   0.057544  0.804810 -0.055886 -0.189193\n",
       "std    0.954570  0.708412  1.243268  0.691975\n",
       "min   -1.581854  0.040083 -1.990102 -1.207175\n",
       "25%   -0.258310  0.262654 -0.596014 -0.648654\n",
       "50%    0.368232  0.659009 -0.085730  0.001106\n",
       "75%    0.460345  1.400338  0.885252  0.280295\n",
       "max    1.166765  1.692777  1.383444  0.561686"
      ]
     },
     "execution_count": 13,
     "metadata": {},
     "output_type": "execute_result"
    }
   ],
   "source": [
    "df.describe()"
   ]
  },
  {
   "cell_type": "code",
   "execution_count": 16,
   "metadata": {},
   "outputs": [
    {
     "data": {
      "text/html": [
       "<div>\n",
       "<style scoped>\n",
       "    .dataframe tbody tr th:only-of-type {\n",
       "        vertical-align: middle;\n",
       "    }\n",
       "\n",
       "    .dataframe tbody tr th {\n",
       "        vertical-align: top;\n",
       "    }\n",
       "\n",
       "    .dataframe thead th {\n",
       "        text-align: right;\n",
       "    }\n",
       "</style>\n",
       "<table border=\"1\" class=\"dataframe\">\n",
       "  <thead>\n",
       "    <tr style=\"text-align: right;\">\n",
       "      <th></th>\n",
       "      <th>2020-06-22</th>\n",
       "      <th>2020-06-23</th>\n",
       "      <th>2020-06-24</th>\n",
       "      <th>2020-06-25</th>\n",
       "      <th>2020-06-26</th>\n",
       "      <th>2020-06-27</th>\n",
       "    </tr>\n",
       "  </thead>\n",
       "  <tbody>\n",
       "    <tr>\n",
       "      <th>A</th>\n",
       "      <td>0.480312</td>\n",
       "      <td>-0.456420</td>\n",
       "      <td>1.166765</td>\n",
       "      <td>0.400445</td>\n",
       "      <td>0.336020</td>\n",
       "      <td>-1.581854</td>\n",
       "    </tr>\n",
       "    <tr>\n",
       "      <th>B</th>\n",
       "      <td>0.571861</td>\n",
       "      <td>0.159586</td>\n",
       "      <td>0.746158</td>\n",
       "      <td>1.692777</td>\n",
       "      <td>1.618398</td>\n",
       "      <td>0.040083</td>\n",
       "    </tr>\n",
       "    <tr>\n",
       "      <th>C</th>\n",
       "      <td>1.125708</td>\n",
       "      <td>-0.335346</td>\n",
       "      <td>-1.990102</td>\n",
       "      <td>0.163886</td>\n",
       "      <td>1.383444</td>\n",
       "      <td>-0.682903</td>\n",
       "    </tr>\n",
       "    <tr>\n",
       "      <th>D</th>\n",
       "      <td>-0.838538</td>\n",
       "      <td>0.346654</td>\n",
       "      <td>0.081215</td>\n",
       "      <td>-0.079004</td>\n",
       "      <td>-1.207175</td>\n",
       "      <td>0.561686</td>\n",
       "    </tr>\n",
       "  </tbody>\n",
       "</table>\n",
       "</div>"
      ],
      "text/plain": [
       "   2020-06-22  2020-06-23  2020-06-24  2020-06-25  2020-06-26  2020-06-27\n",
       "A    0.480312   -0.456420    1.166765    0.400445    0.336020   -1.581854\n",
       "B    0.571861    0.159586    0.746158    1.692777    1.618398    0.040083\n",
       "C    1.125708   -0.335346   -1.990102    0.163886    1.383444   -0.682903\n",
       "D   -0.838538    0.346654    0.081215   -0.079004   -1.207175    0.561686"
      ]
     },
     "execution_count": 16,
     "metadata": {},
     "output_type": "execute_result"
    }
   ],
   "source": [
    "df.T"
   ]
  },
  {
   "cell_type": "code",
   "execution_count": 25,
   "metadata": {},
   "outputs": [
    {
     "data": {
      "text/html": [
       "<div>\n",
       "<style scoped>\n",
       "    .dataframe tbody tr th:only-of-type {\n",
       "        vertical-align: middle;\n",
       "    }\n",
       "\n",
       "    .dataframe tbody tr th {\n",
       "        vertical-align: top;\n",
       "    }\n",
       "\n",
       "    .dataframe thead th {\n",
       "        text-align: right;\n",
       "    }\n",
       "</style>\n",
       "<table border=\"1\" class=\"dataframe\">\n",
       "  <thead>\n",
       "    <tr style=\"text-align: right;\">\n",
       "      <th></th>\n",
       "      <th>D</th>\n",
       "      <th>C</th>\n",
       "      <th>B</th>\n",
       "      <th>A</th>\n",
       "    </tr>\n",
       "  </thead>\n",
       "  <tbody>\n",
       "    <tr>\n",
       "      <th>2020-06-22</th>\n",
       "      <td>-0.838538</td>\n",
       "      <td>1.125708</td>\n",
       "      <td>0.571861</td>\n",
       "      <td>0.480312</td>\n",
       "    </tr>\n",
       "    <tr>\n",
       "      <th>2020-06-23</th>\n",
       "      <td>0.346654</td>\n",
       "      <td>-0.335346</td>\n",
       "      <td>0.159586</td>\n",
       "      <td>-0.456420</td>\n",
       "    </tr>\n",
       "    <tr>\n",
       "      <th>2020-06-24</th>\n",
       "      <td>0.081215</td>\n",
       "      <td>-1.990102</td>\n",
       "      <td>0.746158</td>\n",
       "      <td>1.166765</td>\n",
       "    </tr>\n",
       "    <tr>\n",
       "      <th>2020-06-25</th>\n",
       "      <td>-0.079004</td>\n",
       "      <td>0.163886</td>\n",
       "      <td>1.692777</td>\n",
       "      <td>0.400445</td>\n",
       "    </tr>\n",
       "    <tr>\n",
       "      <th>2020-06-26</th>\n",
       "      <td>-1.207175</td>\n",
       "      <td>1.383444</td>\n",
       "      <td>1.618398</td>\n",
       "      <td>0.336020</td>\n",
       "    </tr>\n",
       "    <tr>\n",
       "      <th>2020-06-27</th>\n",
       "      <td>0.561686</td>\n",
       "      <td>-0.682903</td>\n",
       "      <td>0.040083</td>\n",
       "      <td>-1.581854</td>\n",
       "    </tr>\n",
       "  </tbody>\n",
       "</table>\n",
       "</div>"
      ],
      "text/plain": [
       "                   D         C         B         A\n",
       "2020-06-22 -0.838538  1.125708  0.571861  0.480312\n",
       "2020-06-23  0.346654 -0.335346  0.159586 -0.456420\n",
       "2020-06-24  0.081215 -1.990102  0.746158  1.166765\n",
       "2020-06-25 -0.079004  0.163886  1.692777  0.400445\n",
       "2020-06-26 -1.207175  1.383444  1.618398  0.336020\n",
       "2020-06-27  0.561686 -0.682903  0.040083 -1.581854"
      ]
     },
     "execution_count": 25,
     "metadata": {},
     "output_type": "execute_result"
    }
   ],
   "source": [
    "df.sort_index(axis=1, ascending=False)"
   ]
  },
  {
   "cell_type": "code",
   "execution_count": 41,
   "metadata": {},
   "outputs": [
    {
     "data": {
      "text/html": [
       "<div>\n",
       "<style scoped>\n",
       "    .dataframe tbody tr th:only-of-type {\n",
       "        vertical-align: middle;\n",
       "    }\n",
       "\n",
       "    .dataframe tbody tr th {\n",
       "        vertical-align: top;\n",
       "    }\n",
       "\n",
       "    .dataframe thead th {\n",
       "        text-align: right;\n",
       "    }\n",
       "</style>\n",
       "<table border=\"1\" class=\"dataframe\">\n",
       "  <thead>\n",
       "    <tr style=\"text-align: right;\">\n",
       "      <th></th>\n",
       "      <th>A</th>\n",
       "      <th>B</th>\n",
       "      <th>C</th>\n",
       "      <th>D</th>\n",
       "    </tr>\n",
       "  </thead>\n",
       "  <tbody>\n",
       "    <tr>\n",
       "      <th>2020-06-27</th>\n",
       "      <td>-1.581854</td>\n",
       "      <td>0.040083</td>\n",
       "      <td>-0.682903</td>\n",
       "      <td>0.561686</td>\n",
       "    </tr>\n",
       "    <tr>\n",
       "      <th>2020-06-23</th>\n",
       "      <td>-0.456420</td>\n",
       "      <td>0.159586</td>\n",
       "      <td>-0.335346</td>\n",
       "      <td>0.346654</td>\n",
       "    </tr>\n",
       "    <tr>\n",
       "      <th>2020-06-26</th>\n",
       "      <td>0.336020</td>\n",
       "      <td>1.618398</td>\n",
       "      <td>1.383444</td>\n",
       "      <td>-1.207175</td>\n",
       "    </tr>\n",
       "    <tr>\n",
       "      <th>2020-06-25</th>\n",
       "      <td>0.400445</td>\n",
       "      <td>1.692777</td>\n",
       "      <td>0.163886</td>\n",
       "      <td>-0.079004</td>\n",
       "    </tr>\n",
       "    <tr>\n",
       "      <th>2020-06-22</th>\n",
       "      <td>0.480312</td>\n",
       "      <td>0.571861</td>\n",
       "      <td>1.125708</td>\n",
       "      <td>-0.838538</td>\n",
       "    </tr>\n",
       "    <tr>\n",
       "      <th>2020-06-24</th>\n",
       "      <td>1.166765</td>\n",
       "      <td>0.746158</td>\n",
       "      <td>-1.990102</td>\n",
       "      <td>0.081215</td>\n",
       "    </tr>\n",
       "  </tbody>\n",
       "</table>\n",
       "</div>"
      ],
      "text/plain": [
       "                   A         B         C         D\n",
       "2020-06-27 -1.581854  0.040083 -0.682903  0.561686\n",
       "2020-06-23 -0.456420  0.159586 -0.335346  0.346654\n",
       "2020-06-26  0.336020  1.618398  1.383444 -1.207175\n",
       "2020-06-25  0.400445  1.692777  0.163886 -0.079004\n",
       "2020-06-22  0.480312  0.571861  1.125708 -0.838538\n",
       "2020-06-24  1.166765  0.746158 -1.990102  0.081215"
      ]
     },
     "execution_count": 41,
     "metadata": {},
     "output_type": "execute_result"
    }
   ],
   "source": [
    "df.sort_values('A')"
   ]
  },
  {
   "cell_type": "code",
   "execution_count": 42,
   "metadata": {},
   "outputs": [
    {
     "data": {
      "text/html": [
       "<div>\n",
       "<style scoped>\n",
       "    .dataframe tbody tr th:only-of-type {\n",
       "        vertical-align: middle;\n",
       "    }\n",
       "\n",
       "    .dataframe tbody tr th {\n",
       "        vertical-align: top;\n",
       "    }\n",
       "\n",
       "    .dataframe thead th {\n",
       "        text-align: right;\n",
       "    }\n",
       "</style>\n",
       "<table border=\"1\" class=\"dataframe\">\n",
       "  <thead>\n",
       "    <tr style=\"text-align: right;\">\n",
       "      <th></th>\n",
       "      <th>A</th>\n",
       "      <th>B</th>\n",
       "      <th>C</th>\n",
       "      <th>D</th>\n",
       "    </tr>\n",
       "  </thead>\n",
       "  <tbody>\n",
       "    <tr>\n",
       "      <th>2020-06-22</th>\n",
       "      <td>0.480312</td>\n",
       "      <td>0.571861</td>\n",
       "      <td>1.125708</td>\n",
       "      <td>-0.838538</td>\n",
       "    </tr>\n",
       "    <tr>\n",
       "      <th>2020-06-23</th>\n",
       "      <td>-0.456420</td>\n",
       "      <td>0.159586</td>\n",
       "      <td>-0.335346</td>\n",
       "      <td>0.346654</td>\n",
       "    </tr>\n",
       "    <tr>\n",
       "      <th>2020-06-24</th>\n",
       "      <td>1.166765</td>\n",
       "      <td>0.746158</td>\n",
       "      <td>-1.990102</td>\n",
       "      <td>0.081215</td>\n",
       "    </tr>\n",
       "    <tr>\n",
       "      <th>2020-06-25</th>\n",
       "      <td>0.400445</td>\n",
       "      <td>1.692777</td>\n",
       "      <td>0.163886</td>\n",
       "      <td>-0.079004</td>\n",
       "    </tr>\n",
       "    <tr>\n",
       "      <th>2020-06-26</th>\n",
       "      <td>0.336020</td>\n",
       "      <td>1.618398</td>\n",
       "      <td>1.383444</td>\n",
       "      <td>-1.207175</td>\n",
       "    </tr>\n",
       "    <tr>\n",
       "      <th>2020-06-27</th>\n",
       "      <td>-1.581854</td>\n",
       "      <td>0.040083</td>\n",
       "      <td>-0.682903</td>\n",
       "      <td>0.561686</td>\n",
       "    </tr>\n",
       "  </tbody>\n",
       "</table>\n",
       "</div>"
      ],
      "text/plain": [
       "                   A         B         C         D\n",
       "2020-06-22  0.480312  0.571861  1.125708 -0.838538\n",
       "2020-06-23 -0.456420  0.159586 -0.335346  0.346654\n",
       "2020-06-24  1.166765  0.746158 -1.990102  0.081215\n",
       "2020-06-25  0.400445  1.692777  0.163886 -0.079004\n",
       "2020-06-26  0.336020  1.618398  1.383444 -1.207175\n",
       "2020-06-27 -1.581854  0.040083 -0.682903  0.561686"
      ]
     },
     "execution_count": 42,
     "metadata": {},
     "output_type": "execute_result"
    }
   ],
   "source": [
    "df"
   ]
  },
  {
   "cell_type": "code",
   "execution_count": 43,
   "metadata": {},
   "outputs": [
    {
     "data": {
      "text/html": [
       "<div>\n",
       "<style scoped>\n",
       "    .dataframe tbody tr th:only-of-type {\n",
       "        vertical-align: middle;\n",
       "    }\n",
       "\n",
       "    .dataframe tbody tr th {\n",
       "        vertical-align: top;\n",
       "    }\n",
       "\n",
       "    .dataframe thead th {\n",
       "        text-align: right;\n",
       "    }\n",
       "</style>\n",
       "<table border=\"1\" class=\"dataframe\">\n",
       "  <thead>\n",
       "    <tr style=\"text-align: right;\">\n",
       "      <th></th>\n",
       "      <th>A</th>\n",
       "      <th>B</th>\n",
       "      <th>C</th>\n",
       "      <th>D</th>\n",
       "    </tr>\n",
       "  </thead>\n",
       "  <tbody>\n",
       "    <tr>\n",
       "      <th>2020-06-22</th>\n",
       "      <td>0.480312</td>\n",
       "      <td>0.571861</td>\n",
       "      <td>1.125708</td>\n",
       "      <td>-0.838538</td>\n",
       "    </tr>\n",
       "    <tr>\n",
       "      <th>2020-06-23</th>\n",
       "      <td>-0.456420</td>\n",
       "      <td>0.159586</td>\n",
       "      <td>-0.335346</td>\n",
       "      <td>0.346654</td>\n",
       "    </tr>\n",
       "    <tr>\n",
       "      <th>2020-06-24</th>\n",
       "      <td>1.166765</td>\n",
       "      <td>0.746158</td>\n",
       "      <td>-1.990102</td>\n",
       "      <td>0.081215</td>\n",
       "    </tr>\n",
       "  </tbody>\n",
       "</table>\n",
       "</div>"
      ],
      "text/plain": [
       "                   A         B         C         D\n",
       "2020-06-22  0.480312  0.571861  1.125708 -0.838538\n",
       "2020-06-23 -0.456420  0.159586 -0.335346  0.346654\n",
       "2020-06-24  1.166765  0.746158 -1.990102  0.081215"
      ]
     },
     "execution_count": 43,
     "metadata": {},
     "output_type": "execute_result"
    }
   ],
   "source": [
    "df[0:3] # slice exclude end #."
   ]
  },
  {
   "cell_type": "code",
   "execution_count": 44,
   "metadata": {},
   "outputs": [
    {
     "data": {
      "text/html": [
       "<div>\n",
       "<style scoped>\n",
       "    .dataframe tbody tr th:only-of-type {\n",
       "        vertical-align: middle;\n",
       "    }\n",
       "\n",
       "    .dataframe tbody tr th {\n",
       "        vertical-align: top;\n",
       "    }\n",
       "\n",
       "    .dataframe thead th {\n",
       "        text-align: right;\n",
       "    }\n",
       "</style>\n",
       "<table border=\"1\" class=\"dataframe\">\n",
       "  <thead>\n",
       "    <tr style=\"text-align: right;\">\n",
       "      <th></th>\n",
       "      <th>A</th>\n",
       "      <th>B</th>\n",
       "      <th>C</th>\n",
       "      <th>D</th>\n",
       "    </tr>\n",
       "  </thead>\n",
       "  <tbody>\n",
       "    <tr>\n",
       "      <th>2020-06-22</th>\n",
       "      <td>0.480312</td>\n",
       "      <td>0.571861</td>\n",
       "      <td>1.125708</td>\n",
       "      <td>-0.838538</td>\n",
       "    </tr>\n",
       "    <tr>\n",
       "      <th>2020-06-23</th>\n",
       "      <td>-0.456420</td>\n",
       "      <td>0.159586</td>\n",
       "      <td>-0.335346</td>\n",
       "      <td>0.346654</td>\n",
       "    </tr>\n",
       "    <tr>\n",
       "      <th>2020-06-24</th>\n",
       "      <td>1.166765</td>\n",
       "      <td>0.746158</td>\n",
       "      <td>-1.990102</td>\n",
       "      <td>0.081215</td>\n",
       "    </tr>\n",
       "    <tr>\n",
       "      <th>2020-06-25</th>\n",
       "      <td>0.400445</td>\n",
       "      <td>1.692777</td>\n",
       "      <td>0.163886</td>\n",
       "      <td>-0.079004</td>\n",
       "    </tr>\n",
       "  </tbody>\n",
       "</table>\n",
       "</div>"
      ],
      "text/plain": [
       "                   A         B         C         D\n",
       "2020-06-22  0.480312  0.571861  1.125708 -0.838538\n",
       "2020-06-23 -0.456420  0.159586 -0.335346  0.346654\n",
       "2020-06-24  1.166765  0.746158 -1.990102  0.081215\n",
       "2020-06-25  0.400445  1.692777  0.163886 -0.079004"
      ]
     },
     "execution_count": 44,
     "metadata": {},
     "output_type": "execute_result"
    }
   ],
   "source": [
    "df['2020-06-22':'2020-06-25'] # slice include end value."
   ]
  },
  {
   "cell_type": "markdown",
   "metadata": {},
   "source": [
    "# Selection by label"
   ]
  },
  {
   "cell_type": "code",
   "execution_count": 47,
   "metadata": {},
   "outputs": [
    {
     "data": {
      "text/html": [
       "<div>\n",
       "<style scoped>\n",
       "    .dataframe tbody tr th:only-of-type {\n",
       "        vertical-align: middle;\n",
       "    }\n",
       "\n",
       "    .dataframe tbody tr th {\n",
       "        vertical-align: top;\n",
       "    }\n",
       "\n",
       "    .dataframe thead th {\n",
       "        text-align: right;\n",
       "    }\n",
       "</style>\n",
       "<table border=\"1\" class=\"dataframe\">\n",
       "  <thead>\n",
       "    <tr style=\"text-align: right;\">\n",
       "      <th></th>\n",
       "      <th>B</th>\n",
       "      <th>C</th>\n",
       "    </tr>\n",
       "  </thead>\n",
       "  <tbody>\n",
       "    <tr>\n",
       "      <th>2020-06-22</th>\n",
       "      <td>0.571861</td>\n",
       "      <td>1.125708</td>\n",
       "    </tr>\n",
       "    <tr>\n",
       "      <th>2020-06-23</th>\n",
       "      <td>0.159586</td>\n",
       "      <td>-0.335346</td>\n",
       "    </tr>\n",
       "    <tr>\n",
       "      <th>2020-06-24</th>\n",
       "      <td>0.746158</td>\n",
       "      <td>-1.990102</td>\n",
       "    </tr>\n",
       "  </tbody>\n",
       "</table>\n",
       "</div>"
      ],
      "text/plain": [
       "                   B         C\n",
       "2020-06-22  0.571861  1.125708\n",
       "2020-06-23  0.159586 -0.335346\n",
       "2020-06-24  0.746158 -1.990102"
      ]
     },
     "execution_count": 47,
     "metadata": {},
     "output_type": "execute_result"
    }
   ],
   "source": [
    "df.loc['2020-06-22': '2020-06-24', ['B','C']]"
   ]
  },
  {
   "cell_type": "code",
   "execution_count": 51,
   "metadata": {},
   "outputs": [
    {
     "data": {
      "text/plain": [
       "0.48031153340019483"
      ]
     },
     "execution_count": 51,
     "metadata": {},
     "output_type": "execute_result"
    }
   ],
   "source": [
    "df.loc[dates[0], \"A\"]"
   ]
  },
  {
   "cell_type": "code",
   "execution_count": 52,
   "metadata": {},
   "outputs": [
    {
     "data": {
      "text/plain": [
       "0.48031153340019483"
      ]
     },
     "execution_count": 52,
     "metadata": {},
     "output_type": "execute_result"
    }
   ],
   "source": [
    "df.at[dates[0], \"A\"]"
   ]
  },
  {
   "cell_type": "markdown",
   "metadata": {},
   "source": [
    "# Selection by Position"
   ]
  },
  {
   "cell_type": "code",
   "execution_count": 53,
   "metadata": {},
   "outputs": [
    {
     "data": {
      "text/plain": [
       "A    0.400445\n",
       "B    1.692777\n",
       "C    0.163886\n",
       "D   -0.079004\n",
       "Name: 2020-06-25 00:00:00, dtype: float64"
      ]
     },
     "execution_count": 53,
     "metadata": {},
     "output_type": "execute_result"
    }
   ],
   "source": [
    "df.iloc[3]"
   ]
  },
  {
   "cell_type": "code",
   "execution_count": 55,
   "metadata": {},
   "outputs": [
    {
     "data": {
      "text/plain": [
       "A    0.400445\n",
       "B    1.692777\n",
       "C    0.163886\n",
       "D   -0.079004\n",
       "Name: 2020-06-25 00:00:00, dtype: float64"
      ]
     },
     "execution_count": 55,
     "metadata": {},
     "output_type": "execute_result"
    }
   ],
   "source": [
    "df.loc[dates[3]]"
   ]
  },
  {
   "cell_type": "code",
   "execution_count": 60,
   "metadata": {},
   "outputs": [
    {
     "data": {
      "text/html": [
       "<div>\n",
       "<style scoped>\n",
       "    .dataframe tbody tr th:only-of-type {\n",
       "        vertical-align: middle;\n",
       "    }\n",
       "\n",
       "    .dataframe tbody tr th {\n",
       "        vertical-align: top;\n",
       "    }\n",
       "\n",
       "    .dataframe thead th {\n",
       "        text-align: right;\n",
       "    }\n",
       "</style>\n",
       "<table border=\"1\" class=\"dataframe\">\n",
       "  <thead>\n",
       "    <tr style=\"text-align: right;\">\n",
       "      <th></th>\n",
       "      <th>B</th>\n",
       "      <th>C</th>\n",
       "    </tr>\n",
       "  </thead>\n",
       "  <tbody>\n",
       "    <tr>\n",
       "      <th>2020-06-23</th>\n",
       "      <td>0.159586</td>\n",
       "      <td>-0.335346</td>\n",
       "    </tr>\n",
       "    <tr>\n",
       "      <th>2020-06-24</th>\n",
       "      <td>0.746158</td>\n",
       "      <td>-1.990102</td>\n",
       "    </tr>\n",
       "  </tbody>\n",
       "</table>\n",
       "</div>"
      ],
      "text/plain": [
       "                   B         C\n",
       "2020-06-23  0.159586 -0.335346\n",
       "2020-06-24  0.746158 -1.990102"
      ]
     },
     "execution_count": 60,
     "metadata": {},
     "output_type": "execute_result"
    }
   ],
   "source": [
    "df.iloc[1:3, 1:3] # range slice"
   ]
  },
  {
   "cell_type": "code",
   "execution_count": 61,
   "metadata": {},
   "outputs": [
    {
     "data": {
      "text/html": [
       "<div>\n",
       "<style scoped>\n",
       "    .dataframe tbody tr th:only-of-type {\n",
       "        vertical-align: middle;\n",
       "    }\n",
       "\n",
       "    .dataframe tbody tr th {\n",
       "        vertical-align: top;\n",
       "    }\n",
       "\n",
       "    .dataframe thead th {\n",
       "        text-align: right;\n",
       "    }\n",
       "</style>\n",
       "<table border=\"1\" class=\"dataframe\">\n",
       "  <thead>\n",
       "    <tr style=\"text-align: right;\">\n",
       "      <th></th>\n",
       "      <th>A</th>\n",
       "      <th>C</th>\n",
       "    </tr>\n",
       "  </thead>\n",
       "  <tbody>\n",
       "    <tr>\n",
       "      <th>2020-06-23</th>\n",
       "      <td>-0.456420</td>\n",
       "      <td>-0.335346</td>\n",
       "    </tr>\n",
       "    <tr>\n",
       "      <th>2020-06-24</th>\n",
       "      <td>1.166765</td>\n",
       "      <td>-1.990102</td>\n",
       "    </tr>\n",
       "    <tr>\n",
       "      <th>2020-06-25</th>\n",
       "      <td>0.400445</td>\n",
       "      <td>0.163886</td>\n",
       "    </tr>\n",
       "  </tbody>\n",
       "</table>\n",
       "</div>"
      ],
      "text/plain": [
       "                   A         C\n",
       "2020-06-23 -0.456420 -0.335346\n",
       "2020-06-24  1.166765 -1.990102\n",
       "2020-06-25  0.400445  0.163886"
      ]
     },
     "execution_count": 61,
     "metadata": {},
     "output_type": "execute_result"
    }
   ],
   "source": [
    "df.iloc[[1,2,3], [0,2]] # select "
   ]
  },
  {
   "cell_type": "markdown",
   "metadata": {},
   "source": [
    "# Boolean indexing"
   ]
  },
  {
   "cell_type": "code",
   "execution_count": 5,
   "metadata": {},
   "outputs": [
    {
     "data": {
      "text/html": [
       "<div>\n",
       "<style scoped>\n",
       "    .dataframe tbody tr th:only-of-type {\n",
       "        vertical-align: middle;\n",
       "    }\n",
       "\n",
       "    .dataframe tbody tr th {\n",
       "        vertical-align: top;\n",
       "    }\n",
       "\n",
       "    .dataframe thead th {\n",
       "        text-align: right;\n",
       "    }\n",
       "</style>\n",
       "<table border=\"1\" class=\"dataframe\">\n",
       "  <thead>\n",
       "    <tr style=\"text-align: right;\">\n",
       "      <th></th>\n",
       "      <th>A</th>\n",
       "      <th>B</th>\n",
       "      <th>C</th>\n",
       "      <th>D</th>\n",
       "    </tr>\n",
       "  </thead>\n",
       "  <tbody>\n",
       "    <tr>\n",
       "      <th>2020-06-22</th>\n",
       "      <td>0.825774</td>\n",
       "      <td>0.109317</td>\n",
       "      <td>-0.330521</td>\n",
       "      <td>-0.552342</td>\n",
       "    </tr>\n",
       "    <tr>\n",
       "      <th>2020-06-23</th>\n",
       "      <td>0.294168</td>\n",
       "      <td>-0.477440</td>\n",
       "      <td>0.274235</td>\n",
       "      <td>-1.579116</td>\n",
       "    </tr>\n",
       "    <tr>\n",
       "      <th>2020-06-24</th>\n",
       "      <td>-1.089297</td>\n",
       "      <td>0.211316</td>\n",
       "      <td>-0.326994</td>\n",
       "      <td>1.858009</td>\n",
       "    </tr>\n",
       "    <tr>\n",
       "      <th>2020-06-25</th>\n",
       "      <td>1.427319</td>\n",
       "      <td>0.034961</td>\n",
       "      <td>-1.870035</td>\n",
       "      <td>0.795084</td>\n",
       "    </tr>\n",
       "    <tr>\n",
       "      <th>2020-06-26</th>\n",
       "      <td>1.235706</td>\n",
       "      <td>-2.473946</td>\n",
       "      <td>-0.690439</td>\n",
       "      <td>0.166659</td>\n",
       "    </tr>\n",
       "    <tr>\n",
       "      <th>2020-06-27</th>\n",
       "      <td>-0.440443</td>\n",
       "      <td>0.222631</td>\n",
       "      <td>-0.264885</td>\n",
       "      <td>-0.026370</td>\n",
       "    </tr>\n",
       "  </tbody>\n",
       "</table>\n",
       "</div>"
      ],
      "text/plain": [
       "                   A         B         C         D\n",
       "2020-06-22  0.825774  0.109317 -0.330521 -0.552342\n",
       "2020-06-23  0.294168 -0.477440  0.274235 -1.579116\n",
       "2020-06-24 -1.089297  0.211316 -0.326994  1.858009\n",
       "2020-06-25  1.427319  0.034961 -1.870035  0.795084\n",
       "2020-06-26  1.235706 -2.473946 -0.690439  0.166659\n",
       "2020-06-27 -0.440443  0.222631 -0.264885 -0.026370"
      ]
     },
     "execution_count": 5,
     "metadata": {},
     "output_type": "execute_result"
    }
   ],
   "source": [
    "df"
   ]
  },
  {
   "cell_type": "code",
   "execution_count": 4,
   "metadata": {},
   "outputs": [
    {
     "data": {
      "text/html": [
       "<div>\n",
       "<style scoped>\n",
       "    .dataframe tbody tr th:only-of-type {\n",
       "        vertical-align: middle;\n",
       "    }\n",
       "\n",
       "    .dataframe tbody tr th {\n",
       "        vertical-align: top;\n",
       "    }\n",
       "\n",
       "    .dataframe thead th {\n",
       "        text-align: right;\n",
       "    }\n",
       "</style>\n",
       "<table border=\"1\" class=\"dataframe\">\n",
       "  <thead>\n",
       "    <tr style=\"text-align: right;\">\n",
       "      <th></th>\n",
       "      <th>A</th>\n",
       "      <th>B</th>\n",
       "      <th>C</th>\n",
       "      <th>D</th>\n",
       "    </tr>\n",
       "  </thead>\n",
       "  <tbody>\n",
       "    <tr>\n",
       "      <th>2020-06-22</th>\n",
       "      <td>0.825774</td>\n",
       "      <td>0.109317</td>\n",
       "      <td>-0.330521</td>\n",
       "      <td>-0.552342</td>\n",
       "    </tr>\n",
       "    <tr>\n",
       "      <th>2020-06-23</th>\n",
       "      <td>0.294168</td>\n",
       "      <td>-0.477440</td>\n",
       "      <td>0.274235</td>\n",
       "      <td>-1.579116</td>\n",
       "    </tr>\n",
       "    <tr>\n",
       "      <th>2020-06-25</th>\n",
       "      <td>1.427319</td>\n",
       "      <td>0.034961</td>\n",
       "      <td>-1.870035</td>\n",
       "      <td>0.795084</td>\n",
       "    </tr>\n",
       "    <tr>\n",
       "      <th>2020-06-26</th>\n",
       "      <td>1.235706</td>\n",
       "      <td>-2.473946</td>\n",
       "      <td>-0.690439</td>\n",
       "      <td>0.166659</td>\n",
       "    </tr>\n",
       "  </tbody>\n",
       "</table>\n",
       "</div>"
      ],
      "text/plain": [
       "                   A         B         C         D\n",
       "2020-06-22  0.825774  0.109317 -0.330521 -0.552342\n",
       "2020-06-23  0.294168 -0.477440  0.274235 -1.579116\n",
       "2020-06-25  1.427319  0.034961 -1.870035  0.795084\n",
       "2020-06-26  1.235706 -2.473946 -0.690439  0.166659"
      ]
     },
     "execution_count": 4,
     "metadata": {},
     "output_type": "execute_result"
    }
   ],
   "source": [
    "df[df['A']>0]"
   ]
  },
  {
   "cell_type": "code",
   "execution_count": 6,
   "metadata": {},
   "outputs": [
    {
     "data": {
      "text/html": [
       "<div>\n",
       "<style scoped>\n",
       "    .dataframe tbody tr th:only-of-type {\n",
       "        vertical-align: middle;\n",
       "    }\n",
       "\n",
       "    .dataframe tbody tr th {\n",
       "        vertical-align: top;\n",
       "    }\n",
       "\n",
       "    .dataframe thead th {\n",
       "        text-align: right;\n",
       "    }\n",
       "</style>\n",
       "<table border=\"1\" class=\"dataframe\">\n",
       "  <thead>\n",
       "    <tr style=\"text-align: right;\">\n",
       "      <th></th>\n",
       "      <th>A</th>\n",
       "      <th>B</th>\n",
       "      <th>C</th>\n",
       "      <th>D</th>\n",
       "    </tr>\n",
       "  </thead>\n",
       "  <tbody>\n",
       "    <tr>\n",
       "      <th>2020-06-22</th>\n",
       "      <td>0.825774</td>\n",
       "      <td>0.109317</td>\n",
       "      <td>NaN</td>\n",
       "      <td>NaN</td>\n",
       "    </tr>\n",
       "    <tr>\n",
       "      <th>2020-06-23</th>\n",
       "      <td>0.294168</td>\n",
       "      <td>NaN</td>\n",
       "      <td>0.274235</td>\n",
       "      <td>NaN</td>\n",
       "    </tr>\n",
       "    <tr>\n",
       "      <th>2020-06-24</th>\n",
       "      <td>NaN</td>\n",
       "      <td>0.211316</td>\n",
       "      <td>NaN</td>\n",
       "      <td>1.858009</td>\n",
       "    </tr>\n",
       "    <tr>\n",
       "      <th>2020-06-25</th>\n",
       "      <td>1.427319</td>\n",
       "      <td>0.034961</td>\n",
       "      <td>NaN</td>\n",
       "      <td>0.795084</td>\n",
       "    </tr>\n",
       "    <tr>\n",
       "      <th>2020-06-26</th>\n",
       "      <td>1.235706</td>\n",
       "      <td>NaN</td>\n",
       "      <td>NaN</td>\n",
       "      <td>0.166659</td>\n",
       "    </tr>\n",
       "    <tr>\n",
       "      <th>2020-06-27</th>\n",
       "      <td>NaN</td>\n",
       "      <td>0.222631</td>\n",
       "      <td>NaN</td>\n",
       "      <td>NaN</td>\n",
       "    </tr>\n",
       "  </tbody>\n",
       "</table>\n",
       "</div>"
      ],
      "text/plain": [
       "                   A         B         C         D\n",
       "2020-06-22  0.825774  0.109317       NaN       NaN\n",
       "2020-06-23  0.294168       NaN  0.274235       NaN\n",
       "2020-06-24       NaN  0.211316       NaN  1.858009\n",
       "2020-06-25  1.427319  0.034961       NaN  0.795084\n",
       "2020-06-26  1.235706       NaN       NaN  0.166659\n",
       "2020-06-27       NaN  0.222631       NaN       NaN"
      ]
     },
     "execution_count": 6,
     "metadata": {},
     "output_type": "execute_result"
    }
   ],
   "source": [
    "df[df>0]"
   ]
  },
  {
   "cell_type": "code",
   "execution_count": 8,
   "metadata": {},
   "outputs": [
    {
     "data": {
      "text/html": [
       "<div>\n",
       "<style scoped>\n",
       "    .dataframe tbody tr th:only-of-type {\n",
       "        vertical-align: middle;\n",
       "    }\n",
       "\n",
       "    .dataframe tbody tr th {\n",
       "        vertical-align: top;\n",
       "    }\n",
       "\n",
       "    .dataframe thead th {\n",
       "        text-align: right;\n",
       "    }\n",
       "</style>\n",
       "<table border=\"1\" class=\"dataframe\">\n",
       "  <thead>\n",
       "    <tr style=\"text-align: right;\">\n",
       "      <th></th>\n",
       "      <th>A</th>\n",
       "      <th>B</th>\n",
       "      <th>C</th>\n",
       "      <th>D</th>\n",
       "      <th>E</th>\n",
       "    </tr>\n",
       "  </thead>\n",
       "  <tbody>\n",
       "    <tr>\n",
       "      <th>2020-06-22</th>\n",
       "      <td>0.825774</td>\n",
       "      <td>0.109317</td>\n",
       "      <td>-0.330521</td>\n",
       "      <td>-0.552342</td>\n",
       "      <td>one</td>\n",
       "    </tr>\n",
       "    <tr>\n",
       "      <th>2020-06-23</th>\n",
       "      <td>0.294168</td>\n",
       "      <td>-0.477440</td>\n",
       "      <td>0.274235</td>\n",
       "      <td>-1.579116</td>\n",
       "      <td>one</td>\n",
       "    </tr>\n",
       "    <tr>\n",
       "      <th>2020-06-24</th>\n",
       "      <td>-1.089297</td>\n",
       "      <td>0.211316</td>\n",
       "      <td>-0.326994</td>\n",
       "      <td>1.858009</td>\n",
       "      <td>two</td>\n",
       "    </tr>\n",
       "    <tr>\n",
       "      <th>2020-06-25</th>\n",
       "      <td>1.427319</td>\n",
       "      <td>0.034961</td>\n",
       "      <td>-1.870035</td>\n",
       "      <td>0.795084</td>\n",
       "      <td>three</td>\n",
       "    </tr>\n",
       "    <tr>\n",
       "      <th>2020-06-26</th>\n",
       "      <td>1.235706</td>\n",
       "      <td>-2.473946</td>\n",
       "      <td>-0.690439</td>\n",
       "      <td>0.166659</td>\n",
       "      <td>four</td>\n",
       "    </tr>\n",
       "    <tr>\n",
       "      <th>2020-06-27</th>\n",
       "      <td>-0.440443</td>\n",
       "      <td>0.222631</td>\n",
       "      <td>-0.264885</td>\n",
       "      <td>-0.026370</td>\n",
       "      <td>three</td>\n",
       "    </tr>\n",
       "  </tbody>\n",
       "</table>\n",
       "</div>"
      ],
      "text/plain": [
       "                   A         B         C         D      E\n",
       "2020-06-22  0.825774  0.109317 -0.330521 -0.552342    one\n",
       "2020-06-23  0.294168 -0.477440  0.274235 -1.579116    one\n",
       "2020-06-24 -1.089297  0.211316 -0.326994  1.858009    two\n",
       "2020-06-25  1.427319  0.034961 -1.870035  0.795084  three\n",
       "2020-06-26  1.235706 -2.473946 -0.690439  0.166659   four\n",
       "2020-06-27 -0.440443  0.222631 -0.264885 -0.026370  three"
      ]
     },
     "execution_count": 8,
     "metadata": {},
     "output_type": "execute_result"
    }
   ],
   "source": [
    "df2 = df.copy()\n",
    "df2['E'] = ['one','one','two','three','four','three']\n",
    "df2"
   ]
  },
  {
   "cell_type": "code",
   "execution_count": 12,
   "metadata": {},
   "outputs": [
    {
     "data": {
      "text/plain": [
       "2020-06-22     True\n",
       "2020-06-23     True\n",
       "2020-06-24     True\n",
       "2020-06-25    False\n",
       "2020-06-26    False\n",
       "2020-06-27    False\n",
       "Freq: D, Name: E, dtype: bool"
      ]
     },
     "execution_count": 12,
     "metadata": {},
     "output_type": "execute_result"
    }
   ],
   "source": [
    "df2.E.isin(['one', 'two'])"
   ]
  },
  {
   "cell_type": "code",
   "execution_count": 14,
   "metadata": {},
   "outputs": [
    {
     "data": {
      "text/html": [
       "<div>\n",
       "<style scoped>\n",
       "    .dataframe tbody tr th:only-of-type {\n",
       "        vertical-align: middle;\n",
       "    }\n",
       "\n",
       "    .dataframe tbody tr th {\n",
       "        vertical-align: top;\n",
       "    }\n",
       "\n",
       "    .dataframe thead th {\n",
       "        text-align: right;\n",
       "    }\n",
       "</style>\n",
       "<table border=\"1\" class=\"dataframe\">\n",
       "  <thead>\n",
       "    <tr style=\"text-align: right;\">\n",
       "      <th></th>\n",
       "      <th>A</th>\n",
       "      <th>B</th>\n",
       "      <th>C</th>\n",
       "      <th>D</th>\n",
       "      <th>E</th>\n",
       "    </tr>\n",
       "  </thead>\n",
       "  <tbody>\n",
       "    <tr>\n",
       "      <th>2020-06-24</th>\n",
       "      <td>-1.089297</td>\n",
       "      <td>0.211316</td>\n",
       "      <td>-0.326994</td>\n",
       "      <td>1.858009</td>\n",
       "      <td>two</td>\n",
       "    </tr>\n",
       "    <tr>\n",
       "      <th>2020-06-26</th>\n",
       "      <td>1.235706</td>\n",
       "      <td>-2.473946</td>\n",
       "      <td>-0.690439</td>\n",
       "      <td>0.166659</td>\n",
       "      <td>four</td>\n",
       "    </tr>\n",
       "  </tbody>\n",
       "</table>\n",
       "</div>"
      ],
      "text/plain": [
       "                   A         B         C         D     E\n",
       "2020-06-24 -1.089297  0.211316 -0.326994  1.858009   two\n",
       "2020-06-26  1.235706 -2.473946 -0.690439  0.166659  four"
      ]
     },
     "execution_count": 14,
     "metadata": {},
     "output_type": "execute_result"
    }
   ],
   "source": [
    "df2[df2['E'].isin(['two','four'])]"
   ]
  },
  {
   "cell_type": "code",
   "execution_count": 16,
   "metadata": {},
   "outputs": [
    {
     "data": {
      "text/plain": [
       "2020-06-22    False\n",
       "2020-06-23    False\n",
       "2020-06-24     True\n",
       "2020-06-25    False\n",
       "2020-06-26     True\n",
       "2020-06-27    False\n",
       "Freq: D, Name: E, dtype: bool"
      ]
     },
     "execution_count": 16,
     "metadata": {},
     "output_type": "execute_result"
    }
   ],
   "source": [
    "df2.E.isin(['two','four'])"
   ]
  },
  {
   "cell_type": "markdown",
   "metadata": {},
   "source": [
    "# Setting"
   ]
  },
  {
   "cell_type": "code",
   "execution_count": null,
   "metadata": {},
   "outputs": [],
   "source": []
  },
  {
   "cell_type": "code",
   "execution_count": null,
   "metadata": {},
   "outputs": [],
   "source": []
  },
  {
   "cell_type": "code",
   "execution_count": null,
   "metadata": {},
   "outputs": [],
   "source": []
  },
  {
   "cell_type": "code",
   "execution_count": null,
   "metadata": {},
   "outputs": [],
   "source": []
  },
  {
   "cell_type": "code",
   "execution_count": null,
   "metadata": {},
   "outputs": [],
   "source": []
  },
  {
   "cell_type": "code",
   "execution_count": null,
   "metadata": {},
   "outputs": [],
   "source": []
  },
  {
   "cell_type": "code",
   "execution_count": null,
   "metadata": {},
   "outputs": [],
   "source": [
    "%time : "
   ]
  }
 ],
 "metadata": {
  "kernelspec": {
   "display_name": "Python 3",
   "language": "python",
   "name": "python3"
  },
  "language_info": {
   "codemirror_mode": {
    "name": "ipython",
    "version": 3
   },
   "file_extension": ".py",
   "mimetype": "text/x-python",
   "name": "python",
   "nbconvert_exporter": "python",
   "pygments_lexer": "ipython3",
   "version": "3.7.4"
  }
 },
 "nbformat": 4,
 "nbformat_minor": 4
}
