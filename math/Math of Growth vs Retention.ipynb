{
 "cells": [
  {
   "cell_type": "markdown",
   "metadata": {},
   "source": [
    "# Lifetime Value (LTV)"
   ]
  },
  {
   "cell_type": "markdown",
   "metadata": {},
   "source": [
    "## Method #1"
   ]
  },
  {
   "cell_type": "markdown",
   "metadata": {},
   "source": [
    "<img src = \"LTV_1.png\">"
   ]
  },
  {
   "cell_type": "markdown",
   "metadata": {},
   "source": [
    "### average revenue per user (ARPU)"
   ]
  },
  {
   "cell_type": "raw",
   "metadata": {},
   "source": [
    "Let’s suppose 20 customers brought $1,240 in profit over a three-month period.\n",
    "ARPU (3 months) = $1240 / 20 = $62\n",
    "ARPU (12 months) = ARPU (3 months) × 4 = $62 × 4 = $248 per year per customer"
   ]
  },
  {
   "cell_type": "markdown",
   "metadata": {},
   "source": [
    "## Method #2"
   ]
  },
  {
   "cell_type": "raw",
   "metadata": {},
   "source": [
    "A cohort is a group of customers who have similar characteristics and made their first purchase during the same month in their customer journeys. Using cohort analysis, you calculate the average revenue per cohort instead of per user."
   ]
  },
  {
   "cell_type": "markdown",
   "metadata": {},
   "source": [
    "<img src = \"ltv_2.png\">"
   ]
  },
  {
   "cell_type": "markdown",
   "metadata": {},
   "source": [
    "# Method #3  A predictive approach to calculating CLV"
   ]
  },
  {
   "cell_type": "markdown",
   "metadata": {},
   "source": [
    "<img src = \"ltv_3.png\">"
   ]
  },
  {
   "cell_type": "raw",
   "metadata": {},
   "source": [
    "First, we’ll calculate the average number of transactions (T):\n",
    "Period: 6 months\n",
    "Total transactions: 120\n",
    "T = 120 / 6 = 20"
   ]
  },
  {
   "cell_type": "raw",
   "metadata": {},
   "source": [
    "Total revenue (November): $12,000\n",
    "Number of orders: 20\n",
    "AOV = $12,000 / 20 = $600"
   ]
  },
  {
   "cell_type": "markdown",
   "metadata": {},
   "source": [
    "<img src = \"ltv_3-1.png\" width= 400>"
   ]
  },
  {
   "cell_type": "raw",
   "metadata": {},
   "source": [
    "Total revenue (November): $12,000\n",
    "Cost of sales: $8,000\n",
    "Gross margin (%) = (($12,000 — $8,000) / $12,000) × 100 = 33%"
   ]
  },
  {
   "cell_type": "markdown",
   "metadata": {},
   "source": [
    "<img src = \"ltv_3-2.png\" width= 400>"
   ]
  },
  {
   "cell_type": "raw",
   "metadata": {},
   "source": [
    "Total gross margin: 1.64\n",
    "AGV = 1.64 / 6 = 0.27, or 27%"
   ]
  },
  {
   "cell_type": "markdown",
   "metadata": {},
   "source": [
    "<img src = \"ltv_3-3.png\" width= 400>"
   ]
  },
  {
   "cell_type": "markdown",
   "metadata": {},
   "source": [
    "<img src = \"ltv_3-4.png\" width= 400>"
   ]
  },
  {
   "cell_type": "code",
   "execution_count": null,
   "metadata": {},
   "outputs": [],
   "source": []
  },
  {
   "cell_type": "code",
   "execution_count": null,
   "metadata": {},
   "outputs": [],
   "source": []
  },
  {
   "cell_type": "code",
   "execution_count": null,
   "metadata": {},
   "outputs": [],
   "source": []
  },
  {
   "cell_type": "markdown",
   "metadata": {},
   "source": [
    "## LTV = CM * (1 / 1 − r)"
   ]
  },
  {
   "cell_type": "raw",
   "metadata": {},
   "source": [
    "CM = contribution margin\n",
    "r = % retention\n",
    "thus (1 / 1 − r) expresses the lifetime factor"
   ]
  },
  {
   "cell_type": "code",
   "execution_count": null,
   "metadata": {},
   "outputs": [],
   "source": []
  }
 ],
 "metadata": {
  "kernelspec": {
   "display_name": "Python 3",
   "language": "python",
   "name": "python3"
  },
  "language_info": {
   "codemirror_mode": {
    "name": "ipython",
    "version": 3
   },
   "file_extension": ".py",
   "mimetype": "text/x-python",
   "name": "python",
   "nbconvert_exporter": "python",
   "pygments_lexer": "ipython3",
   "version": "3.7.4"
  }
 },
 "nbformat": 4,
 "nbformat_minor": 4
}
