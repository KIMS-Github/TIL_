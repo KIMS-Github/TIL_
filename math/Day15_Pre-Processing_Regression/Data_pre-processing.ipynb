{
 "cells": [
  {
   "cell_type": "markdown",
   "metadata": {},
   "source": [
    "# virtual data regression"
   ]
  },
  {
   "cell_type": "raw",
   "metadata": {
    "jupyter": {
     "outputs_hidden": true
    }
   },
   "source": [
    "X, y, w = make_regression(n_samples, n_features, bias, noise, random_state, coef=True)\n",
    "n_samples : sample data amount\n",
    "bias : y-intercept\n",
    "noise : output, ℇ's std add of dependent variable\n",
    "random_state : random seed \n",
    "coef : True \n",
    "\n",
    "output\n",
    "X\n",
    "y\n",
    "w\n",
    "y = w.T * x + b + ℇ"
   ]
  },
  {
   "cell_type": "raw",
   "metadata": {},
   "source": [
    "y = w.T * x + b + ℇ"
   ]
  },
  {
   "cell_type": "code",
   "execution_count": 4,
   "metadata": {},
   "outputs": [
    {
     "data": {
      "image/png": "[encoded data removed]",
      "text/plain": [
       "<Figure size 432x288 with 1 Axes>"
      ]
     },
     "metadata": {
      "needs_background": "light"
     },
     "output_type": "display_data"
    }
   ],
   "source": [
    "from sklearn.datasets import make_regression\n",
    "X, y, w = make_regression(\n",
    "        n_samples=50, n_features = 1, bias = 100, noise = 10, coef= True, random_state = 0\n",
    ")\n",
    "xx = np.linspace(-3, 3, 100)\n",
    "y0 = w * xx + 100\n",
    "plt.plot(xx, y0, \"r-\")\n",
    "plt.scatter(X, y, s = 100)\n",
    "plt.xlabel('x')\n",
    "plt.ylabel('y')\n",
    "plt.title(\"make_regression_sample\")\n",
    "plt.show()\n",
    "%matplotlib inline"
   ]
  },
  {
   "cell_type": "code",
   "execution_count": 5,
   "metadata": {
    "collapsed": true,
    "jupyter": {
     "outputs_hidden": true
    }
   },
   "outputs": [
    {
     "data": {
      "text/plain": [
       "array([[-0.85409574],\n",
       "       [ 1.49407907],\n",
       "       [-0.34791215],\n",
       "       [ 0.44386323],\n",
       "       [-0.18718385],\n",
       "       [ 1.86755799],\n",
       "       [ 0.4105985 ],\n",
       "       [-1.70627019],\n",
       "       [-1.42001794],\n",
       "       [ 0.8644362 ],\n",
       "       [ 0.97873798],\n",
       "       [-0.20515826],\n",
       "       [ 0.15494743],\n",
       "       [-0.50965218],\n",
       "       [ 1.53277921],\n",
       "       [-0.74216502],\n",
       "       [-1.45436567],\n",
       "       [-0.10321885],\n",
       "       [-2.55298982],\n",
       "       [ 1.76405235],\n",
       "       [-1.25279536],\n",
       "       [-0.97727788],\n",
       "       [ 0.04575852],\n",
       "       [-0.4380743 ],\n",
       "       [ 0.76103773],\n",
       "       [ 0.14404357],\n",
       "       [-0.21274028],\n",
       "       [ 1.20237985],\n",
       "       [-0.38732682],\n",
       "       [ 2.2408932 ],\n",
       "       [ 0.77749036],\n",
       "       [ 0.15634897],\n",
       "       [-1.61389785],\n",
       "       [ 1.9507754 ],\n",
       "       [ 0.40015721],\n",
       "       [ 1.46935877],\n",
       "       [ 1.45427351],\n",
       "       [-0.30230275],\n",
       "       [ 0.3130677 ],\n",
       "       [ 0.33367433],\n",
       "       [ 2.26975462],\n",
       "       [-0.15135721],\n",
       "       [ 0.12167502],\n",
       "       [ 0.37816252],\n",
       "       [ 0.6536186 ],\n",
       "       [ 0.95008842],\n",
       "       [ 1.23029068],\n",
       "       [-0.88778575],\n",
       "       [-1.04855297],\n",
       "       [-1.98079647]])"
      ]
     },
     "execution_count": 5,
     "metadata": {},
     "output_type": "execute_result"
    }
   ],
   "source": [
    "X\n"
   ]
  },
  {
   "cell_type": "code",
   "execution_count": 6,
   "metadata": {},
   "outputs": [
    {
     "data": {
      "text/plain": [
       "array([ 69.16576208, 129.94932345,  80.01389923, 100.30585701,\n",
       "       107.20314663, 140.88561123, 112.99506826,  82.25108224,\n",
       "        71.56780523, 111.67769684, 112.48530888, 114.65029223,\n",
       "       111.71570029, 101.63406761, 127.78240131,  93.08609825,\n",
       "        80.69164687, 113.11903254,  61.0218126 , 131.15670173,\n",
       "        91.08078405,  79.88503003,  90.81838842,  95.10877879,\n",
       "       108.56190647,  98.64651153,  96.63568503, 125.15577947,\n",
       "        98.56417169, 131.95814648, 121.75870162, 106.25707916,\n",
       "        80.40782312, 128.46531432,  98.60107781, 110.84947303,\n",
       "       116.3307515 , 103.39347869, 106.6868286 , 103.97656433,\n",
       "       127.6988851 ,  97.31416893,  94.52678796,  96.96377225,\n",
       "       101.80069439, 119.35745   , 118.85230744, 104.32382223,\n",
       "        92.40639334,  83.7664334 ])"
      ]
     },
     "execution_count": 6,
     "metadata": {},
     "output_type": "execute_result"
    }
   ],
   "source": [
    "y"
   ]
  },
  {
   "cell_type": "code",
   "execution_count": 7,
   "metadata": {},
   "outputs": [
    {
     "data": {
      "text/plain": [
       "array(15.89695836)"
      ]
     },
     "execution_count": 7,
     "metadata": {},
     "output_type": "execute_result"
    }
   ],
   "source": [
    "w"
   ]
  },
  {
   "cell_type": "code",
   "execution_count": 11,
   "metadata": {},
   "outputs": [],
   "source": [
    "def make_regression2(X, w, y):\n",
    "    X = np.random.randint(1, 100, size = (10, 10))\n",
    "    w = np.random.randint(1, 100, size = (1, 10))\n",
    "    y0 = X * w + b\n",
    "    noise = np.random.norm"
   ]
  },
  {
   "cell_type": "code",
   "execution_count": 19,
   "metadata": {},
   "outputs": [],
   "source": [
    "def make_regression3(n_samples, bias, noise, random_state=0):\n",
    "    np.random.seed(random_state)\n",
    "    X = np.random.normal(size=n_samples)\n",
    "    w = 100 * np.random.normal(size=1)[0]\n",
    "    y0 = X * w + bias\n",
    "    e = np.random.normal(scale=noise, size = n_samples)\n",
    "    y = y0 + e\n",
    "    return X, y, w"
   ]
  },
  {
   "cell_type": "code",
   "execution_count": 20,
   "metadata": {},
   "outputs": [],
   "source": [
    "X, y, w = make_regression3(50, 100, 10)"
   ]
  },
  {
   "cell_type": "code",
   "execution_count": 22,
   "metadata": {
    "collapsed": true,
    "jupyter": {
     "outputs_hidden": true
    }
   },
   "outputs": [
    {
     "data": {
      "image/png": "[encoded data removed]",
      "text/plain": [
       "<Figure size 432x288 with 1 Axes>"
      ]
     },
     "metadata": {
      "needs_background": "light"
     },
     "output_type": "display_data"
    }
   ],
   "source": [
    "plt.scatter(X, y, s = 100)\n",
    "plt.show()"
   ]
  },
  {
   "cell_type": "raw",
   "metadata": {},
   "source": [
    "X, y, w = make_regression(n_samples, n_features, bias, noise, random_state, coef=True)\n",
    "n_samples : sample data amount\n",
    "bias : y-intercept\n",
    "noise : output, ℇ's std add of dependent variable\n",
    "random_state : random seed \n",
    "coef : True \n",
    "\n",
    "output\n",
    "X\n",
    "y\n",
    "w\n",
    "y = w.T * x + b + ℇ"
   ]
  },
  {
   "cell_type": "code",
   "execution_count": 31,
   "metadata": {},
   "outputs": [],
   "source": [
    "def make_regression4(n_samples, bias, noise, random_state=1):\n",
    "    np.random.seed(random_state)\n",
    "    X = np.random.normal(size=n_samples)\n",
    "    w = 100 * np.random.normal(size=1)[0]\n",
    "    y0 = X * w + bias\n",
    "    e = np.random.normal(scale=noise, size = n_samples)\n",
    "    y = y0 + e\n",
    "    return X, y, w"
   ]
  },
  {
   "cell_type": "code",
   "execution_count": 33,
   "metadata": {},
   "outputs": [],
   "source": [
    "X, y, w = make_regression4(10, 10, 1)"
   ]
  },
  {
   "cell_type": "code",
   "execution_count": 34,
   "metadata": {
    "collapsed": true,
    "jupyter": {
     "outputs_hidden": true
    }
   },
   "outputs": [
    {
     "data": {
      "image/png": "[encoded data removed]",
      "text/plain": [
       "<Figure size 432x288 with 1 Axes>"
      ]
     },
     "metadata": {
      "needs_background": "light"
     },
     "output_type": "display_data"
    }
   ],
   "source": [
    "plt.scatter(X, y, s = 10)\n",
    "plt.show()"
   ]
  },
  {
   "cell_type": "code",
   "execution_count": 37,
   "metadata": {},
   "outputs": [],
   "source": [
    "def make_regression5(n_samples, bias, noise, random_state=1):\n",
    "    np.random.seed(random_state)\n",
    "    X = np.random.normal(size=n_samples)\n",
    "    w = 100 * np.random.normal(size=1)[0]\n",
    "    y0 = X * w + bias\n",
    "    e =  np.random.normal(scale=noise, size = n_samples)\n",
    "    y = y0 + e\n",
    "    return X, y, w"
   ]
  },
  {
   "cell_type": "code",
   "execution_count": 38,
   "metadata": {},
   "outputs": [],
   "source": [
    "X, y, w = make_regression5(12, 13, 14)"
   ]
  },
  {
   "cell_type": "code",
   "execution_count": 39,
   "metadata": {
    "collapsed": true,
    "jupyter": {
     "outputs_hidden": true
    }
   },
   "outputs": [
    {
     "data": {
      "image/png": "[encoded data removed]",
      "text/plain": [
       "<Figure size 432x288 with 1 Axes>"
      ]
     },
     "metadata": {
      "needs_background": "light"
     },
     "output_type": "display_data"
    }
   ],
   "source": [
    "plt.scatter(X, y, s = 1)\n",
    "plt.show()"
   ]
  },
  {
   "cell_type": "code",
   "execution_count": 68,
   "metadata": {},
   "outputs": [],
   "source": [
    "def make_regression6(n_samples, bias, noise, random_state=0):\n",
    "    np.random.seed(random_state)\n",
    "    X = np.random.normal(size=n_samples)\n",
    "    w = 100 * np.random.normal(size=1)[0]\n",
    "    y0 = X * w + bias\n",
    "    e = np.random.normal(scale=noise, size = n_samples)\n",
    "    y = y0 + e\n",
    "    return X, y, w"
   ]
  },
  {
   "cell_type": "code",
   "execution_count": 69,
   "metadata": {},
   "outputs": [],
   "source": [
    "X, y, w = make_regression6(20, 20, 20)"
   ]
  },
  {
   "cell_type": "code",
   "execution_count": 70,
   "metadata": {},
   "outputs": [
    {
     "data": {
      "image/png": "[encoded data removed]",
      "text/plain": [
       "<Figure size 432x288 with 1 Axes>"
      ]
     },
     "metadata": {
      "needs_background": "light"
     },
     "output_type": "display_data"
    }
   ],
   "source": [
    "plt.scatter(X, y, s=8)\n",
    "plt.show()"
   ]
  },
  {
   "cell_type": "code",
   "execution_count": 74,
   "metadata": {},
   "outputs": [],
   "source": [
    "def make_regression7(n_samples, bias, noise, random_state = 0):\n",
    "    np.random.seed(random_state)\n",
    "    X = np.random.normal(size = n_samples)\n",
    "    w = 100 * np.random.normal(size=1)[0]\n",
    "    y0 = X * w + bias\n",
    "    e = np.random.normal(scale = noise, size = n_samples)\n",
    "    y = y0 + e\n",
    "    return X, y, w"
   ]
  },
  {
   "cell_type": "code",
   "execution_count": 75,
   "metadata": {},
   "outputs": [],
   "source": [
    "X, y, w = make_regression7(20, 20, 20)"
   ]
  },
  {
   "cell_type": "code",
   "execution_count": 76,
   "metadata": {
    "collapsed": true,
    "jupyter": {
     "outputs_hidden": true
    }
   },
   "outputs": [
    {
     "data": {
      "image/png": "[encoded data removed]",
      "text/plain": [
       "<Figure size 432x288 with 1 Axes>"
      ]
     },
     "metadata": {
      "needs_background": "light"
     },
     "output_type": "display_data"
    }
   ],
   "source": [
    "plt.scatter(X, y, s= 8)\n",
    "plt.show()"
   ]
  },
  {
   "cell_type": "code",
   "execution_count": 78,
   "metadata": {},
   "outputs": [],
   "source": [
    "def make_regssion8(n_samples, bias, noise, random_state=1):\n",
    "    np.random.seed(random_state)\n",
    "    X = np.random.normal(size = n_samples)\n",
    "    w = 100 * np.random.normal(size =1)[0]\n",
    "    y0 = X * w + bias\n",
    "    e = np.random.normal(scale = noise, size = n_samples )\n",
    "    y = y0 + e\n",
    "    return X, y, w"
   ]
  },
  {
   "cell_type": "code",
   "execution_count": 79,
   "metadata": {},
   "outputs": [],
   "source": [
    "X, y, w = make_regssion8(10, 12, 13)"
   ]
  },
  {
   "cell_type": "code",
   "execution_count": 81,
   "metadata": {},
   "outputs": [
    {
     "data": {
      "image/png": "[encoded data removed]",
      "text/plain": [
       "<Figure size 432x288 with 1 Axes>"
      ]
     },
     "metadata": {
      "needs_background": "light"
     },
     "output_type": "display_data"
    }
   ],
   "source": [
    "plt.scatter(X, y, s=5)\n",
    "plt.show()"
   ]
  },
  {
   "cell_type": "markdown",
   "metadata": {},
   "source": []
  }
 ],
 "metadata": {
  "kernelspec": {
   "display_name": "Python 3",
   "language": "python",
   "name": "python3"
  },
  "language_info": {
   "codemirror_mode": {
    "name": "ipython",
    "version": 3
   },
   "file_extension": ".py",
   "mimetype": "text/x-python",
   "name": "python",
   "nbconvert_exporter": "python",
   "pygments_lexer": "ipython3",
   "version": "3.7.4"
  }
 },
 "nbformat": 4,
 "nbformat_minor": 4
}
