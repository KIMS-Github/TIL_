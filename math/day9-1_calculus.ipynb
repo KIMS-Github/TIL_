{
 "cells": [
  {
   "cell_type": "markdown",
   "metadata": {},
   "source": [
    "# 미분의 용어, 수식, 개념을 알자"
   ]
  },
  {
   "cell_type": "raw",
   "metadata": {},
   "source": [
    "기울기 = 민감도"
   ]
  },
  {
   "cell_type": "code",
   "execution_count": 6,
   "metadata": {
    "jupyter": {
     "source_hidden": true
    }
   },
   "outputs": [],
   "source": [
    "def f(x):\n",
    "    return x**3 - 3 * x**2 + x\n",
    "\n",
    "x = np.linspace(-1, 3, 400)\n",
    "y = f(x)\n",
    "\n",
    "plt.plot(x, y)\n",
    "plt.plot(0, 0, 'ro')\n",
    "plt.plot(x, x, 'r:')\n",
    "plt.plot(1, -1, 'go')\n",
    "plt.plot(x, (3*1**2-6*1+1)*(x-1)-1, 'g--')\n",
    "\n",
    "plt.xlim(-3.5, 5.5)\n",
    "plt.ylim(-4, 2)\n",
    "plt.xticks(np.arange(-3, 6))\n",
    "plt.yticks(np.arange(-4, 2))\n",
    "\n",
    "plt.annotate('', xy=(1, 0), xytext=(0, 0), arrowprops=dict(facecolor='gray'))\n",
    "plt.annotate('', xy=(1, 1), xytext=(1, 0), arrowprops=dict(facecolor='gray'))\n",
    "\n",
    "plt.annotate('', xy=(2, -1), xytext=(1, -1), arrowprops=dict(facecolor='gray'))\n",
    "plt.annotate('', xy=(2, -3), xytext=(2, -1), arrowprops=dict(facecolor='gray'))\n",
    "\n",
    "plt.xlabel(\"x\")\n",
    "plt.ylabel(\"f(x)\")\n",
    "plt.title(\"함수의 기울기\")\n",
    "plt.show()"
   ]
  },
  {
   "cell_type": "markdown",
   "metadata": {},
   "source": [
    "# 수치미분"
   ]
  },
  {
   "cell_type": "code",
   "execution_count": 3,
   "metadata": {},
   "outputs": [],
   "source": [
    "from scipy.misc import derivative"
   ]
  },
  {
   "cell_type": "code",
   "execution_count": 7,
   "metadata": {},
   "outputs": [
    {
     "name": "stdout",
     "output_type": "stream",
     "text": [
      "1.000000000001\n",
      "-2.000000000002\n"
     ]
    }
   ],
   "source": [
    "print(derivative(f, 0, dx = 1e-6))\n",
    "print(derivative(f, 1, dx = 1e-6))"
   ]
  },
  {
   "cell_type": "markdown",
   "metadata": {},
   "source": [
    "# 미분 Differentiation 동사 / 도함수 Derivative 명사"
   ]
  },
  {
   "cell_type": "markdown",
   "metadata": {},
   "source": [
    "## f(x)가 들어가서 \"기울기\" 가 나오는 마법상자 = 도(출된)함수 f'"
   ]
  },
  {
   "cell_type": "markdown",
   "metadata": {},
   "source": [
    "## 미분은 행위의 이름 도함수는 결과물을 말한다"
   ]
  },
  {
   "cell_type": "markdown",
   "metadata": {},
   "source": [
    "# 외워야하는 미분공식"
   ]
  },
  {
   "cell_type": "markdown",
   "metadata": {},
   "source": [
    "1. 기본공식\n",
    "2. 선형조합\n",
    "3. 곱셈법칙\n",
    "4. 연쇄법칙"
   ]
  },
  {
   "cell_type": "markdown",
   "metadata": {},
   "source": [
    "# 1. 기본공식\n",
    "## 데이터 분석에서 제일 중요한 함수는 로그함수이고 \n",
    "## 로그함수를 미분하면 역수가 된다."
   ]
  },
  {
   "cell_type": "raw",
   "metadata": {},
   "source": [
    "로그¶\n",
    "로그함수를 미분하면  𝑥**−1 이 된다.\n",
    "\n",
    "𝑑/𝑑𝑥(log𝑥)=1/𝑥"
   ]
  },
  {
   "cell_type": "markdown",
   "metadata": {},
   "source": [
    "# 로그함수의 역함수인 지수함수 는 미분해도 그대로다"
   ]
  },
  {
   "cell_type": "markdown",
   "metadata": {},
   "source": [
    "# 2. 선형조합"
   ]
  },
  {
   "cell_type": "markdown",
   "metadata": {},
   "source": [
    "# 3. 곱셈법칙"
   ]
  },
  {
   "cell_type": "markdown",
   "metadata": {},
   "source": [
    "### 곱셈법칙은 곱으로 이루어진 함수는 (미분 * 그냥) + (그냥 * 미분)"
   ]
  },
  {
   "cell_type": "markdown",
   "metadata": {},
   "source": [
    "### * 중요한 연쇄법칙"
   ]
  },
  {
   "cell_type": "markdown",
   "metadata": {},
   "source": [
    "N 자형태로 입력 출력 입력출력"
   ]
  },
  {
   "cell_type": "markdown",
   "metadata": {},
   "source": [
    "<img src=\"IMG_0207 2.jpg\" width=\"1000\">"
   ]
  },
  {
   "cell_type": "raw",
   "metadata": {},
   "source": [
    "02 함수 미분_적분_행렬 미분 10:05"
   ]
  },
  {
   "cell_type": "raw",
   "metadata": {},
   "source": []
  },
  {
   "cell_type": "code",
   "execution_count": null,
   "metadata": {},
   "outputs": [],
   "source": []
  }
 ],
 "metadata": {
  "kernelspec": {
   "display_name": "Python 3",
   "language": "python",
   "name": "python3"
  },
  "language_info": {
   "codemirror_mode": {
    "name": "ipython",
    "version": 3
   },
   "file_extension": ".py",
   "mimetype": "text/x-python",
   "name": "python",
   "nbconvert_exporter": "python",
   "pygments_lexer": "ipython3",
   "version": "3.7.4"
  }
 },
 "nbformat": 4,
 "nbformat_minor": 4
}
