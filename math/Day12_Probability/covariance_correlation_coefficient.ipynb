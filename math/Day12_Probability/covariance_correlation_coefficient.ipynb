{
 "cells": [
  {
   "cell_type": "markdown",
   "metadata": {},
   "source": [
    "# 공분산 covariance 과 상관계수 correlation coefficient"
   ]
  },
  {
   "cell_type": "markdown",
   "metadata": {},
   "source": [
    "## 표본공분산 sample covariance "
   ]
  },
  {
   "cell_type": "markdown",
   "metadata": {},
   "source": []
  },
  {
   "cell_type": "markdown",
   "metadata": {},
   "source": [
    "공분산은 데이터의 밀집정보 와 모양의 정보 2가지를 가지고 있다"
   ]
  },
  {
   "cell_type": "markdown",
   "metadata": {},
   "source": [
    "## 표본상관계수 r 모양정보만 가지고 있다(피어슨): pearsonr()"
   ]
  },
  {
   "cell_type": "code",
   "execution_count": null,
   "metadata": {},
   "outputs": [],
   "source": []
  },
  {
   "cell_type": "code",
   "execution_count": 2,
   "metadata": {},
   "outputs": [],
   "source": [
    "from sklearn.datasets import load_iris"
   ]
  },
  {
   "cell_type": "code",
   "execution_count": 4,
   "metadata": {},
   "outputs": [
    {
     "data": {
      "text/plain": [
       "0.8717537758865832"
      ]
     },
     "execution_count": 4,
     "metadata": {},
     "output_type": "execute_result"
    }
   ],
   "source": [
    "X = load_iris().data\n",
    "x1 = X[:, 0]  # 꽃받침의 길이\n",
    "x2 = X[:, 1]  # 꽃받침의 폭\n",
    "x3 = X[:, 2]  # 꽃잎의 길이\n",
    "x4 = X[:, 3]  # 꽃잎의 폭\n",
    "sp.stats.pearsonr(x1, x3)[0]"
   ]
  },
  {
   "cell_type": "markdown",
   "metadata": {},
   "source": [
    "### 연습문제 7.5.1"
   ]
  },
  {
   "cell_type": "code",
   "execution_count": 5,
   "metadata": {},
   "outputs": [
    {
     "data": {
      "text/plain": [
       "-0.11756978413300204"
      ]
     },
     "execution_count": 5,
     "metadata": {},
     "output_type": "execute_result"
    }
   ],
   "source": [
    "# 1)\n",
    "sp.stats.pearsonr(x1, x2)[0]"
   ]
  },
  {
   "cell_type": "code",
   "execution_count": 6,
   "metadata": {},
   "outputs": [
    {
     "data": {
      "text/plain": [
       "0.9628654314027961"
      ]
     },
     "execution_count": 6,
     "metadata": {},
     "output_type": "execute_result"
    }
   ],
   "source": [
    "# 2)\n",
    "sp.stats.pearsonr(x3, x4)[0]"
   ]
  },
  {
   "cell_type": "code",
   "execution_count": 8,
   "metadata": {},
   "outputs": [
    {
     "data": {
      "text/plain": [
       "-0.3661259325364391"
      ]
     },
     "execution_count": 8,
     "metadata": {},
     "output_type": "execute_result"
    }
   ],
   "source": [
    "# 3)\n",
    "sp.stats.pearsonr(x2, x4)[0]"
   ]
  },
  {
   "cell_type": "markdown",
   "metadata": {},
   "source": [
    "## 확률변수 공분산 covariance 과 상관계수 correlation coefficient"
   ]
  },
  {
   "cell_type": "markdown",
   "metadata": {},
   "source": [
    "## Cov[X, Y] = E[(X-E[X])(Y-E[Y])]"
   ]
  },
  {
   "cell_type": "markdown",
   "metadata": {},
   "source": [
    "## 𝜌[𝑋,𝑌]=Cov[𝑋,𝑌]/ √Var[𝑋]⋅Var[𝑌]   # 𝜌 : rho"
   ]
  },
  {
   "cell_type": "markdown",
   "metadata": {},
   "source": [
    "###   상관계수의 성질 −1≤𝜌≤1"
   ]
  },
  {
   "cell_type": "markdown",
   "metadata": {},
   "source": [
    "𝜌=1  : 완전선형 상관관계\n",
    "\n",
    "𝜌=0 : 무상관 (독립과는 다름)\n",
    "\n",
    "𝜌=−1 : 완전선형 반상관관계"
   ]
  },
  {
   "cell_type": "code",
   "execution_count": 20,
   "metadata": {},
   "outputs": [
    {
     "data": {
      "text/plain": [
       "(array([ 1.76405235,  0.40015721,  0.97873798,  2.2408932 ,  1.86755799,\n",
       "        -0.97727788,  0.95008842, -0.15135721, -0.10321885,  0.4105985 ]),\n",
       " array([ 0.14404357,  1.45427351,  0.76103773,  0.12167502,  0.44386323,\n",
       "         0.33367433,  1.49407907, -0.20515826,  0.3130677 , -0.85409574]))"
      ]
     },
     "execution_count": 20,
     "metadata": {},
     "output_type": "execute_result"
    }
   ],
   "source": [
    "np.random.seed(0)\n",
    "x  = np.random.normal(size = 10)\n",
    "y = np.random.normal(size = 10)\n",
    "x, y"
   ]
  },
  {
   "cell_type": "code",
   "execution_count": 21,
   "metadata": {},
   "outputs": [
    {
     "data": {
      "text/plain": [
       "0.07172529242772133"
      ]
     },
     "execution_count": 21,
     "metadata": {},
     "output_type": "execute_result"
    }
   ],
   "source": [
    "sp.stats.pearsonr(x, y)[0]"
   ]
  },
  {
   "cell_type": "code",
   "execution_count": 24,
   "metadata": {},
   "outputs": [],
   "source": [
    "np.random.seed(0)\n",
    "l  = np.random.normal(size = 10000)\n",
    "m = np.random.normal(size = 10000)\n"
   ]
  },
  {
   "cell_type": "code",
   "execution_count": 25,
   "metadata": {},
   "outputs": [
    {
     "data": {
      "text/plain": [
       "-0.007759276731423097"
      ]
     },
     "execution_count": 25,
     "metadata": {},
     "output_type": "execute_result"
    }
   ],
   "source": [
    "sp.stats.pearsonr(l, m)[0]"
   ]
  },
  {
   "cell_type": "markdown",
   "metadata": {},
   "source": [
    "# 조건부 기댓값과 예측문제 (회귀분석)"
   ]
  },
  {
   "cell_type": "markdown",
   "metadata": {},
   "source": [
    "## E[𝑌|𝑋]=∫ 𝑦 𝑝(𝑦|𝑥)𝑑𝑦"
   ]
  },
  {
   "cell_type": "markdown",
   "metadata": {},
   "source": [
    "## = E[𝑌|𝑋]=∫𝑦𝑝(𝑦|𝑥)𝑑𝑦"
   ]
  },
  {
   "cell_type": "markdown",
   "metadata": {},
   "source": [
    "## 예측문제\n",
    "### 회귀분석, 또는 분류문제"
   ]
  },
  {
   "cell_type": "markdown",
   "metadata": {},
   "source": [
    "### 𝑥 → 예측 𝑦̂ =𝐸[𝑦|𝑥]=𝑓(𝑥)"
   ]
  },
  {
   "cell_type": "code",
   "execution_count": null,
   "metadata": {},
   "outputs": [],
   "source": []
  }
 ],
 "metadata": {
  "kernelspec": {
   "display_name": "Python 3",
   "language": "python",
   "name": "python3"
  },
  "language_info": {
   "codemirror_mode": {
    "name": "ipython",
    "version": 3
   },
   "file_extension": ".py",
   "mimetype": "text/x-python",
   "name": "python",
   "nbconvert_exporter": "python",
   "pygments_lexer": "ipython3",
   "version": "3.7.4"
  }
 },
 "nbformat": 4,
 "nbformat_minor": 4
}
