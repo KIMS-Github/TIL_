{
 "cells": [
  {
   "cell_type": "markdown",
   "metadata": {},
   "source": [
    "# 집합과 원소"
   ]
  },
  {
   "cell_type": "code",
   "execution_count": 1,
   "metadata": {},
   "outputs": [],
   "source": [
    "from itertools import chain, combinations\n",
    "\n",
    "def get_set_of_subsets(omega):\n",
    "    return set([frozenset(s) for s in chain.from_iterable(combinations(omega, r) for r in range(len(omega)+1))])"
   ]
  },
  {
   "cell_type": "code",
   "execution_count": 5,
   "metadata": {},
   "outputs": [],
   "source": [
    "omega = {\"HH\", \"HT\", \"TH\", \"TT\"}\n",
    "coin = get_set_of_subsets(omega)"
   ]
  },
  {
   "cell_type": "markdown",
   "metadata": {},
   "source": [
    "# itertools"
   ]
  },
  {
   "cell_type": "raw",
   "metadata": {},
   "source": [
    "count() start, [step]\n",
    "\n",
    "cycle() plast\n",
    "\n",
    "repeat() elem, [,n]\n",
    "\n",
    "chain() plast\n",
    "\n",
    "compress() data, selectors ('ABCD', [1, 0, 1, 0])-> A C\n",
    "\n",
    "dropwhile() pred, seq dropwhile(lambda x: x<5, [1,4,6,4,1]) --> 6 4 1\n",
    "\n",
    "groupby() iterable[, keyfunc]\n",
    "\n",
    "ifilter() pred, seq -> ifilter(lambda x: x%2, range(10)) --> 1 3 5 7 9\n",
    "ifilterfalse()\n",
    "\n",
    "islice() seq, [start,] stop [, step]\n",
    "\n",
    "imap() func, p, q, …  imap(pow, (2,3,10), (5,2,3)) --> 32 9 1000\n",
    "\n",
    "starmap() func, seq starmap(pow, [(2,5), (3,2), (10,3)]) --> 32 9 1000\n",
    "\n",
    "tee() it, n\n",
    "\n",
    "takewhile() takewhile(lambda x: x<5, [1,4,6,4,1]) --> 1 4\n",
    "\n",
    "izip() izip('ABCD', 'xy') --> Ax By\n",
    "\n",
    "izip_longest() izip_longest('ABCD', 'xy', fillvalue='-') --> Ax By C- D-\n"
   ]
  },
  {
   "cell_type": "markdown",
   "metadata": {},
   "source": [
    "Combinatoric generators:"
   ]
  },
  {
   "cell_type": "raw",
   "metadata": {},
   "source": [
    "product()\n",
    "\n",
    "permutations()\n",
    "\n",
    "combinations()\n",
    "\n",
    "combinations_with_replacement()\n",
    "\n",
    "product('ABCD', repeat=2) AA AB AC AD BA BB BC BD CA CB CC CD DA DB DC DD\n",
    "\n",
    "permutations('ABCD', 2) AB AC AD BA BC BD CA CB CD DA DB DC\n",
    "\n",
    "combinations('ABCD', 2)  AB AC AD BC BD CD\n",
    "\n",
    "combinations_with_replacement('ABCD', 2) AA AB AC AD BB BC BD CC CD DD\n",
    "\n"
   ]
  },
  {
   "cell_type": "markdown",
   "metadata": {},
   "source": [
    "# 확률의 수학적 정의 : 확률표본(sample), 표본공간(sample space), 사건(event)"
   ]
  },
  {
   "cell_type": "markdown",
   "metadata": {},
   "source": [
    "1. 확률문제정의가 필요 ( 동전을 던졌을때 나올 면은? : 앞면 또는 뒷면)\n",
    "2. 앞면과 뒷면이 표본집합"
   ]
  },
  {
   "cell_type": "markdown",
   "metadata": {},
   "source": [
    "# 확률은 표본에 할당해 놓은 숫자 : 사건이 들어가서 숫자가 나오는 함수"
   ]
  },
  {
   "cell_type": "markdown",
   "metadata": {},
   "source": [
    "# 숫자를 할당하는 규칙 (콜로고로프의 공리)"
   ]
  },
  {
   "cell_type": "markdown",
   "metadata": {},
   "source": [
    "## 1. 숫자는 >= 0\n",
    "## 2. 전체집합에는 1을 할당\n",
    "## 3. 두사건의 교집합이 없다면 두집합의 합집합의 할당은 각각 집합에 할당된 확률의 합이 된다. 𝐴∩𝐵=∅→𝑃(𝐴∪𝐵)=𝑃(𝐴)+𝑃(𝐵)"
   ]
  },
  {
   "cell_type": "markdown",
   "metadata": {},
   "source": [
    "# 오해하지 말아야할 것"
   ]
  },
  {
   "cell_type": "markdown",
   "metadata": {},
   "source": [
    "# 주사위 1이 나올 확률을 이렇게 표현 하면 P(1) = 1/6 은 틀림\n",
    "# 표본이 들어가서 확률이 나오는것이 아니고"
   ]
  },
  {
   "cell_type": "markdown",
   "metadata": {},
   "source": [
    "# 주사위 1이 나올 확률은 P({1}) = 1/6 은 사건(이벤트) 부분집합이 들어가서 확률(숫자)가 나옴"
   ]
  },
  {
   "cell_type": "code",
   "execution_count": 11,
   "metadata": {},
   "outputs": [
    {
     "data": {
      "text/plain": [
       "{frozenset(),\n",
       " frozenset({'TH'}),\n",
       " frozenset({'HT', 'TH'}),\n",
       " frozenset({'HH', 'HT', 'TH'}),\n",
       " frozenset({'TH', 'TT'}),\n",
       " frozenset({'HT'}),\n",
       " frozenset({'TT'}),\n",
       " frozenset({'HT', 'TT'}),\n",
       " frozenset({'HH'}),\n",
       " frozenset({'HH', 'HT'}),\n",
       " frozenset({'HH', 'HT', 'TT'}),\n",
       " frozenset({'HH', 'TH'}),\n",
       " frozenset({'HH', 'TH', 'TT'}),\n",
       " frozenset({'HT', 'TH', 'TT'}),\n",
       " frozenset({'HH', 'TT'}),\n",
       " frozenset({'HH', 'HT', 'TH', 'TT'})}"
      ]
     },
     "execution_count": 11,
     "metadata": {},
     "output_type": "execute_result"
    }
   ],
   "source": [
    "# 주사위 2번던져 나온 경우에 확률을 할당\n",
    "coin"
   ]
  },
  {
   "cell_type": "code",
   "execution_count": 14,
   "metadata": {},
   "outputs": [],
   "source": [
    "P = {frozenset(): 0,\n",
    " frozenset({'TH'}):0.25,\n",
    " frozenset({'HT', 'TH'}):0.5,\n",
    " frozenset({'HH', 'HT', 'TH'}):0.75,\n",
    " frozenset({'TH', 'TT'}):0.5,\n",
    " frozenset({'HT'}):0.25,\n",
    " frozenset({'TT'}):0.25,\n",
    " frozenset({'HT', 'TT'}):0.5,\n",
    " frozenset({'HH'}):0.25,\n",
    " frozenset({'HH', 'HT'}):0.5,\n",
    " frozenset({'HH', 'HT', 'TT'}):0.75,\n",
    " frozenset({'HH', 'TH'}):0.5,\n",
    " frozenset({'HH', 'TH', 'TT'}):0.75,\n",
    " frozenset({'HT', 'TH', 'TT'}):0.75,\n",
    " frozenset({'HH', 'TT'}):0.5,\n",
    " frozenset({'HH', 'HT', 'TH', 'TT'}):1}"
   ]
  },
  {
   "cell_type": "code",
   "execution_count": 15,
   "metadata": {},
   "outputs": [
    {
     "data": {
      "text/plain": [
       "{frozenset(): 0,\n",
       " frozenset({'TH'}): 0.25,\n",
       " frozenset({'HT', 'TH'}): 0.5,\n",
       " frozenset({'HH', 'HT', 'TH'}): 0.75,\n",
       " frozenset({'TH', 'TT'}): 0.5,\n",
       " frozenset({'HT'}): 0.25,\n",
       " frozenset({'TT'}): 0.25,\n",
       " frozenset({'HT', 'TT'}): 0.5,\n",
       " frozenset({'HH'}): 0.25,\n",
       " frozenset({'HH', 'HT'}): 0.5,\n",
       " frozenset({'HH', 'HT', 'TT'}): 0.75,\n",
       " frozenset({'HH', 'TH'}): 0.5,\n",
       " frozenset({'HH', 'TH', 'TT'}): 0.75,\n",
       " frozenset({'HT', 'TH', 'TT'}): 0.75,\n",
       " frozenset({'HH', 'TT'}): 0.5,\n",
       " frozenset({'HH', 'HT', 'TH', 'TT'}): 1}"
      ]
     },
     "execution_count": 15,
     "metadata": {},
     "output_type": "execute_result"
    }
   ],
   "source": [
    "P"
   ]
  },
  {
   "cell_type": "markdown",
   "metadata": {},
   "source": [
    "# 연습문제"
   ]
  },
  {
   "cell_type": "markdown",
   "metadata": {},
   "source": [
    "# 0 ~ 180 도 에 화살이 꽂힐 확률이 2배로 조작된 확률질량함수 구현"
   ]
  },
  {
   "cell_type": "code",
   "execution_count": 27,
   "metadata": {},
   "outputs": [
    {
     "ename": "SyntaxError",
     "evalue": "invalid syntax (<ipython-input-27-6a6937a05954>, line 5)",
     "output_type": "error",
     "traceback": [
      "\u001b[0;36m  File \u001b[0;32m\"<ipython-input-27-6a6937a05954>\"\u001b[0;36m, line \u001b[0;32m5\u001b[0m\n\u001b[0;31m    return π / (180 / b-a) * (2/3)%\u001b[0m\n\u001b[0m                                   ^\u001b[0m\n\u001b[0;31mSyntaxError\u001b[0m\u001b[0;31m:\u001b[0m invalid syntax\n"
     ]
    }
   ],
   "source": [
    "def p(a, b):\n",
    "    π = 180\n",
    "    \n",
    "    if \n",
    "        \n",
    "    elif \n",
    "    else:\n",
    "        "
   ]
  },
  {
   "cell_type": "code",
   "execution_count": 25,
   "metadata": {},
   "outputs": [
    {
     "data": {
      "text/plain": [
       "60.0"
      ]
     },
     "execution_count": 25,
     "metadata": {},
     "output_type": "execute_result"
    }
   ],
   "source": [
    "p(0, 90)"
   ]
  },
  {
   "cell_type": "code",
   "execution_count": 26,
   "metadata": {},
   "outputs": [
    {
     "data": {
      "text/plain": [
       "60.0"
      ]
     },
     "execution_count": 26,
     "metadata": {},
     "output_type": "execute_result"
    }
   ],
   "source": [
    "90 * (2/3)"
   ]
  },
  {
   "cell_type": "code",
   "execution_count": null,
   "metadata": {},
   "outputs": [],
   "source": []
  }
 ],
 "metadata": {
  "kernelspec": {
   "display_name": "Python 3",
   "language": "python",
   "name": "python3"
  },
  "language_info": {
   "codemirror_mode": {
    "name": "ipython",
    "version": 3
   },
   "file_extension": ".py",
   "mimetype": "text/x-python",
   "name": "python",
   "nbconvert_exporter": "python",
   "pygments_lexer": "ipython3",
   "version": "3.7.4"
  }
 },
 "nbformat": 4,
 "nbformat_minor": 4
}
