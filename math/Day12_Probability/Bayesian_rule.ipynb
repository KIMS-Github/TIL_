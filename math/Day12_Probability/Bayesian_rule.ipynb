{
 "cells": [
  {
   "cell_type": "markdown",
   "metadata": {
    "school_cell_uuid": "44af799fbefc4839837cd87a3928e339"
   },
   "source": [
    "조건부확률을 구하는 다음 공식을 **베이즈 정리(Bayesian rule)**라고 한다.\n",
    "\n",
    "$$ \n",
    "\\begin{align}\n",
    "P(A|B) = \\dfrac{P(B|A)P(A)}{P(B)} \n",
    "\\tag{6.6.1}\n",
    "\\end{align}\n",
    "$$\n",
    "\n",
    "\n",
    "(증명)\n",
    "\n",
    "\n",
    "$$\n",
    "\\begin{align}\n",
    "P(A|B) = \\dfrac{P(A,B)}{P(B)} \\;\\; \\rightarrow \\;\\; P(A,B) = P(A|B)P(B)\n",
    "\\tag{6.6.2}\n",
    "\\end{align}\n",
    "$$\n",
    "\n",
    "$$\n",
    "\\begin{align}\n",
    "P(B|A) = \\dfrac{P(A,B)}{P(A)} \\;\\; \\rightarrow \\;\\; P(A,B) = P(B|A)P(A)\n",
    "\\tag{6.6.3}\n",
    "\\end{align}\n",
    "$$\n",
    "\n",
    "$$\n",
    "\\begin{align}\n",
    "P(A,B) = P(A|B)P(B) = P(B|A)P(A)\n",
    "\\tag{6.6.4}\n",
    "\\end{align}\n",
    "$$\n",
    "\n",
    "$$\n",
    "\\begin{align}\n",
    "P(A|B) = \\dfrac{P(B|A)P(A)}{P(B)}\n",
    "\\tag{6.6.5}\n",
    "\\end{align}\n",
    "$$"
   ]
  },
  {
   "cell_type": "code",
   "execution_count": 8,
   "metadata": {},
   "outputs": [
    {
     "data": {
      "text/plain": [
       "0.038"
      ]
     },
     "execution_count": 8,
     "metadata": {},
     "output_type": "execute_result"
    }
   ],
   "source": [
    "round((0.99 * 0.002)/((0.99*0.002)+(0.05 * (1-0.002))), 3)"
   ]
  },
  {
   "cell_type": "markdown",
   "metadata": {},
   "source": [
    "# 베이즈 정리에서 공통전제를 빼도 성립하는 지를 직관적으로 알수 잇어야한다"
   ]
  },
  {
   "cell_type": "code",
   "execution_count": null,
   "metadata": {},
   "outputs": [],
   "source": []
  }
 ],
 "metadata": {
  "kernelspec": {
   "display_name": "Python 3",
   "language": "python",
   "name": "python3"
  },
  "language_info": {
   "codemirror_mode": {
    "name": "ipython",
    "version": 3
   },
   "file_extension": ".py",
   "mimetype": "text/x-python",
   "name": "python",
   "nbconvert_exporter": "python",
   "pygments_lexer": "ipython3",
   "version": "3.7.4"
  }
 },
 "nbformat": 4,
 "nbformat_minor": 4
}
