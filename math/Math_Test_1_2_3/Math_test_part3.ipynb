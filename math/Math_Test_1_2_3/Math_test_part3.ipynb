{
 "cells": [
  {
   "cell_type": "markdown",
   "metadata": {},
   "source": [
    "# - 3차 시험(전처리 ~ 머신러닝) : 6/5(금) 17:00"
   ]
  },
  {
   "cell_type": "markdown",
   "metadata": {},
   "source": [
    "# <font color = \"skyblue\"> Day 17 ~ Day 29"
   ]
  },
  {
   "cell_type": "code",
   "execution_count": 14,
   "metadata": {},
   "outputs": [
    {
     "data": {
      "text/html": [
       "<div>\n",
       "<style scoped>\n",
       "    .dataframe tbody tr th:only-of-type {\n",
       "        vertical-align: middle;\n",
       "    }\n",
       "\n",
       "    .dataframe tbody tr th {\n",
       "        vertical-align: top;\n",
       "    }\n",
       "\n",
       "    .dataframe thead th {\n",
       "        text-align: right;\n",
       "    }\n",
       "</style>\n",
       "<table border=\"1\" class=\"dataframe\">\n",
       "  <thead>\n",
       "    <tr style=\"text-align: right;\">\n",
       "      <th></th>\n",
       "      <th>수학/통계/머신러닝 강의주제</th>\n",
       "      <th>강의명_온라인</th>\n",
       "    </tr>\n",
       "    <tr>\n",
       "      <th>Day</th>\n",
       "      <th></th>\n",
       "      <th></th>\n",
       "    </tr>\n",
       "  </thead>\n",
       "  <tbody>\n",
       "    <tr>\n",
       "      <th>17</th>\n",
       "      <td>다중공선성과변수선택_정규화선형회귀, NLTK 자연어 처리 패키지_KoNLPy 한국어...</td>\n",
       "      <td>다중공선성과변수선택_정규화선형회귀_20191126_01, NLTK 자연어 처리 패키...</td>\n",
       "    </tr>\n",
       "    <tr>\n",
       "      <th>18</th>\n",
       "      <td>Scikit-Learn 문서 전처리_gensim, 확률론적 언어 모형, Soynlp...</td>\n",
       "      <td>Scikit-Learn 문서 전처리_gensim_20191213_01, 확률론적 언...</td>\n",
       "    </tr>\n",
       "    <tr>\n",
       "      <th>19</th>\n",
       "      <td>이미지 필터링_컨투어_변환, 사운드 프로세싱 기초, 푸리에 변환과 스펙트럼, 지리 ...</td>\n",
       "      <td>이미지 필터링_컨투어_변환_20191219_03 ~ 04, 사운드 프로세싱 기초, ...</td>\n",
       "    </tr>\n",
       "    <tr>\n",
       "      <th>20</th>\n",
       "      <td>분류모형, 분류 성능평가</td>\n",
       "      <td>분류모형_20191227_01 ~ 02, 분류 성능평가_20191227_03 ~ 04</td>\n",
       "    </tr>\n",
       "    <tr>\n",
       "      <th>21</th>\n",
       "      <td>로지스틱회귀</td>\n",
       "      <td>로지스틱회귀_20200102_01 ~ 04</td>\n",
       "    </tr>\n",
       "    <tr>\n",
       "      <th>22</th>\n",
       "      <td>선형판별분석법과 이차판별분석법_나이브베이즈 분류모형</td>\n",
       "      <td>선형판별분석법과 이차판별분석법_나이브베이즈 분류모형_20200103_01 ~ 04</td>\n",
       "    </tr>\n",
       "    <tr>\n",
       "      <th>23</th>\n",
       "      <td>다항분포 나이브제이즈 모형, 감성 분석, 의사결정나무</td>\n",
       "      <td>다항분포 나이브제이즈 모형_20200109_01, 감성 분석_20200109_02,...</td>\n",
       "    </tr>\n",
       "    <tr>\n",
       "      <th>24</th>\n",
       "      <td>모형 결합, 배깅, 부스팅, 에이다부스트_그래디언트 부스트</td>\n",
       "      <td>모형 결합_20200110_01, 배깅_20200110_02, 부스팅_2020011...</td>\n",
       "    </tr>\n",
       "    <tr>\n",
       "      <th>25</th>\n",
       "      <td>퍼셉트론, 서포트벡터머신</td>\n",
       "      <td>퍼셉트론_20200116_01, 서포트벡터머신_20200116_02 ~ 04</td>\n",
       "    </tr>\n",
       "    <tr>\n",
       "      <th>26</th>\n",
       "      <td>커널 서포트 벡터 머신, 모형 최적화, \"비대칭 데이터 문제_특징 선택_대규모 데이...</td>\n",
       "      <td>커널 서포트 벡터 머신_20200117_01, 모형 최적화_20200117_02, ...</td>\n",
       "    </tr>\n",
       "    <tr>\n",
       "      <th>27</th>\n",
       "      <td>군집화, K-평균 군집화, 디비스캔 군집화, 계층적 군집화_Affinity Prop...</td>\n",
       "      <td>군집화_20200130_01, K-평균 군집화_20200130_02, 디비스캔 군집...</td>\n",
       "    </tr>\n",
       "    <tr>\n",
       "      <th>28</th>\n",
       "      <td>그래프 이론 기초_그래프 확률모형, 베이지안 네트워크, 마코프 네트워크, 히든마코프 모형</td>\n",
       "      <td>그래프 이론 기초_그래프 확률모형_20200131_01, 베이지안 네트워크_2020...</td>\n",
       "    </tr>\n",
       "    <tr>\n",
       "      <th>29</th>\n",
       "      <td>가우시안 혼합모형과 EM 방법, 몬테카를로 베이지안 분석, 신경망 기초 이론_케라스...</td>\n",
       "      <td>가우시안 혼합모형과 EM 방법_20200206_01, 몬테카를로 베이지안 분석_20...</td>\n",
       "    </tr>\n",
       "  </tbody>\n",
       "</table>\n",
       "</div>"
      ],
      "text/plain": [
       "                                       수학/통계/머신러닝 강의주제  \\\n",
       "Day                                                      \n",
       "17   다중공선성과변수선택_정규화선형회귀, NLTK 자연어 처리 패키지_KoNLPy 한국어...   \n",
       "18   Scikit-Learn 문서 전처리_gensim, 확률론적 언어 모형, Soynlp...   \n",
       "19   이미지 필터링_컨투어_변환, 사운드 프로세싱 기초, 푸리에 변환과 스펙트럼, 지리 ...   \n",
       "20                                       분류모형, 분류 성능평가   \n",
       "21                                              로지스틱회귀   \n",
       "22                        선형판별분석법과 이차판별분석법_나이브베이즈 분류모형   \n",
       "23                       다항분포 나이브제이즈 모형, 감성 분석, 의사결정나무   \n",
       "24                    모형 결합, 배깅, 부스팅, 에이다부스트_그래디언트 부스트   \n",
       "25                                       퍼셉트론, 서포트벡터머신   \n",
       "26   커널 서포트 벡터 머신, 모형 최적화, \"비대칭 데이터 문제_특징 선택_대규모 데이...   \n",
       "27   군집화, K-평균 군집화, 디비스캔 군집화, 계층적 군집화_Affinity Prop...   \n",
       "28   그래프 이론 기초_그래프 확률모형, 베이지안 네트워크, 마코프 네트워크, 히든마코프 모형   \n",
       "29   가우시안 혼합모형과 EM 방법, 몬테카를로 베이지안 분석, 신경망 기초 이론_케라스...   \n",
       "\n",
       "                                               강의명_온라인  \n",
       "Day                                                     \n",
       "17   다중공선성과변수선택_정규화선형회귀_20191126_01, NLTK 자연어 처리 패키...  \n",
       "18   Scikit-Learn 문서 전처리_gensim_20191213_01, 확률론적 언...  \n",
       "19   이미지 필터링_컨투어_변환_20191219_03 ~ 04, 사운드 프로세싱 기초, ...  \n",
       "20     분류모형_20191227_01 ~ 02, 분류 성능평가_20191227_03 ~ 04  \n",
       "21                             로지스틱회귀_20200102_01 ~ 04  \n",
       "22       선형판별분석법과 이차판별분석법_나이브베이즈 분류모형_20200103_01 ~ 04  \n",
       "23   다항분포 나이브제이즈 모형_20200109_01, 감성 분석_20200109_02,...  \n",
       "24   모형 결합_20200110_01, 배깅_20200110_02, 부스팅_2020011...  \n",
       "25          퍼셉트론_20200116_01, 서포트벡터머신_20200116_02 ~ 04  \n",
       "26   커널 서포트 벡터 머신_20200117_01, 모형 최적화_20200117_02, ...  \n",
       "27   군집화_20200130_01, K-평균 군집화_20200130_02, 디비스캔 군집...  \n",
       "28   그래프 이론 기초_그래프 확률모형_20200131_01, 베이지안 네트워크_2020...  \n",
       "29   가우시안 혼합모형과 EM 방법_20200206_01, 몬테카를로 베이지안 분석_20...  "
      ]
     },
     "execution_count": 14,
     "metadata": {},
     "output_type": "execute_result"
    }
   ],
   "source": [
    "math_schedule = pd.read_csv('resources/Math_schedule.csv',index_col=0)\n",
    "math_schedule[16:30]"
   ]
  },
  {
   "cell_type": "markdown",
   "metadata": {},
   "source": [
    "## 분류모형\n",
    "- Classification \n",
    "    - 확률적 생성모형(Bayesian)\n",
    "    - 확률적 판별모형\n",
    "    - 판별함수 모형"
   ]
  },
  {
   "cell_type": "markdown",
   "metadata": {},
   "source": [
    "### 확률론적 생성모형(Bayesian)\n"
   ]
  },
  {
   "cell_type": "markdown",
   "metadata": {},
   "source": [
    "$$ 𝑃(𝑦=𝑘∣𝑥)=𝑃(𝑥∣𝑦=𝑘)𝑃(𝑦=𝑘) / 𝑃(𝑥) $$"
   ]
  },
  {
   "cell_type": "markdown",
   "metadata": {},
   "source": [
    "#### - QDA (Quadratic Discriminant Analysis)"
   ]
  },
  {
   "cell_type": "code",
   "execution_count": 5,
   "metadata": {},
   "outputs": [
    {
     "data": {
      "image/png": "[encoded data removed]",
      "text/plain": [
       "<Figure size 432x288 with 1 Axes>"
      ]
     },
     "metadata": {
      "image/png": {
       "height": 281,
       "width": 395
      },
      "needs_background": "light"
     },
     "output_type": "display_data"
    }
   ],
   "source": [
    "X = np.array([[-1, -1], [-2, -1], [-3, -2], [1, 1], [2, 1], [3, 2]])\n",
    "y = np.array([0, 0, 0, 1, 1, 1])\n",
    "plt.scatter(X[:3, 0], X[:3, 1], c=\"k\", s=100, edgecolor='k', linewidth=2, label=\"y=0\")\n",
    "plt.scatter(X[3:, 0], X[3:, 1], c=\"w\", s=100, edgecolor='k', linewidth=2, label=\"y=1\")\n",
    "plt.title(\"Train data\")\n",
    "plt.xlabel(\"x1\")\n",
    "plt.ylabel(\"x2\")\n",
    "plt.legend()\n",
    "plt.show()\n",
    "%matplotlib inline"
   ]
  },
  {
   "cell_type": "code",
   "execution_count": 6,
   "metadata": {},
   "outputs": [],
   "source": [
    "from sklearn.discriminant_analysis import QuadraticDiscriminantAnalysis\n",
    "model = QuadraticDiscriminantAnalysis().fit(X, y)"
   ]
  },
  {
   "cell_type": "code",
   "execution_count": 7,
   "metadata": {},
   "outputs": [],
   "source": [
    "x = [[0, 0]]\n",
    "p = model.predict_proba(x)[0]"
   ]
  },
  {
   "cell_type": "raw",
   "metadata": {},
   "source": [
    "# take 1\n",
    "from sklearn.discriminant_analysis import QuadraticDiscriminantAnalysis\n",
    "model  = QuadraticDiscriminantAnalysis().fit(X,y)"
   ]
  },
  {
   "cell_type": "raw",
   "metadata": {},
   "source": [
    "# take 2\n",
    "from sklearn.discriminant_analysis import QuadraticDiscriminantAnalysis\n",
    "model = QuadraticDiscriminantAnalysis().fit(X,y)"
   ]
  },
  {
   "cell_type": "raw",
   "metadata": {},
   "source": [
    "# take 3\n",
    "from sklearn.discriminant_analysis import QuadraticDiscriminantAnalysis\n",
    "model = QuadraticDiscriminantAnalysis().fit(X,y)"
   ]
  },
  {
   "cell_type": "code",
   "execution_count": 10,
   "metadata": {},
   "outputs": [
    {
     "data": {
      "image/png": "[encoded data removed]",
      "text/plain": [
       "<Figure size 432x288 with 2 Axes>"
      ]
     },
     "metadata": {
      "image/png": {
       "height": 280,
       "width": 426
      },
      "needs_background": "light"
     },
     "output_type": "display_data"
    }
   ],
   "source": [
    "plt.subplot(211)\n",
    "plt.scatter(X[:3, 0], X[:3, 1], c=\"k\", s=100, edgecolor='k', linewidth=2, label=\"y=0\")\n",
    "plt.scatter(X[3:, 0], X[3:, 1], c=\"w\", s=100, edgecolor='k', linewidth=2, label=\"y=1\")\n",
    "plt.scatter(x[0][0], x[0][1], c='r', s=100, edgecolor='k', marker='x', linewidth=5)\n",
    "plt.title(\"Test data\")\n",
    "plt.xlabel(\"x1\")\n",
    "plt.ylabel(\"x2\")\n",
    "plt.subplot(212)\n",
    "plt.bar(model.classes_, p)\n",
    "plt.title(\"conditional probavility distribution\")\n",
    "plt.gca().xaxis.grid(False)\n",
    "plt.xticks(model.classes_, [\"$P(y=0|x_{test})$\", \"$P(y=1|x_{test})$\"])\n",
    "plt.ylabel(\"probability value\")\n",
    "plt.tight_layout()\n",
    "plt.show()\n"
   ]
  },
  {
   "cell_type": "markdown",
   "metadata": {},
   "source": [
    "#### - LDA (Linear Discrimina Analysis)"
   ]
  },
  {
   "cell_type": "markdown",
   "metadata": {},
   "source": [
    "#### - Naive Bayesian"
   ]
  },
  {
   "cell_type": "markdown",
   "metadata": {},
   "source": [
    "### 확률론적 판별모형\n"
   ]
  },
  {
   "cell_type": "markdown",
   "metadata": {},
   "source": [
    "$ p(y=k |x) = f(x) $ , f(x)는 0보다 같거나 크고 1보다 같거나 작다"
   ]
  },
  {
   "cell_type": "markdown",
   "metadata": {},
   "source": [
    "#### - Logistic Regression"
   ]
  },
  {
   "cell_type": "code",
   "execution_count": 12,
   "metadata": {},
   "outputs": [],
   "source": [
    "from sklearn.datasets import make_classification\n",
    "from sklearn.linear_model import LogisticRegression\n",
    "\n",
    "X0, y = make_classification(n_features=1, n_redundant=0,\n",
    "                           n_informative=1, n_clusters_per_class=1, random_state=1)\n",
    "\n",
    "model = LogisticRegression().fit(X0, y)"
   ]
  },
  {
   "cell_type": "markdown",
   "metadata": {},
   "source": [
    "### 판별함수 dicision function 모형 : 피쳐를 2가지만 넣을수있다. (예: 아이리스 꽃잎의 길이, 꽃잎의 폭 2가지)\n",
    "- 부호만 본다 그래서 2종류이 클래스만 분류가능"
   ]
  },
  {
   "cell_type": "markdown",
   "metadata": {},
   "source": [
    "- 경계면 정의(boundary plane)"
   ]
  },
  {
   "cell_type": "markdown",
   "metadata": {},
   "source": [
    "#### - Perceptron"
   ]
  },
  {
   "cell_type": "markdown",
   "metadata": {},
   "source": [
    "#### - Kernel SVM"
   ]
  },
  {
   "cell_type": "markdown",
   "metadata": {},
   "source": [
    "### 다중 클래스 분류 / 판별함수에서 클래스 3개의 문제풀이\n"
   ]
  },
  {
   "cell_type": "markdown",
   "metadata": {},
   "source": [
    "#### - OvO(One vs One) K의 제곱으로 실행해야한다 너무 많이 해야됨"
   ]
  },
  {
   "cell_type": "markdown",
   "metadata": {},
   "source": [
    "#### - OvR(One vs the Rest) \n"
   ]
  },
  {
   "cell_type": "markdown",
   "metadata": {},
   "source": [
    "## 분류모형 성능평가\n",
    "- confusion_matrix(y_true, y_pred)\n",
    "- accuracy_score(y_true, y_pred)\n",
    "- precision_score(y_true, y_pred)\n",
    "- recall_score(y_true, y_pred)\n",
    "- fbeta_score(y_true, y_pred, beta)\n",
    "- f1_score(y_true, y_pred)\n",
    "- classfication_report(y_true, y_pred)\n",
    "- roc_curve\n",
    "- auc"
   ]
  },
  {
   "cell_type": "code",
   "execution_count": 16,
   "metadata": {},
   "outputs": [],
   "source": [
    "from sklearn.metrics import confusion_matrix\n",
    "\n",
    "yt = [1, 1, 0, 0, 1]\n",
    "yp = [1, 1, 1, 1, 1]"
   ]
  },
  {
   "cell_type": "code",
   "execution_count": 17,
   "metadata": {},
   "outputs": [
    {
     "data": {
      "text/plain": [
       "array([[0, 2],\n",
       "       [0, 3]])"
      ]
     },
     "execution_count": 17,
     "metadata": {},
     "output_type": "execute_result"
    }
   ],
   "source": [
    "confusion_matrix(yt, yp)"
   ]
  },
  {
   "cell_type": "markdown",
   "metadata": {},
   "source": [
    "## 1. Accuracy = TP + TN / TP + TN + FP + FN \n",
    "## 모두 분에 대각선"
   ]
  },
  {
   "cell_type": "markdown",
   "metadata": {},
   "source": [
    "## 2. Precision = TP / TP + FP\n",
    "## 왼쪽줄중에 위에"
   ]
  },
  {
   "cell_type": "markdown",
   "metadata": {},
   "source": [
    "## 3. Recall rate = TP / TP + FN\n",
    "## 윗줄 중에 왼쪽\n"
   ]
  },
  {
   "cell_type": "markdown",
   "metadata": {},
   "source": [
    "## 4. Fallout = FP / FP + TN\n",
    "## 아랫줄 중에 왼쪽\n"
   ]
  },
  {
   "cell_type": "markdown",
   "metadata": {},
   "source": [
    "## Logistic Regression"
   ]
  },
  {
   "cell_type": "code",
   "execution_count": null,
   "metadata": {},
   "outputs": [],
   "source": []
  }
 ],
 "metadata": {
  "kernelspec": {
   "display_name": "Python 3",
   "language": "python",
   "name": "python3"
  },
  "language_info": {
   "codemirror_mode": {
    "name": "ipython",
    "version": 3
   },
   "file_extension": ".py",
   "mimetype": "text/x-python",
   "name": "python",
   "nbconvert_exporter": "python",
   "pygments_lexer": "ipython3",
   "version": "3.7.4"
  }
 },
 "nbformat": 4,
 "nbformat_minor": 4
}
