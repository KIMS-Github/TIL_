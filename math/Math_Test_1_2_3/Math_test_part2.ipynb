{
 "cells": [
  {
   "cell_type": "markdown",
   "metadata": {},
   "source": [
    "# - 2차 시험(확률 ~ 회귀분석까지) : 5/29(금) 17:00"
   ]
  },
  {
   "cell_type": "markdown",
   "metadata": {},
   "source": [
    "# <font color = \"skyblue\"> Day 6 ~ Day 17"
   ]
  },
  {
   "cell_type": "code",
   "execution_count": null,
   "metadata": {},
   "outputs": [],
   "source": []
  },
  {
   "cell_type": "code",
   "execution_count": 4,
   "metadata": {},
   "outputs": [
    {
     "data": {
      "text/html": [
       "<div>\n",
       "<style scoped>\n",
       "    .dataframe tbody tr th:only-of-type {\n",
       "        vertical-align: middle;\n",
       "    }\n",
       "\n",
       "    .dataframe tbody tr th {\n",
       "        vertical-align: top;\n",
       "    }\n",
       "\n",
       "    .dataframe thead th {\n",
       "        text-align: right;\n",
       "    }\n",
       "</style>\n",
       "<table border=\"1\" class=\"dataframe\">\n",
       "  <thead>\n",
       "    <tr style=\"text-align: right;\">\n",
       "      <th></th>\n",
       "      <th>수학/통계/머신러닝 강의주제</th>\n",
       "      <th>강의명_온라인</th>\n",
       "    </tr>\n",
       "    <tr>\n",
       "      <th>Day</th>\n",
       "      <th></th>\n",
       "      <th></th>\n",
       "    </tr>\n",
       "  </thead>\n",
       "  <tbody>\n",
       "    <tr>\n",
       "      <th>6</th>\n",
       "      <td>최적화기초_선형계획법_집합, 확률의수학적정의_확률의성질_확률분포함수</td>\n",
       "      <td>최적화기초_선형계획법_집합_20191028_03 ~ 04, 확률의수학적정의_확률의성...</td>\n",
       "    </tr>\n",
       "    <tr>\n",
       "      <th>7</th>\n",
       "      <td>결합확률_조건부확률_베이즈정리</td>\n",
       "      <td>결합확률_조건부확률_베이즈정리_20191029_01 ~ 04</td>\n",
       "    </tr>\n",
       "    <tr>\n",
       "      <th>8</th>\n",
       "      <td>확률적 데이터와 확률변수_기대값과 확률변수의 변환_다변수 확률변수</td>\n",
       "      <td>확률적 데이터와 확률변수_기대값과 확률변수의 변환_다변수 확률변수_20191104_...</td>\n",
       "    </tr>\n",
       "    <tr>\n",
       "      <th>9</th>\n",
       "      <td>독립과상관_공분산과상관계수_베루누이분포와이항분포</td>\n",
       "      <td>독립과상관_공분산과상관계수_베루누이분포와이항분포_20191105_01 ~ 04</td>\n",
       "    </tr>\n",
       "    <tr>\n",
       "      <th>10</th>\n",
       "      <td>다항분포_정규분포_다변수정규분포</td>\n",
       "      <td>다항분포_정규분포_다변수정규분포_20191109_01 ~ 04</td>\n",
       "    </tr>\n",
       "    <tr>\n",
       "      <th>11</th>\n",
       "      <td>베타분포_확률분포의 추정_최대가능도 추정법</td>\n",
       "      <td>베타분포_확률분포의 추정_최대가능도 추정법_20191111_01 ~ 04</td>\n",
       "    </tr>\n",
       "    <tr>\n",
       "      <th>12</th>\n",
       "      <td>검정과 유의확률_사이파이를 사용한 검정_엔트로피</td>\n",
       "      <td>검정과 유의확률_사이파이를 사용한 검정_엔트로피_20191112_01 ~ 04</td>\n",
       "    </tr>\n",
       "    <tr>\n",
       "      <th>13</th>\n",
       "      <td>엔트로피_상호정보량, 데이터 분석_머신러닝용 파이썬 패키지</td>\n",
       "      <td>엔트로피_상호정보량_20191116_01 ~ 03, 데이터 분석_머신러닝용 파이썬 ...</td>\n",
       "    </tr>\n",
       "    <tr>\n",
       "      <th>14</th>\n",
       "      <td>데이터 전처리 기초_범주형 데이터 처리_선형회귀분석의 기초</td>\n",
       "      <td>데이터 전처리 기초_범주형 데이터 처리_선형회귀분석의 기초_20191118_01 ~ 04</td>\n",
       "    </tr>\n",
       "    <tr>\n",
       "      <th>15</th>\n",
       "      <td>스케일링_부분회귀_확률론적 선형 회귀모형</td>\n",
       "      <td>스케일링_부분회귀_확률론적 선형 회귀모형_20191119_01 ~ 04</td>\n",
       "    </tr>\n",
       "    <tr>\n",
       "      <th>16</th>\n",
       "      <td>단일 계수 t-검정_레버리지와아웃라이어_분산분석</td>\n",
       "      <td>단일 계수 t-검정_레버리지와아웃라이어_분산분석_20191125_01 ~ 04</td>\n",
       "    </tr>\n",
       "    <tr>\n",
       "      <th>17</th>\n",
       "      <td>다중공선성과변수선택_정규화선형회귀, NLTK 자연어 처리 패키지_KoNLPy 한국어...</td>\n",
       "      <td>다중공선성과변수선택_정규화선형회귀_20191126_01, NLTK 자연어 처리 패키...</td>\n",
       "    </tr>\n",
       "    <tr>\n",
       "      <th>18</th>\n",
       "      <td>Scikit-Learn 문서 전처리_gensim, 확률론적 언어 모형, Soynlp...</td>\n",
       "      <td>Scikit-Learn 문서 전처리_gensim_20191213_01, 확률론적 언...</td>\n",
       "    </tr>\n",
       "  </tbody>\n",
       "</table>\n",
       "</div>"
      ],
      "text/plain": [
       "                                       수학/통계/머신러닝 강의주제  \\\n",
       "Day                                                      \n",
       "6                최적화기초_선형계획법_집합, 확률의수학적정의_확률의성질_확률분포함수   \n",
       "7                                     결합확률_조건부확률_베이즈정리   \n",
       "8                 확률적 데이터와 확률변수_기대값과 확률변수의 변환_다변수 확률변수   \n",
       "9                           독립과상관_공분산과상관계수_베루누이분포와이항분포   \n",
       "10                                   다항분포_정규분포_다변수정규분포   \n",
       "11                             베타분포_확률분포의 추정_최대가능도 추정법   \n",
       "12                          검정과 유의확률_사이파이를 사용한 검정_엔트로피   \n",
       "13                    엔트로피_상호정보량, 데이터 분석_머신러닝용 파이썬 패키지   \n",
       "14                    데이터 전처리 기초_범주형 데이터 처리_선형회귀분석의 기초   \n",
       "15                              스케일링_부분회귀_확률론적 선형 회귀모형   \n",
       "16                          단일 계수 t-검정_레버리지와아웃라이어_분산분석   \n",
       "17   다중공선성과변수선택_정규화선형회귀, NLTK 자연어 처리 패키지_KoNLPy 한국어...   \n",
       "18   Scikit-Learn 문서 전처리_gensim, 확률론적 언어 모형, Soynlp...   \n",
       "\n",
       "                                               강의명_온라인  \n",
       "Day                                                     \n",
       "6    최적화기초_선형계획법_집합_20191028_03 ~ 04, 확률의수학적정의_확률의성...  \n",
       "7                    결합확률_조건부확률_베이즈정리_20191029_01 ~ 04  \n",
       "8    확률적 데이터와 확률변수_기대값과 확률변수의 변환_다변수 확률변수_20191104_...  \n",
       "9          독립과상관_공분산과상관계수_베루누이분포와이항분포_20191105_01 ~ 04  \n",
       "10                  다항분포_정규분포_다변수정규분포_20191109_01 ~ 04  \n",
       "11            베타분포_확률분포의 추정_최대가능도 추정법_20191111_01 ~ 04  \n",
       "12         검정과 유의확률_사이파이를 사용한 검정_엔트로피_20191112_01 ~ 04  \n",
       "13   엔트로피_상호정보량_20191116_01 ~ 03, 데이터 분석_머신러닝용 파이썬 ...  \n",
       "14   데이터 전처리 기초_범주형 데이터 처리_선형회귀분석의 기초_20191118_01 ~ 04  \n",
       "15             스케일링_부분회귀_확률론적 선형 회귀모형_20191119_01 ~ 04  \n",
       "16         단일 계수 t-검정_레버리지와아웃라이어_분산분석_20191125_01 ~ 04  \n",
       "17   다중공선성과변수선택_정규화선형회귀_20191126_01, NLTK 자연어 처리 패키...  \n",
       "18   Scikit-Learn 문서 전처리_gensim_20191213_01, 확률론적 언...  "
      ]
     },
     "execution_count": 4,
     "metadata": {},
     "output_type": "execute_result"
    }
   ],
   "source": [
    "math_schedule = pd.read_csv('resources/Math_schedule.csv',index_col=0)\n",
    "math_schedule[5:18]"
   ]
  },
  {
   "cell_type": "markdown",
   "metadata": {},
   "source": [
    "## 1. Math symbols"
   ]
  },
  {
   "cell_type": "markdown",
   "metadata": {},
   "source": [
    "## 6. Pgmpy, Probability"
   ]
  },
  {
   "cell_type": "markdown",
   "metadata": {},
   "source": [
    "## 7. Random variable, Covariance, Correlation coefficient"
   ]
  },
  {
   "cell_type": "markdown",
   "metadata": {},
   "source": [
    "## 8. Scipy, Distribution"
   ]
  },
  {
   "cell_type": "markdown",
   "metadata": {},
   "source": [
    "## 9. Estimation, Testing"
   ]
  },
  {
   "cell_type": "markdown",
   "metadata": {},
   "source": [
    "## 10. Entropy"
   ]
  },
  {
   "cell_type": "markdown",
   "metadata": {},
   "source": [
    "## 11. Pre-processing, Scaling"
   ]
  },
  {
   "cell_type": "markdown",
   "metadata": {},
   "source": [
    "## 12. OLS, MLE Regression"
   ]
  },
  {
   "cell_type": "code",
   "execution_count": null,
   "metadata": {},
   "outputs": [],
   "source": []
  }
 ],
 "metadata": {
  "kernelspec": {
   "display_name": "Python 3",
   "language": "python",
   "name": "python3"
  },
  "language_info": {
   "codemirror_mode": {
    "name": "ipython",
    "version": 3
   },
   "file_extension": ".py",
   "mimetype": "text/x-python",
   "name": "python",
   "nbconvert_exporter": "python",
   "pygments_lexer": "ipython3",
   "version": "3.7.4"
  }
 },
 "nbformat": 4,
 "nbformat_minor": 4
}
