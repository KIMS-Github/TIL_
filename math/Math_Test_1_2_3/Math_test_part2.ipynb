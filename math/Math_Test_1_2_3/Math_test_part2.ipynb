{
 "cells": [
  {
   "cell_type": "markdown",
   "metadata": {},
   "source": [
    "# - 2차 시험(확률 ~ 회귀분석까지) : "
   ]
  },
  {
   "cell_type": "markdown",
   "metadata": {},
   "source": [
    "# <font color = \"skyblue\"> Day 6 ~ Day 17"
   ]
  },
  {
   "cell_type": "raw",
   "metadata": {},
   "source": [
    "Total clip: 46, Total Duration: 14.3 Hour "
   ]
  },
  {
   "cell_type": "code",
   "execution_count": 4,
   "metadata": {},
   "outputs": [
    {
     "data": {
      "text/html": [
       "<div>\n",
       "<style scoped>\n",
       "    .dataframe tbody tr th:only-of-type {\n",
       "        vertical-align: middle;\n",
       "    }\n",
       "\n",
       "    .dataframe tbody tr th {\n",
       "        vertical-align: top;\n",
       "    }\n",
       "\n",
       "    .dataframe thead th {\n",
       "        text-align: right;\n",
       "    }\n",
       "</style>\n",
       "<table border=\"1\" class=\"dataframe\">\n",
       "  <thead>\n",
       "    <tr style=\"text-align: right;\">\n",
       "      <th></th>\n",
       "      <th>수학/통계/머신러닝 강의주제</th>\n",
       "      <th>강의명_온라인</th>\n",
       "    </tr>\n",
       "    <tr>\n",
       "      <th>Day</th>\n",
       "      <th></th>\n",
       "      <th></th>\n",
       "    </tr>\n",
       "  </thead>\n",
       "  <tbody>\n",
       "    <tr>\n",
       "      <th>6</th>\n",
       "      <td>최적화기초_선형계획법_집합, 확률의수학적정의_확률의성질_확률분포함수</td>\n",
       "      <td>최적화기초_선형계획법_집합_20191028_03 ~ 04, 확률의수학적정의_확률의성...</td>\n",
       "    </tr>\n",
       "    <tr>\n",
       "      <th>7</th>\n",
       "      <td>결합확률_조건부확률_베이즈정리</td>\n",
       "      <td>결합확률_조건부확률_베이즈정리_20191029_01 ~ 04</td>\n",
       "    </tr>\n",
       "    <tr>\n",
       "      <th>8</th>\n",
       "      <td>확률적 데이터와 확률변수_기대값과 확률변수의 변환_다변수 확률변수</td>\n",
       "      <td>확률적 데이터와 확률변수_기대값과 확률변수의 변환_다변수 확률변수_20191104_...</td>\n",
       "    </tr>\n",
       "    <tr>\n",
       "      <th>9</th>\n",
       "      <td>독립과상관_공분산과상관계수_베루누이분포와이항분포</td>\n",
       "      <td>독립과상관_공분산과상관계수_베루누이분포와이항분포_20191105_01 ~ 04</td>\n",
       "    </tr>\n",
       "    <tr>\n",
       "      <th>10</th>\n",
       "      <td>다항분포_정규분포_다변수정규분포</td>\n",
       "      <td>다항분포_정규분포_다변수정규분포_20191109_01 ~ 04</td>\n",
       "    </tr>\n",
       "    <tr>\n",
       "      <th>11</th>\n",
       "      <td>베타분포_확률분포의 추정_최대가능도 추정법</td>\n",
       "      <td>베타분포_확률분포의 추정_최대가능도 추정법_20191111_01 ~ 04</td>\n",
       "    </tr>\n",
       "    <tr>\n",
       "      <th>12</th>\n",
       "      <td>검정과 유의확률_사이파이를 사용한 검정_엔트로피</td>\n",
       "      <td>검정과 유의확률_사이파이를 사용한 검정_엔트로피_20191112_01 ~ 04</td>\n",
       "    </tr>\n",
       "    <tr>\n",
       "      <th>13</th>\n",
       "      <td>엔트로피_상호정보량, 데이터 분석_머신러닝용 파이썬 패키지</td>\n",
       "      <td>엔트로피_상호정보량_20191116_01 ~ 03, 데이터 분석_머신러닝용 파이썬 ...</td>\n",
       "    </tr>\n",
       "    <tr>\n",
       "      <th>14</th>\n",
       "      <td>데이터 전처리 기초_범주형 데이터 처리_선형회귀분석의 기초</td>\n",
       "      <td>데이터 전처리 기초_범주형 데이터 처리_선형회귀분석의 기초_20191118_01 ~ 04</td>\n",
       "    </tr>\n",
       "    <tr>\n",
       "      <th>15</th>\n",
       "      <td>스케일링_부분회귀_확률론적 선형 회귀모형</td>\n",
       "      <td>스케일링_부분회귀_확률론적 선형 회귀모형_20191119_01 ~ 04</td>\n",
       "    </tr>\n",
       "    <tr>\n",
       "      <th>16</th>\n",
       "      <td>단일 계수 t-검정_레버리지와아웃라이어_분산분석</td>\n",
       "      <td>단일 계수 t-검정_레버리지와아웃라이어_분산분석_20191125_01 ~ 04</td>\n",
       "    </tr>\n",
       "    <tr>\n",
       "      <th>17</th>\n",
       "      <td>다중공선성과변수선택_정규화선형회귀, NLTK 자연어 처리 패키지_KoNLPy 한국어...</td>\n",
       "      <td>다중공선성과변수선택_정규화선형회귀_20191126_01, NLTK 자연어 처리 패키...</td>\n",
       "    </tr>\n",
       "    <tr>\n",
       "      <th>18</th>\n",
       "      <td>Scikit-Learn 문서 전처리_gensim, 확률론적 언어 모형, Soynlp...</td>\n",
       "      <td>Scikit-Learn 문서 전처리_gensim_20191213_01, 확률론적 언...</td>\n",
       "    </tr>\n",
       "  </tbody>\n",
       "</table>\n",
       "</div>"
      ],
      "text/plain": [
       "                                       수학/통계/머신러닝 강의주제  \\\n",
       "Day                                                      \n",
       "6                최적화기초_선형계획법_집합, 확률의수학적정의_확률의성질_확률분포함수   \n",
       "7                                     결합확률_조건부확률_베이즈정리   \n",
       "8                 확률적 데이터와 확률변수_기대값과 확률변수의 변환_다변수 확률변수   \n",
       "9                           독립과상관_공분산과상관계수_베루누이분포와이항분포   \n",
       "10                                   다항분포_정규분포_다변수정규분포   \n",
       "11                             베타분포_확률분포의 추정_최대가능도 추정법   \n",
       "12                          검정과 유의확률_사이파이를 사용한 검정_엔트로피   \n",
       "13                    엔트로피_상호정보량, 데이터 분석_머신러닝용 파이썬 패키지   \n",
       "14                    데이터 전처리 기초_범주형 데이터 처리_선형회귀분석의 기초   \n",
       "15                              스케일링_부분회귀_확률론적 선형 회귀모형   \n",
       "16                          단일 계수 t-검정_레버리지와아웃라이어_분산분석   \n",
       "17   다중공선성과변수선택_정규화선형회귀, NLTK 자연어 처리 패키지_KoNLPy 한국어...   \n",
       "18   Scikit-Learn 문서 전처리_gensim, 확률론적 언어 모형, Soynlp...   \n",
       "\n",
       "                                               강의명_온라인  \n",
       "Day                                                     \n",
       "6    최적화기초_선형계획법_집합_20191028_03 ~ 04, 확률의수학적정의_확률의성...  \n",
       "7                    결합확률_조건부확률_베이즈정리_20191029_01 ~ 04  \n",
       "8    확률적 데이터와 확률변수_기대값과 확률변수의 변환_다변수 확률변수_20191104_...  \n",
       "9          독립과상관_공분산과상관계수_베루누이분포와이항분포_20191105_01 ~ 04  \n",
       "10                  다항분포_정규분포_다변수정규분포_20191109_01 ~ 04  \n",
       "11            베타분포_확률분포의 추정_최대가능도 추정법_20191111_01 ~ 04  \n",
       "12         검정과 유의확률_사이파이를 사용한 검정_엔트로피_20191112_01 ~ 04  \n",
       "13   엔트로피_상호정보량_20191116_01 ~ 03, 데이터 분석_머신러닝용 파이썬 ...  \n",
       "14   데이터 전처리 기초_범주형 데이터 처리_선형회귀분석의 기초_20191118_01 ~ 04  \n",
       "15             스케일링_부분회귀_확률론적 선형 회귀모형_20191119_01 ~ 04  \n",
       "16         단일 계수 t-검정_레버리지와아웃라이어_분산분석_20191125_01 ~ 04  \n",
       "17   다중공선성과변수선택_정규화선형회귀_20191126_01, NLTK 자연어 처리 패키...  \n",
       "18   Scikit-Learn 문서 전처리_gensim_20191213_01, 확률론적 언...  "
      ]
     },
     "execution_count": 4,
     "metadata": {},
     "output_type": "execute_result"
    }
   ],
   "source": [
    "math_schedule = pd.read_csv('resources/Math_schedule.csv',index_col=0)\n",
    "math_schedule[5:18]"
   ]
  },
  {
   "cell_type": "markdown",
   "metadata": {},
   "source": [
    "## 6. Pgmpy, Probability"
   ]
  },
  {
   "cell_type": "code",
   "execution_count": null,
   "metadata": {},
   "outputs": [],
   "source": [
    "확률정의 해결하고자 하는 문제정의와 결부된다."
   ]
  },
  {
   "cell_type": "markdown",
   "metadata": {},
   "source": [
    "## 표본sample (현상이나 경우), 표본공간sample space (발생 가능과 불가능의 정의), 사건 event 의 정의\n",
    "- 빈도주의(frequentist) 반복적으로 선택된 표본이 사건(부분 집합)  𝐴 의 원소가 될 경향(propensity)\n",
    "- ,베이지안 관점(Bayesian) 선택된 표본이 특정한 사건(부분 집합)에 속한다는 가설(hypothesis), 명제(proposition) 혹은 주장(assertion)의 신뢰도(degree of belief)\n",
    "- 사건: 일어날수 있는 목록 : 이것들 중에 발생한다는 주장\n",
    "## 확률: 사건(부분집합)의 입력 ---> 숫자(확률값) 출력하는 함수\n",
    "    모든 각각의 사건(부분집합)에 어떤 숫자를 할당(assign, allocate)하는 함수가 확률\n",
    "## 콜로고로프 ' axioms\n",
    "    3가지를 기술 하시오\n",
    "## <font color = \"yellow\"> 확륙은 표본이 아닌 사건을 입력으로 가지는 함수\n",
    "## 포함배제원리\n",
    "## * 전체확률의 법칙 P(A) = ∑_i P(A, C_i)"
   ]
  },
  {
   "cell_type": "markdown",
   "metadata": {},
   "source": [
    "<img src=\"total_prob.png\" width=\"800\" height=\"300\" align=\"center\"/>"
   ]
  },
  {
   "cell_type": "markdown",
   "metadata": {},
   "source": [
    "### 유한 개의 사건이 존재하는 경우 각 단순사건에 대한 확률만 정의하는 함수를 확률질량함수(probability mass function)라고 한다. "
   ]
  },
  {
   "cell_type": "markdown",
   "metadata": {},
   "source": [
    "𝑝(𝑎)=𝑃({𝑎})\n"
   ]
  },
  {
   "cell_type": "code",
   "execution_count": 1,
   "metadata": {},
   "outputs": [],
   "source": [
    "### 원반에 화살이 꽂는 문제 0~180에 2배의 확률을 주었을때를 코딩\n",
    "def scam_discus_arrow (a, b):\n",
    "    # 구간별 화살이 꽂힐 확률 할당\n",
    "    \n",
    "    High_range = 0.666666 # 조작으로 확률이 높은구간 \n",
    "    Low_range = 0.333333 # 확률이 낮은구간\n",
    "    pi_2 = 180\n",
    "    \n",
    "    # 구간 설정\n",
    "    High_r_angle = range(0, 181)\n",
    "    Low_r_angle = range(180, 361)\n",
    "#     L_r_angle > 180\n",
    "#     L_r_angle <= np.pi\n",
    "    \n",
    "    \n",
    "    if a and b in High_r_angle:\n",
    "        \n",
    "        return (b - a)/pi_2 * High_range\n",
    "\n",
    "    \n",
    "     \n",
    "    if a in High_r_angle and b in Low_r_angle:\n",
    "        return (b -180)/pi_2 * Low_range + (180 - a)/pi_2 * High_range\n",
    "    \n",
    "    \n",
    "    if a and b in Low_r_angle:\n",
    "        return (b - a)/pi_2 * Low_range\n",
    "    \n",
    "    "
   ]
  },
  {
   "cell_type": "code",
   "execution_count": 2,
   "metadata": {},
   "outputs": [
    {
     "data": {
      "text/plain": [
       "0.7222215000000001"
      ]
     },
     "execution_count": 2,
     "metadata": {},
     "output_type": "execute_result"
    }
   ],
   "source": [
    "scam_discus_arrow(30, 270)"
   ]
  },
  {
   "cell_type": "markdown",
   "metadata": {},
   "source": [
    "### cdf F(b)-F(a) = P(a,b) > 2차원 변수 2개를 1개로 만들기위한 ∞를 이용한 1차원함수로 줄여보자!"
   ]
  },
  {
   "cell_type": "markdown",
   "metadata": {},
   "source": [
    "#### cdf 는 단순표본이 들어가는 소문자 p(a) 로 표기"
   ]
  },
  {
   "cell_type": "code",
   "execution_count": 3,
   "metadata": {},
   "outputs": [],
   "source": [
    "### scam_discus_arrow's cdf\n",
    "def  F(a):\n",
    "    if a < 0 :\n",
    "        return 0\n",
    "    if a > 360 :\n",
    "        return 1\n",
    "    \n",
    "    elif a < 180 :\n",
    "        return (2/3) * (a/ 180)\n",
    "    elif a >= 180:\n",
    "        return (2/3) + (1/3) * ((a-180)/ 180)\n",
    "    \n",
    "    "
   ]
  },
  {
   "cell_type": "code",
   "execution_count": 121,
   "metadata": {},
   "outputs": [
    {
     "data": {
      "text/plain": [
       "-inf"
      ]
     },
     "execution_count": 121,
     "metadata": {},
     "output_type": "execute_result"
    }
   ],
   "source": [
    "# float('inf') and float('-inf').\n",
    "float('-inf')"
   ]
  },
  {
   "cell_type": "code",
   "execution_count": 122,
   "metadata": {},
   "outputs": [
    {
     "data": {
      "text/plain": [
       "0.6666666666666666"
      ]
     },
     "execution_count": 122,
     "metadata": {},
     "output_type": "execute_result"
    }
   ],
   "source": [
    "F(180)"
   ]
  },
  {
   "cell_type": "code",
   "execution_count": 5,
   "metadata": {},
   "outputs": [
    {
     "data": {
      "image/png": "[encoded data removed]",
      "text/plain": [
       "<Figure size 432x288 with 1 Axes>"
      ]
     },
     "metadata": {
      "needs_background": "light"
     },
     "output_type": "display_data"
    }
   ],
   "source": [
    "xx = np.linspace(-100, 500, 100)\n",
    "Fs = np.array(list(map(F, xx))) # xx 를 F에 넣어서 다시 리스트로 만들어 처리\n",
    "\n",
    "plt.plot(xx, Fs)\n",
    "plt.ylim(-0.1, 1.1)\n",
    "plt.xticks([0, 90, 180, 270, 360])\n",
    "plt.title(\"cdf\")\n",
    "plt.show()\n",
    "%matplotlib inline"
   ]
  },
  {
   "cell_type": "markdown",
   "metadata": {},
   "source": [
    "## cdf 의 도함수 pdf ---> pdf는 구간의 면적이 확률임\n",
    "#### 그러므로 총면적은 1"
   ]
  },
  {
   "cell_type": "code",
   "execution_count": 126,
   "metadata": {},
   "outputs": [],
   "source": [
    "### 표본의 수가 무한할때는 구간으로 정리"
   ]
  },
  {
   "cell_type": "markdown",
   "metadata": {},
   "source": [
    "# 조건부확률 P(A|B) = P(A, B)/P(B)"
   ]
  },
  {
   "cell_type": "markdown",
   "metadata": {},
   "source": [
    "# 조건부확률의 chain rule"
   ]
  },
  {
   "cell_type": "code",
   "execution_count": 2,
   "metadata": {},
   "outputs": [],
   "source": [
    "from pgmpy.factors.discrete import JointProbabilityDistribution as JPD"
   ]
  },
  {
   "cell_type": "code",
   "execution_count": 5,
   "metadata": {},
   "outputs": [
    {
     "name": "stdout",
     "output_type": "stream",
     "text": [
      "+------+--------+\n",
      "| X    |   P(X) |\n",
      "+======+========+\n",
      "| X(0) | 0.6000 |\n",
      "+------+--------+\n",
      "| X(1) | 0.4000 |\n",
      "+------+--------+\n"
     ]
    }
   ],
   "source": [
    "px = JPD(['X'], [2], np.array([12, 8])/20)\n",
    "print(px)"
   ]
  },
  {
   "cell_type": "markdown",
   "metadata": {},
   "source": [
    "# Bayesian rule"
   ]
  },
  {
   "cell_type": "markdown",
   "metadata": {},
   "source": [
    "<img src=\"bayesian_rule.png\" width=\"700\" height=\"300\" align=\"center\"/>"
   ]
  },
  {
   "cell_type": "code",
   "execution_count": null,
   "metadata": {},
   "outputs": [],
   "source": []
  },
  {
   "cell_type": "code",
   "execution_count": null,
   "metadata": {},
   "outputs": [],
   "source": []
  },
  {
   "cell_type": "code",
   "execution_count": null,
   "metadata": {},
   "outputs": [],
   "source": []
  },
  {
   "cell_type": "code",
   "execution_count": null,
   "metadata": {},
   "outputs": [],
   "source": []
  },
  {
   "cell_type": "markdown",
   "metadata": {},
   "source": [
    "## 7. Random variable, Covariance, Correlation coefficient"
   ]
  },
  {
   "cell_type": "code",
   "execution_count": 1,
   "metadata": {},
   "outputs": [],
   "source": [
    "from sklearn.datasets import load_iris\n",
    "iris = load_iris()\n",
    "df = pd.DataFrame(iris.data, columns=iris.feature_names)\n",
    "sy = pd.Series(iris.target, dtype = \"category\")\n",
    "sy = sy.cat.rename_categories(iris.target_names)\n",
    "df['species'] = sy"
   ]
  },
  {
   "cell_type": "code",
   "execution_count": 2,
   "metadata": {},
   "outputs": [
    {
     "data": {
      "text/html": [
       "<div>\n",
       "<style scoped>\n",
       "    .dataframe tbody tr th:only-of-type {\n",
       "        vertical-align: middle;\n",
       "    }\n",
       "\n",
       "    .dataframe tbody tr th {\n",
       "        vertical-align: top;\n",
       "    }\n",
       "\n",
       "    .dataframe thead th {\n",
       "        text-align: right;\n",
       "    }\n",
       "</style>\n",
       "<table border=\"1\" class=\"dataframe\">\n",
       "  <thead>\n",
       "    <tr style=\"text-align: right;\">\n",
       "      <th></th>\n",
       "      <th>sepal length (cm)</th>\n",
       "      <th>sepal width (cm)</th>\n",
       "      <th>petal length (cm)</th>\n",
       "      <th>petal width (cm)</th>\n",
       "      <th>species</th>\n",
       "    </tr>\n",
       "  </thead>\n",
       "  <tbody>\n",
       "    <tr>\n",
       "      <th>0</th>\n",
       "      <td>5.1</td>\n",
       "      <td>3.5</td>\n",
       "      <td>1.4</td>\n",
       "      <td>0.2</td>\n",
       "      <td>setosa</td>\n",
       "    </tr>\n",
       "    <tr>\n",
       "      <th>1</th>\n",
       "      <td>4.9</td>\n",
       "      <td>3.0</td>\n",
       "      <td>1.4</td>\n",
       "      <td>0.2</td>\n",
       "      <td>setosa</td>\n",
       "    </tr>\n",
       "    <tr>\n",
       "      <th>2</th>\n",
       "      <td>4.7</td>\n",
       "      <td>3.2</td>\n",
       "      <td>1.3</td>\n",
       "      <td>0.2</td>\n",
       "      <td>setosa</td>\n",
       "    </tr>\n",
       "    <tr>\n",
       "      <th>3</th>\n",
       "      <td>4.6</td>\n",
       "      <td>3.1</td>\n",
       "      <td>1.5</td>\n",
       "      <td>0.2</td>\n",
       "      <td>setosa</td>\n",
       "    </tr>\n",
       "    <tr>\n",
       "      <th>4</th>\n",
       "      <td>5.0</td>\n",
       "      <td>3.6</td>\n",
       "      <td>1.4</td>\n",
       "      <td>0.2</td>\n",
       "      <td>setosa</td>\n",
       "    </tr>\n",
       "    <tr>\n",
       "      <th>...</th>\n",
       "      <td>...</td>\n",
       "      <td>...</td>\n",
       "      <td>...</td>\n",
       "      <td>...</td>\n",
       "      <td>...</td>\n",
       "    </tr>\n",
       "    <tr>\n",
       "      <th>145</th>\n",
       "      <td>6.7</td>\n",
       "      <td>3.0</td>\n",
       "      <td>5.2</td>\n",
       "      <td>2.3</td>\n",
       "      <td>virginica</td>\n",
       "    </tr>\n",
       "    <tr>\n",
       "      <th>146</th>\n",
       "      <td>6.3</td>\n",
       "      <td>2.5</td>\n",
       "      <td>5.0</td>\n",
       "      <td>1.9</td>\n",
       "      <td>virginica</td>\n",
       "    </tr>\n",
       "    <tr>\n",
       "      <th>147</th>\n",
       "      <td>6.5</td>\n",
       "      <td>3.0</td>\n",
       "      <td>5.2</td>\n",
       "      <td>2.0</td>\n",
       "      <td>virginica</td>\n",
       "    </tr>\n",
       "    <tr>\n",
       "      <th>148</th>\n",
       "      <td>6.2</td>\n",
       "      <td>3.4</td>\n",
       "      <td>5.4</td>\n",
       "      <td>2.3</td>\n",
       "      <td>virginica</td>\n",
       "    </tr>\n",
       "    <tr>\n",
       "      <th>149</th>\n",
       "      <td>5.9</td>\n",
       "      <td>3.0</td>\n",
       "      <td>5.1</td>\n",
       "      <td>1.8</td>\n",
       "      <td>virginica</td>\n",
       "    </tr>\n",
       "  </tbody>\n",
       "</table>\n",
       "<p>150 rows × 5 columns</p>\n",
       "</div>"
      ],
      "text/plain": [
       "     sepal length (cm)  sepal width (cm)  petal length (cm)  petal width (cm)  \\\n",
       "0                  5.1               3.5                1.4               0.2   \n",
       "1                  4.9               3.0                1.4               0.2   \n",
       "2                  4.7               3.2                1.3               0.2   \n",
       "3                  4.6               3.1                1.5               0.2   \n",
       "4                  5.0               3.6                1.4               0.2   \n",
       "..                 ...               ...                ...               ...   \n",
       "145                6.7               3.0                5.2               2.3   \n",
       "146                6.3               2.5                5.0               1.9   \n",
       "147                6.5               3.0                5.2               2.0   \n",
       "148                6.2               3.4                5.4               2.3   \n",
       "149                5.9               3.0                5.1               1.8   \n",
       "\n",
       "       species  \n",
       "0       setosa  \n",
       "1       setosa  \n",
       "2       setosa  \n",
       "3       setosa  \n",
       "4       setosa  \n",
       "..         ...  \n",
       "145  virginica  \n",
       "146  virginica  \n",
       "147  virginica  \n",
       "148  virginica  \n",
       "149  virginica  \n",
       "\n",
       "[150 rows x 5 columns]"
      ]
     },
     "execution_count": 2,
     "metadata": {},
     "output_type": "execute_result"
    }
   ],
   "source": [
    "df"
   ]
  },
  {
   "cell_type": "code",
   "execution_count": 3,
   "metadata": {},
   "outputs": [
    {
     "data": {
      "text/plain": [
       "array([1.4, 1.4, 1.3, 1.5, 1.4, 1.7, 1.4, 1.5, 1.4, 1.5, 1.5, 1.6, 1.4,\n",
       "       1.1, 1.2, 1.5, 1.3, 1.4, 1.7, 1.5, 1.7, 1.5, 1. , 1.7, 1.9, 1.6,\n",
       "       1.6, 1.5, 1.4, 1.6, 1.6, 1.5, 1.5, 1.4, 1.5, 1.2, 1.3, 1.4, 1.3,\n",
       "       1.5, 1.3, 1.3, 1.3, 1.6, 1.9, 1.4, 1.6, 1.4, 1.5, 1.4])"
      ]
     },
     "execution_count": 3,
     "metadata": {},
     "output_type": "execute_result"
    }
   ],
   "source": [
    "petal_l = df[df.species == \"setosa\"]['petal length (cm)'].values # value extract\n",
    "petal_l"
   ]
  },
  {
   "cell_type": "code",
   "execution_count": 7,
   "metadata": {},
   "outputs": [
    {
     "data": {
      "text/plain": [
       "array([3.3, 2.7, 3. , 2.9, 3. , 3. , 2.5, 2.9, 2.5, 3.6, 3.2, 2.7, 3. ,\n",
       "       2.5, 2.8, 3.2, 3. , 3.8, 2.6, 2.2, 3.2, 2.8, 2.8, 2.7, 3.3, 3.2,\n",
       "       2.8, 3. , 2.8, 3. , 2.8, 3.8, 2.8, 2.8, 2.6, 3. , 3.4, 3.1, 3. ,\n",
       "       3.1, 3.1, 3.1, 2.7, 3.2, 3.3, 3. , 2.5, 3. , 3.4, 3. ])"
      ]
     },
     "execution_count": 7,
     "metadata": {},
     "output_type": "execute_result"
    }
   ],
   "source": [
    "virginica = df[df.species == 'virginica']['sepal width (cm)'].values\n",
    "virginica"
   ]
  },
  {
   "cell_type": "code",
   "execution_count": 28,
   "metadata": {},
   "outputs": [
    {
     "data": {
      "image/png": "[encoded data removed]",
      "text/plain": [
       "<Figure size 432x288 with 1 Axes>"
      ]
     },
     "metadata": {
      "needs_background": "light"
     },
     "output_type": "display_data"
    }
   ],
   "source": [
    "\n",
    "sns.distplot(petal_l)\n",
    "plt.show()\n",
    "%matplotlib inline"
   ]
  },
  {
   "cell_type": "code",
   "execution_count": null,
   "metadata": {},
   "outputs": [],
   "source": []
  },
  {
   "cell_type": "code",
   "execution_count": 29,
   "metadata": {},
   "outputs": [
    {
     "data": {
      "text/plain": [
       "array([1.4, 1.4, 1.3, 1.5, 1.4, 1.7, 1.4, 1.5, 1.4, 1.5, 1.5, 1.6, 1.4,\n",
       "       1.1, 1.2, 1.5, 1.3, 1.4, 1.7, 1.5, 1.7, 1.5, 1. , 1.7, 1.9, 1.6,\n",
       "       1.6, 1.5, 1.4, 1.6, 1.6, 1.5, 1.5, 1.4, 1.5, 1.2, 1.3, 1.4, 1.3,\n",
       "       1.5, 1.3, 1.3, 1.3, 1.6, 1.9, 1.4, 1.6, 1.4, 1.5, 1.4, 4.7, 4.5,\n",
       "       4.9, 4. , 4.6, 4.5, 4.7, 3.3, 4.6, 3.9, 3.5, 4.2, 4. , 4.7, 3.6,\n",
       "       4.4, 4.5, 4.1, 4.5, 3.9, 4.8, 4. , 4.9, 4.7, 4.3, 4.4, 4.8, 5. ,\n",
       "       4.5, 3.5, 3.8, 3.7, 3.9, 5.1, 4.5, 4.5, 4.7, 4.4, 4.1, 4. , 4.4,\n",
       "       4.6, 4. , 3.3, 4.2, 4.2, 4.2, 4.3, 3. , 4.1, 6. , 5.1, 5.9, 5.6,\n",
       "       5.8, 6.6, 4.5, 6.3, 5.8, 6.1, 5.1, 5.3, 5.5, 5. , 5.1, 5.3, 5.5,\n",
       "       6.7, 6.9, 5. , 5.7, 4.9, 6.7, 4.9, 5.7, 6. , 4.8, 4.9, 5.6, 5.8,\n",
       "       6.1, 6.4, 5.6, 5.1, 5.6, 6.1, 5.6, 5.5, 4.8, 5.4, 5.6, 5.1, 5.1,\n",
       "       5.9, 5.7, 5.2, 5. , 5.2, 5.4, 5.1])"
      ]
     },
     "execution_count": 29,
     "metadata": {},
     "output_type": "execute_result"
    }
   ],
   "source": [
    "petal_l = df['petal length (cm)'].values # value extract\n",
    "petal_l"
   ]
  },
  {
   "cell_type": "code",
   "execution_count": 30,
   "metadata": {},
   "outputs": [
    {
     "data": {
      "image/png": "[encoded data removed]",
      "text/plain": [
       "<Figure size 432x288 with 1 Axes>"
      ]
     },
     "metadata": {
      "needs_background": "light"
     },
     "output_type": "display_data"
    }
   ],
   "source": [
    "sns.distplot(petal_l)\n",
    "plt.show()\n",
    "%matplotlib inline"
   ]
  },
  {
   "cell_type": "code",
   "execution_count": 8,
   "metadata": {},
   "outputs": [],
   "source": [
    "xx = np.linspace(-100, 500, 1000)\n",
    "p = np.zeros_like(xx)\n",
    "p[(0 < xx) & (xx <= 360)] = 1 /360\n",
    "xxp= xx * p\n",
    "plt.show()"
   ]
  },
  {
   "cell_type": "code",
   "execution_count": 9,
   "metadata": {},
   "outputs": [
    {
     "data": {
      "text/plain": [
       "array([0.        , 0.        , 0.        , 0.        , 0.        ,\n",
       "       0.        , 0.        , 0.        , 0.        , 0.        ,\n",
       "       0.        , 0.        , 0.        , 0.        , 0.        ,\n",
       "       0.        , 0.        , 0.        , 0.        , 0.        ,\n",
       "       0.        , 0.        , 0.        , 0.        , 0.        ,\n",
       "       0.        , 0.        , 0.        , 0.        , 0.        ,\n",
       "       0.        , 0.        , 0.        , 0.        , 0.        ,\n",
       "       0.        , 0.        , 0.        , 0.        , 0.        ,\n",
       "       0.        , 0.        , 0.        , 0.        , 0.        ,\n",
       "       0.        , 0.        , 0.        , 0.        , 0.        ,\n",
       "       0.        , 0.        , 0.        , 0.        , 0.        ,\n",
       "       0.        , 0.        , 0.        , 0.        , 0.        ,\n",
       "       0.        , 0.        , 0.        , 0.        , 0.        ,\n",
       "       0.        , 0.        , 0.        , 0.        , 0.        ,\n",
       "       0.        , 0.        , 0.        , 0.        , 0.        ,\n",
       "       0.        , 0.        , 0.        , 0.        , 0.        ,\n",
       "       0.        , 0.        , 0.        , 0.        , 0.        ,\n",
       "       0.        , 0.        , 0.        , 0.        , 0.        ,\n",
       "       0.        , 0.        , 0.        , 0.        , 0.        ,\n",
       "       0.        , 0.        , 0.        , 0.        , 0.        ,\n",
       "       0.        , 0.        , 0.        , 0.        , 0.        ,\n",
       "       0.        , 0.        , 0.        , 0.        , 0.        ,\n",
       "       0.        , 0.        , 0.        , 0.        , 0.        ,\n",
       "       0.        , 0.        , 0.        , 0.        , 0.        ,\n",
       "       0.        , 0.        , 0.        , 0.        , 0.        ,\n",
       "       0.        , 0.        , 0.        , 0.        , 0.        ,\n",
       "       0.        , 0.        , 0.        , 0.        , 0.        ,\n",
       "       0.        , 0.        , 0.        , 0.        , 0.        ,\n",
       "       0.        , 0.        , 0.        , 0.        , 0.        ,\n",
       "       0.        , 0.        , 0.        , 0.        , 0.        ,\n",
       "       0.        , 0.        , 0.        , 0.        , 0.        ,\n",
       "       0.        , 0.        , 0.        , 0.        , 0.        ,\n",
       "       0.        , 0.        , 0.        , 0.        , 0.        ,\n",
       "       0.        , 0.        , 0.00277778, 0.00277778, 0.00277778,\n",
       "       0.00277778, 0.00277778, 0.00277778, 0.00277778, 0.00277778,\n",
       "       0.00277778, 0.00277778, 0.00277778, 0.00277778, 0.00277778,\n",
       "       0.00277778, 0.00277778, 0.00277778, 0.00277778, 0.00277778,\n",
       "       0.00277778, 0.00277778, 0.00277778, 0.00277778, 0.00277778,\n",
       "       0.00277778, 0.00277778, 0.00277778, 0.00277778, 0.00277778,\n",
       "       0.00277778, 0.00277778, 0.00277778, 0.00277778, 0.00277778,\n",
       "       0.00277778, 0.00277778, 0.00277778, 0.00277778, 0.00277778,\n",
       "       0.00277778, 0.00277778, 0.00277778, 0.00277778, 0.00277778,\n",
       "       0.00277778, 0.00277778, 0.00277778, 0.00277778, 0.00277778,\n",
       "       0.00277778, 0.00277778, 0.00277778, 0.00277778, 0.00277778,\n",
       "       0.00277778, 0.00277778, 0.00277778, 0.00277778, 0.00277778,\n",
       "       0.00277778, 0.00277778, 0.00277778, 0.00277778, 0.00277778,\n",
       "       0.00277778, 0.00277778, 0.00277778, 0.00277778, 0.00277778,\n",
       "       0.00277778, 0.00277778, 0.00277778, 0.00277778, 0.00277778,\n",
       "       0.00277778, 0.00277778, 0.00277778, 0.00277778, 0.00277778,\n",
       "       0.00277778, 0.00277778, 0.00277778, 0.00277778, 0.00277778,\n",
       "       0.00277778, 0.00277778, 0.00277778, 0.00277778, 0.00277778,\n",
       "       0.00277778, 0.00277778, 0.00277778, 0.00277778, 0.00277778,\n",
       "       0.00277778, 0.00277778, 0.00277778, 0.00277778, 0.00277778,\n",
       "       0.00277778, 0.00277778, 0.00277778, 0.00277778, 0.00277778,\n",
       "       0.00277778, 0.00277778, 0.00277778, 0.00277778, 0.00277778,\n",
       "       0.00277778, 0.00277778, 0.00277778, 0.00277778, 0.00277778,\n",
       "       0.00277778, 0.00277778, 0.00277778, 0.00277778, 0.00277778,\n",
       "       0.00277778, 0.00277778, 0.00277778, 0.00277778, 0.00277778,\n",
       "       0.00277778, 0.00277778, 0.00277778, 0.00277778, 0.00277778,\n",
       "       0.00277778, 0.00277778, 0.00277778, 0.00277778, 0.00277778,\n",
       "       0.00277778, 0.00277778, 0.00277778, 0.00277778, 0.00277778,\n",
       "       0.00277778, 0.00277778, 0.00277778, 0.00277778, 0.00277778,\n",
       "       0.00277778, 0.00277778, 0.00277778, 0.00277778, 0.00277778,\n",
       "       0.00277778, 0.00277778, 0.00277778, 0.00277778, 0.00277778,\n",
       "       0.00277778, 0.00277778, 0.00277778, 0.00277778, 0.00277778,\n",
       "       0.00277778, 0.00277778, 0.00277778, 0.00277778, 0.00277778,\n",
       "       0.00277778, 0.00277778, 0.00277778, 0.00277778, 0.00277778,\n",
       "       0.00277778, 0.00277778, 0.00277778, 0.00277778, 0.00277778,\n",
       "       0.00277778, 0.00277778, 0.00277778, 0.00277778, 0.00277778,\n",
       "       0.00277778, 0.00277778, 0.00277778, 0.00277778, 0.00277778,\n",
       "       0.00277778, 0.00277778, 0.00277778, 0.00277778, 0.00277778,\n",
       "       0.00277778, 0.00277778, 0.00277778, 0.00277778, 0.00277778,\n",
       "       0.00277778, 0.00277778, 0.00277778, 0.00277778, 0.00277778,\n",
       "       0.00277778, 0.00277778, 0.00277778, 0.00277778, 0.00277778,\n",
       "       0.00277778, 0.00277778, 0.00277778, 0.00277778, 0.00277778,\n",
       "       0.00277778, 0.00277778, 0.00277778, 0.00277778, 0.00277778,\n",
       "       0.00277778, 0.00277778, 0.00277778, 0.00277778, 0.00277778,\n",
       "       0.00277778, 0.00277778, 0.00277778, 0.00277778, 0.00277778,\n",
       "       0.00277778, 0.00277778, 0.00277778, 0.00277778, 0.00277778,\n",
       "       0.00277778, 0.00277778, 0.00277778, 0.00277778, 0.00277778,\n",
       "       0.00277778, 0.00277778, 0.00277778, 0.00277778, 0.00277778,\n",
       "       0.00277778, 0.00277778, 0.00277778, 0.00277778, 0.00277778,\n",
       "       0.00277778, 0.00277778, 0.00277778, 0.00277778, 0.00277778,\n",
       "       0.00277778, 0.00277778, 0.00277778, 0.00277778, 0.00277778,\n",
       "       0.00277778, 0.00277778, 0.00277778, 0.00277778, 0.00277778,\n",
       "       0.00277778, 0.00277778, 0.00277778, 0.00277778, 0.00277778,\n",
       "       0.00277778, 0.00277778, 0.00277778, 0.00277778, 0.00277778,\n",
       "       0.00277778, 0.00277778, 0.00277778, 0.00277778, 0.00277778,\n",
       "       0.00277778, 0.00277778, 0.00277778, 0.00277778, 0.00277778,\n",
       "       0.00277778, 0.00277778, 0.00277778, 0.00277778, 0.00277778,\n",
       "       0.00277778, 0.00277778, 0.00277778, 0.00277778, 0.00277778,\n",
       "       0.00277778, 0.00277778, 0.00277778, 0.00277778, 0.00277778,\n",
       "       0.00277778, 0.00277778, 0.00277778, 0.00277778, 0.00277778,\n",
       "       0.00277778, 0.00277778, 0.00277778, 0.00277778, 0.00277778,\n",
       "       0.00277778, 0.00277778, 0.00277778, 0.00277778, 0.00277778,\n",
       "       0.00277778, 0.00277778, 0.00277778, 0.00277778, 0.00277778,\n",
       "       0.00277778, 0.00277778, 0.00277778, 0.00277778, 0.00277778,\n",
       "       0.00277778, 0.00277778, 0.00277778, 0.00277778, 0.00277778,\n",
       "       0.00277778, 0.00277778, 0.00277778, 0.00277778, 0.00277778,\n",
       "       0.00277778, 0.00277778, 0.00277778, 0.00277778, 0.00277778,\n",
       "       0.00277778, 0.00277778, 0.00277778, 0.00277778, 0.00277778,\n",
       "       0.00277778, 0.00277778, 0.00277778, 0.00277778, 0.00277778,\n",
       "       0.00277778, 0.00277778, 0.00277778, 0.00277778, 0.00277778,\n",
       "       0.00277778, 0.00277778, 0.00277778, 0.00277778, 0.00277778,\n",
       "       0.00277778, 0.00277778, 0.00277778, 0.00277778, 0.00277778,\n",
       "       0.00277778, 0.00277778, 0.00277778, 0.00277778, 0.00277778,\n",
       "       0.00277778, 0.00277778, 0.00277778, 0.00277778, 0.00277778,\n",
       "       0.00277778, 0.00277778, 0.00277778, 0.00277778, 0.00277778,\n",
       "       0.00277778, 0.00277778, 0.00277778, 0.00277778, 0.00277778,\n",
       "       0.00277778, 0.00277778, 0.00277778, 0.00277778, 0.00277778,\n",
       "       0.00277778, 0.00277778, 0.00277778, 0.00277778, 0.00277778,\n",
       "       0.00277778, 0.00277778, 0.00277778, 0.00277778, 0.00277778,\n",
       "       0.00277778, 0.00277778, 0.00277778, 0.00277778, 0.00277778,\n",
       "       0.00277778, 0.00277778, 0.00277778, 0.00277778, 0.00277778,\n",
       "       0.00277778, 0.00277778, 0.00277778, 0.00277778, 0.00277778,\n",
       "       0.00277778, 0.00277778, 0.00277778, 0.00277778, 0.00277778,\n",
       "       0.00277778, 0.00277778, 0.00277778, 0.00277778, 0.00277778,\n",
       "       0.00277778, 0.00277778, 0.00277778, 0.00277778, 0.00277778,\n",
       "       0.00277778, 0.00277778, 0.00277778, 0.00277778, 0.00277778,\n",
       "       0.00277778, 0.00277778, 0.00277778, 0.00277778, 0.00277778,\n",
       "       0.00277778, 0.00277778, 0.00277778, 0.00277778, 0.00277778,\n",
       "       0.00277778, 0.00277778, 0.00277778, 0.00277778, 0.00277778,\n",
       "       0.00277778, 0.00277778, 0.00277778, 0.00277778, 0.00277778,\n",
       "       0.00277778, 0.00277778, 0.00277778, 0.00277778, 0.00277778,\n",
       "       0.00277778, 0.00277778, 0.00277778, 0.00277778, 0.00277778,\n",
       "       0.00277778, 0.00277778, 0.00277778, 0.00277778, 0.00277778,\n",
       "       0.00277778, 0.00277778, 0.00277778, 0.00277778, 0.00277778,\n",
       "       0.00277778, 0.00277778, 0.00277778, 0.00277778, 0.00277778,\n",
       "       0.00277778, 0.00277778, 0.00277778, 0.00277778, 0.00277778,\n",
       "       0.00277778, 0.00277778, 0.00277778, 0.00277778, 0.00277778,\n",
       "       0.00277778, 0.00277778, 0.00277778, 0.00277778, 0.00277778,\n",
       "       0.00277778, 0.00277778, 0.00277778, 0.00277778, 0.00277778,\n",
       "       0.00277778, 0.00277778, 0.00277778, 0.00277778, 0.00277778,\n",
       "       0.00277778, 0.00277778, 0.00277778, 0.00277778, 0.00277778,\n",
       "       0.00277778, 0.00277778, 0.00277778, 0.00277778, 0.00277778,\n",
       "       0.00277778, 0.00277778, 0.00277778, 0.00277778, 0.00277778,\n",
       "       0.00277778, 0.00277778, 0.00277778, 0.00277778, 0.00277778,\n",
       "       0.00277778, 0.00277778, 0.00277778, 0.00277778, 0.00277778,\n",
       "       0.00277778, 0.00277778, 0.00277778, 0.00277778, 0.00277778,\n",
       "       0.00277778, 0.00277778, 0.00277778, 0.00277778, 0.00277778,\n",
       "       0.00277778, 0.00277778, 0.00277778, 0.00277778, 0.00277778,\n",
       "       0.00277778, 0.00277778, 0.00277778, 0.00277778, 0.00277778,\n",
       "       0.00277778, 0.00277778, 0.00277778, 0.00277778, 0.00277778,\n",
       "       0.00277778, 0.00277778, 0.00277778, 0.00277778, 0.00277778,\n",
       "       0.00277778, 0.00277778, 0.00277778, 0.00277778, 0.00277778,\n",
       "       0.00277778, 0.00277778, 0.00277778, 0.00277778, 0.00277778,\n",
       "       0.00277778, 0.00277778, 0.00277778, 0.00277778, 0.00277778,\n",
       "       0.00277778, 0.00277778, 0.00277778, 0.00277778, 0.00277778,\n",
       "       0.00277778, 0.00277778, 0.00277778, 0.00277778, 0.00277778,\n",
       "       0.00277778, 0.00277778, 0.00277778, 0.00277778, 0.00277778,\n",
       "       0.00277778, 0.00277778, 0.00277778, 0.00277778, 0.00277778,\n",
       "       0.00277778, 0.00277778, 0.00277778, 0.00277778, 0.00277778,\n",
       "       0.00277778, 0.00277778, 0.00277778, 0.00277778, 0.00277778,\n",
       "       0.00277778, 0.        , 0.        , 0.        , 0.        ,\n",
       "       0.        , 0.        , 0.        , 0.        , 0.        ,\n",
       "       0.        , 0.        , 0.        , 0.        , 0.        ,\n",
       "       0.        , 0.        , 0.        , 0.        , 0.        ,\n",
       "       0.        , 0.        , 0.        , 0.        , 0.        ,\n",
       "       0.        , 0.        , 0.        , 0.        , 0.        ,\n",
       "       0.        , 0.        , 0.        , 0.        , 0.        ,\n",
       "       0.        , 0.        , 0.        , 0.        , 0.        ,\n",
       "       0.        , 0.        , 0.        , 0.        , 0.        ,\n",
       "       0.        , 0.        , 0.        , 0.        , 0.        ,\n",
       "       0.        , 0.        , 0.        , 0.        , 0.        ,\n",
       "       0.        , 0.        , 0.        , 0.        , 0.        ,\n",
       "       0.        , 0.        , 0.        , 0.        , 0.        ,\n",
       "       0.        , 0.        , 0.        , 0.        , 0.        ,\n",
       "       0.        , 0.        , 0.        , 0.        , 0.        ,\n",
       "       0.        , 0.        , 0.        , 0.        , 0.        ,\n",
       "       0.        , 0.        , 0.        , 0.        , 0.        ,\n",
       "       0.        , 0.        , 0.        , 0.        , 0.        ,\n",
       "       0.        , 0.        , 0.        , 0.        , 0.        ,\n",
       "       0.        , 0.        , 0.        , 0.        , 0.        ,\n",
       "       0.        , 0.        , 0.        , 0.        , 0.        ,\n",
       "       0.        , 0.        , 0.        , 0.        , 0.        ,\n",
       "       0.        , 0.        , 0.        , 0.        , 0.        ,\n",
       "       0.        , 0.        , 0.        , 0.        , 0.        ,\n",
       "       0.        , 0.        , 0.        , 0.        , 0.        ,\n",
       "       0.        , 0.        , 0.        , 0.        , 0.        ,\n",
       "       0.        , 0.        , 0.        , 0.        , 0.        ,\n",
       "       0.        , 0.        , 0.        , 0.        , 0.        ,\n",
       "       0.        , 0.        , 0.        , 0.        , 0.        ,\n",
       "       0.        , 0.        , 0.        , 0.        , 0.        ,\n",
       "       0.        , 0.        , 0.        , 0.        , 0.        ,\n",
       "       0.        , 0.        , 0.        , 0.        , 0.        ,\n",
       "       0.        , 0.        , 0.        , 0.        , 0.        ,\n",
       "       0.        , 0.        , 0.        , 0.        , 0.        ,\n",
       "       0.        , 0.        , 0.        , 0.        , 0.        ,\n",
       "       0.        , 0.        , 0.        , 0.        , 0.        ,\n",
       "       0.        , 0.        , 0.        , 0.        , 0.        ,\n",
       "       0.        , 0.        , 0.        , 0.        , 0.        ,\n",
       "       0.        , 0.        , 0.        , 0.        , 0.        ,\n",
       "       0.        , 0.        , 0.        , 0.        , 0.        ,\n",
       "       0.        , 0.        , 0.        , 0.        , 0.        ,\n",
       "       0.        , 0.        , 0.        , 0.        , 0.        ,\n",
       "       0.        , 0.        , 0.        , 0.        , 0.        ,\n",
       "       0.        , 0.        , 0.        , 0.        , 0.        ,\n",
       "       0.        , 0.        , 0.        , 0.        , 0.        ,\n",
       "       0.        , 0.        , 0.        , 0.        , 0.        ,\n",
       "       0.        , 0.        , 0.        , 0.        , 0.        ])"
      ]
     },
     "execution_count": 9,
     "metadata": {},
     "output_type": "execute_result"
    }
   ],
   "source": [
    "p"
   ]
  },
  {
   "cell_type": "code",
   "execution_count": 36,
   "metadata": {},
   "outputs": [
    {
     "name": "stderr",
     "output_type": "stream",
     "text": [
      "Font 'default' does not have a glyph for '\\ub3c4' [U+b3c4], substituting with a dummy symbol.\n",
      "Font 'default' does not have a glyph for '\\ub3c4' [U+b3c4], substituting with a dummy symbol.\n"
     ]
    },
    {
     "data": {
      "image/png": "[encoded data removed]",
      "text/plain": [
       "<Figure size 432x288 with 1 Axes>"
      ]
     },
     "metadata": {
      "needs_background": "light"
     },
     "output_type": "display_data"
    }
   ],
   "source": [
    "\n",
    "plt.plot(xx, xxp)\n",
    "\n",
    "plt.xticks([0, 180, 360])\n",
    "plt.title(\"확률밀도함수\")\n",
    "plt.xlabel(\"$x$ (도)\")\n",
    "plt.ylabel(\"$p(x)$\")\n",
    "plt.show()"
   ]
  },
  {
   "cell_type": "code",
   "execution_count": 38,
   "metadata": {},
   "outputs": [
    {
     "name": "stderr",
     "output_type": "stream",
     "text": [
      "Font 'default' does not have a glyph for '\\ub3c4' [U+b3c4], substituting with a dummy symbol.\n",
      "Font 'default' does not have a glyph for '\\ub3c4' [U+b3c4], substituting with a dummy symbol.\n"
     ]
    },
    {
     "data": {
      "image/png": "[encoded data removed]",
      "text/plain": [
       "<Figure size 432x288 with 2 Axes>"
      ]
     },
     "metadata": {
      "needs_background": "light"
     },
     "output_type": "display_data"
    }
   ],
   "source": [
    "x = np.linspace(-100, 500, 1000)\n",
    "p = np.zeros_like(x)\n",
    "p[(0 < x) & (x <= 180)] = 2 / (3 * 360)\n",
    "p[(180 < x) & (x <= 360)] = 1 / (3 * 360)\n",
    "xp = x * p\n",
    "\n",
    "plt.subplot(121)\n",
    "plt.plot(x, p)\n",
    "plt.xticks([0, 180, 360])\n",
    "plt.title(\"$p(x)$\")\n",
    "plt.xlabel(\"$x$ (도)\")\n",
    "\n",
    "plt.subplot(122)\n",
    "plt.plot(x, xp)\n",
    "plt.xticks([0, 180, 360])\n",
    "plt.title(\"$xp(x)$\")\n",
    "plt.xlabel(\"$x$ (도)\")\\\n",
    "\n",
    "plt.show()"
   ]
  },
  {
   "cell_type": "code",
   "execution_count": null,
   "metadata": {},
   "outputs": [],
   "source": []
  },
  {
   "cell_type": "code",
   "execution_count": null,
   "metadata": {},
   "outputs": [],
   "source": []
  },
  {
   "cell_type": "code",
   "execution_count": null,
   "metadata": {},
   "outputs": [],
   "source": []
  },
  {
   "cell_type": "markdown",
   "metadata": {},
   "source": [
    "## 8. Scipy, Distribution"
   ]
  },
  {
   "cell_type": "code",
   "execution_count": 8,
   "metadata": {},
   "outputs": [],
   "source": [
    "rv = sp.stats.norm(loc=0, scale = 0.1)"
   ]
  },
  {
   "cell_type": "code",
   "execution_count": 10,
   "metadata": {},
   "outputs": [
    {
     "data": {
      "image/png": "[encoded data removed]",
      "text/plain": [
       "<Figure size 432x288 with 1 Axes>"
      ]
     },
     "metadata": {
      "needs_background": "light"
     },
     "output_type": "display_data"
    }
   ],
   "source": [
    "xx = np.linspace(-1, 1, 100)\n",
    "pdf = rv.pdf(xx)\n",
    "plt.plot(xx, pdf)\n",
    "plt.show()\n",
    "%matplotlib inline\n",
    "# pdf 의 높이는 기울기일뿐이다. "
   ]
  },
  {
   "cell_type": "code",
   "execution_count": 12,
   "metadata": {},
   "outputs": [
    {
     "data": {
      "image/png": "[encoded data removed]",
      "text/plain": [
       "<Figure size 432x288 with 1 Axes>"
      ]
     },
     "metadata": {
      "needs_background": "light"
     },
     "output_type": "display_data"
    }
   ],
   "source": [
    "xx = np.linspace(-1, 1, 100)\n",
    "cdf = rv.cdf(xx)\n",
    "plt.plot(xx, cdf)\n",
    "plt.show()\n",
    "%matplotlib inline\n",
    "# pdf 의 높이는 기울기일뿐이다. "
   ]
  },
  {
   "cell_type": "code",
   "execution_count": 13,
   "metadata": {},
   "outputs": [],
   "source": [
    "# rvs 는 박스버튼을 눌러 데이터를 뽑아내는것과 같다"
   ]
  },
  {
   "cell_type": "code",
   "execution_count": 14,
   "metadata": {},
   "outputs": [
    {
     "data": {
      "image/png": "[encoded data removed]",
      "text/plain": [
       "<Figure size 432x288 with 1 Axes>"
      ]
     },
     "metadata": {
      "needs_background": "light"
     },
     "output_type": "display_data"
    }
   ],
   "source": [
    "sns.distplot(rv.rvs(size = 10000, random_state = 0))\n",
    "plt.show()"
   ]
  },
  {
   "cell_type": "code",
   "execution_count": 18,
   "metadata": {},
   "outputs": [
    {
     "data": {
      "text/plain": [
       "<matplotlib.axes._subplots.AxesSubplot at 0x1a1baa8790>"
      ]
     },
     "execution_count": 18,
     "metadata": {},
     "output_type": "execute_result"
    },
    {
     "data": {
      "image/png": "[encoded data removed]",
      "text/plain": [
       "<Figure size 864x360 with 1 Axes>"
      ]
     },
     "metadata": {
      "needs_background": "light"
     },
     "output_type": "display_data"
    }
   ],
   "source": [
    "rv1 = sp.stats.uniform()\n",
    "rv2 = sp.stats.uniform()\n",
    "rv3 = sp.stats.uniform()\n",
    "rv4 = sp.stats.uniform()\n",
    "rv5 = sp.stats.uniform()\n",
    "rv6 = sp.stats.uniform()\n",
    "rv7 = sp.stats.uniform()\n",
    "rv8 = sp.stats.uniform()\n",
    "rv9 = sp.stats.uniform()\n",
    "rv10 = sp.stats.uniform()\n",
    "\n",
    "np.random.seed(0)\n",
    "N = 50000\n",
    "x_1 = rv1.rvs(N)\n",
    "x_2 = rv2.rvs(N)\n",
    "x_3 = rv3.rvs(N)\n",
    "x_4 = rv4.rvs(N)\n",
    "x_5 = rv5.rvs(N)\n",
    "x_6 = rv6.rvs(N)\n",
    "x_7 = rv7.rvs(N)\n",
    "x_8 = rv8.rvs(N)\n",
    "x_9 = rv9.rvs(N)\n",
    "x_10 = rv10.rvs(N)\n",
    "\n",
    "\n",
    "x_10 = x_1 + x_2 + x_3 + x_4 + x_5 + x_6 + x_7 + x_8 + x_9\n",
    "\n",
    "plt.figure(figsize=(12, 5))\n",
    "\n",
    "sns.distplot(x_3)"
   ]
  },
  {
   "cell_type": "code",
   "execution_count": 20,
   "metadata": {
    "collapsed": true,
    "jupyter": {
     "outputs_hidden": true
    }
   },
   "outputs": [
    {
     "ename": "SyntaxError",
     "evalue": "invalid syntax (<ipython-input-20-a7bb95e8eb86>, line 2)",
     "output_type": "error",
     "traceback": [
      "\u001b[0;36m  File \u001b[0;32m\"<ipython-input-20-a7bb95e8eb86>\"\u001b[0;36m, line \u001b[0;32m2\u001b[0m\n\u001b[0;31m    X ~ Bern(x:µ) #parameter µ\u001b[0m\n\u001b[0m      ^\u001b[0m\n\u001b[0;31mSyntaxError\u001b[0m\u001b[0;31m:\u001b[0m invalid syntax\n"
     ]
    }
   ],
   "source": [
    "# bernoulli distribution \n",
    "X ~ Bern(x:µ) #parameter µ\n",
    "µ**x(1-µ)**(1-µ)"
   ]
  },
  {
   "cell_type": "code",
   "execution_count": 21,
   "metadata": {},
   "outputs": [],
   "source": [
    "# binomial distribution"
   ]
  },
  {
   "cell_type": "code",
   "execution_count": 24,
   "metadata": {},
   "outputs": [
    {
     "data": {
      "text/plain": [
       "array([[0, 0, 0, 0, 0, 1],\n",
       "       [0, 0, 0, 0, 1, 0],\n",
       "       [0, 0, 0, 1, 0, 0],\n",
       "       [0, 0, 0, 0, 0, 1],\n",
       "       [0, 0, 1, 0, 0, 0]])"
      ]
     },
     "execution_count": 24,
     "metadata": {},
     "output_type": "execute_result"
    }
   ],
   "source": [
    "# category distribution (one-hot-encording > vectorize)\n",
    "# dice simulation\n",
    "µ = [0.1, 0.1, 0.1, 0.1, 0.3, 0.3 ] # 주사위의 눈 5, 6 이 나올확률이 3배높게 조작된 주사위의 경우\n",
    "rv = sp.stats.multinomial(1, µ)\n",
    "np.random.seed(1)\n",
    "X = rv.rvs(100)\n",
    "X[:5]"
   ]
  },
  {
   "cell_type": "code",
   "execution_count": 30,
   "metadata": {},
   "outputs": [
    {
     "data": {
      "image/png": "[encoded data removed]",
      "text/plain": [
       "<Figure size 432x288 with 1 Axes>"
      ]
     },
     "metadata": {
      "needs_background": "light"
     },
     "output_type": "display_data"
    }
   ],
   "source": [
    "xx = np.arange(1, 7)\n",
    "xx_ohe = pd.get_dummies(xx)\n",
    "\n",
    "\n",
    "plt.bar(xx, rv.pmf(xx_ohe.values))\n",
    "plt.show()"
   ]
  },
  {
   "cell_type": "markdown",
   "metadata": {},
   "source": [
    "# CATEGORY DIST. USES > multiclass classification  > DICISION TREE > RANDOM FOREST"
   ]
  },
  {
   "cell_type": "markdown",
   "metadata": {},
   "source": [
    "# Multinomial dist."
   ]
  },
  {
   "cell_type": "code",
   "execution_count": null,
   "metadata": {},
   "outputs": [],
   "source": []
  },
  {
   "cell_type": "markdown",
   "metadata": {},
   "source": [
    "## 9. Estimation, Testing"
   ]
  },
  {
   "cell_type": "markdown",
   "metadata": {},
   "source": [
    "# Null Hypothesis vs Alternative(research) Hypothesis \n",
    "# <font color = 'red'>  P-value is P(for Ha | H₀ )"
   ]
  },
  {
   "cell_type": "markdown",
   "metadata": {},
   "source": [
    "# \"if P-value is small than level of significance , reject null hypothesis\"\n"
   ]
  },
  {
   "cell_type": "markdown",
   "metadata": {},
   "source": [
    "<img src = 'pval_jap.png' alt=\"Drawing\"  style=\"width: 400px;\"/>"
   ]
  },
  {
   "cell_type": "markdown",
   "metadata": {},
   "source": [
    "# <font color = 'red'> nomality test"
   ]
  },
  {
   "cell_type": "raw",
   "metadata": {},
   "source": [
    "sicpy\n",
    "콜모고로프-스미르노프 검정(Kolmogorov-Smirnov test) : scipy.stats.ks_2samp\n",
    "샤피로-윌크 검정(Shapiro–Wilk test) : scipy.stats.shapiro\n",
    "앤더스-달링 검정(Anderson–Darling test) : scipy.stats.anderson\n",
    "다고스티노 K-제곱 검정(D'Agostino's K-squared test) : scipy.stats.mstats.normaltestR"
   ]
  },
  {
   "cell_type": "raw",
   "metadata": {},
   "source": [
    "stats\n",
    "콜모고로프-스미르노프 검정(Kolmogorov-Smirnov test) : statsmodels.stats.diagnostic.kstest_normal\n",
    "옴니버스 검정(Omnibus Normality test) : statsmodels.stats.stattools.omni_normtest\n",
    "자크-베라 검정(Jarque–Bera test) : statsmodels.stats.stattools.jarque_bera\n",
    "릴리포스 검정(Lilliefors test) : statsmodels.stats.diagnostic.lillifors"
   ]
  },
  {
   "cell_type": "markdown",
   "metadata": {},
   "source": [
    "## 10. Entropy"
   ]
  },
  {
   "cell_type": "markdown",
   "metadata": {},
   "source": [
    "# entropy "
   ]
  },
  {
   "cell_type": "markdown",
   "metadata": {},
   "source": [
    "# <font color = 'violet'> 엔트로피 몰\"빵\""
   ]
  },
  {
   "cell_type": "code",
   "execution_count": null,
   "metadata": {},
   "outputs": [],
   "source": []
  },
  {
   "cell_type": "markdown",
   "metadata": {
    "jupyter": {
     "source_hidden": true
    }
   },
   "source": [
    "# EDA 단계에서 꼭 해야할것!\n",
    "직관을 바탕으로한 \n",
    "1. 변수X 로 변수Y를 예측 할수 있을지 없을지에 대한 검정(2차 지식insight 도출)\n",
    "    검정방법 : 조건부 엔트로피\n",
    "2. 두 변수간에 상관관계에 대한 검정: H0:rho = 0 에한 p-value 값으로 가설검정\n",
    "    카테고리 값끼리 : 카이제곱검정"
   ]
  },
  {
   "cell_type": "markdown",
   "metadata": {},
   "source": [
    "# 엔트로피가 작다면 예측이 정확하다"
   ]
  },
  {
   "cell_type": "markdown",
   "metadata": {},
   "source": [
    "스팸메일 분류"
   ]
  },
  {
   "cell_type": "code",
   "execution_count": null,
   "metadata": {},
   "outputs": [],
   "source": []
  },
  {
   "cell_type": "markdown",
   "metadata": {},
   "source": [
    "## 11. Pre-processing, Scaling"
   ]
  },
  {
   "cell_type": "markdown",
   "metadata": {},
   "source": [
    "### missingno"
   ]
  },
  {
   "cell_type": "code",
   "execution_count": 6,
   "metadata": {},
   "outputs": [
    {
     "data": {
      "text/html": [
       "<div>\n",
       "<style scoped>\n",
       "    .dataframe tbody tr th:only-of-type {\n",
       "        vertical-align: middle;\n",
       "    }\n",
       "\n",
       "    .dataframe tbody tr th {\n",
       "        vertical-align: top;\n",
       "    }\n",
       "\n",
       "    .dataframe thead th {\n",
       "        text-align: right;\n",
       "    }\n",
       "</style>\n",
       "<table border=\"1\" class=\"dataframe\">\n",
       "  <thead>\n",
       "    <tr style=\"text-align: right;\">\n",
       "      <th></th>\n",
       "      <th>x1</th>\n",
       "      <th>x2</th>\n",
       "      <th>x3</th>\n",
       "      <th>x4</th>\n",
       "      <th>x5</th>\n",
       "    </tr>\n",
       "  </thead>\n",
       "  <tbody>\n",
       "    <tr>\n",
       "      <th>0</th>\n",
       "      <td>1</td>\n",
       "      <td>0.1</td>\n",
       "      <td>1.0</td>\n",
       "      <td>2019-01-01</td>\n",
       "      <td>A</td>\n",
       "    </tr>\n",
       "    <tr>\n",
       "      <th>1</th>\n",
       "      <td>2</td>\n",
       "      <td>NaN</td>\n",
       "      <td>NaN</td>\n",
       "      <td>2019-01-02</td>\n",
       "      <td>B</td>\n",
       "    </tr>\n",
       "    <tr>\n",
       "      <th>2</th>\n",
       "      <td>3</td>\n",
       "      <td>NaN</td>\n",
       "      <td>3.0</td>\n",
       "      <td>2019-01-03</td>\n",
       "      <td>C</td>\n",
       "    </tr>\n",
       "    <tr>\n",
       "      <th>3</th>\n",
       "      <td>&lt;NA&gt;</td>\n",
       "      <td>0.4</td>\n",
       "      <td>4.0</td>\n",
       "      <td>2019-01-04</td>\n",
       "      <td>A</td>\n",
       "    </tr>\n",
       "    <tr>\n",
       "      <th>4</th>\n",
       "      <td>5</td>\n",
       "      <td>0.5</td>\n",
       "      <td>5.0</td>\n",
       "      <td>2019-01-05</td>\n",
       "      <td>B</td>\n",
       "    </tr>\n",
       "    <tr>\n",
       "      <th>5</th>\n",
       "      <td>&lt;NA&gt;</td>\n",
       "      <td>NaN</td>\n",
       "      <td>NaN</td>\n",
       "      <td>2019-01-06</td>\n",
       "      <td>C</td>\n",
       "    </tr>\n",
       "    <tr>\n",
       "      <th>6</th>\n",
       "      <td>7</td>\n",
       "      <td>0.7</td>\n",
       "      <td>7.0</td>\n",
       "      <td>NaT</td>\n",
       "      <td>A</td>\n",
       "    </tr>\n",
       "    <tr>\n",
       "      <th>7</th>\n",
       "      <td>8</td>\n",
       "      <td>0.8</td>\n",
       "      <td>8.0</td>\n",
       "      <td>2019-01-08</td>\n",
       "      <td>B</td>\n",
       "    </tr>\n",
       "    <tr>\n",
       "      <th>8</th>\n",
       "      <td>9</td>\n",
       "      <td>0.9</td>\n",
       "      <td>NaN</td>\n",
       "      <td>2019-01-09</td>\n",
       "      <td>C</td>\n",
       "    </tr>\n",
       "  </tbody>\n",
       "</table>\n",
       "</div>"
      ],
      "text/plain": [
       "     x1   x2   x3         x4 x5\n",
       "0     1  0.1  1.0 2019-01-01  A\n",
       "1     2  NaN  NaN 2019-01-02  B\n",
       "2     3  NaN  3.0 2019-01-03  C\n",
       "3  <NA>  0.4  4.0 2019-01-04  A\n",
       "4     5  0.5  5.0 2019-01-05  B\n",
       "5  <NA>  NaN  NaN 2019-01-06  C\n",
       "6     7  0.7  7.0        NaT  A\n",
       "7     8  0.8  8.0 2019-01-08  B\n",
       "8     9  0.9  NaN 2019-01-09  C"
      ]
     },
     "execution_count": 6,
     "metadata": {},
     "output_type": "execute_result"
    }
   ],
   "source": [
    "from io import StringIO\n",
    "\n",
    "csv_data = StringIO(\"\"\"\n",
    "x1,x2,x3,x4,x5\n",
    "1,0.1,\"1\",2019-01-01,A\n",
    "2,,,2019-01-02,B\n",
    "3,,\"3\",2019-01-03,C\n",
    ",0.4,\"4\",2019-01-04,A\n",
    "5,0.5,\"5\",2019-01-05,B\n",
    ",,,2019-01-06,C\n",
    "7,0.7,\"7\",,A\n",
    "8,0.8,\"8\",2019-01-08,B\n",
    "9,0.9,,2019-01-09,C\n",
    "\"\"\")\n",
    "\n",
    "df = pd.read_csv(csv_data, dtype={\"x1\": pd.Int64Dtype()}, parse_dates=[3])\n",
    "df"
   ]
  },
  {
   "cell_type": "code",
   "execution_count": 8,
   "metadata": {},
   "outputs": [
    {
     "data": {
      "text/plain": [
       "x1    2\n",
       "x2    3\n",
       "x3    3\n",
       "x4    1\n",
       "x5    0\n",
       "dtype: int64"
      ]
     },
     "execution_count": 8,
     "metadata": {},
     "output_type": "execute_result"
    }
   ],
   "source": [
    "df.isnull().sum()"
   ]
  },
  {
   "cell_type": "code",
   "execution_count": 10,
   "metadata": {},
   "outputs": [
    {
     "data": {
      "text/plain": [
       "x1    2\n",
       "x2    3\n",
       "x3    3\n",
       "x4    1\n",
       "x5    0\n",
       "dtype: int64"
      ]
     },
     "execution_count": 10,
     "metadata": {},
     "output_type": "execute_result"
    }
   ],
   "source": [
    "df.isna().sum()"
   ]
  },
  {
   "cell_type": "code",
   "execution_count": 14,
   "metadata": {
    "collapsed": true,
    "jupyter": {
     "outputs_hidden": true
    }
   },
   "outputs": [
    {
     "data": {
      "image/png": "[encoded data removed]",
      "text/plain": [
       "<Figure size 1728x720 with 3 Axes>"
      ]
     },
     "metadata": {
      "needs_background": "light"
     },
     "output_type": "display_data"
    }
   ],
   "source": [
    "import missingno as msno\n",
    "msno.bar(df)\n",
    "plt.show()\n",
    "%matplotlib inline"
   ]
  },
  {
   "cell_type": "markdown",
   "metadata": {},
   "source": [
    "### dropna(thrash = data number e.g. thrash = int(len(df) * 0.5 , axis = 1 or 0)\n",
    "### imputation\n",
    "    - sklearn SimpleImputer \"mean, median, most_frequent\" # 카테고리 일경우 최빈값으로 채우는게 일반적이고 실수형 데이터에는 최빈값을 쓰면 안된다\n",
    "    - 실수형 데이터의 분포가 대칭적일때는 평균이나 중앙값모두 괜찮으나 비대칭일경우는 평균보다는 중앙값이 좋다."
   ]
  },
  {
   "cell_type": "markdown",
   "metadata": {},
   "source": [
    "##  patsy package"
   ]
  },
  {
   "cell_type": "code",
   "execution_count": 16,
   "metadata": {},
   "outputs": [
    {
     "data": {
      "text/html": [
       "<div>\n",
       "<style scoped>\n",
       "    .dataframe tbody tr th:only-of-type {\n",
       "        vertical-align: middle;\n",
       "    }\n",
       "\n",
       "    .dataframe tbody tr th {\n",
       "        vertical-align: top;\n",
       "    }\n",
       "\n",
       "    .dataframe thead th {\n",
       "        text-align: right;\n",
       "    }\n",
       "</style>\n",
       "<table border=\"1\" class=\"dataframe\">\n",
       "  <thead>\n",
       "    <tr style=\"text-align: right;\">\n",
       "      <th></th>\n",
       "      <th>x1</th>\n",
       "      <th>x2</th>\n",
       "      <th>x3</th>\n",
       "      <th>x4</th>\n",
       "      <th>x5</th>\n",
       "    </tr>\n",
       "  </thead>\n",
       "  <tbody>\n",
       "    <tr>\n",
       "      <th>0</th>\n",
       "      <td>1.764052</td>\n",
       "      <td>-0.977278</td>\n",
       "      <td>0.144044</td>\n",
       "      <td>0.333674</td>\n",
       "      <td>-2.552990</td>\n",
       "    </tr>\n",
       "    <tr>\n",
       "      <th>1</th>\n",
       "      <td>0.400157</td>\n",
       "      <td>0.950088</td>\n",
       "      <td>1.454274</td>\n",
       "      <td>1.494079</td>\n",
       "      <td>0.653619</td>\n",
       "    </tr>\n",
       "    <tr>\n",
       "      <th>2</th>\n",
       "      <td>0.978738</td>\n",
       "      <td>-0.151357</td>\n",
       "      <td>0.761038</td>\n",
       "      <td>-0.205158</td>\n",
       "      <td>0.864436</td>\n",
       "    </tr>\n",
       "    <tr>\n",
       "      <th>3</th>\n",
       "      <td>2.240893</td>\n",
       "      <td>-0.103219</td>\n",
       "      <td>0.121675</td>\n",
       "      <td>0.313068</td>\n",
       "      <td>-0.742165</td>\n",
       "    </tr>\n",
       "    <tr>\n",
       "      <th>4</th>\n",
       "      <td>1.867558</td>\n",
       "      <td>0.410599</td>\n",
       "      <td>0.443863</td>\n",
       "      <td>-0.854096</td>\n",
       "      <td>2.269755</td>\n",
       "    </tr>\n",
       "  </tbody>\n",
       "</table>\n",
       "</div>"
      ],
      "text/plain": [
       "         x1        x2        x3        x4        x5\n",
       "0  1.764052 -0.977278  0.144044  0.333674 -2.552990\n",
       "1  0.400157  0.950088  1.454274  1.494079  0.653619\n",
       "2  0.978738 -0.151357  0.761038 -0.205158  0.864436\n",
       "3  2.240893 -0.103219  0.121675  0.313068 -0.742165\n",
       "4  1.867558  0.410599  0.443863 -0.854096  2.269755"
      ]
     },
     "execution_count": 16,
     "metadata": {},
     "output_type": "execute_result"
    }
   ],
   "source": [
    "from patsy import demo_data\n",
    "\n",
    "df = pd.DataFrame(demo_data(\"x1\", \"x2\", \"x3\", \"x4\", \"x5\"))\n",
    "df"
   ]
  },
  {
   "cell_type": "code",
   "execution_count": 19,
   "metadata": {},
   "outputs": [
    {
     "data": {
      "text/plain": [
       "DesignMatrix with shape (5, 1)\n",
       "       x1\n",
       "  1.76405\n",
       "  0.40016\n",
       "  0.97874\n",
       "  2.24089\n",
       "  1.86756\n",
       "  Terms:\n",
       "    'x1' (column 0)"
      ]
     },
     "execution_count": 19,
     "metadata": {},
     "output_type": "execute_result"
    }
   ],
   "source": [
    "# 데이터를 모두 다 넣고 그중에 필요부분만 빼내서 분석\n",
    "from patsy import dmatrix\n",
    "\n",
    "dmatrix(\"x1 + 0\", data = df)"
   ]
  },
  {
   "cell_type": "code",
   "execution_count": 22,
   "metadata": {},
   "outputs": [
    {
     "data": {
      "text/plain": [
       "DesignMatrix with shape (5, 3)\n",
       "       x1        x2       x3\n",
       "  1.76405  -0.97728  0.14404\n",
       "  0.40016   0.95009  1.45427\n",
       "  0.97874  -0.15136  0.76104\n",
       "  2.24089  -0.10322  0.12168\n",
       "  1.86756   0.41060  0.44386\n",
       "  Terms:\n",
       "    'x1' (column 0)\n",
       "    'x2' (column 1)\n",
       "    'x3' (column 2)"
      ]
     },
     "execution_count": 22,
     "metadata": {},
     "output_type": "execute_result"
    }
   ],
   "source": [
    "dmatrix(\"x1 + x2 + x3 + 0\", data = df) # + 0 은 상수항을 빼고싶을 때 해준다. 다만 회귀분석에서는 상수항이 필요하므로 +0 을 해줄필요가 없다"
   ]
  },
  {
   "cell_type": "code",
   "execution_count": 23,
   "metadata": {},
   "outputs": [
    {
     "data": {
      "text/html": [
       "<div>\n",
       "<style scoped>\n",
       "    .dataframe tbody tr th:only-of-type {\n",
       "        vertical-align: middle;\n",
       "    }\n",
       "\n",
       "    .dataframe tbody tr th {\n",
       "        vertical-align: top;\n",
       "    }\n",
       "\n",
       "    .dataframe thead th {\n",
       "        text-align: right;\n",
       "    }\n",
       "</style>\n",
       "<table border=\"1\" class=\"dataframe\">\n",
       "  <thead>\n",
       "    <tr style=\"text-align: right;\">\n",
       "      <th></th>\n",
       "      <th>survived</th>\n",
       "      <th>pclass</th>\n",
       "      <th>sex</th>\n",
       "      <th>age</th>\n",
       "      <th>sibsp</th>\n",
       "      <th>parch</th>\n",
       "      <th>fare</th>\n",
       "      <th>embarked</th>\n",
       "      <th>class</th>\n",
       "      <th>who</th>\n",
       "      <th>adult_male</th>\n",
       "      <th>deck</th>\n",
       "      <th>embark_town</th>\n",
       "      <th>alive</th>\n",
       "      <th>alone</th>\n",
       "    </tr>\n",
       "  </thead>\n",
       "  <tbody>\n",
       "    <tr>\n",
       "      <th>886</th>\n",
       "      <td>0</td>\n",
       "      <td>2</td>\n",
       "      <td>male</td>\n",
       "      <td>27.0</td>\n",
       "      <td>0</td>\n",
       "      <td>0</td>\n",
       "      <td>13.00</td>\n",
       "      <td>S</td>\n",
       "      <td>Second</td>\n",
       "      <td>man</td>\n",
       "      <td>True</td>\n",
       "      <td>NaN</td>\n",
       "      <td>Southampton</td>\n",
       "      <td>no</td>\n",
       "      <td>True</td>\n",
       "    </tr>\n",
       "    <tr>\n",
       "      <th>887</th>\n",
       "      <td>1</td>\n",
       "      <td>1</td>\n",
       "      <td>female</td>\n",
       "      <td>19.0</td>\n",
       "      <td>0</td>\n",
       "      <td>0</td>\n",
       "      <td>30.00</td>\n",
       "      <td>S</td>\n",
       "      <td>First</td>\n",
       "      <td>woman</td>\n",
       "      <td>False</td>\n",
       "      <td>B</td>\n",
       "      <td>Southampton</td>\n",
       "      <td>yes</td>\n",
       "      <td>True</td>\n",
       "    </tr>\n",
       "    <tr>\n",
       "      <th>888</th>\n",
       "      <td>0</td>\n",
       "      <td>3</td>\n",
       "      <td>female</td>\n",
       "      <td>NaN</td>\n",
       "      <td>1</td>\n",
       "      <td>2</td>\n",
       "      <td>23.45</td>\n",
       "      <td>S</td>\n",
       "      <td>Third</td>\n",
       "      <td>woman</td>\n",
       "      <td>False</td>\n",
       "      <td>NaN</td>\n",
       "      <td>Southampton</td>\n",
       "      <td>no</td>\n",
       "      <td>False</td>\n",
       "    </tr>\n",
       "    <tr>\n",
       "      <th>889</th>\n",
       "      <td>1</td>\n",
       "      <td>1</td>\n",
       "      <td>male</td>\n",
       "      <td>26.0</td>\n",
       "      <td>0</td>\n",
       "      <td>0</td>\n",
       "      <td>30.00</td>\n",
       "      <td>C</td>\n",
       "      <td>First</td>\n",
       "      <td>man</td>\n",
       "      <td>True</td>\n",
       "      <td>C</td>\n",
       "      <td>Cherbourg</td>\n",
       "      <td>yes</td>\n",
       "      <td>True</td>\n",
       "    </tr>\n",
       "    <tr>\n",
       "      <th>890</th>\n",
       "      <td>0</td>\n",
       "      <td>3</td>\n",
       "      <td>male</td>\n",
       "      <td>32.0</td>\n",
       "      <td>0</td>\n",
       "      <td>0</td>\n",
       "      <td>7.75</td>\n",
       "      <td>Q</td>\n",
       "      <td>Third</td>\n",
       "      <td>man</td>\n",
       "      <td>True</td>\n",
       "      <td>NaN</td>\n",
       "      <td>Queenstown</td>\n",
       "      <td>no</td>\n",
       "      <td>True</td>\n",
       "    </tr>\n",
       "  </tbody>\n",
       "</table>\n",
       "</div>"
      ],
      "text/plain": [
       "     survived  pclass     sex   age  sibsp  parch   fare embarked   class  \\\n",
       "886         0       2    male  27.0      0      0  13.00        S  Second   \n",
       "887         1       1  female  19.0      0      0  30.00        S   First   \n",
       "888         0       3  female   NaN      1      2  23.45        S   Third   \n",
       "889         1       1    male  26.0      0      0  30.00        C   First   \n",
       "890         0       3    male  32.0      0      0   7.75        Q   Third   \n",
       "\n",
       "       who  adult_male deck  embark_town alive  alone  \n",
       "886    man        True  NaN  Southampton    no   True  \n",
       "887  woman       False    B  Southampton   yes   True  \n",
       "888  woman       False  NaN  Southampton    no  False  \n",
       "889    man        True    C    Cherbourg   yes   True  \n",
       "890    man        True  NaN   Queenstown    no   True  "
      ]
     },
     "execution_count": 23,
     "metadata": {},
     "output_type": "execute_result"
    }
   ],
   "source": [
    "titanic = sns.load_dataset(\"titanic\")\n",
    "titanic.tail()"
   ]
  },
  {
   "cell_type": "code",
   "execution_count": 28,
   "metadata": {},
   "outputs": [
    {
     "data": {
      "text/plain": [
       "DesignMatrix with shape (714, 3)\n",
       "  survived  pclass  age\n",
       "         0       3   22\n",
       "         1       1   38\n",
       "         1       3   26\n",
       "         1       1   35\n",
       "         0       3   35\n",
       "         0       1   54\n",
       "         0       3    2\n",
       "         1       3   27\n",
       "         1       2   14\n",
       "         1       3    4\n",
       "         1       1   58\n",
       "         0       3   20\n",
       "         0       3   39\n",
       "         0       3   14\n",
       "         1       2   55\n",
       "         0       3    2\n",
       "         0       3   31\n",
       "         0       2   35\n",
       "         1       2   34\n",
       "         1       3   15\n",
       "         1       1   28\n",
       "         0       3    8\n",
       "         1       3   38\n",
       "         0       1   19\n",
       "         0       1   40\n",
       "         0       2   66\n",
       "         0       1   28\n",
       "         0       1   42\n",
       "         0       3   21\n",
       "         0       3   18\n",
       "  [684 rows omitted]\n",
       "  Terms:\n",
       "    'survived' (column 0)\n",
       "    'pclass' (column 1)\n",
       "    'age' (column 2)\n",
       "  (to view full data, use np.asarray(this_obj))"
      ]
     },
     "execution_count": 28,
     "metadata": {},
     "output_type": "execute_result"
    }
   ],
   "source": [
    "dmatrix(\"survived+pclass+age+0\", data = titanic)"
   ]
  },
  {
   "cell_type": "code",
   "execution_count": 33,
   "metadata": {},
   "outputs": [
    {
     "data": {
      "text/plain": [
       "DesignMatrix with shape (5, 3)\n",
       "  Intercept  ten_times(x1)        x2\n",
       "          1       17.64052  -0.97728\n",
       "          1        4.00157   0.95009\n",
       "          1        9.78738  -0.15136\n",
       "          1       22.40893  -0.10322\n",
       "          1       18.67558   0.41060\n",
       "  Terms:\n",
       "    'Intercept' (column 0)\n",
       "    'ten_times(x1)' (column 1)\n",
       "    'x2' (column 2)"
      ]
     },
     "execution_count": 33,
     "metadata": {},
     "output_type": "execute_result"
    }
   ],
   "source": [
    "def ten_times(x):\n",
    "    return x * 10\n",
    "dmatrix(\"ten_times(x1) + x2 \", df) # if you don't need constant column add \"+ 0\""
   ]
  },
  {
   "cell_type": "code",
   "execution_count": 37,
   "metadata": {},
   "outputs": [
    {
     "data": {
      "text/plain": [
       "DesignMatrix with shape (5, 3)\n",
       "  Intercept     x1:x2  I(x1 + x2)\n",
       "          1  -1.72397     0.78677\n",
       "          1   0.38018     1.35025\n",
       "          1  -0.14814     0.82738\n",
       "          1  -0.23130     2.13767\n",
       "          1   0.76682     2.27816\n",
       "  Terms:\n",
       "    'Intercept' (column 0)\n",
       "    'x1:x2' (column 1)\n",
       "    'I(x1 + x2)' (column 2)"
      ]
     },
     "execution_count": 37,
     "metadata": {},
     "output_type": "execute_result"
    }
   ],
   "source": [
    "# interaction\n",
    "dmatrix(\"x1 : x2 + I(x1 + x2) \", df) "
   ]
  },
  {
   "cell_type": "code",
   "execution_count": 38,
   "metadata": {},
   "outputs": [
    {
     "data": {
      "text/plain": [
       "DesignMatrix with shape (5, 3)\n",
       "  Intercept  scale(x1):x2  I(x1 + x2)\n",
       "          1      -0.45991     0.78677\n",
       "          1      -1.49639     1.35025\n",
       "          1       0.10704     0.82738\n",
       "          1      -0.12239     2.13767\n",
       "          1       0.25697     2.27816\n",
       "  Terms:\n",
       "    'Intercept' (column 0)\n",
       "    'scale(x1):x2' (column 1)\n",
       "    'I(x1 + x2)' (column 2)"
      ]
     },
     "execution_count": 38,
     "metadata": {},
     "output_type": "execute_result"
    }
   ],
   "source": [
    "# scale()/stadardize/center\n",
    "dmatrix(\"scale(x1) : x2 + I(x1 + x2) \", df) # scaling for bad condition no."
   ]
  },
  {
   "cell_type": "markdown",
   "metadata": {},
   "source": [
    "### Training Data 의 스케일링 정보를 저장해둬야한다 / patsy 는 traing 스케일링 정보를 자동저장한다."
   ]
  },
  {
   "cell_type": "markdown",
   "metadata": {},
   "source": [
    "## sklean's preprocessing <font color = 'skyblue'> StandardScaler <\\>  package"
   ]
  },
  {
   "cell_type": "markdown",
   "metadata": {},
   "source": [
    "### fit_transform : x_ == 0, s ==1 평균이 0이고 표준편차가 1인 데이터로 fit_transform "
   ]
  },
  {
   "cell_type": "code",
   "execution_count": 41,
   "metadata": {},
   "outputs": [
    {
     "data": {
      "text/plain": [
       "array([[ 0.4706027 , -1.5639863 , -0.89423965,  0.1520394 , -1.62293062],\n",
       "       [-1.57499573,  1.44123885,  1.76297617,  1.65532735,  0.33975551],\n",
       "       [-0.70722819, -0.27617838,  0.35705723, -0.54601061,  0.46879178],\n",
       "       [ 1.18577858, -0.20111917, -0.93960427,  0.12534381, -0.5145693 ],\n",
       "       [ 0.62584263,  0.60004501, -0.28618947, -1.38669994,  1.32895263]])"
      ]
     },
     "execution_count": 41,
     "metadata": {},
     "output_type": "execute_result"
    }
   ],
   "source": [
    "from sklearn.preprocessing import StandardScaler\n",
    "\n",
    "scaler = StandardScaler()\n",
    "scaler.fit_transform(df)"
   ]
  },
  {
   "cell_type": "markdown",
   "metadata": {},
   "source": [
    "### <font color = \"green\"> notice. outlier data fit_transform 은 RobustScaler 클래스를 사용하면 IQR이 1이 되도록 변환하게 되어 좋다"
   ]
  },
  {
   "cell_type": "markdown",
   "metadata": {},
   "source": [
    "### preprocessing 서브패키지는 데이터 변환을 위한 FunctionTransformer 클래스와 PolynomialFeatures 클래스도 제공한다.\n",
    "PolynomialFeatures 클래스는 입력 데이터  𝑥 를 다음과 같이 여러개의 다항식으로 변환한다. 𝑥→[1,𝑥,𝑥2,𝑥3,⋯] \n",
    "다음과 같은 입력 인수를 가진다. \n",
    "degree : 차수\n",
    "include_bias : 상수항 생성 여부"
   ]
  },
  {
   "cell_type": "markdown",
   "metadata": {},
   "source": [
    "### <font color = \"green\"> notice. 입력변수가 각도일때 FunctionTransformer 를 삼각함수로 각도를 주면 0도와 360의 오류를 해결가능"
   ]
  },
  {
   "cell_type": "markdown",
   "metadata": {},
   "source": [
    "#### caterory embedding : 카테고리 대신 실수값 사용 (운동선수의 연봉등으로 )"
   ]
  },
  {
   "cell_type": "markdown",
   "metadata": {},
   "source": [
    "### un-supervised \n",
    "- clustering (e.g. Attinity Propagation)\n",
    "- imputating / impating\n",
    "- etc."
   ]
  },
  {
   "cell_type": "code",
   "execution_count": 3,
   "metadata": {},
   "outputs": [],
   "source": [
    "\n",
    "import sklearn as sk"
   ]
  },
  {
   "cell_type": "markdown",
   "metadata": {},
   "source": [
    "## 12. OLS, MLE Regression"
   ]
  },
  {
   "cell_type": "markdown",
   "metadata": {},
   "source": [
    "# ++++ 분석 1. 데이터 로드"
   ]
  },
  {
   "cell_type": "markdown",
   "metadata": {},
   "source": [
    "# 예측하고 싶은 숫자\n",
    "$$ y^ = f(x) ≈ y $$\n",
    "함수 f(x)를  = w0 + w1x1 + w2x2 + ... + wDxD = w0 + w.T * x\n",
    "x = (x1, x2, ..., xD) D차원 벡터\n",
    "w = 가중치 함수f(x)의 계수 [coefficient, 係數 けいすう] 또는 선형회귀모형의 모수(parameter)"
   ]
  },
  {
   "cell_type": "code",
   "execution_count": 42,
   "metadata": {},
   "outputs": [
    {
     "ename": "NameError",
     "evalue": "name 'diabetes' is not defined",
     "output_type": "error",
     "traceback": [
      "\u001b[0;31m---------------------------------------------------------------------------\u001b[0m",
      "\u001b[0;31mNameError\u001b[0m                                 Traceback (most recent call last)",
      "\u001b[0;32m<ipython-input-42-09f18f280f3a>\u001b[0m in \u001b[0;36m<module>\u001b[0;34m\u001b[0m\n\u001b[1;32m      1\u001b[0m \u001b[0;31m### regression analysis\u001b[0m\u001b[0;34m\u001b[0m\u001b[0;34m\u001b[0m\u001b[0;34m\u001b[0m\u001b[0m\n\u001b[1;32m      2\u001b[0m \u001b[0;32mfrom\u001b[0m \u001b[0msklearn\u001b[0m\u001b[0;34m.\u001b[0m\u001b[0mdatasets\u001b[0m \u001b[0;32mimport\u001b[0m \u001b[0mload_diabetes\u001b[0m\u001b[0;34m\u001b[0m\u001b[0;34m\u001b[0m\u001b[0m\n\u001b[0;32m----> 3\u001b[0;31m \u001b[0mdf\u001b[0m \u001b[0;34m=\u001b[0m \u001b[0mpd\u001b[0m\u001b[0;34m.\u001b[0m\u001b[0mDataFrame\u001b[0m\u001b[0;34m(\u001b[0m\u001b[0mdiabetes\u001b[0m\u001b[0;34m.\u001b[0m\u001b[0mdata\u001b[0m\u001b[0;34m)\u001b[0m\u001b[0;34m\u001b[0m\u001b[0;34m\u001b[0m\u001b[0m\n\u001b[0m",
      "\u001b[0;31mNameError\u001b[0m: name 'diabetes' is not defined"
     ]
    }
   ],
   "source": [
    "### regression analysis\n",
    "from sklearn.datasets import load_diabetes\n",
    "df = pd.DataFrame(diabetes.data)"
   ]
  },
  {
   "cell_type": "markdown",
   "metadata": {},
   "source": [
    "# ++++ 분석 2. pair pot 으로 직관적인 상관관계 파악\n",
    "예측하려는 변수와의 상관관계 및 독립변수간에 상관관계도 파악"
   ]
  },
  {
   "cell_type": "code",
   "execution_count": 44,
   "metadata": {},
   "outputs": [],
   "source": [
    "from sklearn.datasets import make_regression\n",
    "# y = w.T * X + b + ϵ\n",
    "X, y, w = make_regression(n_samples = 50, n_features = 1, bias = 100, noise = 10, coef = True, random_state = 0)\n",
    "# bias = y's intercept\n"
   ]
  },
  {
   "cell_type": "code",
   "execution_count": 46,
   "metadata": {
    "collapsed": true,
    "jupyter": {
     "outputs_hidden": true
    }
   },
   "outputs": [
    {
     "data": {
      "image/png": "[encoded data removed]",
      "text/plain": [
       "<Figure size 432x288 with 1 Axes>"
      ]
     },
     "metadata": {
      "needs_background": "light"
     },
     "output_type": "display_data"
    }
   ],
   "source": [
    "xx = np.linspace(-3, 3, 100)\n",
    "y0 = w * xx + 100\n",
    "plt.plot(xx, y0, \"r-\")\n",
    "plt.scatter(X, y, s = 100)\n",
    "plt.xlabel(\"X\")\n",
    "plt.ylabel(\"y\")\n",
    "plt.title(\"sample of regression\")\n",
    "plt.show()\n",
    "%matplotlib inline\n",
    "%config InlineBackend.figure_format = 'retina'\n"
   ]
  },
  {
   "cell_type": "code",
   "execution_count": 47,
   "metadata": {},
   "outputs": [
    {
     "data": {
      "text/plain": [
       "array([[-0.85409574],\n",
       "       [ 1.49407907],\n",
       "       [-0.34791215],\n",
       "       [ 0.44386323],\n",
       "       [-0.18718385],\n",
       "       [ 1.86755799],\n",
       "       [ 0.4105985 ],\n",
       "       [-1.70627019],\n",
       "       [-1.42001794],\n",
       "       [ 0.8644362 ],\n",
       "       [ 0.97873798],\n",
       "       [-0.20515826],\n",
       "       [ 0.15494743],\n",
       "       [-0.50965218],\n",
       "       [ 1.53277921],\n",
       "       [-0.74216502],\n",
       "       [-1.45436567],\n",
       "       [-0.10321885],\n",
       "       [-2.55298982],\n",
       "       [ 1.76405235],\n",
       "       [-1.25279536],\n",
       "       [-0.97727788],\n",
       "       [ 0.04575852],\n",
       "       [-0.4380743 ],\n",
       "       [ 0.76103773],\n",
       "       [ 0.14404357],\n",
       "       [-0.21274028],\n",
       "       [ 1.20237985],\n",
       "       [-0.38732682],\n",
       "       [ 2.2408932 ],\n",
       "       [ 0.77749036],\n",
       "       [ 0.15634897],\n",
       "       [-1.61389785],\n",
       "       [ 1.9507754 ],\n",
       "       [ 0.40015721],\n",
       "       [ 1.46935877],\n",
       "       [ 1.45427351],\n",
       "       [-0.30230275],\n",
       "       [ 0.3130677 ],\n",
       "       [ 0.33367433],\n",
       "       [ 2.26975462],\n",
       "       [-0.15135721],\n",
       "       [ 0.12167502],\n",
       "       [ 0.37816252],\n",
       "       [ 0.6536186 ],\n",
       "       [ 0.95008842],\n",
       "       [ 1.23029068],\n",
       "       [-0.88778575],\n",
       "       [-1.04855297],\n",
       "       [-1.98079647]])"
      ]
     },
     "execution_count": 47,
     "metadata": {},
     "output_type": "execute_result"
    }
   ],
   "source": [
    "X"
   ]
  },
  {
   "cell_type": "code",
   "execution_count": 48,
   "metadata": {},
   "outputs": [
    {
     "data": {
      "text/plain": [
       "array([ 69.16576208, 129.94932345,  80.01389923, 100.30585701,\n",
       "       107.20314663, 140.88561123, 112.99506826,  82.25108224,\n",
       "        71.56780523, 111.67769684, 112.48530888, 114.65029223,\n",
       "       111.71570029, 101.63406761, 127.78240131,  93.08609825,\n",
       "        80.69164687, 113.11903254,  61.0218126 , 131.15670173,\n",
       "        91.08078405,  79.88503003,  90.81838842,  95.10877879,\n",
       "       108.56190647,  98.64651153,  96.63568503, 125.15577947,\n",
       "        98.56417169, 131.95814648, 121.75870162, 106.25707916,\n",
       "        80.40782312, 128.46531432,  98.60107781, 110.84947303,\n",
       "       116.3307515 , 103.39347869, 106.6868286 , 103.97656433,\n",
       "       127.6988851 ,  97.31416893,  94.52678796,  96.96377225,\n",
       "       101.80069439, 119.35745   , 118.85230744, 104.32382223,\n",
       "        92.40639334,  83.7664334 ])"
      ]
     },
     "execution_count": 48,
     "metadata": {},
     "output_type": "execute_result"
    }
   ],
   "source": [
    "y"
   ]
  },
  {
   "cell_type": "code",
   "execution_count": 49,
   "metadata": {},
   "outputs": [
    {
     "data": {
      "text/plain": [
       "array(15.89695836)"
      ]
     },
     "execution_count": 49,
     "metadata": {},
     "output_type": "execute_result"
    }
   ],
   "source": [
    "w"
   ]
  },
  {
   "cell_type": "code",
   "execution_count": null,
   "metadata": {},
   "outputs": [],
   "source": []
  },
  {
   "cell_type": "code",
   "execution_count": 61,
   "metadata": {},
   "outputs": [],
   "source": [
    "def make_regression2(n_samples, bias, noise, random_state=0):\n",
    "    np.random.seed(random_state)\n",
    "    X = np.random.normal(size=n_samples)\n",
    "    w = 10 * np.random.normal(size = 1)[0]\n",
    "    epsilon = np.random.normal(size = n_samples, loc = 0, scale = noise)\n",
    "    y0 = w * X + bias\n",
    "    y = y0 + epsilon\n",
    "    return X, y, w"
   ]
  },
  {
   "cell_type": "code",
   "execution_count": 62,
   "metadata": {},
   "outputs": [],
   "source": [
    "X, y, w = make_regression2(50, 100, 10)"
   ]
  },
  {
   "cell_type": "code",
   "execution_count": 63,
   "metadata": {},
   "outputs": [
    {
     "data": {
      "image/png": "[encoded data removed]",
      "text/plain": [
       "<Figure size 432x288 with 1 Axes>"
      ]
     },
     "metadata": {
      "image/png": {
       "height": 251,
       "width": 377
      },
      "needs_background": "light"
     },
     "output_type": "display_data"
    }
   ],
   "source": [
    "plt.scatter(X, y, s= 50)\n",
    "plt.show()"
   ]
  },
  {
   "cell_type": "code",
   "execution_count": null,
   "metadata": {},
   "outputs": [],
   "source": []
  },
  {
   "cell_type": "markdown",
   "metadata": {},
   "source": [
    "# ++++ 분석 3. <font color = \"yellow\"> bias augmentation\n",
    "    회귀분석모형 수식을 간단하게 만들기 위해 다음과 같이 상수항을 독립변수 데이터에 추가하는 것을 상수항 결합(bias augmentation)작업이라고 한다"
   ]
  },
  {
   "cell_type": "raw",
   "metadata": {},
   "source": [
    "import statsmodels.api as sm\n",
    "X = sm.add_constant(X0)"
   ]
  },
  {
   "cell_type": "markdown",
   "metadata": {
    "jupyter": {
     "source_hidden": true
    }
   },
   "source": [
    "# ++++ 분석 4. <font color = \"yellow\"> OLS : Ordinary Least Squares\n",
    "    RSS(Residual Sum of Squares) 를 최소화하는 가중치 벡터를 구하는 방법."
   ]
  },
  {
   "cell_type": "markdown",
   "metadata": {},
   "source": [
    "<img src= OLS.png width=\"900\" height=\"600\" align=\"center\"/>"
   ]
  },
  {
   "cell_type": "markdown",
   "metadata": {},
   "source": [
    "예측치와 실측치간의 차이(e = residual)vector가 작게 vector 의 크기는 norm 이고 vector 의 내적으로 구한다(벡터의 내적은 놈의 제곱)\n",
    "\n",
    "RSS:residual sum of squares\n",
    "RSS 가 가장 작아지는 w 값을 구하고 싶다 -> 최적화(최소화) -> 벡터를 w로 미분한 gradient 벡터가 0 벡터인 w 값을 찾는다.\n"
   ]
  },
  {
   "cell_type": "markdown",
   "metadata": {},
   "source": [
    "# OLS\n",
    "<img src=\"IMG_0135.jpg\" width=\"800\" height=\"500\" align=\"center\"/>"
   ]
  },
  {
   "cell_type": "markdown",
   "metadata": {},
   "source": [
    "# 직교방정식"
   ]
  },
  {
   "cell_type": "markdown",
   "metadata": {},
   "source": [
    "<img src=\"normal_equation.png\" width=\"600\" height=\"300\" align=\"center\"/>"
   ]
  },
  {
   "cell_type": "markdown",
   "metadata": {},
   "source": [
    "<img src=\"IMG_0136.jpg\" width=\"800\" height=\"300\" align=\"center\"/>"
   ]
  },
  {
   "cell_type": "code",
   "execution_count": 71,
   "metadata": {},
   "outputs": [],
   "source": [
    "from sklearn.datasets import make_regression\n",
    "\n",
    "bias = 100\n",
    "X0, y, w = make_regression(n_samples=200, n_features=1, bias = bias, noise = 10, coef= True, random_state = 1)\n",
    "X = sm.add_constant(X0) # aggument\n",
    "y = y.reshape(len(y), 1)"
   ]
  },
  {
   "cell_type": "code",
   "execution_count": 72,
   "metadata": {
    "collapsed": true,
    "jupyter": {
     "outputs_hidden": true
    }
   },
   "outputs": [
    {
     "data": {
      "text/plain": [
       "array([[ 127.87901739],\n",
       "       [  93.03291422],\n",
       "       [ 161.8575084 ],\n",
       "       [ 141.69205026],\n",
       "       [ 283.26011945],\n",
       "       [  90.25696513],\n",
       "       [  56.03995466],\n",
       "       [ -42.34640353],\n",
       "       [ 141.31386351],\n",
       "       [ 124.09193693],\n",
       "       [  39.41917167],\n",
       "       [ 135.07481793],\n",
       "       [ 178.08066288],\n",
       "       [ 180.36872137],\n",
       "       [  89.19700235],\n",
       "       [ 277.68618624],\n",
       "       [ 202.52143015],\n",
       "       [ 165.39865332],\n",
       "       [ 106.38565624],\n",
       "       [  -1.06621849],\n",
       "       [ 185.12242638],\n",
       "       [ 112.67820029],\n",
       "       [ 151.75241542],\n",
       "       [ 260.90931323],\n",
       "       [ -17.9616411 ],\n",
       "       [  31.01126238],\n",
       "       [ 179.2938956 ],\n",
       "       [  83.19417584],\n",
       "       [ 100.66930574],\n",
       "       [ 206.12479851],\n",
       "       [ -12.22124607],\n",
       "       [ 164.77212573],\n",
       "       [  54.65764624],\n",
       "       [ -51.08607086],\n",
       "       [ 121.03299419],\n",
       "       [ -65.9912507 ],\n",
       "       [ 123.47026771],\n",
       "       [ 205.83869473],\n",
       "       [ 205.19728016],\n",
       "       [  95.38016322],\n",
       "       [ 291.19019753],\n",
       "       [  45.7309971 ],\n",
       "       [ 124.78046825],\n",
       "       [  -1.74260654],\n",
       "       [ -26.18459865],\n",
       "       [ 134.53858888],\n",
       "       [ 252.09968374],\n",
       "       [ 109.61418894],\n",
       "       [ 232.3968079 ],\n",
       "       [ 128.08147968],\n",
       "       [ 159.05974492],\n",
       "       [  65.07874616],\n",
       "       [  38.39346876],\n",
       "       [  31.49882354],\n",
       "       [  32.77358586],\n",
       "       [ 181.15848795],\n",
       "       [ 138.26384731],\n",
       "       [ 160.01026797],\n",
       "       [  26.20090161],\n",
       "       [  95.94347266],\n",
       "       [ 109.2406166 ],\n",
       "       [ 170.96461947],\n",
       "       [  78.8079428 ],\n",
       "       [ 214.65294613],\n",
       "       [ 216.89905414],\n",
       "       [  77.49199612],\n",
       "       [  48.72995545],\n",
       "       [ 120.07136211],\n",
       "       [ 268.9681249 ],\n",
       "       [  58.06608637],\n",
       "       [ 120.040657  ],\n",
       "       [ -41.69596313],\n",
       "       [ 113.47563441],\n",
       "       [  63.77551936],\n",
       "       [ 103.00932518],\n",
       "       [-114.41405677],\n",
       "       [  54.56134632],\n",
       "       [ 118.13565971],\n",
       "       [ 304.19773387],\n",
       "       [  87.29059315],\n",
       "       [ -72.02552333],\n",
       "       [ 127.25224679],\n",
       "       [  80.41680816],\n",
       "       [  80.88899146],\n",
       "       [ 103.98009306],\n",
       "       [ 131.68798312],\n",
       "       [ 172.90794106],\n",
       "       [  33.88721405],\n",
       "       [ 135.83033783],\n",
       "       [ 111.70535968],\n",
       "       [  68.45415804],\n",
       "       [ 113.68251103],\n",
       "       [ 131.13347061],\n",
       "       [ 132.0433729 ],\n",
       "       [ 133.6276107 ],\n",
       "       [  59.37030977],\n",
       "       [ 180.95564222],\n",
       "       [ 149.38362865],\n",
       "       [ 175.72819313],\n",
       "       [ 143.87432786],\n",
       "       [ 156.85278029],\n",
       "       [  78.24894023],\n",
       "       [  35.96808376],\n",
       "       [ 157.74533188],\n",
       "       [  77.83771057],\n",
       "       [ 127.11541935],\n",
       "       [ 102.14095113],\n",
       "       [ 115.3473034 ],\n",
       "       [ 183.36271164],\n",
       "       [ 210.58103472],\n",
       "       [  66.22155114],\n",
       "       [ 106.96133342],\n",
       "       [   4.81353628],\n",
       "       [  79.86409901],\n",
       "       [ 122.87072115],\n",
       "       [ 164.95928745],\n",
       "       [ 152.1101699 ],\n",
       "       [  61.83036524],\n",
       "       [ 145.98130098],\n",
       "       [  83.65108305],\n",
       "       [ -19.57268156],\n",
       "       [   9.28051963],\n",
       "       [ 243.83406874],\n",
       "       [ 210.60464765],\n",
       "       [ 220.44045397],\n",
       "       [ 253.21820026],\n",
       "       [ 119.28450539],\n",
       "       [ 102.82142768],\n",
       "       [  19.10607222],\n",
       "       [  45.34160526],\n",
       "       [  83.99153918],\n",
       "       [  55.53669622],\n",
       "       [ 133.02770487],\n",
       "       [ 122.70086723],\n",
       "       [   7.23170191],\n",
       "       [  85.09914725],\n",
       "       [  55.225854  ],\n",
       "       [ -16.84936804],\n",
       "       [  94.4695312 ],\n",
       "       [ 178.80639069],\n",
       "       [  92.19370848],\n",
       "       [-108.05090076],\n",
       "       [ 161.35370526],\n",
       "       [  34.99001864],\n",
       "       [ 157.36694678],\n",
       "       [ 280.09653532],\n",
       "       [  40.89853138],\n",
       "       [ 134.27245847],\n",
       "       [ 141.86480222],\n",
       "       [ 194.12779237],\n",
       "       [ 175.16827948],\n",
       "       [ 222.51407802],\n",
       "       [  -1.41795486],\n",
       "       [   5.76132181],\n",
       "       [ -11.61636031],\n",
       "       [  42.68278325],\n",
       "       [  88.12180703],\n",
       "       [ 155.49866992],\n",
       "       [ -14.15911631],\n",
       "       [ 156.62139571],\n",
       "       [ 152.49839419],\n",
       "       [ 178.16505767],\n",
       "       [  58.26697973],\n",
       "       [ 151.95521104],\n",
       "       [ -52.82489723],\n",
       "       [ 126.46993214],\n",
       "       [ 120.49397621],\n",
       "       [  93.13408055],\n",
       "       [ 136.79268648],\n",
       "       [  53.46319131],\n",
       "       [  -8.47375789],\n",
       "       [ 136.26595974],\n",
       "       [ 230.16964995],\n",
       "       [ 196.71868444],\n",
       "       [ 158.06308503],\n",
       "       [ 200.96766906],\n",
       "       [  22.08808073],\n",
       "       [  62.37728923],\n",
       "       [  96.140735  ],\n",
       "       [  61.16897696],\n",
       "       [ 159.66188496],\n",
       "       [ 299.92087952],\n",
       "       [ 126.40677509],\n",
       "       [  11.15746046],\n",
       "       [  94.54257626],\n",
       "       [ 104.02971999],\n",
       "       [  13.74968684],\n",
       "       [ 153.32375142],\n",
       "       [ 187.51769842],\n",
       "       [  38.17419083],\n",
       "       [  80.87286253],\n",
       "       [ 109.12264365],\n",
       "       [  73.298454  ],\n",
       "       [  40.3779431 ],\n",
       "       [  38.41740456],\n",
       "       [  87.87427694],\n",
       "       [ -13.62666416],\n",
       "       [ 216.10661876],\n",
       "       [ 212.74314943],\n",
       "       [ 150.01758893]])"
      ]
     },
     "execution_count": 72,
     "metadata": {},
     "output_type": "execute_result"
    }
   ],
   "source": [
    "y"
   ]
  },
  {
   "cell_type": "code",
   "execution_count": 65,
   "metadata": {},
   "outputs": [
    {
     "data": {
      "text/plain": [
       "array(86.44794301)"
      ]
     },
     "execution_count": 65,
     "metadata": {},
     "output_type": "execute_result"
    }
   ],
   "source": [
    "w"
   ]
  },
  {
   "cell_type": "raw",
   "metadata": {},
   "source": [
    "y = 100 + 86.44794301x + e"
   ]
  },
  {
   "cell_type": "code",
   "execution_count": 67,
   "metadata": {},
   "outputs": [
    {
     "data": {
      "text/plain": [
       "array([[99.79150869],\n",
       "       [86.96171201]])"
      ]
     },
     "execution_count": 67,
     "metadata": {},
     "output_type": "execute_result"
    }
   ],
   "source": [
    "# OLS 해를 직접이용\n",
    "w = np.linalg.inv(X.T @ X) @ X.T @ y\n",
    "w"
   ]
  },
  {
   "cell_type": "raw",
   "metadata": {},
   "source": [
    "y = 100 + 86.44794301x + e"
   ]
  },
  {
   "cell_type": "raw",
   "metadata": {},
   "source": [
    "y^ = 99.79150869 + 86.96171201x # 위에 식과 비교해서 비슷하지만 완벽히 같지는 않다! 잡음때매"
   ]
  },
  {
   "cell_type": "markdown",
   "metadata": {},
   "source": [
    "# OLS 는 주로 statsmodels 를 쓸꺼지만 sklearn 도 알아는 놓는다."
   ]
  },
  {
   "cell_type": "markdown",
   "metadata": {},
   "source": [
    "# <font color = \"yellow\"> statsmodels 패키지를 사용한 선형 회귀분석"
   ]
  },
  {
   "cell_type": "markdown",
   "metadata": {},
   "source": [
    "1. 독립변수와 종속변수가 모두 포함된 데이터프레임 생성. 상수항 결함은 하지 않아도 된다.\n",
    "2. OLS 클래스 객체 생성. 이 때 from_formula 메서드의 인수로 종속변수와 독립변수를 지정하는 formula 문자열을 넣는다. data 인수로는 독립변수와 종속변수가 모두 포함된 데이터프레임을 넣는다."
   ]
  },
  {
   "cell_type": "raw",
   "metadata": {},
   "source": [
    "model = OLS.from_formula(formula, data=df)"
   ]
  },
  {
   "cell_type": "markdown",
   "metadata": {},
   "source": [
    "또는 독립변수만 있는 데이터프레임 dfX와 종속변수만 있는 데이터프레임 dfy를 인수로 넣어서 만들 수도 있다. 이 때는 독립변수만 있는 데이터프레임 dfX가 상수항을 가지고 있어야 한다."
   ]
  },
  {
   "cell_type": "raw",
   "metadata": {},
   "source": [
    "model = OLS(dfy, dfX)"
   ]
  },
  {
   "cell_type": "raw",
   "metadata": {},
   "source": [
    "result = model.fit() # 모델 객체 생성"
   ]
  },
  {
   "cell_type": "raw",
   "metadata": {},
   "source": [
    "print(result.summary())\n",
    "\n",
    "y_new = result.predict(x_new)"
   ]
  },
  {
   "cell_type": "code",
   "execution_count": 14,
   "metadata": {},
   "outputs": [
    {
     "ename": "IndexError",
     "evalue": "too many indices for array",
     "output_type": "error",
     "traceback": [
      "\u001b[0;31m---------------------------------------------------------------------------\u001b[0m",
      "\u001b[0;31mIndexError\u001b[0m                                Traceback (most recent call last)",
      "\u001b[0;32m<ipython-input-14-9ac91120f726>\u001b[0m in \u001b[0;36m<module>\u001b[0;34m\u001b[0m\n\u001b[0;32m----> 1\u001b[0;31m \u001b[0mdf\u001b[0m \u001b[0;34m=\u001b[0m \u001b[0mpd\u001b[0m\u001b[0;34m.\u001b[0m\u001b[0mDataFrame\u001b[0m\u001b[0;34m(\u001b[0m\u001b[0;34m{\u001b[0m\u001b[0;34m\"x\"\u001b[0m\u001b[0;34m:\u001b[0m \u001b[0mX0\u001b[0m\u001b[0;34m[\u001b[0m\u001b[0;34m:\u001b[0m\u001b[0;34m,\u001b[0m \u001b[0;36m0\u001b[0m\u001b[0;34m]\u001b[0m\u001b[0;34m,\u001b[0m \u001b[0;34m\"y\"\u001b[0m\u001b[0;34m:\u001b[0m \u001b[0my\u001b[0m\u001b[0;34m[\u001b[0m\u001b[0;34m:\u001b[0m\u001b[0;34m,\u001b[0m \u001b[0;36m0\u001b[0m\u001b[0;34m]\u001b[0m\u001b[0;34m}\u001b[0m\u001b[0;34m)\u001b[0m\u001b[0;34m\u001b[0m\u001b[0;34m\u001b[0m\u001b[0m\n\u001b[0m\u001b[1;32m      2\u001b[0m \u001b[0mdf\u001b[0m\u001b[0;34m\u001b[0m\u001b[0;34m\u001b[0m\u001b[0m\n",
      "\u001b[0;31mIndexError\u001b[0m: too many indices for array"
     ]
    }
   ],
   "source": [
    "df = pd.DataFrame({\"x\": X0[:, 0], \"y\": y[:, 0]})\n",
    "df"
   ]
  },
  {
   "cell_type": "code",
   "execution_count": 15,
   "metadata": {},
   "outputs": [
    {
     "ename": "NameError",
     "evalue": "name 'df' is not defined",
     "output_type": "error",
     "traceback": [
      "\u001b[0;31m---------------------------------------------------------------------------\u001b[0m",
      "\u001b[0;31mNameError\u001b[0m                                 Traceback (most recent call last)",
      "\u001b[0;32m<ipython-input-15-3414537ba6ff>\u001b[0m in \u001b[0;36m<module>\u001b[0;34m\u001b[0m\n\u001b[0;32m----> 1\u001b[0;31m \u001b[0mmodel\u001b[0m \u001b[0;34m=\u001b[0m \u001b[0msm\u001b[0m\u001b[0;34m.\u001b[0m\u001b[0mOLS\u001b[0m\u001b[0;34m.\u001b[0m\u001b[0mfrom_formula\u001b[0m\u001b[0;34m(\u001b[0m\u001b[0;34m\"y ~ x\"\u001b[0m\u001b[0;34m,\u001b[0m \u001b[0mdata\u001b[0m \u001b[0;34m=\u001b[0m \u001b[0mdf\u001b[0m\u001b[0;34m)\u001b[0m\u001b[0;34m\u001b[0m\u001b[0;34m\u001b[0m\u001b[0m\n\u001b[0m\u001b[1;32m      2\u001b[0m \u001b[0mresult\u001b[0m \u001b[0;34m=\u001b[0m \u001b[0mmodel\u001b[0m\u001b[0;34m.\u001b[0m\u001b[0mfit\u001b[0m\u001b[0;34m(\u001b[0m\u001b[0;34m)\u001b[0m\u001b[0;34m\u001b[0m\u001b[0;34m\u001b[0m\u001b[0m\n",
      "\u001b[0;31mNameError\u001b[0m: name 'df' is not defined"
     ]
    }
   ],
   "source": [
    "model = sm.OLS.from_formula(\"y ~ x\", data = df)\n",
    "result = model.fit()"
   ]
  },
  {
   "cell_type": "code",
   "execution_count": 16,
   "metadata": {},
   "outputs": [
    {
     "name": "stdout",
     "output_type": "stream",
     "text": [
      "                            OLS Regression Results                            \n",
      "==============================================================================\n",
      "Dep. Variable:                      y   R-squared:                       0.803\n",
      "Model:                            OLS   Adj. R-squared:                  0.801\n",
      "Method:                 Least Squares   F-statistic:                     400.3\n",
      "Date:                Sat, 30 May 2020   Prob (F-statistic):           2.21e-36\n",
      "Time:                        22:20:26   Log-Likelihood:                -448.09\n",
      "No. Observations:                 100   AIC:                             900.2\n",
      "Df Residuals:                      98   BIC:                             905.4\n",
      "Df Model:                           1                                         \n",
      "Covariance Type:            nonrobust                                         \n",
      "==============================================================================\n",
      "                 coef    std err          t      P>|t|      [0.025      0.975]\n",
      "------------------------------------------------------------------------------\n",
      "const         -1.6284      2.163     -0.753      0.453      -5.920       2.663\n",
      "X1            42.8534      2.142     20.008      0.000      38.603      47.104\n",
      "==============================================================================\n",
      "Omnibus:                        3.523   Durbin-Watson:                   1.984\n",
      "Prob(Omnibus):                  0.172   Jarque-Bera (JB):                2.059\n",
      "Skew:                          -0.073   Prob(JB):                        0.357\n",
      "Kurtosis:                       2.312   Cond. No.                         1.06\n",
      "==============================================================================\n",
      "\n",
      "Warnings:\n",
      "[1] Standard Errors assume that the covariance matrix of the errors is correctly specified.\n"
     ]
    }
   ],
   "source": [
    "print(result.summary())"
   ]
  },
  {
   "cell_type": "markdown",
   "metadata": {},
   "source": [
    "# Diabetes OLS sample"
   ]
  },
  {
   "cell_type": "code",
   "execution_count": null,
   "metadata": {},
   "outputs": [],
   "source": []
  },
  {
   "cell_type": "markdown",
   "metadata": {},
   "source": [
    "# ++++ 분석 5. <font color = \"yellow\"> 변수명 리스트화 & 스케일링 & .join 입력\n",
    "    "
   ]
  },
  {
   "cell_type": "code",
   "execution_count": 17,
   "metadata": {},
   "outputs": [
    {
     "data": {
      "text/html": [
       "<div>\n",
       "<style scoped>\n",
       "    .dataframe tbody tr th:only-of-type {\n",
       "        vertical-align: middle;\n",
       "    }\n",
       "\n",
       "    .dataframe tbody tr th {\n",
       "        vertical-align: top;\n",
       "    }\n",
       "\n",
       "    .dataframe thead th {\n",
       "        text-align: right;\n",
       "    }\n",
       "</style>\n",
       "<table border=\"1\" class=\"dataframe\">\n",
       "  <thead>\n",
       "    <tr style=\"text-align: right;\">\n",
       "      <th></th>\n",
       "      <th>age</th>\n",
       "      <th>sex</th>\n",
       "      <th>bmi</th>\n",
       "      <th>bp</th>\n",
       "      <th>s1</th>\n",
       "      <th>s2</th>\n",
       "      <th>s3</th>\n",
       "      <th>s4</th>\n",
       "      <th>s5</th>\n",
       "      <th>s6</th>\n",
       "      <th>target</th>\n",
       "    </tr>\n",
       "  </thead>\n",
       "  <tbody>\n",
       "    <tr>\n",
       "      <th>437</th>\n",
       "      <td>0.041708</td>\n",
       "      <td>0.050680</td>\n",
       "      <td>0.019662</td>\n",
       "      <td>0.059744</td>\n",
       "      <td>-0.005697</td>\n",
       "      <td>-0.002566</td>\n",
       "      <td>-0.028674</td>\n",
       "      <td>-0.002592</td>\n",
       "      <td>0.031193</td>\n",
       "      <td>0.007207</td>\n",
       "      <td>178.0</td>\n",
       "    </tr>\n",
       "    <tr>\n",
       "      <th>438</th>\n",
       "      <td>-0.005515</td>\n",
       "      <td>0.050680</td>\n",
       "      <td>-0.015906</td>\n",
       "      <td>-0.067642</td>\n",
       "      <td>0.049341</td>\n",
       "      <td>0.079165</td>\n",
       "      <td>-0.028674</td>\n",
       "      <td>0.034309</td>\n",
       "      <td>-0.018118</td>\n",
       "      <td>0.044485</td>\n",
       "      <td>104.0</td>\n",
       "    </tr>\n",
       "    <tr>\n",
       "      <th>439</th>\n",
       "      <td>0.041708</td>\n",
       "      <td>0.050680</td>\n",
       "      <td>-0.015906</td>\n",
       "      <td>0.017282</td>\n",
       "      <td>-0.037344</td>\n",
       "      <td>-0.013840</td>\n",
       "      <td>-0.024993</td>\n",
       "      <td>-0.011080</td>\n",
       "      <td>-0.046879</td>\n",
       "      <td>0.015491</td>\n",
       "      <td>132.0</td>\n",
       "    </tr>\n",
       "    <tr>\n",
       "      <th>440</th>\n",
       "      <td>-0.045472</td>\n",
       "      <td>-0.044642</td>\n",
       "      <td>0.039062</td>\n",
       "      <td>0.001215</td>\n",
       "      <td>0.016318</td>\n",
       "      <td>0.015283</td>\n",
       "      <td>-0.028674</td>\n",
       "      <td>0.026560</td>\n",
       "      <td>0.044528</td>\n",
       "      <td>-0.025930</td>\n",
       "      <td>220.0</td>\n",
       "    </tr>\n",
       "    <tr>\n",
       "      <th>441</th>\n",
       "      <td>-0.045472</td>\n",
       "      <td>-0.044642</td>\n",
       "      <td>-0.073030</td>\n",
       "      <td>-0.081414</td>\n",
       "      <td>0.083740</td>\n",
       "      <td>0.027809</td>\n",
       "      <td>0.173816</td>\n",
       "      <td>-0.039493</td>\n",
       "      <td>-0.004220</td>\n",
       "      <td>0.003064</td>\n",
       "      <td>57.0</td>\n",
       "    </tr>\n",
       "  </tbody>\n",
       "</table>\n",
       "</div>"
      ],
      "text/plain": [
       "          age       sex       bmi        bp        s1        s2        s3  \\\n",
       "437  0.041708  0.050680  0.019662  0.059744 -0.005697 -0.002566 -0.028674   \n",
       "438 -0.005515  0.050680 -0.015906 -0.067642  0.049341  0.079165 -0.028674   \n",
       "439  0.041708  0.050680 -0.015906  0.017282 -0.037344 -0.013840 -0.024993   \n",
       "440 -0.045472 -0.044642  0.039062  0.001215  0.016318  0.015283 -0.028674   \n",
       "441 -0.045472 -0.044642 -0.073030 -0.081414  0.083740  0.027809  0.173816   \n",
       "\n",
       "           s4        s5        s6  target  \n",
       "437 -0.002592  0.031193  0.007207   178.0  \n",
       "438  0.034309 -0.018118  0.044485   104.0  \n",
       "439 -0.011080 -0.046879  0.015491   132.0  \n",
       "440  0.026560  0.044528 -0.025930   220.0  \n",
       "441 -0.039493 -0.004220  0.003064    57.0  "
      ]
     },
     "execution_count": 17,
     "metadata": {},
     "output_type": "execute_result"
    }
   ],
   "source": [
    "from sklearn.datasets import load_diabetes\n",
    "\n",
    "diabetes = load_diabetes()\n",
    "df = pd.DataFrame(diabetes.data, columns=diabetes.feature_names)\n",
    "df[\"target\"] = diabetes.target\n",
    "df.tail()"
   ]
  },
  {
   "cell_type": "code",
   "execution_count": 18,
   "metadata": {},
   "outputs": [],
   "source": [
    "feature_names = list(diabetes.feature_names) # 변수리스트화 \n",
    "feature_names = [\"scale({})\".format(name) for name in feature_names] # feature_names 한꺼번에 스케일링\n",
    "model = sm.OLS.from_formula(\"target ~ \" + \"+\".join(feature_names), data = df\t) # .join 으로 피쳐 넣기"
   ]
  },
  {
   "cell_type": "code",
   "execution_count": 19,
   "metadata": {},
   "outputs": [],
   "source": [
    "result  = model.fit()"
   ]
  },
  {
   "cell_type": "code",
   "execution_count": 20,
   "metadata": {},
   "outputs": [
    {
     "name": "stdout",
     "output_type": "stream",
     "text": [
      "                            OLS Regression Results                            \n",
      "==============================================================================\n",
      "Dep. Variable:                 target   R-squared:                       0.518\n",
      "Model:                            OLS   Adj. R-squared:                  0.507\n",
      "Method:                 Least Squares   F-statistic:                     46.27\n",
      "Date:                Sat, 30 May 2020   Prob (F-statistic):           3.83e-62\n",
      "Time:                        22:20:28   Log-Likelihood:                -2386.0\n",
      "No. Observations:                 442   AIC:                             4794.\n",
      "Df Residuals:                     431   BIC:                             4839.\n",
      "Df Model:                          10                                         \n",
      "Covariance Type:            nonrobust                                         \n",
      "==============================================================================\n",
      "                 coef    std err          t      P>|t|      [0.025      0.975]\n",
      "------------------------------------------------------------------------------\n",
      "Intercept    152.1335      2.576     59.061      0.000     147.071     157.196\n",
      "scale(age)    -0.4762      2.842     -0.168      0.867      -6.062       5.110\n",
      "scale(sex)   -11.4070      2.912     -3.917      0.000     -17.131      -5.683\n",
      "scale(bmi)    24.7263      3.165      7.813      0.000      18.506      30.946\n",
      "scale(bp)     15.4297      3.112      4.958      0.000       9.313      21.546\n",
      "scale(s1)    -37.6804     19.820     -1.901      0.058     -76.636       1.275\n",
      "scale(s2)     22.6765     16.126      1.406      0.160      -9.019      54.372\n",
      "scale(s3)      4.8062     10.109      0.475      0.635     -15.063      24.676\n",
      "scale(s4)      8.4221      7.681      1.097      0.273      -6.674      23.518\n",
      "scale(s5)     35.7347      8.177      4.370      0.000      19.664      51.806\n",
      "scale(s6)      3.2166      3.139      1.025      0.306      -2.952       9.385\n",
      "==============================================================================\n",
      "Omnibus:                        1.506   Durbin-Watson:                   2.029\n",
      "Prob(Omnibus):                  0.471   Jarque-Bera (JB):                1.404\n",
      "Skew:                           0.017   Prob(JB):                        0.496\n",
      "Kurtosis:                       2.726   Cond. No.                         21.7\n",
      "==============================================================================\n",
      "\n",
      "Warnings:\n",
      "[1] Standard Errors assume that the covariance matrix of the errors is correctly specified.\n"
     ]
    }
   ],
   "source": [
    "print(result.summary())"
   ]
  },
  {
   "cell_type": "markdown",
   "metadata": {},
   "source": [
    "### condition number : 1. variate's scale problem 2. multicorrelinearity"
   ]
  },
  {
   "cell_type": "markdown",
   "metadata": {},
   "source": [
    "X.T @ X (공분산행렬) 의 ℷ_max/ℷ_min # min 고윳값 분에 max 고윳값의 차이가 클때 발생하는데 \n",
    " 1. 번문제는 스케일링으로 해결\n",
    " 2. 번문제는 PCA 로 해결"
   ]
  },
  {
   "cell_type": "markdown",
   "metadata": {},
   "source": [
    "# ++++ 분석6 . <font color = \"yellow\"> 카테고리변수의 더미 변수화(원핫인코딩)\n",
    "    "
   ]
  },
  {
   "cell_type": "markdown",
   "metadata": {},
   "source": [
    "#### 카테고리 변수가 2개 이상이면 reduced rank 방식을 쓴다"
   ]
  },
  {
   "cell_type": "markdown",
   "metadata": {},
   "source": [
    "# ++++ 분석7 . <font color = \"yellow\"> 카테고리변수와 실수형 변수의 상호작용 \n",
    "    "
   ]
  },
  {
   "cell_type": "markdown",
   "metadata": {},
   "source": [
    "# ++++ 분석8 . <font color = \"yellow\"> 상관관계는 꼭! 부분회귀플롯으로 보여줘야한다 !!! \n",
    "### 비선형상관관계나 독립변수간의 상관관계를 보여줄때\n",
    "    부분회귀 : 보스톤 집값예측의 예에서 보이듯 eMEDV 와 eAGE 를 살펴보아야 서로 관계없음이 보인다!\n",
    "    \n",
    "    모든데이터가 다 들어가기 전까지 모형이 가지고 있는 가중치는 편향되어 있는 값이다.\n",
    "    단, 새로운 변수가 독립이어 상관이 없을때는 기존 모델이 영향을 받지 않는다.\n",
    "    프로슈-워-로벨(Frish-waugh-Lovell)FWL 정리로 입력데이터들간의 예측잔차와 입력데이터들과 예측하려는 y 를 가지고 회귀분석을 해본다. \n",
    "    각 입력하는 독립변수들 간의 상관관계를 따로 구해서 그들의 영향관계가 총 입력변수들과 총예측값의 상관영향력(입력변수에 대한 가중치)과 같다"
   ]
  },
  {
   "cell_type": "raw",
   "metadata": {},
   "source": [
    "plot_regress_exog 결론: 데이터는 처음부터 모두 넣고 변수간 상관은 부분회귀플롯 (exog)를 사용해서 보여줘야한다"
   ]
  },
  {
   "cell_type": "markdown",
   "metadata": {},
   "source": [
    "### Bootstraping N = 1000 하면 시간도 많이 걸리는데 확률론적 선형회귀를 하면된다"
   ]
  },
  {
   "cell_type": "markdown",
   "metadata": {},
   "source": [
    "# ++++ 분석9 . <font color = \"#FF8040\"> 확률론적</font> 회귀분석\n",
    "    1. 선형 정규분포 가정\n",
    "    종속변수 y 가 가우시안 정규분포를 따른다는 가정\n",
    "    <span style=\"color:#FF8040\">word</span>"
   ]
  },
  {
   "cell_type": "markdown",
   "metadata": {},
   "source": [
    "<img src=\"reg_prob_norm.png\" width=\"800\" height=\"300\" align=\"center\"/>"
   ]
  },
  {
   "cell_type": "markdown",
   "metadata": {},
   "source": [
    "# ++++ 분석10 . <font color = \"#FF8040\"> \n",
    "    확률론적 회귀분석에서 w값은 OLS 처럼 찾는것이 아니라 MLE 로 찾아야 하지만 값은 OLS랑 값은 같다\n",
    "    다만 w 가 아니고 w_hat 이 된다. "
   ]
  },
  {
   "cell_type": "markdown",
   "metadata": {},
   "source": [
    "<img src=\"distur_resid.jpg\" width=\"800\" height=\"300\" align=\"center\"/>"
   ]
  },
  {
   "cell_type": "markdown",
   "metadata": {},
   "source": [
    "##### 회귀분석의 기하학"
   ]
  },
  {
   "cell_type": "markdown",
   "metadata": {},
   "source": [
    "#### M(residual), H(projection) Matrix"
   ]
  },
  {
   "cell_type": "markdown",
   "metadata": {},
   "source": [
    "### y^ = Xw"
   ]
  },
  {
   "cell_type": "markdown",
   "metadata": {},
   "source": [
    "<img src=\"reg_geometry.png\" width=\"900\" height=\"300\" align=\"center\"/>"
   ]
  },
  {
   "cell_type": "markdown",
   "metadata": {},
   "source": [
    "### 5가지 M, H 의 성질\n",
    "    1. semmetric H.T == M , M.T == H\n",
    "    2. idempotent M ** 2 == M\n",
    "    3. authgoanl M @ H == H @ M ==0\n",
    "    4. authgoanl M @ X == 0\n",
    "    5. H @ X == X\n"
   ]
  },
  {
   "cell_type": "markdown",
   "metadata": {},
   "source": [
    "<img src=\"pethagorean_t.png\" width=\"500\" height=\"300\" align=\"center\"/>"
   ]
  },
  {
   "cell_type": "markdown",
   "metadata": {},
   "source": [
    "# ++++ 분석11 . <font color = \"yellow\"> 단일검정 t_test 값으로  coef = 0 이다 라는 귀무가설을 P>|t| 로 판단한다\n",
    "    과체적화 방지를 위해 유의확률이 높은것을 보고 coef = 0이라는 귀무가설을 기각하지 못하는 독립변수는 빼는게 낫다"
   ]
  },
  {
   "cell_type": "markdown",
   "metadata": {},
   "source": [
    "<img src=\"ols_summ.png\" width=\"700\" height=\"300\" align=\"center\"/>"
   ]
  },
  {
   "cell_type": "raw",
   "metadata": {},
   "source": [
    "w_hat         = coef\n",
    "+- error      = std err\n",
    "w_hat/std err = t\n",
    "t's p-value   = P>|t| # null hypothesis : coef=='0' \n",
    "std err x 2   = 0.025 ~ 0.975"
   ]
  },
  {
   "cell_type": "markdown",
   "metadata": {},
   "source": [
    "# ++++ 분석12 . <font color = \"yellow\"> F-test\n",
    "    Prob (F-statistic) : 값이 작을수록 모델의 성능이 좋다는 성능평가로 사용한다"
   ]
  },
  {
   "cell_type": "markdown",
   "metadata": {},
   "source": [
    "# ++++ 분석13 . <font color = \"yellow\"> omnibus Prob, Prob(JB)\n",
    "    잔차가 정규분로를 따르는지의 에 대한 유의확률"
   ]
  },
  {
   "cell_type": "markdown",
   "metadata": {},
   "source": [
    "# ++++ 분석14 . <font color = \"yellow\"> Leverage, Outlier\n",
    "    leverage 는 1 일 될수록 실제값과 예측값이 같아진다(완벽한 모델):불가능 \n",
    "        이유는 레버리지는 데이터의 종류 K 갯수(상수항포함)로 데이터 갯수를 나눈 수로 영향을 받는다.\n",
    "    \n",
    "    outlier 그냥 잔차가 아니고 레버지로로 나눈 표준잔차가 큰 데이터가 아웃라이어가 된다\n",
    "    resid_person 으로 확인결과 2~4 보다 크면 아웃라이어라고 간주한다\n",
    "    cook's outlier recommendation 에 plot을 활용해도 됨\n",
    "    "
   ]
  },
  {
   "cell_type": "markdown",
   "metadata": {},
   "source": [
    "### 아웃라이어 처리시 cook's distance를 통해 레버리지와 표준화잔차의 크기모두 고려하여 처리한다"
   ]
  },
  {
   "cell_type": "code",
   "execution_count": null,
   "metadata": {},
   "outputs": [],
   "source": []
  },
  {
   "cell_type": "markdown",
   "metadata": {},
   "source": [
    "# ++++ 분석15 . <font color = \"yellow\"> ANOVA , Model 성능\n",
    "    ANOVA(Analysis of Variance) x, y 의 분산을 비교하여 모델의 성능을 평가하는 방법 / 모델간의 비교도 가능 \n",
    "    결정계수(Coefficient of Determination) 0 <= R-Square <= 1 ; y 와 y^ 의 상관계수의 제곱과도 같다"
   ]
  },
  {
   "cell_type": "markdown",
   "metadata": {},
   "source": [
    "|Name|Meaning |Variance|\n",
    "| --- | --- | --- |\n",
    "|TSS |Total Sum of Square |y|\n",
    "|ESS |Explained Sum of Square|y_hat|\n",
    "|RSS |Residual Sum of Square|e|"
   ]
  },
  {
   "cell_type": "markdown",
   "metadata": {},
   "source": [
    "# ++++ 시험에 나온문제  <font color = \"yellow\"> \n",
    "    x_bar = 1/N (X.T * 1_N)"
   ]
  },
  {
   "cell_type": "markdown",
   "metadata": {},
   "source": [
    "anova_lm # from formula 를 사용한 경우만 사용가능, 총 변수 중에 불필요한 변수를 뺀 모델과의 비교에도 사용할 수 있다(다중공선성문제등)"
   ]
  },
  {
   "cell_type": "markdown",
   "metadata": {},
   "source": [
    "상수항 없는 모델일경우 다른 모델과 비교할 수 업다"
   ]
  },
  {
   "cell_type": "raw",
   "metadata": {},
   "source": [
    "anova_lm , type= 2 를 사용해서 디테일한 변수의 PR(>F) p-value  (영향력의 순위등) 알아 볼수 있다."
   ]
  },
  {
   "cell_type": "raw",
   "metadata": {},
   "source": [
    "Adj. R-squared : 독립변수 추가시 무조건적인 퍼포먼스에 미치는 영향을 패널티를 줘서 조절해줌\n",
    "Log-Likelibood : 확률이 높을 확률 / 높을 수록 좋다\n",
    "AIC / BIC      : 위의 로그 가능도에 패널티를 줘서 / 작을 수록 좋다"
   ]
  },
  {
   "cell_type": "markdown",
   "metadata": {},
   "source": [
    "# #### 분석실무 <font color = \"yellow\">1. 모형 진단과 수정\n",
    "    잔차의 정규성\n",
    "    QQ-플롯으로 잔차의 모양을 보고 판단\n",
    "    1. 잔차의 정규분포성을 판단하고 (옴니테스트를 통해) 데이터가 비선형인지를 의심한다.\n",
    "    2. 잔차와 변수간의 관계그래프를 보고 상관관계가 남아 있는지를 판단한다.( 예측 할 수 없어야 한다) \n",
    "    \n",
    "    독립변수 만지기\n",
    "    3. 제곱을 해줘야 할때\n",
    "    4. 로그를 취해야 할때 : 이분산성 4번째 가정을 만족하지 않음\n",
    "    5. y 들 상관이 있을때는 시계열모델을 사용해야한다. \n",
    "    6. 심한 비선형성일때 카테고리형을 사용한다. (카테고리화 더미 변수로 )\n",
    "    7. 시간독립변수 \n",
    "        임베딩된 년, 월, 일, 요일, 일년중 몇번째 날, 한달의 몇번째 날, 첫날인가 끝날인가 등으로 나눠서 카테고리 변수로 사용하면 (패턴을 찾아서 ) 성능이 좋아진다.\n",
    "        타임 스탬프의 기준시간(특정시점 1970년 1월1일)에서 흐른 시간만큼의 toolordinal 해서 스케일해서 사용한다.\n",
    "    7.1 각도는 코사인 사인으로 쪼개서 한다.\n",
    "    8. 스케일링의 습관화\n",
    "    \n",
    "    종속변수(y) 값을 만지기\n",
    "    1. y 와 y^ 의 관계플롯에서 두 종속변수에 로그등을 취해서 퍼포먼스를 높일 수 있다.\n",
    "        \n",
    "    \n",
    "    \n",
    "    "
   ]
  },
  {
   "cell_type": "markdown",
   "metadata": {},
   "source": [
    "# #### 분석실무 <font color = \"yellow\">2. 기저함수모형과 과체적화"
   ]
  },
  {
   "cell_type": "markdown",
   "metadata": {},
   "source": [
    "## 과체적화 발생여부 판단 : 교차검증"
   ]
  },
  {
   "cell_type": "markdown",
   "metadata": {},
   "source": [
    "#### in-sample testing\n",
    "#### out-of-sample testing / <font color = \"lightgreen\"> cross validation"
   ]
  },
  {
   "cell_type": "raw",
   "metadata": {},
   "source": [
    "train-test split\n",
    "교차검증을 하려면 두 종류의 데이터 집합이 필요하다. \n",
    "\n",
    "모형 추정 즉 학습을 위한 데이터 집합 (training data set)\n",
    "성능 검증을 위한 데이터 집합 (test data set)"
   ]
  },
  {
   "cell_type": "markdown",
   "metadata": {},
   "source": [
    "데이터를 training : test = 7:3으로 나누고 OLS modeling \n",
    "결과 R-square : 0.75 이면 \n",
    "\n",
    "<font color = \"lightgreen\"> 테스트데이터셋을 같은 OLS모델에 넣으면 안되고 따로 Cross validation score를 계산해봐야한다. <br>\n"
   ]
  },
  {
   "cell_type": "markdown",
   "metadata": {},
   "source": [
    "## K-fold"
   ]
  },
  {
   "cell_type": "code",
   "execution_count": 33,
   "metadata": {},
   "outputs": [],
   "source": [
    "from sklearn.model_selection import KFold # shuffle True\n"
   ]
  },
  {
   "cell_type": "markdown",
   "metadata": {},
   "source": [
    "사이킷런에 k폴드를 하더라도 테스트 퍼포먼스는 따로 계산"
   ]
  },
  {
   "cell_type": "markdown",
   "metadata": {},
   "source": [
    "<img src=\"reg_cross_val.png\" width=\"800\" height=\"300\" align=\"center\"/>"
   ]
  },
  {
   "cell_type": "markdown",
   "metadata": {},
   "source": [
    "# #### 분석실무 <font color = \"yellow\">3. Multicollinearity and Choice Variates"
   ]
  },
  {
   "cell_type": "raw",
   "metadata": {},
   "source": [
    "VIF 변수 선택법으로 의존적인 변수 삭제\n",
    "    VIF 검사 : from statsmodels.stats.outliers_influence import variance_inflation_factor\n",
    "              검사후 나오는 높은 수치의 변수들을 제거할 수 있다.\n",
    "    \n",
    "PCA(principal component analysis) 방법으로 의존적인 성분 삭제\n",
    "\n",
    "정규화(regularized) 방법 사용\n",
    "    Ridge 회귀모형\n",
    "    Lasso 회귀모형\n",
    "    Elastic Net 회귀모형"
   ]
  },
  {
   "cell_type": "raw",
   "metadata": {},
   "source": [
    "https://www.statsmodels.org/dev/generated/statsmodels.regression.linear_model.OLS.fit_regularized.html"
   ]
  },
  {
   "cell_type": "code",
   "execution_count": null,
   "metadata": {},
   "outputs": [],
   "source": []
  }
 ],
 "metadata": {
  "kernelspec": {
   "display_name": "Python 3",
   "language": "python",
   "name": "python3"
  },
  "language_info": {
   "codemirror_mode": {
    "name": "ipython",
    "version": 3
   },
   "file_extension": ".py",
   "mimetype": "text/x-python",
   "name": "python",
   "nbconvert_exporter": "python",
   "pygments_lexer": "ipython3",
   "version": "3.7.4"
  }
 },
 "nbformat": 4,
 "nbformat_minor": 4
}
