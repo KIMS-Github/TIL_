{
 "cells": [
  {
   "cell_type": "code",
   "execution_count": 2,
   "metadata": {},
   "outputs": [],
   "source": [
    "def f(x, y):\n",
    "    return 2 * x**2 + 6 * x * y + 7 * y**2 - 26 * x - 54 * y + 107\n",
    "\n",
    "xx = np.linspace(1, 16, 100)\n",
    "yy = np.linspace(-3, 6, 90)\n",
    "X, Y = np.meshgrid(xx, yy)\n",
    "Z = f(X, Y)\n",
    "\n",
    "\n",
    "def gx(x, y):\n",
    "    return 4 * x + 6 * y - 26\n",
    "\n",
    "def gy(x, y):\n",
    "    return 6 * x + 14 * y - 54\n",
    "\n",
    "xx2 = np.linspace(1, 16, 15)\n",
    "yy2 = np.linspace(-3, 6, 9)\n",
    "X2, Y2 = np.meshgrid(xx2, yy2)\n",
    "GX = gx(X2, Y2)\n",
    "GY = gy(X2, Y2)\n",
    "plt.figure(figsize=(10, 5))\n",
    "plt.contour(X, Y, Z, levels=np.logspace(0, 3, 10))\n",
    "plt.quiver(X2, Y2, GX, GY, color='blue', scale=400, minshaft=2)\n",
    "\n",
    "plt.xlabel('x')\n",
    "plt.ylabel('y')\n",
    "plt.title(\"quiver plot\")\n",
    "plt.show()"
   ]
  },
  {
   "cell_type": "markdown",
   "metadata": {},
   "source": [
    "# * 스칼라, 벡터, 매트릭스 input - > 스칼라, 벡터, 매트릭스 output\n",
    "## 편의상 행렬 미분이라고 하나 사실 편미분이고 분모중심법만 다룬다"
   ]
  },
  {
   "cell_type": "markdown",
   "metadata": {},
   "source": [
    "# 스칼라를 벡터로 미분한다 "
   ]
  },
  {
   "cell_type": "raw",
   "metadata": {},
   "source": [
    "𝝯f = 𝝏f/𝝏x = [𝝏f/𝝏x₁\n",
    "              𝝏f/𝝏x₂\n",
    "                 ...\n",
    "              𝝏f/𝝏x𝘯  ]"
   ]
  },
  {
   "cell_type": "raw",
   "metadata": {},
   "source": [
    "위의 그레디언트 벡터(벡터의 미분) 스칼라값 f 를 벡터 x 로 미분한 열벡터가 되는것을 표현한 것."
   ]
  },
  {
   "cell_type": "markdown",
   "metadata": {},
   "source": [
    "퀴버플롯에서 그레디언트 벡터는 다음과 같은 특징이 있다.\n",
    "\n",
    "그레디언트 벡터의 크기는 기울기를 의미한다. 즉 벡터의 크기가 클수록 함수 곡면의 기울기가 커진다.\n",
    "\n",
    "그레디언트 벡터의 방향은 함수 곡면의 기울기가 가장 큰 방향, 즉 단위 길이당 함수값(높이)이 가장 크게 증가하는 방향을 가리킨다.\n",
    "\n",
    "그레디언트 벡터의 방향은 등고선(isoline)의 방향과 직교한다.\n",
    "\n"
   ]
  },
  {
   "cell_type": "markdown",
   "metadata": {},
   "source": [
    "∇𝑓(𝑥0)𝑇(𝑥1−𝑥0)=𝑓(𝑥1)−𝑓(𝑥0)=0"
   ]
  },
  {
   "cell_type": "markdown",
   "metadata": {},
   "source": [
    "등고선 방향 𝑥1−𝑥0과 ∇𝑓(𝑥0)이 직교한다는 것을 알 수 있다."
   ]
  },
  {
   "cell_type": "markdown",
   "metadata": {},
   "source": [
    "------------------\n",
    "# 많은  행렬미분법칙 중 꼭 외워야하는 5가지 "
   ]
  },
  {
   "cell_type": "markdown",
   "metadata": {},
   "source": [
    "## 행렬의 미분법칙 1. 선형모형 : 𝑓(𝑥)=𝑤𝑇𝑥 벡터가 들어가서 𝑤 스칼라가 나옴"
   ]
  },
  {
   "cell_type": "raw",
   "metadata": {},
   "source": [
    "𝑓(𝑥)=𝑤𝑇𝑥 를 미분하면  그레디언트 벡터 ∇𝑓=∂𝑤𝑇𝑥∂𝑥=∂𝑥𝑇𝑤∂𝑥= 𝑤 가 나옴\n",
    "정리하면, 𝑤𝑇𝑥 미분 하면 𝑤"
   ]
  },
  {
   "cell_type": "markdown",
   "metadata": {},
   "source": [
    "## 행렬의 미분법칙 2. 2차형식(Quardratic form) : 𝑓(𝑥)=𝑥𝑇𝐴𝑥 가 들어가서 (𝐴+𝐴𝑇)𝑥 가 나옴"
   ]
  },
  {
   "cell_type": "raw",
   "metadata": {},
   "source": [
    "∇𝑓(𝑥)=∂𝑥𝑇𝐴𝑥∂𝑥=(𝐴+𝐴𝑇)𝑥"
   ]
  },
  {
   "cell_type": "markdown",
   "metadata": {},
   "source": [
    "\n",
    "|스칼라 미분|벡터/행렬미분|\n",
    "-----|------------\n",
    "|𝑎𝑥→𝑎|𝑤𝑇𝑥→𝑤|\n",
    "-------|------\n",
    "|𝑎𝑥2→2𝑎𝑥|𝑥𝑇𝐴𝑥→(𝐴+𝐴𝑇)𝑥|\n",
    "\n"
   ]
  },
  {
   "cell_type": "markdown",
   "metadata": {},
   "source": [
    "## 행렬의 미분법칙 3. 행렬과 벡터의 곱의 미분 : 𝑓(𝑥)=𝐴𝑥 가 들어가서 𝐴𝑇 가 나옴"
   ]
  },
  {
   "cell_type": "raw",
   "metadata": {},
   "source": [
    "𝑓(𝑥)=𝐴𝑥 를 미분하면 ∇𝑓(𝑥)=∂(𝐴𝑥)∂𝑥=𝐴𝑇 가 된다"
   ]
  },
  {
   "cell_type": "markdown",
   "metadata": {},
   "source": [
    "### 자코비안(입력이 스칼라면 그레디언트벡터와 일치)을 구하라는 말은 그레이디언트를 f 마다 다 구해서 전치 하라는 말이다. "
   ]
  },
  {
   "cell_type": "raw",
   "metadata": {},
   "source": [
    "𝐽𝑓(𝑥)=𝐽=(∂𝑓∂𝑥)𝑇"
   ]
  },
  {
   "cell_type": "markdown",
   "metadata": {},
   "source": [
    "### 헤시안은(다변수함수의 2차도함수) (벡터 입력 스칼라출력) 벡터를 한번 미분하면 그레디언트 가 되고 한번더 미분하면 헤시안이 된다. 대칭행렬(고유값 실수) 나옴"
   ]
  },
  {
   "cell_type": "markdown",
   "metadata": {},
   "source": [
    "𝐻𝑓(𝑥)=𝐻=𝐽(∇𝑓(𝑥))𝑇"
   ]
  },
  {
   "cell_type": "markdown",
   "metadata": {},
   "source": [
    "## 행렬의 미분법칙 4. 행렬곱의 대각성분 : 𝑓(𝑋)=tr(𝑊𝑋)(스칼라) 가 들어가서 𝑊𝑇 (행렬)가 나옴"
   ]
  },
  {
   "cell_type": "raw",
   "metadata": {},
   "source": [
    "𝑓(𝑋)=tr(𝑊𝑋) -> 𝑊𝑇"
   ]
  },
  {
   "cell_type": "markdown",
   "metadata": {},
   "source": [
    "## 행렬미분법칙 5. 행렬식의 로그 : 𝑓(𝑋)=log|𝑋|(스칼라) 가 들어가서 (𝑋^−1)𝑇(행렬)가 나옴\n",
    "행렬식(determinant)은 스칼라값이고 이 값의 로그 값도 스칼라이다. 이 값을 원래의 행렬로 미분하면 원래 행렬의 역행렬의 전치 행렬이 된다."
   ]
  },
  {
   "cell_type": "raw",
   "metadata": {},
   "source": [
    "외우는 법 log x 를 미분하면 1/x 가 되듯이 log|𝑋|를 미분하면 X^-1 인데 여기에 트랜스포즈를 해준것이 답"
   ]
  },
  {
   "cell_type": "code",
   "execution_count": null,
   "metadata": {},
   "outputs": [],
   "source": []
  }
 ],
 "metadata": {
  "kernelspec": {
   "display_name": "Python 3",
   "language": "python",
   "name": "python3"
  },
  "language_info": {
   "codemirror_mode": {
    "name": "ipython",
    "version": 3
   },
   "file_extension": ".py",
   "mimetype": "text/x-python",
   "name": "python",
   "nbconvert_exporter": "python",
   "pygments_lexer": "ipython3",
   "version": "3.7.4"
  }
 },
 "nbformat": 4,
 "nbformat_minor": 4
}
