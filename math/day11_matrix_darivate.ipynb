{
 "cells": [
  {
   "cell_type": "code",
   "execution_count": 2,
   "metadata": {},
   "outputs": [],
   "source": [
    "def f(x, y):\n",
    "    return 2 * x**2 + 6 * x * y + 7 * y**2 - 26 * x - 54 * y + 107\n",
    "\n",
    "xx = np.linspace(1, 16, 100)\n",
    "yy = np.linspace(-3, 6, 90)\n",
    "X, Y = np.meshgrid(xx, yy)\n",
    "Z = f(X, Y)\n",
    "\n",
    "\n",
    "def gx(x, y):\n",
    "    return 4 * x + 6 * y - 26\n",
    "\n",
    "def gy(x, y):\n",
    "    return 6 * x + 14 * y - 54\n",
    "\n",
    "xx2 = np.linspace(1, 16, 15)\n",
    "yy2 = np.linspace(-3, 6, 9)\n",
    "X2, Y2 = np.meshgrid(xx2, yy2)\n",
    "GX = gx(X2, Y2)\n",
    "GY = gy(X2, Y2)\n",
    "plt.figure(figsize=(10, 5))\n",
    "plt.contour(X, Y, Z, levels=np.logspace(0, 3, 10))\n",
    "plt.quiver(X2, Y2, GX, GY, color='blue', scale=400, minshaft=2)\n",
    "\n",
    "plt.xlabel('x')\n",
    "plt.ylabel('y')\n",
    "plt.title(\"quiver plot\")\n",
    "plt.show()"
   ]
  },
  {
   "cell_type": "code",
   "execution_count": null,
   "metadata": {},
   "outputs": [],
   "source": []
  }
 ],
 "metadata": {
  "kernelspec": {
   "display_name": "Python 3",
   "language": "python",
   "name": "python3"
  },
  "language_info": {
   "codemirror_mode": {
    "name": "ipython",
    "version": 3
   },
   "file_extension": ".py",
   "mimetype": "text/x-python",
   "name": "python",
   "nbconvert_exporter": "python",
   "pygments_lexer": "ipython3",
   "version": "3.7.4"
  }
 },
 "nbformat": 4,
 "nbformat_minor": 4
}
