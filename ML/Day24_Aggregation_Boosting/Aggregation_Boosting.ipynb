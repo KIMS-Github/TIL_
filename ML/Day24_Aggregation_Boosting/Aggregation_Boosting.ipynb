{
 "cells": [
  {
   "cell_type": "markdown",
   "metadata": {},
   "source": [
    "# Aggregation / emsemble methods"
   ]
  },
  {
   "cell_type": "markdown",
   "metadata": {},
   "source": [
    "### 성능분산감소, 과체적화방지\n",
    "### 개별모형이 성능이 안좋을때 결합모형은 성능이 더 향상된다."
   ]
  },
  {
   "cell_type": "markdown",
   "metadata": {},
   "source": [
    "### Aggregation 취합방법\n",
    "    Majority Voting\n",
    "    Bagging\n",
    "    Random Forests"
   ]
  },
  {
   "cell_type": "markdown",
   "metadata": {},
   "source": [
    "### Majority Voting\n",
    "    hard voting\n",
    "    soft voting"
   ]
  },
  {
   "cell_type": "code",
   "execution_count": 7,
   "metadata": {},
   "outputs": [],
   "source": [
    "X = np.array([[0, -0.5], [-1.5, -1.5], [1, 0.5], [-3.5, -2.5], [0,1],[1, 1.5],[-2, -0.5]])\n",
    "y = np.array([1, 1, 1, 2, 2, 2, 2, ])\n",
    "X_new = [0, -1.5]"
   ]
  },
  {
   "cell_type": "code",
   "execution_count": 8,
   "metadata": {},
   "outputs": [],
   "source": [
    "from sklearn.linear_model          import LogisticRegression\n",
    "from sklearn.naive_bayes           import GaussianNB\n",
    "from sklearn.discriminant_analysis import QuadraticDiscriminantAnalysis\n",
    "from sklearn.ensemble              import VotingClassifier"
   ]
  },
  {
   "cell_type": "code",
   "execution_count": 9,
   "metadata": {},
   "outputs": [],
   "source": [
    "model1 = LogisticRegression(random_state=1)\n",
    "model2 = QuadraticDiscriminantAnalysis()\n",
    "model3 = GaussianNB()\n",
    "ensemble = VotingClassifier(estimators=[('lr', model1), ('qda', model2), ('gnb', model3)], voting='soft')"
   ]
  },
  {
   "cell_type": "code",
   "execution_count": 11,
   "metadata": {},
   "outputs": [],
   "source": [
    "probas = [c.fit(X, y).predict_proba([X_new]) for c in (model1, model2, model3, ensemble)]\n",
    "class_1 = [pr[0,0] for pr in probas]\n",
    "class_2 = [pr[0,1] for pr in probas]"
   ]
  },
  {
   "cell_type": "markdown",
   "metadata": {},
   "source": [
    "# Exercise 1\n",
    "-------------\n",
    "### \"brest cancer\" classification , K=5, \n",
    "- Decision Tree\n",
    "- Gaussian NaiveBayes \n",
    "- Logstic Regression"
   ]
  },
  {
   "cell_type": "code",
   "execution_count": 19,
   "metadata": {},
   "outputs": [
    {
     "ename": "AttributeError",
     "evalue": "'function' object has no attribute 'data'",
     "output_type": "error",
     "traceback": [
      "\u001b[0;31m---------------------------------------------------------------------------\u001b[0m",
      "\u001b[0;31mAttributeError\u001b[0m                            Traceback (most recent call last)",
      "\u001b[0;32m<ipython-input-19-63207c7d3c80>\u001b[0m in \u001b[0;36m<module>\u001b[0;34m\u001b[0m\n\u001b[1;32m     10\u001b[0m \u001b[0mcancer\u001b[0m \u001b[0;34m=\u001b[0m \u001b[0mload_breast_cancer\u001b[0m\u001b[0;34m\u001b[0m\u001b[0;34m\u001b[0m\u001b[0m\n\u001b[1;32m     11\u001b[0m \u001b[0;34m\u001b[0m\u001b[0m\n\u001b[0;32m---> 12\u001b[0;31m \u001b[0mX\u001b[0m \u001b[0;34m=\u001b[0m \u001b[0mcancer\u001b[0m\u001b[0;34m.\u001b[0m\u001b[0mdata\u001b[0m\u001b[0;34m\u001b[0m\u001b[0;34m\u001b[0m\u001b[0m\n\u001b[0m\u001b[1;32m     13\u001b[0m \u001b[0my\u001b[0m \u001b[0;34m=\u001b[0m \u001b[0mcancer\u001b[0m\u001b[0;34m.\u001b[0m\u001b[0mtarget\u001b[0m\u001b[0;34m\u001b[0m\u001b[0;34m\u001b[0m\u001b[0m\n\u001b[1;32m     14\u001b[0m \u001b[0;34m\u001b[0m\u001b[0m\n",
      "\u001b[0;31mAttributeError\u001b[0m: 'function' object has no attribute 'data'"
     ]
    }
   ],
   "source": [
    "from sklearn.datasets            import load_breast_cancer\n",
    "\n",
    "from sklearn.model_selection     import KFold, cross_val_score\n",
    "\n",
    "from sklearn.tree                import DecisionTreeClassifier\n",
    "from sklearn.naive_bayes         import GaussianNB\n",
    "from sklearn.linear_model        import LogisticRegression\n",
    "from sklearn.ensemble            import VotingClassifier\n",
    "\n",
    "cancer = load_breast_cancer\n",
    "\n",
    "X = cancer.data\n",
    "y = cancer.target\n",
    "\n",
    "model1 = DecisionTreeClassifier\n",
    "model2 = GaussianNB\n",
    "model3 = LogisticRegression\n",
    "\n",
    "ensemble = VotingClassifier(estimators = [('dt', model1), ('gnb', model2), \n",
    "                                          ('lr', model3)], voting = 'soft',\n",
    "                           weights=[1, 1.5, 1])\n",
    "cv = KFold(5, shuffle=True, random_state=0)\n",
    "accuracy = corss_val_score(model, X, y, scoring=\"accuracy\", cv=cv)\n",
    "accuracy.mean(), accuracy.std()"
   ]
  },
  {
   "cell_type": "code",
   "execution_count": 20,
   "metadata": {},
   "outputs": [
    {
     "data": {
      "text/plain": [
       "(0.9701443875174661, 0.018875225344533977)"
      ]
     },
     "execution_count": 20,
     "metadata": {},
     "output_type": "execute_result"
    }
   ],
   "source": [
    "# 연습문제 1\n",
    "\n",
    "from sklearn.datasets import load_breast_cancer\n",
    "from sklearn.model_selection import KFold, cross_val_score\n",
    "from sklearn.linear_model import LogisticRegression\n",
    "from sklearn.naive_bayes import GaussianNB\n",
    "from sklearn.tree import DecisionTreeClassifier\n",
    "from sklearn.discriminant_analysis import QuadraticDiscriminantAnalysis\n",
    "from sklearn.ensemble import VotingClassifier\n",
    "\n",
    "cancer = load_breast_cancer()\n",
    "X = cancer.data\n",
    "y = cancer.target\n",
    "\n",
    "model1 = LogisticRegression()\n",
    "model2 = QuadraticDiscriminantAnalysis()\n",
    "model3 = GaussianNB()\n",
    "model4 = DecisionTreeClassifier()\n",
    "model = VotingClassifier(\n",
    "    estimators=[('lr', model1), ('qda', model2), ('gnb', model3)], \n",
    "    voting='soft', weights=[1, 1.5, 1])\n",
    "\n",
    "cv = KFold(5, shuffle=True, random_state=0)\n",
    "accuracy = cross_val_score(model, X, y, scoring=\"accuracy\", cv=cv)\n",
    "accuracy.mean(), accuracy.std()"
   ]
  },
  {
   "cell_type": "code",
   "execution_count": null,
   "metadata": {},
   "outputs": [],
   "source": [
    "cancer"
   ]
  }
 ],
 "metadata": {
  "kernelspec": {
   "display_name": "Python 3",
   "language": "python",
   "name": "python3"
  },
  "language_info": {
   "codemirror_mode": {
    "name": "ipython",
    "version": 3
   },
   "file_extension": ".py",
   "mimetype": "text/x-python",
   "name": "python",
   "nbconvert_exporter": "python",
   "pygments_lexer": "ipython3",
   "version": "3.7.4"
  }
 },
 "nbformat": 4,
 "nbformat_minor": 4
}
