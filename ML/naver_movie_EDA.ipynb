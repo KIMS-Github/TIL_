{
 "cells": [
  {
   "cell_type": "code",
   "execution_count": 1,
   "metadata": {},
   "outputs": [],
   "source": [
    "import pandas as pd"
   ]
  },
  {
   "cell_type": "code",
   "execution_count": 17,
   "metadata": {},
   "outputs": [
    {
     "data": {
      "text/html": [
       "<div>\n",
       "<style scoped>\n",
       "    .dataframe tbody tr th:only-of-type {\n",
       "        vertical-align: middle;\n",
       "    }\n",
       "\n",
       "    .dataframe tbody tr th {\n",
       "        vertical-align: top;\n",
       "    }\n",
       "\n",
       "    .dataframe thead th {\n",
       "        text-align: right;\n",
       "    }\n",
       "</style>\n",
       "<table border=\"1\" class=\"dataframe\">\n",
       "  <thead>\n",
       "    <tr style=\"text-align: right;\">\n",
       "      <th></th>\n",
       "      <th>title</th>\n",
       "      <th>story</th>\n",
       "      <th>genre</th>\n",
       "    </tr>\n",
       "  </thead>\n",
       "  <tbody>\n",
       "    <tr>\n",
       "      <th>52891</th>\n",
       "      <td>13 이어리</td>\n",
       "      <td>메건(캐서린)과 친구들은 법의학 실습을 위해 톰킨스(마이클 생크) 교수를 따라 폐교...</td>\n",
       "      <td>공포</td>\n",
       "    </tr>\n",
       "    <tr>\n",
       "      <th>52892</th>\n",
       "      <td>13 고스트</td>\n",
       "      <td>어둠이 깊게 드리운 거대한 폐차장, 사이러스 일행은 12번째 가장 강력한 힘을 지닌...</td>\n",
       "      <td>공포</td>\n",
       "    </tr>\n",
       "    <tr>\n",
       "      <th>52893</th>\n",
       "      <td>108: 잠들 수 없는 시간</td>\n",
       "      <td>10년 전 논란의 연극 ≪불면증≫ 이후 사라졌던 무대연출가 ‘알마’젊은 여배우 ‘비...</td>\n",
       "      <td>공포</td>\n",
       "    </tr>\n",
       "    <tr>\n",
       "      <th>52894</th>\n",
       "      <td>100 피트</td>\n",
       "      <td>남편을 살해한 죄로 가택 연금형을 선고 받은 마니 왓슨(팜케 얀센 분)은 발목에 전...</td>\n",
       "      <td>공포</td>\n",
       "    </tr>\n",
       "    <tr>\n",
       "      <th>52895</th>\n",
       "      <td>0.0MHz</td>\n",
       "      <td>에디슨의 마지막 발명품, 유령 탐지기?  “증명할 수 없는 미스터리란 없다”  가지...</td>\n",
       "      <td>공포</td>\n",
       "    </tr>\n",
       "  </tbody>\n",
       "</table>\n",
       "</div>"
      ],
      "text/plain": [
       "                 title                                              story  \\\n",
       "52891           13 이어리  메건(캐서린)과 친구들은 법의학 실습을 위해 톰킨스(마이클 생크) 교수를 따라 폐교...   \n",
       "52892           13 고스트  어둠이 깊게 드리운 거대한 폐차장, 사이러스 일행은 12번째 가장 강력한 힘을 지닌...   \n",
       "52893  108: 잠들 수 없는 시간  10년 전 논란의 연극 ≪불면증≫ 이후 사라졌던 무대연출가 ‘알마’젊은 여배우 ‘비...   \n",
       "52894           100 피트  남편을 살해한 죄로 가택 연금형을 선고 받은 마니 왓슨(팜케 얀센 분)은 발목에 전...   \n",
       "52895           0.0MHz  에디슨의 마지막 발명품, 유령 탐지기?  “증명할 수 없는 미스터리란 없다”  가지...   \n",
       "\n",
       "      genre  \n",
       "52891    공포  \n",
       "52892    공포  \n",
       "52893    공포  \n",
       "52894    공포  \n",
       "52895    공포  "
      ]
     },
     "execution_count": 17,
     "metadata": {},
     "output_type": "execute_result"
    }
   ],
   "source": [
    "pd.options.display.max_rows = 999\n",
    "df = pd.read_csv('naver_movie_story.csv')\n",
    "df.tail()"
   ]
  },
  {
   "cell_type": "code",
   "execution_count": 4,
   "metadata": {},
   "outputs": [
    {
     "name": "stdout",
     "output_type": "stream",
     "text": [
      "<class 'pandas.core.frame.DataFrame'>\n",
      "RangeIndex: 52896 entries, 0 to 52895\n",
      "Data columns (total 3 columns):\n",
      " #   Column  Non-Null Count  Dtype \n",
      "---  ------  --------------  ----- \n",
      " 0   title   52896 non-null  object\n",
      " 1   story   52896 non-null  object\n",
      " 2   genre   52896 non-null  object\n",
      "dtypes: object(3)\n",
      "memory usage: 1.2+ MB\n"
     ]
    }
   ],
   "source": [
    "df.info()"
   ]
  },
  {
   "cell_type": "code",
   "execution_count": 5,
   "metadata": {},
   "outputs": [
    {
     "data": {
      "text/html": [
       "<div>\n",
       "<style scoped>\n",
       "    .dataframe tbody tr th:only-of-type {\n",
       "        vertical-align: middle;\n",
       "    }\n",
       "\n",
       "    .dataframe tbody tr th {\n",
       "        vertical-align: top;\n",
       "    }\n",
       "\n",
       "    .dataframe thead th {\n",
       "        text-align: right;\n",
       "    }\n",
       "</style>\n",
       "<table border=\"1\" class=\"dataframe\">\n",
       "  <thead>\n",
       "    <tr style=\"text-align: right;\">\n",
       "      <th></th>\n",
       "      <th>title</th>\n",
       "      <th>story</th>\n",
       "      <th>genre</th>\n",
       "    </tr>\n",
       "  </thead>\n",
       "  <tbody>\n",
       "    <tr>\n",
       "      <th>count</th>\n",
       "      <td>52896</td>\n",
       "      <td>52896</td>\n",
       "      <td>52896</td>\n",
       "    </tr>\n",
       "    <tr>\n",
       "      <th>unique</th>\n",
       "      <td>49090</td>\n",
       "      <td>52214</td>\n",
       "      <td>8</td>\n",
       "    </tr>\n",
       "    <tr>\n",
       "      <th>top</th>\n",
       "      <td>하루</td>\n",
       "      <td>개봉 후 평점은 개봉당일 오전 9시 이후부터 입력가능합니다.</td>\n",
       "      <td>드라마</td>\n",
       "    </tr>\n",
       "    <tr>\n",
       "      <th>freq</th>\n",
       "      <td>15</td>\n",
       "      <td>126</td>\n",
       "      <td>20211</td>\n",
       "    </tr>\n",
       "  </tbody>\n",
       "</table>\n",
       "</div>"
      ],
      "text/plain": [
       "        title                              story  genre\n",
       "count   52896                              52896  52896\n",
       "unique  49090                              52214      8\n",
       "top        하루  개봉 후 평점은 개봉당일 오전 9시 이후부터 입력가능합니다.    드라마\n",
       "freq       15                                126  20211"
      ]
     },
     "execution_count": 5,
     "metadata": {},
     "output_type": "execute_result"
    }
   ],
   "source": [
    "df.describe()"
   ]
  },
  {
   "cell_type": "code",
   "execution_count": 7,
   "metadata": {},
   "outputs": [
    {
     "data": {
      "text/plain": [
       "array(['액션', '애니메이션', '코미디', '다큐멘터리', '드라마', '에로', '판타지', '공포'],\n",
       "      dtype=object)"
      ]
     },
     "execution_count": 7,
     "metadata": {},
     "output_type": "execute_result"
    }
   ],
   "source": [
    "df.genre.unique()"
   ]
  },
  {
   "cell_type": "code",
   "execution_count": 11,
   "metadata": {},
   "outputs": [
    {
     "data": {
      "text/plain": [
       "드라마      20211\n",
       "애니메이션     9406\n",
       "다큐멘터리     7602\n",
       "코미디       5478\n",
       "액션        5033\n",
       "공포        2352\n",
       "에로        2170\n",
       "판타지        644\n",
       "Name: genre, dtype: int64"
      ]
     },
     "execution_count": 11,
     "metadata": {},
     "output_type": "execute_result"
    }
   ],
   "source": [
    "df[\"genre\"].value_counts()"
   ]
  },
  {
   "cell_type": "code",
   "execution_count": 19,
   "metadata": {},
   "outputs": [
    {
     "data": {
      "text/plain": [
       "0    전 세계 파이터들이 모여 승자를 가리는 DOA경기 (데드 오어 얼라이브)가 열리는 ...\n",
       "1    동료들과 은행을 털던 아미르는 돈 뭉치를 들고 도망친다. 사막의 한 마을에 몸을 숨...\n",
       "2    {때는 전국시대, 끊이지 않는 전란(戰亂)이 만들어낸 '노부시'(野武士: 산적 무리...\n",
       "3    그리스에 거주하는 미국인 기업가 브랙켄의 가족인 부인 엘렌, 아들 지미, 딸 수지가...\n",
       "4    어느 해 7월 14일, 가의, 아군, 아강 등 7자매들은 아군이 이사를 가기 전날 ...\n",
       "5    연방제 남북통일 1년 뒤 쿠데타가 일어나고 정국이 혼란스러워진 뒤, 특수부대원의 활...\n",
       "6    동물적인 직감과 1초의 오차도 용납하지 않는 설계자 ‘렉스’철저한 계획 하에 움직이...\n",
       "7    돈만 아는 어미니와 계부 밑에서 자란 스카이(정이건 분)는 반항심으로 비틀린 안하무...\n",
       "8    최고의 첩보영화 '본 아이덴티티'가 TV판으로 재탄생했다! 최고의 액션스타 발 킬머...\n",
       "9    공군 퇴역 후 은둔 생활을 하던 더그 마스터즈(Doug Masters: 제이슨 카디...\n",
       "Name: story, dtype: object"
      ]
     },
     "execution_count": 19,
     "metadata": {},
     "output_type": "execute_result"
    }
   ],
   "source": [
    "df.story[:10]"
   ]
  },
  {
   "cell_type": "code",
   "execution_count": null,
   "metadata": {},
   "outputs": [],
   "source": []
  }
 ],
 "metadata": {
  "kernelspec": {
   "display_name": "Python 3",
   "language": "python",
   "name": "python3"
  },
  "language_info": {
   "codemirror_mode": {
    "name": "ipython",
    "version": 3
   },
   "file_extension": ".py",
   "mimetype": "text/x-python",
   "name": "python",
   "nbconvert_exporter": "python",
   "pygments_lexer": "ipython3",
   "version": "3.7.4"
  }
 },
 "nbformat": 4,
 "nbformat_minor": 4
}
