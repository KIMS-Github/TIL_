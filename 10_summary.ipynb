{
 "cells": [
  {
   "cell_type": "markdown",
   "metadata": {
    "slideshow": {
     "slide_type": "slide"
    }
   },
   "source": [
    "### 1. 파이썬의 기본문법"
   ]
  },
  {
   "cell_type": "markdown",
   "metadata": {},
   "source": [
    "#### 주석과 출력\n",
    "- 주석 : 코드를 실행하고 싶지 않을때, 코드에 대한 설명\n",
    "- 출력 : 변수의 값이나 내용을 출력해주는 방법"
   ]
  },
  {
   "cell_type": "markdown",
   "metadata": {
    "slideshow": {
     "slide_type": "slide"
    }
   },
   "source": [
    "#### 변수선언\n",
    "- RAM(메모리)의 저장공간을 사용하기 위한 방법"
   ]
  },
  {
   "cell_type": "code",
   "execution_count": 1,
   "metadata": {},
   "outputs": [],
   "source": [
    "# 컴퓨터의 메모리에 a 이름을 가진 변수에 1 값을 저장하고 데이터 타입은 int(정수)\n",
    "a = 1"
   ]
  },
  {
   "cell_type": "markdown",
   "metadata": {
    "slideshow": {
     "slide_type": "slide"
    }
   },
   "source": [
    "#### 식별자 규칙\n",
    "- a~z, A~Z, 0~9, _\n",
    "- 가장 앞에 숫자 사용이 불가\n",
    "- 예약어는 사용이 불가능 (class, def)"
   ]
  },
  {
   "cell_type": "markdown",
   "metadata": {
    "slideshow": {
     "slide_type": "slide"
    }
   },
   "source": [
    "### 2. 자료형 : Datatype\n",
    "- 변수를 선언할때 메모리에 저장공간이 만들어지는데, 저장공간에 저장하는 데이터의 자료 타입을 설정\n",
    "- 변수를 선언할때 메모리 공간을 효율적으로 사용하기 위해서 만들어진 개념\n",
    "- 동적타이핑 : 변수를 선언할때 변수에 저장되는 값에 따라서 자동으로 데이터 타입이 설정되는 기능\n",
    "- 변수의 데이터 타입을 확인하는 함수 : type(<변수명>)"
   ]
  },
  {
   "cell_type": "code",
   "execution_count": 2,
   "metadata": {},
   "outputs": [
    {
     "data": {
      "text/plain": [
       "int"
      ]
     },
     "execution_count": 2,
     "metadata": {},
     "output_type": "execute_result"
    }
   ],
   "source": [
    "a = 1\n",
    "type(a)"
   ]
  },
  {
   "cell_type": "markdown",
   "metadata": {
    "slideshow": {
     "slide_type": "slide"
    }
   },
   "source": [
    "#### 데이터 타입의 종류\n",
    "- Integer : 정수\n",
    "- Float : 실수\n",
    "- Boolean : True, False\n",
    "- String : \"python\"\n",
    "- List : 순서가 있는 데이터의 집합\n",
    "- Tuple : 리스트와 같은 특징을 갖습니다. 리스트는 수정이 가능, 튜플 수정이 불가능\n",
    "- Dictionary : 순서가 없고 키값과  value 값으로 이루어진 데이터 타입"
   ]
  },
  {
   "cell_type": "code",
   "execution_count": 3,
   "metadata": {},
   "outputs": [
    {
     "data": {
      "text/plain": [
       "(int, float, bool, str, list, tuple, dict)"
      ]
     },
     "execution_count": 3,
     "metadata": {},
     "output_type": "execute_result"
    }
   ],
   "source": [
    "a = 1\n",
    "b = 1.2\n",
    "c = True\n",
    "d = \"python\"\n",
    "e = [1, 2, 3]\n",
    "f = (1, 2, 3)\n",
    "g = {\"a\":1, \"b\":2}\n",
    "type(a), type(b), type(c), type(d), type(e), type(f), type(g)"
   ]
  },
  {
   "cell_type": "markdown",
   "metadata": {
    "slideshow": {
     "slide_type": "slide"
    }
   },
   "source": [
    "#### 오프셋  (offset)\n",
    "- 특정 위치의 데이터를 선택하는 방법\n",
    "- 문자열, 리스트, 튜플 데이터 타입에서 사용될수 있다.\n",
    "- [index] : 특정 위치의 하나의 데이터를 선택\n",
    "- [start:end] : 시작(start)과 끝(end) 위치 사이의 데이터를 선택\n",
    "- [start:end:stride] : 시작과 끝을 범위로 선택하되 점프하여 선택"
   ]
  },
  {
   "cell_type": "code",
   "execution_count": 4,
   "metadata": {},
   "outputs": [
    {
     "data": {
      "text/plain": [
       "('b', 'bc', 'ace')"
      ]
     },
     "execution_count": 4,
     "metadata": {},
     "output_type": "execute_result"
    }
   ],
   "source": [
    "a = \"abcde\"\n",
    "a[1], a[1:3], a[::2]"
   ]
  },
  {
   "cell_type": "code",
   "execution_count": 5,
   "metadata": {},
   "outputs": [
    {
     "data": {
      "text/plain": [
       "('b', 'de', 'edcba')"
      ]
     },
     "execution_count": 5,
     "metadata": {},
     "output_type": "execute_result"
    }
   ],
   "source": [
    "b = [\"a\", \"b\", \"c\", \"d\", \"e\"]\n",
    "a[1], a[-2:], a[::-1]"
   ]
  },
  {
   "cell_type": "markdown",
   "metadata": {
    "slideshow": {
     "slide_type": "slide"
    }
   },
   "source": [
    "#### 데이터 타입에 따른 함수\n",
    "\n",
    "\n",
    "- 함수 : 특정 기능을 하는 코드를 하나로 묶어서 실행하는 방법\n",
    "\n",
    "\n",
    "- 문자열 : String\n",
    "    - upper() : 대문자로 변경\n",
    "    - lower() : 소문자로 변경\n",
    "    - replace() : 문자열 치환\n",
    "    - strip() : 앞뒤 공백 제거\n",
    "    - find() : 문자열의 위치를 찾음\n",
    "    - join() : 리스트를 하나의 문자열로 합침\n",
    "    \n",
    "    \n",
    "- 리스트 : List\n",
    "    - append() : 데이터 추가\n",
    "    - sort() : 데이터 정렬\n",
    "    - reverse() : 데이터를 역순으로 정렬\n",
    "    \n",
    "    \n",
    "- 딕셔너리 : Dictionary\n",
    "    - keys() : 키 데이터만 가져옴\n",
    "    - values() : 값 데이터만 가져옴\n",
    "    - items() : 키와 값을 가져옴\n",
    "    - update() : 두개의 딕셔너리를 합쳐줌"
   ]
  },
  {
   "cell_type": "code",
   "execution_count": 6,
   "metadata": {
    "slideshow": {
     "slide_type": "slide"
    }
   },
   "outputs": [
    {
     "data": {
      "text/plain": [
       "(' PYTHON ', ' python ', ' CPython ', 'Python', 3, 'C-Python')"
      ]
     },
     "execution_count": 6,
     "metadata": {},
     "output_type": "execute_result"
    }
   ],
   "source": [
    "a = \" Python \"\n",
    "a.upper(), a.lower(), a.replace(\"P\", \"CP\"), a.strip(), a.find(\"th\"), \"-\".join([\"C\", \"Python\"])"
   ]
  },
  {
   "cell_type": "code",
   "execution_count": 7,
   "metadata": {},
   "outputs": [
    {
     "name": "stdout",
     "output_type": "stream",
     "text": [
      "[3, 2, 1, 4]\n",
      "[1, 2, 3, 4]\n",
      "[4, 3, 2, 1]\n"
     ]
    }
   ],
   "source": [
    "b = [3, 2, 1]\n",
    "b.append(4)\n",
    "print(b)\n",
    "b.sort()\n",
    "print(b)\n",
    "b.reverse()\n",
    "print(b)"
   ]
  },
  {
   "cell_type": "code",
   "execution_count": 8,
   "metadata": {},
   "outputs": [
    {
     "name": "stdout",
     "output_type": "stream",
     "text": [
      "dict_keys(['a', 'b']) dict_values([1, 2]) dict_items([('a', 1), ('b', 2)])\n",
      "{'a': 1, 'b': 3, 'c': 4}\n"
     ]
    }
   ],
   "source": [
    "c = {\"a\": 1, \"b\": 2}\n",
    "d = {\"b\": 3, \"c\": 4}\n",
    "print(c.keys(), c.values(), c.items())\n",
    "c.update(d)\n",
    "print(c)"
   ]
  },
  {
   "cell_type": "markdown",
   "metadata": {
    "slideshow": {
     "slide_type": "slide"
    }
   },
   "source": [
    "### 3. 데이터 타입의 형변환\n",
    "- 데이터 타입과 데이터의 값에 따라서 변수의 데이터 타입 변경이 가능\n",
    "- int() : 정수로 형변환\n",
    "- str() : 문자열로 형변환\n",
    "- bool() : Boolean으로 형변환"
   ]
  },
  {
   "cell_type": "code",
   "execution_count": 9,
   "metadata": {},
   "outputs": [
    {
     "data": {
      "text/plain": [
       "(1, '10', False)"
      ]
     },
     "execution_count": 9,
     "metadata": {},
     "output_type": "execute_result"
    }
   ],
   "source": [
    "a, b, c = \"1\", 10, 0\n",
    "int(a), str(b), bool(c)"
   ]
  },
  {
   "cell_type": "markdown",
   "metadata": {
    "slideshow": {
     "slide_type": "slide"
    }
   },
   "source": [
    "### 4. 입력과 출력\n",
    "- input() : 입력 함수\n",
    "- print() : 출력 함수\n",
    "    - format() : 문자열 중간중간에 변수의 값을 추가할수 있도록 해주는 함수"
   ]
  },
  {
   "cell_type": "code",
   "execution_count": 10,
   "metadata": {},
   "outputs": [
    {
     "name": "stdout",
     "output_type": "stream",
     "text": [
      "insert string:python\n"
     ]
    }
   ],
   "source": [
    "data = input(\"insert string:\")"
   ]
  },
  {
   "cell_type": "code",
   "execution_count": 11,
   "metadata": {},
   "outputs": [
    {
     "name": "stdout",
     "output_type": "stream",
     "text": [
      "data - science!"
     ]
    }
   ],
   "source": [
    "print(\"data\", \"science\", sep=\" - \", end=\"!\")"
   ]
  },
  {
   "cell_type": "markdown",
   "metadata": {
    "slideshow": {
     "slide_type": "slide"
    }
   },
   "source": [
    "### 5. 연산자 : Operators\n",
    "\n",
    "- 산술 연산자\n",
    "    - 두개의 데이터의 기본적인 수학연산을 하는 연산자\n",
    "    - +, -, *, /, //, %, **\n",
    "\n",
    "\n",
    "- 비교 연산자\n",
    "    - 두 데이터를 비교하여 논리가 맞으면 True 틀리면 False를 출력\n",
    "    - ==, !=, >, <, >=, <=    \n",
    "\n",
    "\n",
    "- 할당 연산자\n",
    "    - 대입 연산자(=)와 산술 연산자를 함께 사용하여 이전에 있던 변수의 값에서 추가로 계산한 결과를 저장할때 사용\n",
    "    - +=, -=, *=, /=, %=, //=, **=\n",
    "    \n",
    "    \n",
    "- 논리 연산자\n",
    "    - 논리의 참과 거짓을 나타내는 연산자\n",
    "    - and : 둘다 True 일때  True\n",
    "    - or : 둘다 Fasle 일때 False\n",
    "    - not : True는 False, False는 True\n",
    "    \n",
    "    \n",
    "- 멤버 연산자\n",
    "    - 데이터의 집합(문자열, 리스트, 튜플, 딕셔너리)에서 특정 데이터가 포함되어 있는지 확인하는 연산자\n",
    "    - in : 데이터가 포함되어 있으면 True를 출력\n",
    "    - not in :  데이터가 포함되어 있지 않으면 True를 출력"
   ]
  },
  {
   "cell_type": "code",
   "execution_count": 12,
   "metadata": {
    "slideshow": {
     "slide_type": "slide"
    }
   },
   "outputs": [
    {
     "data": {
      "text/plain": [
       "(5, 1, 1, 9)"
      ]
     },
     "execution_count": 12,
     "metadata": {},
     "output_type": "execute_result"
    }
   ],
   "source": [
    "# 산술연산자\n",
    "a, b = 3, 2\n",
    "a + b, a // b, a % b, a ** b"
   ]
  },
  {
   "cell_type": "code",
   "execution_count": 13,
   "metadata": {},
   "outputs": [
    {
     "data": {
      "text/plain": [
       "(False, False, True, True)"
      ]
     },
     "execution_count": 13,
     "metadata": {},
     "output_type": "execute_result"
    }
   ],
   "source": [
    "# 비교연산자\n",
    "a, b, c = 2, 3, 2\n",
    "a == b, a != c, a < b, a >= c"
   ]
  },
  {
   "cell_type": "code",
   "execution_count": 14,
   "metadata": {},
   "outputs": [
    {
     "data": {
      "text/plain": [
       "9"
      ]
     },
     "execution_count": 14,
     "metadata": {},
     "output_type": "execute_result"
    }
   ],
   "source": [
    "# 할당연산자\n",
    "a = 1\n",
    "a += 2\n",
    "a *= 3\n",
    "a"
   ]
  },
  {
   "cell_type": "code",
   "execution_count": 15,
   "metadata": {},
   "outputs": [
    {
     "data": {
      "text/plain": [
       "(False, True, True)"
      ]
     },
     "execution_count": 15,
     "metadata": {},
     "output_type": "execute_result"
    }
   ],
   "source": [
    "# 논리연산자\n",
    "a, b = 1, 2\n",
    "(a < b) and (a == b), (a < b) or (a == b), not(a > b)"
   ]
  },
  {
   "cell_type": "markdown",
   "metadata": {
    "slideshow": {
     "slide_type": "slide"
    }
   },
   "source": [
    "### 6. 조건문\n",
    "- 조건에 따라서 코드를 실행시키고 싶을 때 사용\n",
    "- if\n",
    "    - 한개의 조건으로 코드를 실행시킬때 사용\n",
    "- elif\n",
    "    - 여러개의 조건을 사용할때 if에 추가하여 사용\n",
    "- else\n",
    "    - if, elif문의 조건이 모두 False일때 실행되는 구문\n",
    "- 삼항연산\n",
    "    - if, else로 되어 있는 간단한 조건문을 한줄로 표현하는 방법\n",
    "    - (참) if (조건) else (거짓)"
   ]
  },
  {
   "cell_type": "code",
   "execution_count": 16,
   "metadata": {},
   "outputs": [
    {
     "name": "stdout",
     "output_type": "stream",
     "text": [
      "a < 100\n"
     ]
    }
   ],
   "source": [
    "a = 87\n",
    "if a < 10:\n",
    "    print(\"a < 10\")\n",
    "elif a < 100:\n",
    "    print(\"a < 100\")\n",
    "else:\n",
    "    print(\"a >= 100\")"
   ]
  },
  {
   "cell_type": "markdown",
   "metadata": {
    "slideshow": {
     "slide_type": "slide"
    }
   },
   "source": [
    "### 7. 반복문\n",
    "- while\n",
    "- break\n",
    "- continue\n",
    "- for"
   ]
  },
  {
   "cell_type": "markdown",
   "metadata": {
    "slideshow": {
     "slide_type": "slide"
    }
   },
   "source": [
    "#### while\n",
    "- condition이 False가 될때까지 code가 반복적으로 실행\n",
    "```\n",
    "while <condition>:\n",
    "    <code>\n",
    "```"
   ]
  },
  {
   "cell_type": "code",
   "execution_count": 17,
   "metadata": {},
   "outputs": [
    {
     "name": "stdout",
     "output_type": "stream",
     "text": [
      "1\n",
      "2\n",
      "3\n",
      "4\n",
      "5\n"
     ]
    }
   ],
   "source": [
    "a = 0\n",
    "while a < 5:\n",
    "    a += 1\n",
    "    print(a)"
   ]
  },
  {
   "cell_type": "markdown",
   "metadata": {
    "slideshow": {
     "slide_type": "slide"
    }
   },
   "source": [
    "#### break\n",
    "- 반복문 중간에 반복을 중단시키는 명령\n",
    "- while과 for에 모두 적용"
   ]
  },
  {
   "cell_type": "code",
   "execution_count": 18,
   "metadata": {},
   "outputs": [
    {
     "name": "stdout",
     "output_type": "stream",
     "text": [
      "1\n",
      "2\n"
     ]
    }
   ],
   "source": [
    "a = 0\n",
    "while a < 5:\n",
    "    a += 1\n",
    "    if a == 3:\n",
    "        break\n",
    "    print(a)"
   ]
  },
  {
   "cell_type": "markdown",
   "metadata": {
    "slideshow": {
     "slide_type": "slide"
    }
   },
   "source": [
    "#### continue\n",
    "- 반복문 중간에 조건을 확인하는 부분으로 코드를 실행시키는 명령\n",
    "- while과 for에 모두 적용"
   ]
  },
  {
   "cell_type": "code",
   "execution_count": 19,
   "metadata": {},
   "outputs": [
    {
     "name": "stdout",
     "output_type": "stream",
     "text": [
      "2\n",
      "4\n"
     ]
    }
   ],
   "source": [
    "a = 0\n",
    "while a < 5:\n",
    "    a += 1\n",
    "    if a % 2:\n",
    "        continue\n",
    "    print(a)"
   ]
  },
  {
   "cell_type": "markdown",
   "metadata": {
    "slideshow": {
     "slide_type": "slide"
    }
   },
   "source": [
    "#### for\n",
    "- iterable(순서가 있는 데이터의 집합)의 데이터를 하나씩 꺼내서 value에 대입시킨후 code를 수행\n",
    "- code는 iteralbe의 갯수 만큼 실행\n",
    "```\n",
    "for <value> in <iterable> :\n",
    "    <code>\n",
    "```\n"
   ]
  },
  {
   "cell_type": "code",
   "execution_count": 20,
   "metadata": {},
   "outputs": [
    {
     "name": "stdout",
     "output_type": "stream",
     "text": [
      "0\n",
      "1\n",
      "2\n"
     ]
    }
   ],
   "source": [
    "ls = [0, 1, 2]\n",
    "for data in ls:\n",
    "    print(data)"
   ]
  },
  {
   "cell_type": "markdown",
   "metadata": {
    "slideshow": {
     "slide_type": "slide"
    }
   },
   "source": [
    "#### range\n",
    "- list를 간편하게 생성하기 위한 함수입니다.\n",
    "```\n",
    "range(end)\n",
    "range(start, end)\n",
    "range(start, end, stride)\n",
    "```"
   ]
  },
  {
   "cell_type": "code",
   "execution_count": 21,
   "metadata": {},
   "outputs": [
    {
     "data": {
      "text/plain": [
       "[0, 1, 2]"
      ]
     },
     "execution_count": 21,
     "metadata": {},
     "output_type": "execute_result"
    }
   ],
   "source": [
    "a = range(3)\n",
    "list(a)"
   ]
  },
  {
   "cell_type": "code",
   "execution_count": 22,
   "metadata": {},
   "outputs": [
    {
     "data": {
      "text/plain": [
       "[2, 3, 4]"
      ]
     },
     "execution_count": 22,
     "metadata": {},
     "output_type": "execute_result"
    }
   ],
   "source": [
    "b = range(2, 5)\n",
    "list(b)"
   ]
  },
  {
   "cell_type": "code",
   "execution_count": 23,
   "metadata": {},
   "outputs": [
    {
     "data": {
      "text/plain": [
       "[0, 2, 4]"
      ]
     },
     "execution_count": 23,
     "metadata": {},
     "output_type": "execute_result"
    }
   ],
   "source": [
    "c = range(0, 5, 2)\n",
    "list(c)"
   ]
  },
  {
   "cell_type": "code",
   "execution_count": 24,
   "metadata": {},
   "outputs": [
    {
     "name": "stdout",
     "output_type": "stream",
     "text": [
      "0\n",
      "1\n",
      "2\n"
     ]
    }
   ],
   "source": [
    "for data in range(3):\n",
    "    print(data)"
   ]
  },
  {
   "cell_type": "markdown",
   "metadata": {
    "slideshow": {
     "slide_type": "slide"
    }
   },
   "source": [
    "#### enumerate\n",
    "- 리스트 데이터를 index와 value값을 동시에 사용할 수 있게 해주는 함수"
   ]
  },
  {
   "cell_type": "code",
   "execution_count": 25,
   "metadata": {},
   "outputs": [
    {
     "name": "stdout",
     "output_type": "stream",
     "text": [
      "[(0, 'a'), (1, 'b'), (2, 'c')]\n",
      "0 a\n",
      "1 b\n",
      "2 c\n"
     ]
    }
   ],
   "source": [
    "ls = [\"a\", \"b\", \"c\"]\n",
    "print(list(enumerate(ls)))\n",
    "for idx, data in enumerate(ls):\n",
    "    print(idx, data)"
   ]
  },
  {
   "cell_type": "markdown",
   "metadata": {
    "slideshow": {
     "slide_type": "slide"
    }
   },
   "source": [
    "#### zip\n",
    "- n개의 리스트를 같은 index끼리 묶어주는 함수"
   ]
  },
  {
   "cell_type": "code",
   "execution_count": 26,
   "metadata": {},
   "outputs": [
    {
     "data": {
      "text/plain": [
       "[('a', 1), ('b', 2), ('c', 3)]"
      ]
     },
     "execution_count": 26,
     "metadata": {},
     "output_type": "execute_result"
    }
   ],
   "source": [
    "ls1 = [\"a\", \"b\", \"c\"]\n",
    "ls2 = [1, 2, 3]\n",
    "list(zip(ls1, ls2))"
   ]
  },
  {
   "cell_type": "code",
   "execution_count": 27,
   "metadata": {},
   "outputs": [
    {
     "name": "stdout",
     "output_type": "stream",
     "text": [
      "a 1\n",
      "b 2\n",
      "c 3\n"
     ]
    }
   ],
   "source": [
    "for data1, data2 in zip(ls1, ls2):\n",
    "    print(data1, data2)"
   ]
  },
  {
   "cell_type": "markdown",
   "metadata": {
    "slideshow": {
     "slide_type": "slide"
    }
   },
   "source": [
    "#### random\n",
    "- 랜덤하게 데이터를 뽑아주는 함수"
   ]
  },
  {
   "cell_type": "code",
   "execution_count": 28,
   "metadata": {},
   "outputs": [],
   "source": [
    "import random"
   ]
  },
  {
   "cell_type": "code",
   "execution_count": 29,
   "metadata": {},
   "outputs": [
    {
     "data": {
      "text/plain": [
       "5"
      ]
     },
     "execution_count": 29,
     "metadata": {},
     "output_type": "execute_result"
    }
   ],
   "source": [
    "# 1 ~ 5의 숫자중에 하나를 랜덤하게 출력\n",
    "random.randint(1, 5)"
   ]
  }
 ],
 "metadata": {
  "celltoolbar": "Slideshow",
  "kernelspec": {
   "display_name": "Python 3",
   "language": "python",
   "name": "python3"
  },
  "language_info": {
   "codemirror_mode": {
    "name": "ipython",
    "version": 3
   },
   "file_extension": ".py",
   "mimetype": "text/x-python",
   "name": "python",
   "nbconvert_exporter": "python",
   "pygments_lexer": "ipython3",
   "version": "3.7.3"
  }
 },
 "nbformat": 4,
 "nbformat_minor": 2
}
