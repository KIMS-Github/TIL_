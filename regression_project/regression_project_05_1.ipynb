{
 "cells": [
  {
   "cell_type": "code",
   "execution_count": 1,
   "metadata": {},
   "outputs": [],
   "source": [
    "import sys\n",
    "import missingno as msno\n",
    "import matplotlib.pyplot as plt\n",
    "from matplotlib import rc\n",
    "import seaborn as sns\n",
    "from PIL import Image\n",
    "# from pandas_profiling import ProfileReport\n",
    "from functools import reduce\n",
    "import statsmodels.api as sm \n",
    "\n",
    "%matplotlib inline\n",
    "rc('font', family='AppleGothic')\n",
    "plt.rcParams['axes.unicode_minus'] = False\n",
    "\n",
    "\n",
    "\n",
    "from sklearn.model_selection import train_test_split\n",
    "from statsmodels.stats.outliers_influence import variance_inflation_factor\n",
    "from sklearn.preprocessing import RobustScaler, StandardScaler, MinMaxScaler\n",
    "from sklearn.tree import DecisionTreeClassifier\n",
    "from sklearn.linear_model import LogisticRegression,LinearRegression\n",
    "\n",
    "from sklearn.metrics import confusion_matrix,classification_report,accuracy_score\n",
    "from sklearn.model_selection import cross_val_score"
   ]
  },
  {
   "cell_type": "markdown",
   "metadata": {},
   "source": [
    "## 기업의 사회적 책임과 그 기업의 신용도의 관계 대한 고찰"
   ]
  },
  {
   "cell_type": "markdown",
   "metadata": {},
   "source": [
    "美 유나이티드 항공, 주가 폭락에 화들짝 “승객 끌어내 죄송” 한국일보 2017.04.12 \n",
    "\n",
    "\"인종차별 논란이 일면서 각종 사회관계망서비스(SNS)에서는 항공사 보이콧 운동이 격화\"\n",
    "\n",
    "\"이에 투자자들이 반응으로 이날 뉴욕증시에서 유나이티드항공 모회사인 유나이티드 컨티넨탈 홀딩스의 주가는 전일 대비 1.13% 하락으로 마감\"\n",
    "\n",
    "\"한때 주가가 4%까지 급락했으며 유나이티드항공의 시총 약 2억5,500만달러(2,900억원)가 하루 사이 공중으로 날아갔다.\"\n",
    "\n",
    "기업의 사회적 책임을 다하지 못함이 투자자들의 부정적 반응을 이끌어냄\n"
   ]
  },
  {
   "cell_type": "markdown",
   "metadata": {},
   "source": [
    "### 기업이란\n",
    "\n",
    "\n",
    "영리기업과 비영리단체의 경계가 허물어진다 밴처스퀘어 2012년 3월 2일\n",
    "\n",
    "\"영리와 비즈니스를 중심에 두는 기업과 비영리 단체는 전통적으로 그 경계가 명확했고, 이들의 역할을 벗어나면 안되는 것으로 생각했던 것이 지금까지의 통념이다.\n",
    "\n",
    "그러나, 최근 기업과 비영리단체들이 서로 상호작용하고 서로에게 많은 것을 배우는 현상이 많아지고 있다.\"\n",
    "\n",
    "기업은 크게 이윤 극대화가 목적인 영리기업과 사회적 가치 실현에 중점을 두는 비영리 기업으로 나뉨\n",
    "\n",
    "그러나 시간이 지나면서 두 기업의 경계가 모호해지기 시작함\n",
    "\n",
    "그 이유가 무엇일까?"
   ]
  },
  {
   "cell_type": "code",
   "execution_count": 2,
   "metadata": {},
   "outputs": [
    {
     "ename": "FileNotFoundError",
     "evalue": "[Errno 2] No such file or directory: '1.png'",
     "output_type": "error",
     "traceback": [
      "\u001b[0;31m---------------------------------------------------------------------------\u001b[0m",
      "\u001b[0;31mFileNotFoundError\u001b[0m                         Traceback (most recent call last)",
      "\u001b[0;32m<ipython-input-2-2a3ab4553fbb>\u001b[0m in \u001b[0;36m<module>\u001b[0;34m\u001b[0m\n\u001b[0;32m----> 1\u001b[0;31m \u001b[0mim1\u001b[0m \u001b[0;34m=\u001b[0m \u001b[0mImage\u001b[0m\u001b[0;34m.\u001b[0m\u001b[0mopen\u001b[0m\u001b[0;34m(\u001b[0m\u001b[0;34m'1.png'\u001b[0m\u001b[0;34m)\u001b[0m\u001b[0;34m\u001b[0m\u001b[0;34m\u001b[0m\u001b[0m\n\u001b[0m\u001b[1;32m      2\u001b[0m \u001b[0mim1\u001b[0m\u001b[0;34m.\u001b[0m\u001b[0mresize\u001b[0m\u001b[0;34m(\u001b[0m\u001b[0;34m(\u001b[0m\u001b[0;36m600\u001b[0m\u001b[0;34m,\u001b[0m\u001b[0;36m300\u001b[0m\u001b[0;34m)\u001b[0m\u001b[0;34m)\u001b[0m\u001b[0;34m\u001b[0m\u001b[0;34m\u001b[0m\u001b[0m\n",
      "\u001b[0;32m~/opt/miniconda3/lib/python3.7/site-packages/PIL/Image.py\u001b[0m in \u001b[0;36mopen\u001b[0;34m(fp, mode)\u001b[0m\n\u001b[1;32m   2841\u001b[0m \u001b[0;34m\u001b[0m\u001b[0m\n\u001b[1;32m   2842\u001b[0m     \u001b[0;32mif\u001b[0m \u001b[0mfilename\u001b[0m\u001b[0;34m:\u001b[0m\u001b[0;34m\u001b[0m\u001b[0;34m\u001b[0m\u001b[0m\n\u001b[0;32m-> 2843\u001b[0;31m         \u001b[0mfp\u001b[0m \u001b[0;34m=\u001b[0m \u001b[0mbuiltins\u001b[0m\u001b[0;34m.\u001b[0m\u001b[0mopen\u001b[0m\u001b[0;34m(\u001b[0m\u001b[0mfilename\u001b[0m\u001b[0;34m,\u001b[0m \u001b[0;34m\"rb\"\u001b[0m\u001b[0;34m)\u001b[0m\u001b[0;34m\u001b[0m\u001b[0;34m\u001b[0m\u001b[0m\n\u001b[0m\u001b[1;32m   2844\u001b[0m         \u001b[0mexclusive_fp\u001b[0m \u001b[0;34m=\u001b[0m \u001b[0;32mTrue\u001b[0m\u001b[0;34m\u001b[0m\u001b[0;34m\u001b[0m\u001b[0m\n\u001b[1;32m   2845\u001b[0m \u001b[0;34m\u001b[0m\u001b[0m\n",
      "\u001b[0;31mFileNotFoundError\u001b[0m: [Errno 2] No such file or directory: '1.png'"
     ]
    }
   ],
   "source": [
    "im1 = Image.open('1.png')\n",
    "im1.resize((600,300))"
   ]
  },
  {
   "cell_type": "markdown",
   "metadata": {},
   "source": [
    "### 기업의 지속가능한 성장\n",
    "\n",
    "\"Investors are increasingly convinced that integration of ESG into their investment process maximizes\\\n",
    "their long-term interest and that good corporate governance and sustainability\\\n",
    "will contribute to the creation of long-term value for shareholders.\"\n",
    "\n",
    "<u>(Benlemlih, M. 2019)</u>\n",
    " \n",
    "For the measurement of economic performance in relation to the ESG indicators are proposed the Key Performance Indicators (KPIs). \n",
    "The economic performance indicators provide quantitative forms of a feedback which reflect the results in the framework of their corporate strategy. The approach is not differed when managing environmental, social and governance issues.\n",
    "    \n",
    "기업의 적절한 사회적 책임 이행은 기업의 장기적이고 지속적인 성장과 관련있다 즉 사회적 책임 이행 유무가 기업의 지속가능한 성장의 기회와 동시에 리스크로 작용할 수 있다\n",
    "\n",
    "\n",
    "경영에 있어 이러한 장기적 목표를 위한 의사결정을 내릴 때 그 기업이 처한 상황과 핵심역량에 따라 결정이 되는데 이때 사용되는 재무지표가 Key Performance Indicators (KPIs) 이다. KPI에는 기업 활동 과정에 있어 나오는 수익률을 보는 지표이다 이 지표는 신용평가 기관에서 보는 지표와 비슷하다"
   ]
  },
  {
   "cell_type": "code",
   "execution_count": null,
   "metadata": {},
   "outputs": [],
   "source": [
    "im1 = Image.open('2_kpi.png')\n",
    "im1.resize((600,300))"
   ]
  },
  {
   "cell_type": "markdown",
   "metadata": {},
   "source": [
    "### 사회적 책임 세분화 기준\n",
    "\n",
    "기업의 사회적 책임을 나누는 기주는 크게 3가지이다\n",
    "\n",
    "\n",
    "#### E-환경, S-사회, G-지배구조\n",
    "\n",
    "환경은 말그대로 환경 유지에 기업이 어떤 역활을 하는가이다\n",
    "\n",
    "사회란 기업이 속한 지역사회의 가치를 실현 등의 외부적 요소와 내부 구성원들의 환경 및 처우 등이 관련된 내부 요소로 나뉘며 그 경계가 모호하다. \n",
    "\n",
    "지배구조란 기업의 내부 시스템의 퍼포먼스로 기업윤리 및 주주들의 이윤 극대화에 얼마나 충실한지와 내부 구성원에 의해 생길 리스크 관리가 포함된다.\n",
    "\n",
    "corporate governance,Codes of business conduct, Risk and crisis management"
   ]
  },
  {
   "cell_type": "markdown",
   "metadata": {},
   "source": [
    "### 사회적 책임과 회사의 의사결정 관계\n",
    "\n",
    "\"기업의 사회적 책임이 항상 일정하게 추진되는 것이 아니라 외부 충격(예:경제위기)이나 정치적 불안정(예:정권퇴진) 등의 시 기에 급격하게 후퇴하는 것으로 나타났다\"\n",
    "\n",
    "<u>(한국 대기업의 사회적 책임에 관한 연구_정흥준 외)</u>\n",
    "\n",
    "미래가치의 투자는 현시점 기업의 상황과 핵심역량에 따라 갈리는데 현시점의 재무상태가 좋지 못하거나 기업의 역량이 미래의 시점에서 미약할 경우\n",
    "\n",
    "미래에 대한 투자가 어렵다는걸 말한다 \n",
    "\n"
   ]
  },
  {
   "cell_type": "markdown",
   "metadata": {},
   "source": [
    "### ESG에 관한 연구 해외\n",
    "\n",
    "'Our findings suggest that ESG performance, especially concerning social and governance metrics, \n",
    "meaningfully affects credit ratings.'\n",
    "\n",
    "<u>(Devalle, Alain & Fiandrino, Simona & Cantino Valter, 2017, Conclusion.)</u>\n",
    " \n",
    "Logistics regression 모델 사용 \n",
    "  (환경)Env_Innov_Sc - 0.021, (사회)Community_Sc - 0.001 \n",
    "  (지배구조)Product_Resp_Sc - 0.037 (지배구조)Shareholder_Sc - 0.001\n",
    "\n",
    "\"These six provisions are called the “E-Index” (E for entrenchment), and while they (Bebchuk, Cohen, and Wang, 2012)\\ \n",
    "found that both the G-Index and E-Index would have resulted in abnormal returns in the 1990s\"\n",
    "\n",
    "<u>(Exploring the G in ESG, S&P DOW JONES INDICES, 22 Mar, 2012)</u>\n",
    "    \n",
    "we find that firms benefit more when they adopt a CSR engagement strategy that is consistent, \n",
    "involves related dimensions of CSR, and begins with aspects of CSR that are more internal to the firm. \n",
    "\n",
    "<u>(Zhi Tang, Clyde Eiríkur Hull, Sandra Rothenberg, 5 June 2012 ) </u>\n"
   ]
  },
  {
   "cell_type": "markdown",
   "metadata": {},
   "source": [
    "### 한국에서의 ESG\n",
    "\n",
    "\n",
    "국내 신용평가사는 ESG 일부 요소가 이미 신용등급에 반영돼 있다는 입장이다. \n",
    "실제로 지배구조(G)가 취약한 기업의 경우 신용등급 산정 시 해당 요소가 부정적으로 작용한다.\n",
    "\n",
    "'08~14년까지의 데이터를 보아 E는 음의 관계, S는 관계성이 낮고, G는 양의 관계를 가짐'\n",
    "\n",
    "<u>(Han et al. Asian Journal of Sustainability and Social Responsibility, 2016)</u>\n",
    "\n",
    "'esg 데이터는 소형 회사의 경우 충분한 데이터를 모을 수 없어  신뢰 할 수 있는 esg를 구하기 어려움 그래서 규모가 큰 회사를 대상으로 진행하거나 Esg를 따로 분리하여 독립적으로 볼 것, G의 중요성을 시사, ESG는 신용등급과 negative한 관계를 가짐'\n",
    "\n",
    "\n",
    "'연구 결과로는 ESG가 신용평가에 영향을 미치며 기업의 규모에 따라 조금 다르게 영향을 미칠 수 있음, 전반적으로 E의 영향이 우세하며 작은 기업일수록 E의 영향을 많이 받음'\n",
    "\n",
    "<u>(ESG Scores and the Credit Market, 25 March 2020)</u>\n",
    "\n"
   ]
  },
  {
   "cell_type": "markdown",
   "metadata": {},
   "source": [
    "### 예측 \n",
    "많은 연구들에서 보듯 ESG가 신용등급에 반영에 영향력이 있음을 보이는 연구들을 쉽게 찾을 수 있었다\n",
    "\n",
    "재무상태가 좋지 못한 기업 즉 신용도가 낮은 기업은 기업의 사회적 책임을 다하는 의사결정을 내리기 어려울 것이며 \n",
    "\n",
    "이에 ESG점수가 낮게 나올 것이다 이러한 판단을 하는데 있어 보는지표 KPI는 신용평가사에서 보는 \n",
    "\n",
    "재무지표과 많은 연관이 있음으로 \n",
    "\n",
    "결과적으로 재무상태가 좋지 못한 기업은 ESG 스코어가 낮게 내올 것이며 신용평가 역시 낮게 나올 것이다\n",
    "\n",
    "즉 ESG를 사용하면 신용평가 등급을 예측하는데 더 도움이 될 것"
   ]
  },
  {
   "cell_type": "markdown",
   "metadata": {},
   "source": [
    "#### 독립변수 2013년 부터 2020년까지의 데이터를 사용 \n",
    "\n",
    "#### 재무지표\n",
    "\n",
    "기업의 신용을 결정 할 때는 그 기업의 자산에 부채가 얼만큼 차지하는지 그 부채를 상환 할 수 있는 능력이 어떻게 되는지를 고려\n",
    "    \n",
    "- INTCOV : 세후 순 영업이익\n",
    "- ROA\t: 자산대비 수익률\n",
    "- ROE\t: 자본대비 수익률\n",
    "- EQTA : 자기자본비율\n",
    "- CURR :당기 자산과 부채의 비율\n",
    "- EBITDA : 당기 순이익에서 금융비용,및 세금과 유무형 자산 감가상각을 하기 전\n",
    "- NI : 순이익\t\n",
    "- TASSET : 총자산\n",
    "- Sale : 매출\t\n",
    "- DR : 부채비율\t\n",
    "- BTEBITDA : 차입금 대비 이자,세금 차감전 당기 순이익 비율\n",
    "- EBITDATIE : 당기순이익 분에 이자 비용 비율\n",
    "- TB : 총 부채\t\n",
    "- LTDTA :\t총자산분의 비유동부채 비율\n",
    "- FCF\t:잉여 현금흐름\n",
    "- EBITTS : 매출의 당기순이익 비율\n",
    "\n",
    "<u> (나이스 기업신용평가 주요 재무제표 .2020)\n",
    "    \n",
    "   ( The use of different approaches for credit rating prediction and their comparison : Martina Novotná September 2012) </u>\n",
    "\n",
    "       \n",
    "#### ESG지표 \n",
    "\n",
    "\n",
    "- E,S,G,ESG의 각 점수 <u>( KCGS : 한국기업지배구조원)</u>\n",
    "\n",
    "- 신용평가 등급(종속변수) \n",
    "\n",
    "- 13년부터 20년까지, D등급 부터 AAA구간을 백분율화하여 분포에 맞게 5등급으로 나누고 점수를 배점 \n",
    "\n",
    "     <u> (머신러닝 기법을 활용한 기업 신용위험 시계열 예측 모델 개발 연구 : 이현상 and 오세환)</u>\n",
    "\n",
    "\n"
   ]
  },
  {
   "cell_type": "markdown",
   "metadata": {},
   "source": [
    "## Credit Rating"
   ]
  },
  {
   "cell_type": "code",
   "execution_count": 3,
   "metadata": {},
   "outputs": [
    {
     "data": {
      "text/html": [
       "<div>\n",
       "<style scoped>\n",
       "    .dataframe tbody tr th:only-of-type {\n",
       "        vertical-align: middle;\n",
       "    }\n",
       "\n",
       "    .dataframe tbody tr th {\n",
       "        vertical-align: top;\n",
       "    }\n",
       "\n",
       "    .dataframe thead th {\n",
       "        text-align: right;\n",
       "    }\n",
       "</style>\n",
       "<table border=\"1\" class=\"dataframe\">\n",
       "  <thead>\n",
       "    <tr style=\"text-align: right;\">\n",
       "      <th></th>\n",
       "      <th>Unnamed: 0</th>\n",
       "      <th>평가회사</th>\n",
       "      <th>평가대상회사</th>\n",
       "      <th>평가대상종류</th>\n",
       "      <th>공시일자</th>\n",
       "      <th>평가등급</th>\n",
       "      <th>등급감시</th>\n",
       "      <th>등급전망</th>\n",
       "    </tr>\n",
       "  </thead>\n",
       "  <tbody>\n",
       "    <tr>\n",
       "      <th>0</th>\n",
       "      <td>1</td>\n",
       "      <td>한국기업평가</td>\n",
       "      <td>삼성엔지니어링(주)</td>\n",
       "      <td>본평가</td>\n",
       "      <td>2020-01-02</td>\n",
       "      <td>A-</td>\n",
       "      <td>NaN</td>\n",
       "      <td>안정적</td>\n",
       "    </tr>\n",
       "    <tr>\n",
       "      <th>1</th>\n",
       "      <td>2</td>\n",
       "      <td>한국기업평가</td>\n",
       "      <td>삼화페인트공업(주)</td>\n",
       "      <td>수시평가</td>\n",
       "      <td>2020-01-02</td>\n",
       "      <td>BBB+</td>\n",
       "      <td>NaN</td>\n",
       "      <td>안정적</td>\n",
       "    </tr>\n",
       "    <tr>\n",
       "      <th>2</th>\n",
       "      <td>3</td>\n",
       "      <td>나이스신용평가</td>\n",
       "      <td>예금보험공사</td>\n",
       "      <td>본평가</td>\n",
       "      <td>2020-01-08</td>\n",
       "      <td>AAA</td>\n",
       "      <td>NaN</td>\n",
       "      <td>안정적</td>\n",
       "    </tr>\n",
       "    <tr>\n",
       "      <th>3</th>\n",
       "      <td>4</td>\n",
       "      <td>한국기업평가</td>\n",
       "      <td>에스케이증권(주)</td>\n",
       "      <td>본평가</td>\n",
       "      <td>2020-01-09</td>\n",
       "      <td>A</td>\n",
       "      <td>NaN</td>\n",
       "      <td>안정적</td>\n",
       "    </tr>\n",
       "    <tr>\n",
       "      <th>4</th>\n",
       "      <td>5</td>\n",
       "      <td>한국기업평가</td>\n",
       "      <td>우리종합금융(주)</td>\n",
       "      <td>본평가 (정정)</td>\n",
       "      <td>2020-01-09</td>\n",
       "      <td>A</td>\n",
       "      <td>NaN</td>\n",
       "      <td>안정적</td>\n",
       "    </tr>\n",
       "  </tbody>\n",
       "</table>\n",
       "</div>"
      ],
      "text/plain": [
       "   Unnamed: 0     평가회사      평가대상회사    평가대상종류       공시일자  평가등급 등급감시 등급전망\n",
       "0           1   한국기업평가  삼성엔지니어링(주)       본평가 2020-01-02    A-  NaN  안정적\n",
       "1           2   한국기업평가  삼화페인트공업(주)      수시평가 2020-01-02  BBB+  NaN  안정적\n",
       "2           3  나이스신용평가      예금보험공사       본평가 2020-01-08   AAA  NaN  안정적\n",
       "3           4   한국기업평가   에스케이증권(주)       본평가 2020-01-09     A  NaN  안정적\n",
       "4           5   한국기업평가   우리종합금융(주)  본평가 (정정) 2020-01-09     A  NaN  안정적"
      ]
     },
     "execution_count": 3,
     "metadata": {},
     "output_type": "execute_result"
    }
   ],
   "source": [
    "df_credit_2020 = pd.read_excel(\"2020_credit_rating.xlsx\")\n",
    "df_credit_2020.head()"
   ]
  },
  {
   "cell_type": "code",
   "execution_count": 4,
   "metadata": {},
   "outputs": [
    {
     "data": {
      "image/png": "[encoded data removed]",
      "text/plain": [
       "<Figure size 1800x720 with 2 Axes>"
      ]
     },
     "metadata": {
      "image/png": {
       "height": 657,
       "width": 1469
      },
      "needs_background": "light"
     },
     "output_type": "display_data"
    }
   ],
   "source": [
    "msno.matrix(df_credit_2020)\n",
    "plt.show()"
   ]
  },
  {
   "cell_type": "code",
   "execution_count": 5,
   "metadata": {},
   "outputs": [],
   "source": [
    "def screen_name(df):\n",
    "    df = df.rename(columns = {\"평가대상회사\":\"기업명\"})\n",
    "    df = df[[\"기업명\",\"공시일자\",\"평가등급\"]]\n",
    "    df[\"공시일자\"] = df[\"공시일자\"].apply(lambda x: int(str(x)[:4]))\n",
    "    df[\"평가등급\"][df[\"평가등급\"] == \"취소\"] = np.nan\n",
    "    df[\"기업명\"] = df[\"기업명\"].apply(lambda x: str(x).replace(\"(주)\",\"\"))\n",
    "    df = df.dropna()\n",
    "    df = df.drop_duplicates(['기업명'],keep=\"last\").reset_index(drop=True)\n",
    "    return df\n",
    "\n",
    "\n",
    "def change_columns(df):\n",
    "    columns = [\"종목코드\",\"기업명\",\"결산월\",\"단위\",\"2019\",\"2018\",\"2017\",\"2016\",\"2015\",\"2014\"\n",
    "               ,\"2013\",\"2012\",\"2011\",\"2010\",\"2009\",\"2008\"]\n",
    "    df.columns = columns\n",
    "    df = df.rename(columns = {\"종목코드\":\"기업코드\"})\n",
    "    return df\n",
    "\n",
    "\n",
    "def merge_code(dfa,dfb):\n",
    "    dfb = dfb[[\"기업코드\",\"기업명\"]][dfb[\"기업명\"].isin(dfa[\"기업명\"])]\n",
    "    dfa = pd.merge(dfa,dfb, on=\"기업명\",how=\"inner\")\n",
    "    return dfa\n",
    "\n",
    "\n",
    "def name_change(df3):            \n",
    "    return df3.rename(columns={'자산총계':\"TA\",'이자보상배율':'INTCOV','ROA':'ROA','ROE':'ROE',\n",
    "                            '총자산_총자본':'EQTA','유동비율':'CURR','비유동부채_자산':'LTDTA',\n",
    "                              '사회':'S','환경':'E','지배구조':'G', \"당기순이익\":'NI','자산총계':'TASSET',\n",
    "                              '매출액':'Sale','부채비율':'DR','차입부채_EBITDA':'BTEBITDA','EBITDA_이자비용':'EBITDATIE',\n",
    "                              '총차입부채':'TB','EBIT_매출액':'EBITTS'})\n",
    "\n",
    "mod = sys.modules[__name__]"
   ]
  },
  {
   "cell_type": "code",
   "execution_count": 6,
   "metadata": {},
   "outputs": [
    {
     "data": {
      "text/html": [
       "<div>\n",
       "<style scoped>\n",
       "    .dataframe tbody tr th:only-of-type {\n",
       "        vertical-align: middle;\n",
       "    }\n",
       "\n",
       "    .dataframe tbody tr th {\n",
       "        vertical-align: top;\n",
       "    }\n",
       "\n",
       "    .dataframe thead th {\n",
       "        text-align: right;\n",
       "    }\n",
       "</style>\n",
       "<table border=\"1\" class=\"dataframe\">\n",
       "  <thead>\n",
       "    <tr style=\"text-align: right;\">\n",
       "      <th></th>\n",
       "      <th>기업명</th>\n",
       "      <th>공시일자</th>\n",
       "      <th>평가등급</th>\n",
       "    </tr>\n",
       "  </thead>\n",
       "  <tbody>\n",
       "    <tr>\n",
       "      <th>0</th>\n",
       "      <td>동국제강</td>\n",
       "      <td>2013</td>\n",
       "      <td>A</td>\n",
       "    </tr>\n",
       "    <tr>\n",
       "      <th>1</th>\n",
       "      <td>하나은행</td>\n",
       "      <td>2013</td>\n",
       "      <td>AAA</td>\n",
       "    </tr>\n",
       "    <tr>\n",
       "      <th>2</th>\n",
       "      <td>이수화학</td>\n",
       "      <td>2013</td>\n",
       "      <td>BBB</td>\n",
       "    </tr>\n",
       "    <tr>\n",
       "      <th>3</th>\n",
       "      <td>경남개발공사</td>\n",
       "      <td>2013</td>\n",
       "      <td>AA+</td>\n",
       "    </tr>\n",
       "    <tr>\n",
       "      <th>4</th>\n",
       "      <td>현대하이스코</td>\n",
       "      <td>2013</td>\n",
       "      <td>AA-</td>\n",
       "    </tr>\n",
       "  </tbody>\n",
       "</table>\n",
       "</div>"
      ],
      "text/plain": [
       "      기업명  공시일자 평가등급\n",
       "0    동국제강  2013    A\n",
       "1    하나은행  2013  AAA\n",
       "2    이수화학  2013  BBB\n",
       "3  경남개발공사  2013  AA+\n",
       "4  현대하이스코  2013  AA-"
      ]
     },
     "execution_count": 6,
     "metadata": {},
     "output_type": "execute_result"
    }
   ],
   "source": [
    "df_credit_2017 = screen_name(pd.read_excel(\"2017_credit_rating.xlsx\"))\n",
    "df_credit_2018 = screen_name(pd.read_excel(\"2018_credit_rating.xlsx\"))\n",
    "df_credit_2019 = screen_name(pd.read_excel(\"2019_credit_rating.xlsx\"))\n",
    "df_credit_2020 = screen_name(pd.read_excel(\"2020_credit_rating.xlsx\"))\n",
    "df_2013_2016_credit = pd.read_excel(\"2013-2016_credit_rating.xlsx\")\n",
    "df_2013_2016_credit.columns = [\"nnamed\", \"평가회사\",\"기업명\",\"평가\",\"평가대상종류\",\"공시일자\",\"평가등급\",\"등급감시\",\"등급전망\"]\n",
    "df_2013_2016_credit[\"공시일자\"] = df_2013_2016_credit[\"공시일자\"].apply(lambda x: int(str(x)[:4]))\n",
    "\n",
    "df_credit_2013 = screen_name(df_2013_2016_credit[df_2013_2016_credit[\"공시일자\"] == 2013])\n",
    "df_credit_2014 = screen_name(df_2013_2016_credit[df_2013_2016_credit[\"공시일자\"] == 2014])\n",
    "df_credit_2015 = screen_name(df_2013_2016_credit[df_2013_2016_credit[\"공시일자\"] == 2015])\n",
    "df_credit_2016 = screen_name(df_2013_2016_credit[df_2013_2016_credit[\"공시일자\"] == 2016])\n",
    "\n",
    "df_credit_2013.head()"
   ]
  },
  {
   "cell_type": "markdown",
   "metadata": {},
   "source": [
    "## ESG"
   ]
  },
  {
   "cell_type": "code",
   "execution_count": 7,
   "metadata": {},
   "outputs": [
    {
     "data": {
      "text/html": [
       "<div>\n",
       "<style scoped>\n",
       "    .dataframe tbody tr th:only-of-type {\n",
       "        vertical-align: middle;\n",
       "    }\n",
       "\n",
       "    .dataframe tbody tr th {\n",
       "        vertical-align: top;\n",
       "    }\n",
       "\n",
       "    .dataframe thead th {\n",
       "        text-align: right;\n",
       "    }\n",
       "</style>\n",
       "<table border=\"1\" class=\"dataframe\">\n",
       "  <thead>\n",
       "    <tr style=\"text-align: right;\">\n",
       "      <th></th>\n",
       "      <th>NO</th>\n",
       "      <th>기업명</th>\n",
       "      <th>기업코드</th>\n",
       "      <th>ESG등급</th>\n",
       "      <th>지배구조</th>\n",
       "      <th>사회</th>\n",
       "      <th>환경</th>\n",
       "      <th>평가년도</th>\n",
       "      <th>비고</th>\n",
       "    </tr>\n",
       "  </thead>\n",
       "  <tbody>\n",
       "    <tr>\n",
       "      <th>0</th>\n",
       "      <td>6567</td>\n",
       "      <td>AJ네트웍스</td>\n",
       "      <td>95570</td>\n",
       "      <td>B</td>\n",
       "      <td>B</td>\n",
       "      <td>B</td>\n",
       "      <td>C이하</td>\n",
       "      <td>2019</td>\n",
       "      <td>NaN</td>\n",
       "    </tr>\n",
       "    <tr>\n",
       "      <th>1</th>\n",
       "      <td>6566</td>\n",
       "      <td>AJ렌터카</td>\n",
       "      <td>68400</td>\n",
       "      <td>C이하</td>\n",
       "      <td>C</td>\n",
       "      <td>B</td>\n",
       "      <td>B</td>\n",
       "      <td>2019</td>\n",
       "      <td>NaN</td>\n",
       "    </tr>\n",
       "    <tr>\n",
       "      <th>2</th>\n",
       "      <td>6565</td>\n",
       "      <td>AK홀딩스</td>\n",
       "      <td>6840</td>\n",
       "      <td>B</td>\n",
       "      <td>B</td>\n",
       "      <td>B</td>\n",
       "      <td>C이하</td>\n",
       "      <td>2019</td>\n",
       "      <td>NaN</td>\n",
       "    </tr>\n",
       "    <tr>\n",
       "      <th>3</th>\n",
       "      <td>6564</td>\n",
       "      <td>AP시스템</td>\n",
       "      <td>265520</td>\n",
       "      <td>C이하</td>\n",
       "      <td>B</td>\n",
       "      <td>C이하</td>\n",
       "      <td>C이하</td>\n",
       "      <td>2019</td>\n",
       "      <td>NaN</td>\n",
       "    </tr>\n",
       "    <tr>\n",
       "      <th>4</th>\n",
       "      <td>6563</td>\n",
       "      <td>BGF</td>\n",
       "      <td>27410</td>\n",
       "      <td>B</td>\n",
       "      <td>B</td>\n",
       "      <td>A</td>\n",
       "      <td>C이하</td>\n",
       "      <td>2019</td>\n",
       "      <td>NaN</td>\n",
       "    </tr>\n",
       "  </tbody>\n",
       "</table>\n",
       "</div>"
      ],
      "text/plain": [
       "     NO     기업명    기업코드 ESG등급 지배구조   사회   환경  평가년도   비고\n",
       "0  6567  AJ네트웍스   95570     B    B    B  C이하  2019  NaN\n",
       "1  6566   AJ렌터카   68400   C이하    C    B    B  2019  NaN\n",
       "2  6565   AK홀딩스    6840     B    B    B  C이하  2019  NaN\n",
       "3  6564   AP시스템  265520   C이하    B  C이하  C이하  2019  NaN\n",
       "4  6563     BGF   27410     B    B    A  C이하  2019  NaN"
      ]
     },
     "execution_count": 7,
     "metadata": {},
     "output_type": "execute_result"
    }
   ],
   "source": [
    "df_esg = pd.read_csv(\"2011-2019-ESG.tsv\", sep='\\t')\n",
    "df_esg.head()"
   ]
  },
  {
   "cell_type": "code",
   "execution_count": 8,
   "metadata": {},
   "outputs": [
    {
     "data": {
      "image/png": "[encoded data removed]",
      "text/plain": [
       "<Figure size 1800x720 with 2 Axes>"
      ]
     },
     "metadata": {
      "image/png": {
       "height": 635,
       "width": 1482
      },
      "needs_background": "light"
     },
     "output_type": "display_data"
    }
   ],
   "source": [
    "msno.matrix(df_esg)\n",
    "plt.show()"
   ]
  },
  {
   "cell_type": "code",
   "execution_count": 9,
   "metadata": {},
   "outputs": [
    {
     "data": {
      "text/html": [
       "<div>\n",
       "<style scoped>\n",
       "    .dataframe tbody tr th:only-of-type {\n",
       "        vertical-align: middle;\n",
       "    }\n",
       "\n",
       "    .dataframe tbody tr th {\n",
       "        vertical-align: top;\n",
       "    }\n",
       "\n",
       "    .dataframe thead th {\n",
       "        text-align: right;\n",
       "    }\n",
       "</style>\n",
       "<table border=\"1\" class=\"dataframe\">\n",
       "  <thead>\n",
       "    <tr style=\"text-align: right;\">\n",
       "      <th></th>\n",
       "      <th>기업명</th>\n",
       "      <th>기업코드</th>\n",
       "      <th>ESG등급</th>\n",
       "      <th>지배구조</th>\n",
       "      <th>사회</th>\n",
       "      <th>환경</th>\n",
       "      <th>평가년도</th>\n",
       "    </tr>\n",
       "  </thead>\n",
       "  <tbody>\n",
       "    <tr>\n",
       "      <th>5904</th>\n",
       "      <td>AK홀딩스</td>\n",
       "      <td>006840</td>\n",
       "      <td>30.0</td>\n",
       "      <td>30.0</td>\n",
       "      <td>30.0</td>\n",
       "      <td>30.0</td>\n",
       "      <td>2011</td>\n",
       "    </tr>\n",
       "    <tr>\n",
       "      <th>5905</th>\n",
       "      <td>BYC</td>\n",
       "      <td>001460</td>\n",
       "      <td>30.0</td>\n",
       "      <td>30.0</td>\n",
       "      <td>30.0</td>\n",
       "      <td>30.0</td>\n",
       "      <td>2011</td>\n",
       "    </tr>\n",
       "    <tr>\n",
       "      <th>5908</th>\n",
       "      <td>CJ대한통운</td>\n",
       "      <td>000120</td>\n",
       "      <td>40.0</td>\n",
       "      <td>30.0</td>\n",
       "      <td>40.0</td>\n",
       "      <td>30.0</td>\n",
       "      <td>2011</td>\n",
       "    </tr>\n",
       "    <tr>\n",
       "      <th>5910</th>\n",
       "      <td>CJ제일제당</td>\n",
       "      <td>097950</td>\n",
       "      <td>40.0</td>\n",
       "      <td>40.0</td>\n",
       "      <td>40.0</td>\n",
       "      <td>50.0</td>\n",
       "      <td>2011</td>\n",
       "    </tr>\n",
       "    <tr>\n",
       "      <th>5914</th>\n",
       "      <td>DB손해보험</td>\n",
       "      <td>005830</td>\n",
       "      <td>50.0</td>\n",
       "      <td>50.0</td>\n",
       "      <td>50.0</td>\n",
       "      <td>40.0</td>\n",
       "      <td>2011</td>\n",
       "    </tr>\n",
       "  </tbody>\n",
       "</table>\n",
       "</div>"
      ],
      "text/plain": [
       "         기업명    기업코드  ESG등급  지배구조    사회    환경  평가년도\n",
       "5904   AK홀딩스  006840   30.0  30.0  30.0  30.0  2011\n",
       "5905     BYC  001460   30.0  30.0  30.0  30.0  2011\n",
       "5908  CJ대한통운  000120   40.0  30.0  40.0  30.0  2011\n",
       "5910  CJ제일제당  097950   40.0  40.0  40.0  50.0  2011\n",
       "5914  DB손해보험  005830   50.0  50.0  50.0  40.0  2011"
      ]
     },
     "execution_count": 9,
     "metadata": {},
     "output_type": "execute_result"
    }
   ],
   "source": [
    "df_esg = df_esg.drop(columns = ['NO', '비고']).dropna()\n",
    "df_esg.기업코드 = df_esg.기업코드.apply(lambda x: str(x).zfill(6))\n",
    "\n",
    "di = {\"S\":70.0,\"A+\":60.0,\"A\":50.0,\"B+\":40.0,\"B\":30.0,\"B이하\":30.0,\"C\":20.0,\"C이하\":20.0,\"D\":10.0}\n",
    "\n",
    "df_esg.ESG등급 = list(map(di.get, df_esg.ESG등급))\n",
    "df_esg.환경 = list(map(di.get, df_esg.환경))\n",
    "df_esg.사회= list(map(di.get, df_esg.사회))\n",
    "df_esg.지배구조= list(map(di.get, df_esg.지배구조))\n",
    "\n",
    "mod = sys.modules[__name__]\n",
    "\n",
    "for i in range(2011,2020):\n",
    "    setattr(mod, 'df_esg_{}'.format(i),df_esg[df_esg[\"평가년도\"]==i])\n",
    "    \n",
    "df_esg_2011.head()"
   ]
  },
  {
   "cell_type": "code",
   "execution_count": 10,
   "metadata": {},
   "outputs": [
    {
     "data": {
      "image/png": "[encoded data removed]",
      "text/plain": [
       "<Figure size 569.725x504 with 1 Axes>"
      ]
     },
     "metadata": {
      "image/png": {
       "height": 511,
       "width": 560
      },
      "needs_background": "light"
     },
     "output_type": "display_data"
    },
    {
     "data": {
      "text/plain": [
       "<Figure size 7200x7200 with 0 Axes>"
      ]
     },
     "metadata": {},
     "output_type": "display_data"
    }
   ],
   "source": [
    "sns.catplot(x=\"평가년도\", y=\"ESG등급\",hue=\"ESG등급\",data=df_esg.iloc[:,2:],height=7, aspect=1)\n",
    "plt.title(\"연도별 ESG등급 그래프\")\n",
    "plt.ylabel(\"ESG 등급\")\n",
    "plt.ylim(0,70)\n",
    "plt.figure(figsize=(100,100))\n",
    "plt.show()"
   ]
  },
  {
   "cell_type": "markdown",
   "metadata": {},
   "source": [
    "## Balance Sheet"
   ]
  },
  {
   "cell_type": "code",
   "execution_count": 12,
   "metadata": {},
   "outputs": [
    {
     "ename": "FileNotFoundError",
     "evalue": "[Errno 2] No such file or directory: 'EBITDA.xlsx'",
     "output_type": "error",
     "traceback": [
      "\u001b[0;31m---------------------------------------------------------------------------\u001b[0m",
      "\u001b[0;31mFileNotFoundError\u001b[0m                         Traceback (most recent call last)",
      "\u001b[0;32m<ipython-input-12-cff35056278e>\u001b[0m in \u001b[0;36m<module>\u001b[0;34m\u001b[0m\n\u001b[1;32m      4\u001b[0m \u001b[0;34m\u001b[0m\u001b[0m\n\u001b[1;32m      5\u001b[0m \u001b[0;32mfor\u001b[0m \u001b[0mi\u001b[0m \u001b[0;32min\u001b[0m \u001b[0mrange\u001b[0m\u001b[0;34m(\u001b[0m\u001b[0;36m1\u001b[0m\u001b[0;34m,\u001b[0m\u001b[0;36m19\u001b[0m\u001b[0;34m)\u001b[0m\u001b[0;34m:\u001b[0m\u001b[0;34m\u001b[0m\u001b[0;34m\u001b[0m\u001b[0m\n\u001b[0;32m----> 6\u001b[0;31m     \u001b[0msetattr\u001b[0m\u001b[0;34m(\u001b[0m\u001b[0mmod\u001b[0m\u001b[0;34m,\u001b[0m \u001b[0;34m'df_balance_{}'\u001b[0m\u001b[0;34m.\u001b[0m\u001b[0mformat\u001b[0m\u001b[0;34m(\u001b[0m\u001b[0mi\u001b[0m\u001b[0;34m)\u001b[0m\u001b[0;34m,\u001b[0m \u001b[0mchange_columns\u001b[0m\u001b[0;34m(\u001b[0m\u001b[0mpd\u001b[0m\u001b[0;34m.\u001b[0m\u001b[0mread_excel\u001b[0m\u001b[0;34m(\u001b[0m\u001b[0mdf_f\u001b[0m\u001b[0;34m[\u001b[0m\u001b[0mi\u001b[0m\u001b[0;34m-\u001b[0m\u001b[0;36m1\u001b[0m\u001b[0;34m]\u001b[0m\u001b[0;34m)\u001b[0m\u001b[0;34m[\u001b[0m\u001b[0;36m9\u001b[0m\u001b[0;34m:\u001b[0m\u001b[0;34m]\u001b[0m\u001b[0;34m)\u001b[0m\u001b[0;34m)\u001b[0m\u001b[0;34m\u001b[0m\u001b[0;34m\u001b[0m\u001b[0m\n\u001b[0m\u001b[1;32m      7\u001b[0m \u001b[0;34m\u001b[0m\u001b[0m\n\u001b[1;32m      8\u001b[0m balance_list = [df_balance_3, df_balance_4, df_balance_5, df_balance_6,df_balance_7,df_balance_8,df_balance_9,df_balance_10,df_balance_11,\n",
      "\u001b[0;32m~/opt/miniconda3/lib/python3.7/site-packages/pandas/io/excel/_base.py\u001b[0m in \u001b[0;36mread_excel\u001b[0;34m(io, sheet_name, header, names, index_col, usecols, squeeze, dtype, engine, converters, true_values, false_values, skiprows, nrows, na_values, keep_default_na, verbose, parse_dates, date_parser, thousands, comment, skipfooter, convert_float, mangle_dupe_cols, **kwds)\u001b[0m\n\u001b[1;32m    302\u001b[0m \u001b[0;34m\u001b[0m\u001b[0m\n\u001b[1;32m    303\u001b[0m     \u001b[0;32mif\u001b[0m \u001b[0;32mnot\u001b[0m \u001b[0misinstance\u001b[0m\u001b[0;34m(\u001b[0m\u001b[0mio\u001b[0m\u001b[0;34m,\u001b[0m \u001b[0mExcelFile\u001b[0m\u001b[0;34m)\u001b[0m\u001b[0;34m:\u001b[0m\u001b[0;34m\u001b[0m\u001b[0;34m\u001b[0m\u001b[0m\n\u001b[0;32m--> 304\u001b[0;31m         \u001b[0mio\u001b[0m \u001b[0;34m=\u001b[0m \u001b[0mExcelFile\u001b[0m\u001b[0;34m(\u001b[0m\u001b[0mio\u001b[0m\u001b[0;34m,\u001b[0m \u001b[0mengine\u001b[0m\u001b[0;34m=\u001b[0m\u001b[0mengine\u001b[0m\u001b[0;34m)\u001b[0m\u001b[0;34m\u001b[0m\u001b[0;34m\u001b[0m\u001b[0m\n\u001b[0m\u001b[1;32m    305\u001b[0m     \u001b[0;32melif\u001b[0m \u001b[0mengine\u001b[0m \u001b[0;32mand\u001b[0m \u001b[0mengine\u001b[0m \u001b[0;34m!=\u001b[0m \u001b[0mio\u001b[0m\u001b[0;34m.\u001b[0m\u001b[0mengine\u001b[0m\u001b[0;34m:\u001b[0m\u001b[0;34m\u001b[0m\u001b[0;34m\u001b[0m\u001b[0m\n\u001b[1;32m    306\u001b[0m         raise ValueError(\n",
      "\u001b[0;32m~/opt/miniconda3/lib/python3.7/site-packages/pandas/io/excel/_base.py\u001b[0m in \u001b[0;36m__init__\u001b[0;34m(self, io, engine)\u001b[0m\n\u001b[1;32m    822\u001b[0m         \u001b[0mself\u001b[0m\u001b[0;34m.\u001b[0m\u001b[0m_io\u001b[0m \u001b[0;34m=\u001b[0m \u001b[0mstringify_path\u001b[0m\u001b[0;34m(\u001b[0m\u001b[0mio\u001b[0m\u001b[0;34m)\u001b[0m\u001b[0;34m\u001b[0m\u001b[0;34m\u001b[0m\u001b[0m\n\u001b[1;32m    823\u001b[0m \u001b[0;34m\u001b[0m\u001b[0m\n\u001b[0;32m--> 824\u001b[0;31m         \u001b[0mself\u001b[0m\u001b[0;34m.\u001b[0m\u001b[0m_reader\u001b[0m \u001b[0;34m=\u001b[0m \u001b[0mself\u001b[0m\u001b[0;34m.\u001b[0m\u001b[0m_engines\u001b[0m\u001b[0;34m[\u001b[0m\u001b[0mengine\u001b[0m\u001b[0;34m]\u001b[0m\u001b[0;34m(\u001b[0m\u001b[0mself\u001b[0m\u001b[0;34m.\u001b[0m\u001b[0m_io\u001b[0m\u001b[0;34m)\u001b[0m\u001b[0;34m\u001b[0m\u001b[0;34m\u001b[0m\u001b[0m\n\u001b[0m\u001b[1;32m    825\u001b[0m \u001b[0;34m\u001b[0m\u001b[0m\n\u001b[1;32m    826\u001b[0m     \u001b[0;32mdef\u001b[0m \u001b[0m__fspath__\u001b[0m\u001b[0;34m(\u001b[0m\u001b[0mself\u001b[0m\u001b[0;34m)\u001b[0m\u001b[0;34m:\u001b[0m\u001b[0;34m\u001b[0m\u001b[0;34m\u001b[0m\u001b[0m\n",
      "\u001b[0;32m~/opt/miniconda3/lib/python3.7/site-packages/pandas/io/excel/_xlrd.py\u001b[0m in \u001b[0;36m__init__\u001b[0;34m(self, filepath_or_buffer)\u001b[0m\n\u001b[1;32m     19\u001b[0m         \u001b[0merr_msg\u001b[0m \u001b[0;34m=\u001b[0m \u001b[0;34m\"Install xlrd >= 1.0.0 for Excel support\"\u001b[0m\u001b[0;34m\u001b[0m\u001b[0;34m\u001b[0m\u001b[0m\n\u001b[1;32m     20\u001b[0m         \u001b[0mimport_optional_dependency\u001b[0m\u001b[0;34m(\u001b[0m\u001b[0;34m\"xlrd\"\u001b[0m\u001b[0;34m,\u001b[0m \u001b[0mextra\u001b[0m\u001b[0;34m=\u001b[0m\u001b[0merr_msg\u001b[0m\u001b[0;34m)\u001b[0m\u001b[0;34m\u001b[0m\u001b[0;34m\u001b[0m\u001b[0m\n\u001b[0;32m---> 21\u001b[0;31m         \u001b[0msuper\u001b[0m\u001b[0;34m(\u001b[0m\u001b[0;34m)\u001b[0m\u001b[0;34m.\u001b[0m\u001b[0m__init__\u001b[0m\u001b[0;34m(\u001b[0m\u001b[0mfilepath_or_buffer\u001b[0m\u001b[0;34m)\u001b[0m\u001b[0;34m\u001b[0m\u001b[0;34m\u001b[0m\u001b[0m\n\u001b[0m\u001b[1;32m     22\u001b[0m \u001b[0;34m\u001b[0m\u001b[0m\n\u001b[1;32m     23\u001b[0m     \u001b[0;34m@\u001b[0m\u001b[0mproperty\u001b[0m\u001b[0;34m\u001b[0m\u001b[0;34m\u001b[0m\u001b[0m\n",
      "\u001b[0;32m~/opt/miniconda3/lib/python3.7/site-packages/pandas/io/excel/_base.py\u001b[0m in \u001b[0;36m__init__\u001b[0;34m(self, filepath_or_buffer)\u001b[0m\n\u001b[1;32m    351\u001b[0m             \u001b[0mself\u001b[0m\u001b[0;34m.\u001b[0m\u001b[0mbook\u001b[0m \u001b[0;34m=\u001b[0m \u001b[0mself\u001b[0m\u001b[0;34m.\u001b[0m\u001b[0mload_workbook\u001b[0m\u001b[0;34m(\u001b[0m\u001b[0mfilepath_or_buffer\u001b[0m\u001b[0;34m)\u001b[0m\u001b[0;34m\u001b[0m\u001b[0;34m\u001b[0m\u001b[0m\n\u001b[1;32m    352\u001b[0m         \u001b[0;32melif\u001b[0m \u001b[0misinstance\u001b[0m\u001b[0;34m(\u001b[0m\u001b[0mfilepath_or_buffer\u001b[0m\u001b[0;34m,\u001b[0m \u001b[0mstr\u001b[0m\u001b[0;34m)\u001b[0m\u001b[0;34m:\u001b[0m\u001b[0;34m\u001b[0m\u001b[0;34m\u001b[0m\u001b[0m\n\u001b[0;32m--> 353\u001b[0;31m             \u001b[0mself\u001b[0m\u001b[0;34m.\u001b[0m\u001b[0mbook\u001b[0m \u001b[0;34m=\u001b[0m \u001b[0mself\u001b[0m\u001b[0;34m.\u001b[0m\u001b[0mload_workbook\u001b[0m\u001b[0;34m(\u001b[0m\u001b[0mfilepath_or_buffer\u001b[0m\u001b[0;34m)\u001b[0m\u001b[0;34m\u001b[0m\u001b[0;34m\u001b[0m\u001b[0m\n\u001b[0m\u001b[1;32m    354\u001b[0m         \u001b[0;32melif\u001b[0m \u001b[0misinstance\u001b[0m\u001b[0;34m(\u001b[0m\u001b[0mfilepath_or_buffer\u001b[0m\u001b[0;34m,\u001b[0m \u001b[0mbytes\u001b[0m\u001b[0;34m)\u001b[0m\u001b[0;34m:\u001b[0m\u001b[0;34m\u001b[0m\u001b[0;34m\u001b[0m\u001b[0m\n\u001b[1;32m    355\u001b[0m             \u001b[0mself\u001b[0m\u001b[0;34m.\u001b[0m\u001b[0mbook\u001b[0m \u001b[0;34m=\u001b[0m \u001b[0mself\u001b[0m\u001b[0;34m.\u001b[0m\u001b[0mload_workbook\u001b[0m\u001b[0;34m(\u001b[0m\u001b[0mBytesIO\u001b[0m\u001b[0;34m(\u001b[0m\u001b[0mfilepath_or_buffer\u001b[0m\u001b[0;34m)\u001b[0m\u001b[0;34m)\u001b[0m\u001b[0;34m\u001b[0m\u001b[0;34m\u001b[0m\u001b[0m\n",
      "\u001b[0;32m~/opt/miniconda3/lib/python3.7/site-packages/pandas/io/excel/_xlrd.py\u001b[0m in \u001b[0;36mload_workbook\u001b[0;34m(self, filepath_or_buffer)\u001b[0m\n\u001b[1;32m     34\u001b[0m             \u001b[0;32mreturn\u001b[0m \u001b[0mopen_workbook\u001b[0m\u001b[0;34m(\u001b[0m\u001b[0mfile_contents\u001b[0m\u001b[0;34m=\u001b[0m\u001b[0mdata\u001b[0m\u001b[0;34m)\u001b[0m\u001b[0;34m\u001b[0m\u001b[0;34m\u001b[0m\u001b[0m\n\u001b[1;32m     35\u001b[0m         \u001b[0;32melse\u001b[0m\u001b[0;34m:\u001b[0m\u001b[0;34m\u001b[0m\u001b[0;34m\u001b[0m\u001b[0m\n\u001b[0;32m---> 36\u001b[0;31m             \u001b[0;32mreturn\u001b[0m \u001b[0mopen_workbook\u001b[0m\u001b[0;34m(\u001b[0m\u001b[0mfilepath_or_buffer\u001b[0m\u001b[0;34m)\u001b[0m\u001b[0;34m\u001b[0m\u001b[0;34m\u001b[0m\u001b[0m\n\u001b[0m\u001b[1;32m     37\u001b[0m \u001b[0;34m\u001b[0m\u001b[0m\n\u001b[1;32m     38\u001b[0m     \u001b[0;34m@\u001b[0m\u001b[0mproperty\u001b[0m\u001b[0;34m\u001b[0m\u001b[0;34m\u001b[0m\u001b[0m\n",
      "\u001b[0;32m~/opt/miniconda3/lib/python3.7/site-packages/xlrd/__init__.py\u001b[0m in \u001b[0;36mopen_workbook\u001b[0;34m(filename, logfile, verbosity, use_mmap, file_contents, encoding_override, formatting_info, on_demand, ragged_rows)\u001b[0m\n\u001b[1;32m    109\u001b[0m     \u001b[0;32melse\u001b[0m\u001b[0;34m:\u001b[0m\u001b[0;34m\u001b[0m\u001b[0;34m\u001b[0m\u001b[0m\n\u001b[1;32m    110\u001b[0m         \u001b[0mfilename\u001b[0m \u001b[0;34m=\u001b[0m \u001b[0mos\u001b[0m\u001b[0;34m.\u001b[0m\u001b[0mpath\u001b[0m\u001b[0;34m.\u001b[0m\u001b[0mexpanduser\u001b[0m\u001b[0;34m(\u001b[0m\u001b[0mfilename\u001b[0m\u001b[0;34m)\u001b[0m\u001b[0;34m\u001b[0m\u001b[0;34m\u001b[0m\u001b[0m\n\u001b[0;32m--> 111\u001b[0;31m         \u001b[0;32mwith\u001b[0m \u001b[0mopen\u001b[0m\u001b[0;34m(\u001b[0m\u001b[0mfilename\u001b[0m\u001b[0;34m,\u001b[0m \u001b[0;34m\"rb\"\u001b[0m\u001b[0;34m)\u001b[0m \u001b[0;32mas\u001b[0m \u001b[0mf\u001b[0m\u001b[0;34m:\u001b[0m\u001b[0;34m\u001b[0m\u001b[0;34m\u001b[0m\u001b[0m\n\u001b[0m\u001b[1;32m    112\u001b[0m             \u001b[0mpeek\u001b[0m \u001b[0;34m=\u001b[0m \u001b[0mf\u001b[0m\u001b[0;34m.\u001b[0m\u001b[0mread\u001b[0m\u001b[0;34m(\u001b[0m\u001b[0mpeeksz\u001b[0m\u001b[0;34m)\u001b[0m\u001b[0;34m\u001b[0m\u001b[0;34m\u001b[0m\u001b[0m\n\u001b[1;32m    113\u001b[0m     \u001b[0;32mif\u001b[0m \u001b[0mpeek\u001b[0m \u001b[0;34m==\u001b[0m \u001b[0;34mb\"PK\\x03\\x04\"\u001b[0m\u001b[0;34m:\u001b[0m \u001b[0;31m# a ZIP file\u001b[0m\u001b[0;34m\u001b[0m\u001b[0;34m\u001b[0m\u001b[0m\n",
      "\u001b[0;31mFileNotFoundError\u001b[0m: [Errno 2] No such file or directory: 'EBITDA.xlsx'"
     ]
    }
   ],
   "source": [
    "df_f = [\"비유동부채.xlsx\",\"자산총계.xlsx\",\"이자보상배율.xlsx\",\"ROA(당기순이익).xlsx\",\"ROE(당기순이익).xlsx\",\"총자산_총자본.xlsx\",\n",
    "        \"유동비율.xlsx\",\"영업활동현금흐름.xlsx\",\"EBITDA.xlsx\",\"CAPEX.xlsx\",\"당기순이익.xlsx\",\"자산총계.xlsx\",\"매출액.xlsx\",\"EBIT.xlsx\",\n",
    "       \"부채비율.xlsx\",\"차입부채_EBITDA.xlsx\",\"EBITDA_이자비용.xlsx\",\"총차입부채.xlsx\"]\n",
    "\n",
    "for i in range(1,19):\n",
    "    setattr(mod, 'df_balance_{}'.format(i), change_columns(pd.read_excel(df_f[i-1])[9:]))\n",
    "\n",
    "balance_list = [df_balance_3, df_balance_4, df_balance_5, df_balance_6,df_balance_7,df_balance_8,df_balance_9,df_balance_10,df_balance_11,\n",
    "               df_balance_12,df_balance_13,df_balance_14,df_balance_15,df_balance_16,df_balance_17]\n",
    "\n",
    "for i in range(15): \n",
    "    balance_list[i][ (balance_list[i].values == \"N/A(IFRS)\") | (balance_list[i].values== '완전잠식')] = np.nan\n",
    "    for k in range(4,15): \n",
    "        balance_list[i].iloc[:,k] = balance_list[i].iloc[:,k].apply(lambda x: float(str(x)))\n",
    "        "
   ]
  },
  {
   "cell_type": "code",
   "execution_count": null,
   "metadata": {},
   "outputs": [],
   "source": [
    "msno.matrix(df_balance_1)\n",
    "plt.show()"
   ]
  },
  {
   "cell_type": "code",
   "execution_count": null,
   "metadata": {},
   "outputs": [],
   "source": [
    "list_credit = [df_credit_2013,df_credit_2014,df_credit_2015,df_credit_2016,df_credit_2017,\n",
    "             df_credit_2018,df_credit_2019]\n",
    "\n",
    "list_esg = [df_esg_2011,df_esg_2012,df_esg_2013,df_esg_2014,df_esg_2015,df_esg_2016,\n",
    "            df_esg_2017,df_esg_2018,df_esg_2019]\n",
    "\n",
    "list_balance = [df_balance_1,df_balance_2,df_balance_3,df_balance_4,df_balance_5,\n",
    "               df_balance_6,df_balance_7,df_balance_8,df_balance_9,df_balance_10,\n",
    "               df_balance_11,df_balance_12,df_balance_13,df_balance_14,df_balance_15,\n",
    "               df_balance_16,df_balance_17,df_balance_18]\n",
    "\n",
    "\n",
    "\n",
    "\n",
    "df_columns = [\"기업코드\",\"비유동부채\",\"자산총계\",\"이자보상배율\",\"ROA\",\"ROE\",\"총자산_총자본\",\"유동비율\",\"영업활동현금흐름\",\n",
    "             \"EBITDA\",\"CAPEX\",\"당기순이익\",\"자산총계\",\"매출액\",\"EBIT\",\"부채비율\",\"차입부채_EBITDA\",\"EBITDA_이자비용\",\"총차입부채\"]\n",
    "\n",
    "\n",
    "for i in range(2013,2020):\n",
    "    setattr(mod, 'df_rating_{}'.format(i), merge_code(list_credit[i-2013],list_esg[i-2013]))\n",
    "\n",
    "for k in range(2011, 2020):\n",
    "    for i in range(1,19):\n",
    "        setattr(mod, 'df_{}_{}'.format(k,i), (pd.DataFrame(list_balance[i-1].iloc[:,[0,2023-k]]))) "
   ]
  },
  {
   "cell_type": "code",
   "execution_count": null,
   "metadata": {},
   "outputs": [],
   "source": [
    "data_frames_2011 = [df_2011_1,df_2011_2,df_2011_3,df_2011_4,df_2011_5,df_2011_6,df_2011_7,df_2011_8,df_2011_9,df_2011_10,\n",
    "                   df_2011_11,df_2011_12,df_2011_13,df_2011_14,df_2011_15,df_2011_16,df_2011_17,df_2011_18]\n",
    "df_merged_2011 = reduce(lambda left,right: pd.merge(left,right,on=['기업코드'], how='inner'), data_frames_2011).dropna()\n",
    "df_merged_2011.columns = df_columns\n",
    "\n",
    "data_frames_2012 = [df_2012_1,df_2012_2,df_2012_3,df_2012_4,df_2012_5,df_2012_6,df_2012_7,df_2012_8,df_2012_9,df_2012_10,\n",
    "                   df_2012_11,df_2012_12,df_2012_13,df_2012_14,df_2012_15,df_2012_16,df_2012_17,df_2012_18]\n",
    "df_merged_2012 = reduce(lambda left,right: pd.merge(left,right,on=['기업코드'], how='inner'), data_frames_2012).dropna()\n",
    "df_merged_2012.columns = df_columns\n",
    "\n",
    "data_frames_2013 = [df_2013_1,df_2013_2,df_2013_3,df_2013_4,df_2013_5,df_2013_6,df_2013_7,df_2013_8,df_2013_9,df_2013_10,\n",
    "                   df_2013_11,df_2013_12,df_2013_13,df_2013_14,df_2013_15,df_2013_16,df_2013_17,df_2013_18]\n",
    "df_merged_2013 = reduce(lambda left,right: pd.merge(left,right,on=['기업코드'], how='inner'), data_frames_2013).dropna()\n",
    "df_merged_2013.columns = df_columns\n",
    "\n",
    "data_frames_2014 = [df_2014_1,df_2014_2,df_2014_3,df_2014_4,df_2014_5,df_2014_6,df_2014_7,df_2014_8,df_2014_9,df_2014_10,\n",
    "                   df_2014_11,df_2014_12,df_2014_13,df_2014_14,df_2014_15,df_2014_16,df_2014_17,df_2014_18]\n",
    "df_merged_2014 = reduce(lambda left,right: pd.merge(left,right,on=['기업코드'], how='inner'), data_frames_2014).dropna()\n",
    "df_merged_2014.columns = df_columns\n",
    "\n",
    "data_frames_2015 = [df_2015_1,df_2015_2,df_2015_3,df_2015_4,df_2015_5,df_2015_6,df_2015_7,df_2015_8,df_2015_9,df_2015_10,\n",
    "                   df_2015_11,df_2015_12,df_2015_13,df_2015_14,df_2015_15,df_2015_16,df_2015_17,df_2015_18]\n",
    "df_merged_2015 = reduce(lambda left,right: pd.merge(left,right,on=['기업코드'], how='inner'), data_frames_2015).dropna()\n",
    "df_merged_2015.columns = df_columns\n",
    "\n",
    "data_frames_2016 = [df_2016_1,df_2016_2,df_2016_3,df_2016_4,df_2016_5,df_2016_6,df_2016_7,df_2016_8,df_2016_9,df_2016_10,\n",
    "                   df_2016_11,df_2016_12,df_2016_13,df_2016_14,df_2016_15,df_2016_16,df_2016_17,df_2016_18]\n",
    "df_merged_2016 = reduce(lambda left,right: pd.merge(left,right,on=['기업코드'], how='inner'), data_frames_2016).dropna()\n",
    "df_merged_2016.columns = df_columns\n",
    "\n",
    "data_frames_2017 = [df_2017_1,df_2017_2,df_2017_3,df_2017_4,df_2017_5,df_2017_6,df_2017_7,df_2017_8,df_2017_9,df_2017_10,\n",
    "                   df_2017_11,df_2017_12,df_2017_13,df_2017_14,df_2017_15,df_2017_16,df_2017_17,df_2017_18]\n",
    "df_merged_2017 = reduce(lambda left,right: pd.merge(left,right,on=['기업코드'], how='inner'), data_frames_2017).dropna()\n",
    "df_merged_2017.columns = df_columns\n",
    "\n",
    "data_frames_2018 = [df_2018_1,df_2018_2,df_2018_3,df_2018_4,df_2018_5,df_2018_6,df_2018_7,df_2018_8,df_2018_9,df_2018_10,\n",
    "                   df_2018_11,df_2018_12,df_2018_13,df_2018_14,df_2018_15,df_2018_16,df_2018_17,df_2018_18]\n",
    "df_merged_2018 = reduce(lambda left,right: pd.merge(left,right,on=['기업코드'], how='inner'), data_frames_2018).dropna()\n",
    "df_merged_2018.columns = df_columns\n",
    "\n",
    "data_frames_2019 = [df_2019_1,df_2019_2,df_2019_3,df_2019_4,df_2019_5,df_2019_6,df_2019_7,df_2019_8,df_2019_9,df_2019_10,\n",
    "                   df_2019_11,df_2019_12,df_2019_13,df_2019_14,df_2019_15,df_2019_16,df_2019_17,df_2019_18]\n",
    "df_merged_2019 = reduce(lambda left,right: pd.merge(left,right,on=['기업코드'], how='inner'), data_frames_2019).dropna()\n",
    "df_merged_2019.columns = df_columns"
   ]
  },
  {
   "cell_type": "code",
   "execution_count": null,
   "metadata": {},
   "outputs": [],
   "source": [
    "list_merge = [df_merged_2011,df_merged_2012,df_merged_2013,df_merged_2014,df_merged_2015,df_merged_2016,df_merged_2017,\n",
    "             df_merged_2018,df_merged_2019]\n",
    "\n",
    "for i in range(2011,2020):\n",
    "    list_merge[i-2011][\"비유동부채_자산\"] = list_merge[i-2011]['비유동부채']/list_merge[i-2011]['자산총계']\n",
    "    list_merge[i-2011]['총자산_총자본'] = list_merge[i-2011]['총자산_총자본'].apply(lambda x: np.reciprocal(x))\n",
    "    list_merge[i-2011][\"FCF\"] = list_merge[i-2011]['영업활동현금흐름'] - list_merge[i-2011][\"CAPEX\"]\n",
    "    list_merge[i-2011][\"EBIT_매출액\"] = list_merge[i-2011][\"EBIT\"]/list_merge[i-2011][\"매출액\"]\n",
    "\n",
    "    setattr(mod, 'df_merged_b_{}'.format(i), name_change(pd.merge(list_merge[i-2011], \\\n",
    "                                                list_esg[i-2011],on=['기업코드'], how='inner')).iloc[:,[0,3,4,5,6,7,9,11,12,13,\n",
    "                                                                                               15,16,17,18,19,20,21,23,26,25,24]])"
   ]
  },
  {
   "cell_type": "code",
   "execution_count": null,
   "metadata": {},
   "outputs": [],
   "source": [
    "df_merged_b_2012.head()"
   ]
  },
  {
   "cell_type": "markdown",
   "metadata": {},
   "source": [
    "## DataFrame Merge"
   ]
  },
  {
   "cell_type": "code",
   "execution_count": null,
   "metadata": {},
   "outputs": [],
   "source": [
    "df_total_2013 = pd.merge(df_rating_2013, df_merged_b_2012, on=\"기업코드\", how=\"inner\")\n",
    "df_total_2014 = pd.merge(df_rating_2014, df_merged_b_2013, on=\"기업코드\", how=\"inner\")\n",
    "df_total_2015 = pd.merge(df_rating_2015, df_merged_b_2014, on=\"기업코드\", how=\"inner\")\n",
    "df_total_2016 = pd.merge(df_rating_2016, df_merged_b_2015, on=\"기업코드\", how=\"inner\")\n",
    "df_total_2017 = pd.merge(df_rating_2017, df_merged_b_2016, on=\"기업코드\", how=\"inner\")\n",
    "df_total_2018 = pd.merge(df_rating_2018, df_merged_b_2017, on=\"기업코드\", how=\"inner\")\n",
    "df_total_2019 = pd.merge(df_rating_2019, df_merged_b_2018, on=\"기업코드\", how=\"inner\")\n",
    "df_rating_2020 = merge_code(df_credit_2020, df_esg_2019)\n",
    "df_total_2020 = pd.merge(df_rating_2020, df_merged_b_2019, on=\"기업코드\", how=\"inner\")\n"
   ]
  },
  {
   "cell_type": "code",
   "execution_count": null,
   "metadata": {},
   "outputs": [],
   "source": [
    "df_total_2013.head(2)"
   ]
  },
  {
   "cell_type": "code",
   "execution_count": null,
   "metadata": {},
   "outputs": [],
   "source": [
    "plt.figure(figsize=(10,5))\n",
    "sns.boxplot(data=df_total_2013.iloc[:,4:], palette = \"RdBu\")\n",
    "plt.xticks(rotation=45)\n",
    "plt.show()"
   ]
  },
  {
   "cell_type": "code",
   "execution_count": null,
   "metadata": {},
   "outputs": [],
   "source": [
    "plt.figure(figsize=(10,5))\n",
    "sns.boxplot(data=df_total_2014.iloc[:,4:], palette = \"RdBu\")\n",
    "plt.xticks(rotation=45)\n",
    "plt.show()"
   ]
  },
  {
   "cell_type": "code",
   "execution_count": null,
   "metadata": {},
   "outputs": [],
   "source": [
    "plt.figure(figsize=(10,5))\n",
    "sns.boxplot(data=df_total_2015.iloc[:,4:], palette = \"RdBu\")\n",
    "plt.xticks(rotation=45)\n",
    "plt.show()"
   ]
  },
  {
   "cell_type": "code",
   "execution_count": null,
   "metadata": {},
   "outputs": [],
   "source": [
    "plt.figure(figsize=(10,5))\n",
    "sns.boxplot(data=df_total_2016.iloc[:,4:], palette = \"RdBu\")\n",
    "plt.xticks(rotation=45)\n",
    "plt.show()"
   ]
  },
  {
   "cell_type": "code",
   "execution_count": null,
   "metadata": {},
   "outputs": [],
   "source": [
    "plt.figure(figsize=(10,5))\n",
    "sns.boxplot(data=df_total_2017.iloc[:,3:], palette = \"RdBu\")\n",
    "plt.xticks(rotation=45)\n",
    "plt.show()"
   ]
  },
  {
   "cell_type": "code",
   "execution_count": null,
   "metadata": {},
   "outputs": [],
   "source": [
    "plt.figure(figsize=(10,5))\n",
    "sns.boxplot(data=df_total_2018.iloc[:,4:], palette = \"RdBu\")\n",
    "plt.xticks(rotation=45)\n",
    "plt.show()"
   ]
  },
  {
   "cell_type": "code",
   "execution_count": null,
   "metadata": {},
   "outputs": [],
   "source": [
    "plt.figure(figsize=(10,8))\n",
    "sns.boxplot(data=df_total_2019.iloc[:,4:], palette = \"RdBu\")\n",
    "plt.xticks(rotation=45)\n",
    "plt.show()"
   ]
  },
  {
   "cell_type": "code",
   "execution_count": null,
   "metadata": {},
   "outputs": [],
   "source": [
    "plt.figure(figsize=(10,5))\n",
    "sns.boxplot(data=df_total_2020.iloc[:,4:], palette = \"RdBu\")\n",
    "plt.xticks(rotation=45)\n",
    "plt.show()"
   ]
  },
  {
   "cell_type": "code",
   "execution_count": null,
   "metadata": {},
   "outputs": [],
   "source": [
    "df_sum_2013_2020 = pd.concat([df_total_2013, df_total_2014,df_total_2015,df_total_2016,df_total_2017,\\\n",
    "                              df_total_2018,df_total_2019,df_total_2020]).replace(np.inf,np.nan).dropna().reset_index(drop=True)\n",
    "\n",
    "df_sum_2015_2020 = pd.concat([df_total_2015,df_total_2016,df_total_2017,\\\n",
    "                              df_total_2018,df_total_2019,df_total_2020]).replace(np.inf,np.nan).dropna().reset_index(drop=True)\n",
    "\n",
    "plt.figure(figsize=(10,5))\n",
    "sns.boxplot(data=df_sum_2013_2020.iloc[:,4:], palette = \"RdBu\")\n",
    "plt.xticks(rotation=45)\n",
    "plt.show()"
   ]
  },
  {
   "cell_type": "code",
   "execution_count": null,
   "metadata": {},
   "outputs": [],
   "source": [
    "plt.figure(figsize=(20,10))\n",
    "for i in range(4,20):\n",
    "    plt.plot(df_sum_2013_2020.iloc[:,i])\n",
    "\n",
    "plt.show()"
   ]
  },
  {
   "cell_type": "code",
   "execution_count": null,
   "metadata": {},
   "outputs": [],
   "source": [
    "plt.figure(figsize=(10,10))\n",
    "sns.heatmap(data = df_sum_2013_2020.iloc[:,4:].corr(), annot=True,vmin=-1,\n",
    "fmt = '.2f', linewidths=.5, cmap=sns.diverging_palette(20, 220, n=200))\n",
    "plt.show()"
   ]
  },
  {
   "cell_type": "code",
   "execution_count": null,
   "metadata": {},
   "outputs": [],
   "source": [
    "# plt.figure(figsize=(5,5))\n",
    "# sns.pairplot(df_sum_2013_2020.iloc[:,4:-4])\n",
    "# plt.show()"
   ]
  },
  {
   "cell_type": "code",
   "execution_count": null,
   "metadata": {},
   "outputs": [],
   "source": [
    "plt.figure(figsize=(10,10))\n",
    "sns.countplot(df_sum_2013_2020[\"평가등급\"])\n",
    "plt.xticks(rotation=45)\n",
    "plt.show()"
   ]
  },
  {
   "cell_type": "code",
   "execution_count": null,
   "metadata": {},
   "outputs": [],
   "source": [
    "credit_dlist={\"D\":10,\"C-\":10,\"C\":10,\"C+\":10,\"CC-\":20,\"CC\":20,\"CC+\":20,\"CCC-\":20,\"CCC\":20,\"CCC+\":20,\n",
    "              \"B-\":30,\"B\":30,\"B+\":30,\"BB-\":30,\"BB\":30,\"BB+\":30,\"BBB-\":30,\"BBB\":30,\"BBB+\":40,\n",
    "              \"A-\":40,\"A\":40,\"A+\":40,\"AA-\":40,\"AA\":40,\"AA+\":50,\"AAA-\":50,\"AAA\":50,\"AAA+\":50}\n",
    "\n",
    "#credit_dlist={\"CCC\":10, \"B-\":10,\"B+\":10,\"BB-\":20,\"BB\":20,\"BB+\":20,\"BBB-\":30,\"BBB\":30,\"BBB+\":30,\"A-\":30,\"A\":40,\"A+\":40,\"AA-\":40,\"AA\":40,\"AA+\":50,\"AAA\":50}\n",
    "\n",
    "\n",
    "\n",
    "df_sum_2015_2020['평가등급'] = df_sum_2015_2020['평가등급'].apply(credit_dlist.get)\n",
    "df_sum_2013_2020['평가등급'] = df_sum_2013_2020['평가등급'].apply(credit_dlist.get)"
   ]
  },
  {
   "cell_type": "code",
   "execution_count": null,
   "metadata": {},
   "outputs": [],
   "source": [
    "# cmap = plt.get_cmap(\"tab20c\")\n",
    "# color = cmap(np.array(np.arange(20)))"
   ]
  },
  {
   "cell_type": "code",
   "execution_count": null,
   "metadata": {},
   "outputs": [],
   "source": [
    "# label =  list(pd.DataFrame(df_sum_2013_2020.groupby(\"평가등급\").size()).reset_index()[\"평가등급\"])\n",
    "# explode = (0, 0.1, 0, 0)\n",
    "\n",
    "# plt.figure(figsize=(10,10))\n",
    "# plt.pie(df_sum_2013_2020.groupby(\"평가등급\").size(), colors=color, labels = label,autopct='%0.2f')\n",
    "\n",
    "# plt.show()"
   ]
  },
  {
   "cell_type": "code",
   "execution_count": null,
   "metadata": {},
   "outputs": [],
   "source": [
    "X2 = df_sum_2013_2020.iloc[:,4:]\n",
    "Y2 = df_sum_2013_2020.iloc[:,2]\n",
    "X = df_sum_2015_2020.iloc[:,4:]\n",
    "Y = df_sum_2015_2020.iloc[:,2]\n",
    "\n",
    "vif = pd.DataFrame()\n",
    "vif[\"VIF Factor\"] = [variance_inflation_factor(\n",
    "    X2.values, i) for i in range(X2.shape[1])]\n",
    "vif[\"features\"] = X2.columns\n",
    "vif = vif.sort_values(\"VIF Factor\").reset_index(drop=True)\n",
    "vif"
   ]
  },
  {
   "cell_type": "code",
   "execution_count": null,
   "metadata": {},
   "outputs": [],
   "source": [
    "robust_scaler = StandardScaler()\n",
    "rb = robust_scaler.fit(X2)\n",
    "output2 = robust_scaler.transform(X2)\n",
    "output2 = pd.DataFrame(output2, columns=X2.columns, index=list(X2.index.values))\n",
    "output2[\"Y\"] = Y2\n",
    "output2.describe()"
   ]
  },
  {
   "cell_type": "code",
   "execution_count": null,
   "metadata": {},
   "outputs": [],
   "source": [
    "robust_scaler = RobustScaler()\n",
    "rb = robust_scaler.fit(X)\n",
    "output = robust_scaler.transform(X)\n",
    "output = pd.DataFrame(output, columns=X.columns, index=list(X.index.values))\n",
    "output[\"Y\"] = Y"
   ]
  },
  {
   "cell_type": "markdown",
   "metadata": {},
   "source": [
    "## OLS Regression"
   ]
  },
  {
   "cell_type": "code",
   "execution_count": null,
   "metadata": {},
   "outputs": [],
   "source": [
    "model = sm.OLS.from_formula(\"Y ~ ROA+ROE+INTCOV+EQTA+CURR+EBITDA+NI+TASSET+Sale+DR+BTEBITDA+EBITDATIE+TB+FCF+LTDTA+EBITTS+E+S+G\",data=output2)\n",
    "result = model.fit()\n",
    "print(result.summary())"
   ]
  },
  {
   "cell_type": "code",
   "execution_count": null,
   "metadata": {},
   "outputs": [],
   "source": [
    "model = sm.OLS.from_formula(\"Y ~ ROA+ROE+INTCOV+EQTA+CURR+EBITDA+NI+TASSET+Sale+DR+BTEBITDA+EBITDATIE+TB+LTDTA+FCF+EBITTS+E+S+G\",data=output)\n",
    "result = model.fit()\n",
    "print(result.summary())"
   ]
  },
  {
   "cell_type": "code",
   "execution_count": null,
   "metadata": {},
   "outputs": [],
   "source": [
    "model = sm.OLS.from_formula(\"Y ~ ROA+ROE+CURR+EBITDA+NI+Sale+DR+BTEBITDA+EBITDATIE+TB+FCF+EBITTS\",data=output2)\n",
    "result = model.fit()\n",
    "print(result.summary())"
   ]
  },
  {
   "cell_type": "markdown",
   "metadata": {},
   "source": [
    "## Conclusion"
   ]
  },
  {
   "cell_type": "markdown",
   "metadata": {},
   "source": [
    "\n",
    "- 신용평가를 받은 기업이 많지 않아 샘플수가 부족\n",
    "\n",
    "\n",
    "- 신용평가와 ESG 등급을 산정하는 수식이 없다는 점에 정확한 신용평가 등급을 수치화를 하기 불가능\n",
    "\n",
    "\n",
    "- ESG 등급은 KLGS에서 선정하는 등급을 사용하나 전세계적으로 통합된 어떤 기준이 없어 절대적이라고 보기 어려움"
   ]
  },
  {
   "cell_type": "code",
   "execution_count": null,
   "metadata": {},
   "outputs": [],
   "source": [
    "df_tain = output2.iloc[:416,:-1].dropna()\n",
    "df_test = output2.iloc[417:,:-1].dropna()\n",
    "# y_train = output2.iloc[:416,:-1].dropna()\n",
    "# y_test = output2.iloc[417:,:-1].dropna()"
   ]
  },
  {
   "cell_type": "code",
   "execution_count": null,
   "metadata": {},
   "outputs": [],
   "source": [
    "# from sklearn import datasets, linear_model\n",
    "# from sklearn.metrics import mean_squared_error, r2_score\n",
    "\n",
    "# regr = linear_model.LinearRegression(output2)\n",
    "# regr.fit(X_train, y_train)"
   ]
  },
  {
   "cell_type": "code",
   "execution_count": null,
   "metadata": {},
   "outputs": [],
   "source": [
    "y_pred = regr.predict(np.array(X_test))"
   ]
  },
  {
   "cell_type": "code",
   "execution_count": null,
   "metadata": {},
   "outputs": [],
   "source": [
    "y_pred"
   ]
  },
  {
   "cell_type": "code",
   "execution_count": null,
   "metadata": {},
   "outputs": [],
   "source": [
    "formula=(\"Y ~ ROA+ROE+INTCOV+EQTA+CURR+EBITDA+NI+TASSET+Sale+DR+BTEBITDA+EBITDATIE+TB+LTDTA+FCF+EBITTS+E+S+G\")\n",
    "\n",
    "df_train.shape, df_test.shape\n",
    "from sklearn.model_selection import KFold\n",
    "\n",
    "scores = np.zeros(5)\n",
    "cv = KFold(5, shuffle=True, random_state=0)\n",
    "for i, (idx_train, idx_test) in enumerate(cv.split(output2)):\n",
    "    df_train = output2.iloc[idx_train]\n",
    "    df_test = output2.iloc[idx_test]\n",
    "\n",
    "    model = sm.OLS.from_formula(formula, data=output2)\n",
    "    result = model.fit()\n",
    "\n",
    "    pred = result.predict(df_test)\n",
    "    rss = ((df_test.Y - pred)  **2).sum()\n",
    "    tss = ((df_test.Y - df_test.Y.mean()) **2).sum()\n",
    "    rsquared = 1 - rss / tss\n",
    "\n",
    "    scores[i] = rsquared\n",
    "    print(\"학습 R2 = {:.8f}, 검증 R2 = {:.8f}\".format(result.rsquared, rsquared))"
   ]
  },
  {
   "cell_type": "code",
   "execution_count": null,
   "metadata": {},
   "outputs": [],
   "source": [
    "#esg 없음\n",
    "formula=(\"Y ~ ROA+ROE+INTCOV+EQTA+CURR+EBITDA+NI+TASSET+Sale+DR+BTEBITDA+EBITDATIE+TB+LTDTA+FCF+EBITTS\")\n",
    "\n",
    "df_train.shape, df_test.shape\n",
    "from sklearn.model_selection import KFold\n",
    "\n",
    "scores = np.zeros(5)\n",
    "cv = KFold(5, shuffle=True, random_state=0)\n",
    "for i, (idx_train, idx_test) in enumerate(cv.split(output2)):\n",
    "    df_train = output2.iloc[idx_train]\n",
    "    df_test = output2.iloc[idx_test]\n",
    "\n",
    "    model = sm.OLS.from_formula(formula, data=output2)\n",
    "    result = model.fit()\n",
    "\n",
    "    pred = result.predict(df_test)\n",
    "    rss = ((df_test.Y - pred)  **2).sum()\n",
    "    tss = ((df_test.Y - df_test.Y.mean()) **2).sum()\n",
    "    rsquared = 1 - rss / tss\n",
    "\n",
    "    scores[i] = rsquared\n",
    "    print(\"학습 R2 = {:.8f}, 검증 R2 = {:.8f}\".format(result.rsquared, rsquared))"
   ]
  },
  {
   "cell_type": "code",
   "execution_count": null,
   "metadata": {},
   "outputs": [],
   "source": [
    "df_test"
   ]
  },
  {
   "cell_type": "code",
   "execution_count": null,
   "metadata": {},
   "outputs": [],
   "source": [
    "df_train"
   ]
  },
  {
   "cell_type": "code",
   "execution_count": null,
   "metadata": {},
   "outputs": [],
   "source": [
    "X_train.tail()"
   ]
  },
  {
   "cell_type": "code",
   "execution_count": null,
   "metadata": {},
   "outputs": [],
   "source": []
  }
 ],
 "metadata": {
  "kernelspec": {
   "display_name": "Python 3",
   "language": "python",
   "name": "python3"
  },
  "language_info": {
   "codemirror_mode": {
    "name": "ipython",
    "version": 3
   },
   "file_extension": ".py",
   "mimetype": "text/x-python",
   "name": "python",
   "nbconvert_exporter": "python",
   "pygments_lexer": "ipython3",
   "version": "3.7.4"
  }
 },
 "nbformat": 4,
 "nbformat_minor": 4
}
