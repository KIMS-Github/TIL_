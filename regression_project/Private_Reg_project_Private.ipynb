{
 "cells": [
  {
   "cell_type": "markdown",
   "metadata": {},
   "source": [
    "# <font color = \"brown\"> WTI Indices Futures"
   ]
  },
  {
   "cell_type": "markdown",
   "metadata": {},
   "source": [
    "# <font color = \"yellowgreen\" > Project Outline\n",
    "\n",
    "- COVID19로 인한 수요급감과 산유국및간의 정세 그리고 대체에너지산업과의 경쟁 및 신경전에 의한 유가폭락이후 유가의 회복시점과 가격을 예측해봄."
   ]
  },
  {
   "cell_type": "markdown",
   "metadata": {},
   "source": [
    "\n",
    "1. y값 예측을 위한 x 데이터를 충분히 모으고 각 데이터종류와 y값과의 상관관계를 파악한다\n",
    "2. EDA : 선형회귀에 대한 내용과 무관하게 데이터별로 \n",
    "    - 연속형은 scatter plot 을 그려보고 rho 값과 p-value 를 체크하고 \n",
    "    - 카테고리 데이터는 ANOVA 분석결과와 box plot등을 그려보고 카테고리간의 차이를 체크한다.\n",
    "3. Base-line modeling: EDA 결과에 따른 데이터의 그래프 유형을 파악하여 느낌대로 x데이터에 제곱, 로그등을 취해보는 기본모델을 만든다.\n",
    "4. 테스트 퍼포먼스(R-Square)를 측정한다. (트레이닝데이터 퍼포먼스가 아닌점에 주의!)\n",
    "\n",
    "- 여기까지가 과정의 10%\n",
    "- 여기서부터 노가다의 시작! come up with idea!!\n",
    "\n",
    "5. 퍼포먼스 향상을 위한 idea를 내고 trial error 해가며 노력한다!\n",
    "6. 노력과 퀄리티는 비례하며 \n",
    "7. 중간중간 강사님들께 여쭤봐가며 하면 된다.\n"
   ]
  }
 ],
 "metadata": {
  "kernelspec": {
   "display_name": "Python 3",
   "language": "python",
   "name": "python3"
  },
  "language_info": {
   "codemirror_mode": {
    "name": "ipython",
    "version": 3
   },
   "file_extension": ".py",
   "mimetype": "text/x-python",
   "name": "python",
   "nbconvert_exporter": "python",
   "pygments_lexer": "ipython3",
   "version": "3.7.4"
  }
 },
 "nbformat": 4,
 "nbformat_minor": 4
}
