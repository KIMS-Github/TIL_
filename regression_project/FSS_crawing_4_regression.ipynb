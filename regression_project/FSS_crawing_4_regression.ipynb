{
 "cells": [
  {
   "cell_type": "markdown",
   "metadata": {},
   "source": [
    "### 회귀프로젝트를 위한 금융감독원 기업공시 데이터 수집\n",
    "- http://www.fss.or.kr/fss/kr/bsn/cad/cad_rpt_l.jsp\n",
    "- post 방식 사용\n",
    "- 특정 설정기간만 크롤링"
   ]
  },
  {
   "cell_type": "code",
   "execution_count": 2,
   "metadata": {},
   "outputs": [],
   "source": [
    "import requests\n",
    "import pandas as pd\n",
    "from bs4 import BeautifulSoup\n",
    "from fake_useragent import UserAgent"
   ]
  },
  {
   "cell_type": "code",
   "execution_count": 3,
   "metadata": {},
   "outputs": [
    {
     "data": {
      "text/plain": [
       "'Mozilla/5.0 (Windows NT 6.2; WOW64) AppleWebKit/537.36 (KHTML, like Gecko) Chrome/30.0.1599.17 Safari/537.36'"
      ]
     },
     "execution_count": 3,
     "metadata": {},
     "output_type": "execute_result"
    }
   ],
   "source": [
    "UserAgent().chrome"
   ]
  },
  {
   "cell_type": "code",
   "execution_count": 4,
   "metadata": {},
   "outputs": [],
   "source": [
    "url = \"http://www.fss.or.kr/wisenut/quickSearch/ajax/site_xml.jsp\""
   ]
  },
  {
   "cell_type": "code",
   "execution_count": 38,
   "metadata": {},
   "outputs": [],
   "source": [
    "params = {\n",
    "    \"p_target_type_kor\": \"(unable to decode value)\",\n",
    "    \"p_condition_date\": \"GONGSI_DT\",\n",
    "    \"p_start_date\": \"2013-06-01\",\n",
    "    \"p_end_date\": \"2020-06-26\",\n",
    "    \"x\": \"17\",\n",
    "    \"y\": \"16\"\n",
    "    \n",
    "}"
   ]
  },
  {
   "cell_type": "code",
   "execution_count": 39,
   "metadata": {},
   "outputs": [
    {
     "data": {
      "text/plain": [
       "<Response [200]>"
      ]
     },
     "execution_count": 39,
     "metadata": {},
     "output_type": "execute_result"
    }
   ],
   "source": [
    "#headers = {\n",
    "#    \"user-agent\": UserAgent().chrome,\n",
    "##     \"referer\": \"http://www.fss.or.kr/fss/kr/bsn/cad/cad_rpt_l.jspl\",\n",
    "#    \"cookie\" : \"WMONID=ZmMZD9984Af; JSESSIONID=K2hCNfk3m5sja19EK64d14xCD27pqIBzc0QJeNEZLOGSgXoc4R733vBExXReqAIt.fssweb016_servlet_engine1\"\n",
    "#    \n",
    "#}\n",
    "response = requests.post(url, params)\n",
    "response\n"
   ]
  },
  {
   "cell_type": "code",
   "execution_count": 40,
   "metadata": {},
   "outputs": [
    {
     "data": {
      "text/plain": [
       "<?xml version=\"1.0\" encoding=\"UTF-8\"?><searchqueryresult><version>5.3.0</version><suggestedquery><![CDATA[ ]]></suggestedquery><collection><id>quicksite</id><error><code>-2026</code><value><![CDATA[No query and filtering condition Collection[quicksite] | SearcherID[sc]]]></value></error><documentset><count>0</count><totalcount>0</totalcount></documentset></collection></searchqueryresult>"
      ]
     },
     "execution_count": 40,
     "metadata": {},
     "output_type": "execute_result"
    }
   ],
   "source": [
    "dom = BeautifulSoup(response.content, \"html.parser\")\n",
    "dom"
   ]
  },
  {
   "cell_type": "code",
   "execution_count": 33,
   "metadata": {},
   "outputs": [
    {
     "data": {
      "text/plain": [
       "0"
      ]
     },
     "execution_count": 33,
     "metadata": {},
     "output_type": "execute_result"
    }
   ],
   "source": [
    "elements = dom.select(\"tbody > \")\n",
    "len(elements)"
   ]
  },
  {
   "cell_type": "code",
   "execution_count": 13,
   "metadata": {},
   "outputs": [
    {
     "data": {
      "text/html": [
       "<div>\n",
       "<style scoped>\n",
       "    .dataframe tbody tr th:only-of-type {\n",
       "        vertical-align: middle;\n",
       "    }\n",
       "\n",
       "    .dataframe tbody tr th {\n",
       "        vertical-align: top;\n",
       "    }\n",
       "\n",
       "    .dataframe thead th {\n",
       "        text-align: right;\n",
       "    }\n",
       "</style>\n",
       "<table border=\"1\" class=\"dataframe\">\n",
       "  <thead>\n",
       "    <tr style=\"text-align: right;\">\n",
       "      <th></th>\n",
       "      <th>date</th>\n",
       "      <th>no</th>\n",
       "      <th>pv</th>\n",
       "      <th>title</th>\n",
       "      <th>writer</th>\n",
       "    </tr>\n",
       "  </thead>\n",
       "  <tbody>\n",
       "    <tr>\n",
       "      <th>8</th>\n",
       "      <td>2019.11.13.</td>\n",
       "      <td>10311</td>\n",
       "      <td>333</td>\n",
       "      <td>2년 6개월의 정부혁신 성과 중간 점검, 향후 정부혁신 방향은?</td>\n",
       "      <td>혁신기획과</td>\n",
       "    </tr>\n",
       "    <tr>\n",
       "      <th>9</th>\n",
       "      <td>2019.11.13.</td>\n",
       "      <td>10310</td>\n",
       "      <td>242</td>\n",
       "      <td>자치인재원, 사회적경제 혁신적 소통 활성화 교육 선보여</td>\n",
       "      <td>기획협력과</td>\n",
       "    </tr>\n",
       "  </tbody>\n",
       "</table>\n",
       "</div>"
      ],
      "text/plain": [
       "          date     no   pv                                title writer\n",
       "8  2019.11.13.  10311  333  2년 6개월의 정부혁신 성과 중간 점검, 향후 정부혁신 방향은?  혁신기획과\n",
       "9  2019.11.13.  10310  242       자치인재원, 사회적경제 혁신적 소통 활성화 교육 선보여  기획협력과"
      ]
     },
     "execution_count": 13,
     "metadata": {},
     "output_type": "execute_result"
    }
   ],
   "source": [
    "datas = []\n",
    "for element in elements:\n",
    "    datas.append({\n",
    "        \"no\": element.select_one(\"td:nth-child(1)\").text.strip(),\n",
    "        \"title\": element.select_one(\"td:nth-child(2)\").text.strip(),\n",
    "        \"writer\": element.select_one(\"td:nth-child(4)\").text.strip(),\n",
    "        \"date\": element.select_one(\"td:nth-child(5)\").text.strip(),\n",
    "        \"pv\": element.select_one(\"td:nth-child(6)\").text.strip(),\n",
    "    })\n",
    "mois_df = pd.DataFrame(datas)\n",
    "mois_df.tail(2)"
   ]
  }
 ],
 "metadata": {
  "kernelspec": {
   "display_name": "Python 3",
   "language": "python",
   "name": "python3"
  },
  "language_info": {
   "codemirror_mode": {
    "name": "ipython",
    "version": 3
   },
   "file_extension": ".py",
   "mimetype": "text/x-python",
   "name": "python",
   "nbconvert_exporter": "python",
   "pygments_lexer": "ipython3",
   "version": "3.7.4"
  }
 },
 "nbformat": 4,
 "nbformat_minor": 4
}
