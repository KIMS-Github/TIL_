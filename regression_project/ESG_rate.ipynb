{
 "cells": [
  {
   "cell_type": "code",
   "execution_count": 3,
   "metadata": {
    "jupyter": {
     "source_hidden": true
    }
   },
   "outputs": [],
   "source": [
    "pd.options.display.max_rows = 9999\n",
    "pd.options.display.max_columns = 9999\n",
    "\n",
    "import matplotlib.pyplot as plt\n",
    "from matplotlib import rc\n",
    "import seaborn as sns\n",
    "%matplotlib inline\n",
    "rc('font', family='AppleGothic')\n",
    "\n",
    "plt.rcParams['axes.unicode_minus'] = False"
   ]
  },
  {
   "cell_type": "code",
   "execution_count": 51,
   "metadata": {},
   "outputs": [],
   "source": [
    "# SCORE_Label={\"S\":30.0,\"A+\":25.7,\"A\":21.4,\"B+\":17.1,\"B\":21.9,\"C\":8.6,\"D\":4.3, \"C이하\":4.3}"
   ]
  },
  {
   "cell_type": "markdown",
   "metadata": {},
   "source": [
    "# ESG등급 수치화"
   ]
  },
  {
   "cell_type": "code",
   "execution_count": 52,
   "metadata": {},
   "outputs": [],
   "source": [
    "# s = pd.Series([\"S\",\"A+\",\"A\",\"B+\",\"B\",\"C\",\"D\"], dtype=\"category\")\n",
    "# vals = [30.0, 25.7, 21.4, 17.1, 21.9, 8.6, 4.3]"
   ]
  },
  {
   "cell_type": "code",
   "execution_count": 111,
   "metadata": {},
   "outputs": [
    {
     "data": {
      "text/html": [
       "<div>\n",
       "<style scoped>\n",
       "    .dataframe tbody tr th:only-of-type {\n",
       "        vertical-align: middle;\n",
       "    }\n",
       "\n",
       "    .dataframe tbody tr th {\n",
       "        vertical-align: top;\n",
       "    }\n",
       "\n",
       "    .dataframe thead th {\n",
       "        text-align: right;\n",
       "    }\n",
       "</style>\n",
       "<table border=\"1\" class=\"dataframe\">\n",
       "  <thead>\n",
       "    <tr style=\"text-align: right;\">\n",
       "      <th></th>\n",
       "      <th>NO</th>\n",
       "      <th>기업명</th>\n",
       "      <th>기업코드</th>\n",
       "      <th>ESG등급</th>\n",
       "      <th>지배구조</th>\n",
       "      <th>사회</th>\n",
       "      <th>환경</th>\n",
       "      <th>평가년도</th>\n",
       "      <th>비고</th>\n",
       "    </tr>\n",
       "  </thead>\n",
       "  <tbody>\n",
       "    <tr>\n",
       "      <th>0</th>\n",
       "      <td>924</td>\n",
       "      <td>AJ네트웍스</td>\n",
       "      <td>95570</td>\n",
       "      <td>B</td>\n",
       "      <td>B</td>\n",
       "      <td>B</td>\n",
       "      <td>C이하</td>\n",
       "      <td>2019</td>\n",
       "      <td>NaN</td>\n",
       "    </tr>\n",
       "    <tr>\n",
       "      <th>1</th>\n",
       "      <td>923</td>\n",
       "      <td>AJ렌터카</td>\n",
       "      <td>68400</td>\n",
       "      <td>C이하</td>\n",
       "      <td>C</td>\n",
       "      <td>B</td>\n",
       "      <td>B</td>\n",
       "      <td>2019</td>\n",
       "      <td>NaN</td>\n",
       "    </tr>\n",
       "    <tr>\n",
       "      <th>2</th>\n",
       "      <td>922</td>\n",
       "      <td>AK홀딩스</td>\n",
       "      <td>6840</td>\n",
       "      <td>B</td>\n",
       "      <td>B</td>\n",
       "      <td>B</td>\n",
       "      <td>C이하</td>\n",
       "      <td>2019</td>\n",
       "      <td>NaN</td>\n",
       "    </tr>\n",
       "    <tr>\n",
       "      <th>3</th>\n",
       "      <td>921</td>\n",
       "      <td>AP시스템</td>\n",
       "      <td>265520</td>\n",
       "      <td>C이하</td>\n",
       "      <td>B</td>\n",
       "      <td>C이하</td>\n",
       "      <td>C이하</td>\n",
       "      <td>2019</td>\n",
       "      <td>NaN</td>\n",
       "    </tr>\n",
       "    <tr>\n",
       "      <th>4</th>\n",
       "      <td>920</td>\n",
       "      <td>BGF</td>\n",
       "      <td>27410</td>\n",
       "      <td>B</td>\n",
       "      <td>B</td>\n",
       "      <td>A</td>\n",
       "      <td>C이하</td>\n",
       "      <td>2019</td>\n",
       "      <td>NaN</td>\n",
       "    </tr>\n",
       "  </tbody>\n",
       "</table>\n",
       "</div>"
      ],
      "text/plain": [
       "    NO      기업명    기업코드 ESG등급 지배구조   사회   환경  평가년도   비고\n",
       "0  924   AJ네트웍스   95570     B    B    B  C이하  2019  NaN\n",
       "1  923    AJ렌터카   68400   C이하    C    B    B  2019  NaN\n",
       "2  922    AK홀딩스    6840     B    B    B  C이하  2019  NaN\n",
       "3  921    AP시스템  265520   C이하    B  C이하  C이하  2019  NaN\n",
       "4  920      BGF   27410     B    B    A  C이하  2019  NaN"
      ]
     },
     "execution_count": 111,
     "metadata": {},
     "output_type": "execute_result"
    }
   ],
   "source": [
    "# df = pd.read_xls(\"2020612_ESG_Grade.xls\",  engine='python', encoding = \"cp949\")\n",
    "df = pd.read_csv(\"2020612_ESG_Grade.csv\")\n",
    "df.head()"
   ]
  },
  {
   "cell_type": "code",
   "execution_count": 112,
   "metadata": {},
   "outputs": [
    {
     "data": {
      "text/html": [
       "<div>\n",
       "<style scoped>\n",
       "    .dataframe tbody tr th:only-of-type {\n",
       "        vertical-align: middle;\n",
       "    }\n",
       "\n",
       "    .dataframe tbody tr th {\n",
       "        vertical-align: top;\n",
       "    }\n",
       "\n",
       "    .dataframe thead th {\n",
       "        text-align: right;\n",
       "    }\n",
       "</style>\n",
       "<table border=\"1\" class=\"dataframe\">\n",
       "  <thead>\n",
       "    <tr style=\"text-align: right;\">\n",
       "      <th></th>\n",
       "      <th>기업명</th>\n",
       "      <th>기업코드</th>\n",
       "      <th>ESG등급</th>\n",
       "      <th>지배구조</th>\n",
       "      <th>사회</th>\n",
       "      <th>환경</th>\n",
       "    </tr>\n",
       "  </thead>\n",
       "  <tbody>\n",
       "    <tr>\n",
       "      <th>0</th>\n",
       "      <td>AJ네트웍스</td>\n",
       "      <td>95570</td>\n",
       "      <td>B</td>\n",
       "      <td>B</td>\n",
       "      <td>B</td>\n",
       "      <td>C이하</td>\n",
       "    </tr>\n",
       "    <tr>\n",
       "      <th>1</th>\n",
       "      <td>AJ렌터카</td>\n",
       "      <td>68400</td>\n",
       "      <td>C이하</td>\n",
       "      <td>C</td>\n",
       "      <td>B</td>\n",
       "      <td>B</td>\n",
       "    </tr>\n",
       "    <tr>\n",
       "      <th>2</th>\n",
       "      <td>AK홀딩스</td>\n",
       "      <td>6840</td>\n",
       "      <td>B</td>\n",
       "      <td>B</td>\n",
       "      <td>B</td>\n",
       "      <td>C이하</td>\n",
       "    </tr>\n",
       "    <tr>\n",
       "      <th>3</th>\n",
       "      <td>AP시스템</td>\n",
       "      <td>265520</td>\n",
       "      <td>C이하</td>\n",
       "      <td>B</td>\n",
       "      <td>C이하</td>\n",
       "      <td>C이하</td>\n",
       "    </tr>\n",
       "    <tr>\n",
       "      <th>4</th>\n",
       "      <td>BGF</td>\n",
       "      <td>27410</td>\n",
       "      <td>B</td>\n",
       "      <td>B</td>\n",
       "      <td>A</td>\n",
       "      <td>C이하</td>\n",
       "    </tr>\n",
       "  </tbody>\n",
       "</table>\n",
       "</div>"
      ],
      "text/plain": [
       "       기업명    기업코드 ESG등급 지배구조   사회   환경\n",
       "0   AJ네트웍스   95570     B    B    B  C이하\n",
       "1    AJ렌터카   68400   C이하    C    B    B\n",
       "2    AK홀딩스    6840     B    B    B  C이하\n",
       "3    AP시스템  265520   C이하    B  C이하  C이하\n",
       "4      BGF   27410     B    B    A  C이하"
      ]
     },
     "execution_count": 112,
     "metadata": {},
     "output_type": "execute_result"
    }
   ],
   "source": [
    "df  = df.drop(['NO', '평가년도', '비고'], axis=1)\n",
    "df = df.dropna()\n",
    "df.head()"
   ]
  },
  {
   "cell_type": "code",
   "execution_count": 113,
   "metadata": {},
   "outputs": [],
   "source": [
    "df['ESG등급'] = df['ESG등급'].apply({\"S\":30.0,\"A+\":25.7,\"A\":21.4,\"B+\":17.1,\"B\":21.9,\"C\":8.6,\"D\":4.3, \"C이하\":6.4}.get) \n",
    "df['지배구조'] = df['지배구조'].apply({\"S\":30.0,\"A+\":25.7,\"A\":21.4,\"B+\":17.1,\"B\":21.9,\"C\":8.6,\"D\":4.3, \"C이하\":6.4}.get) \n",
    "df['사회'] = df['사회'].apply({\"S\":30.0,\"A+\":25.7,\"A\":21.4,\"B+\":17.1,\"B\":21.9,\"C\":8.6,\"D\":4.3, \"C이하\":6.4}.get) \n",
    "df['환경'] = df['환경'].apply({\"S\":30.0,\"A+\":25.7,\"A\":21.4,\"B+\":17.1,\"B\":21.9,\"C\":8.6,\"D\":4.3, \"C이하\":6.4}.get) \n",
    "# \"C이하\"=(8.6+4.3)/2\n",
    "df['ESG등급'] = pd.to_numeric(df['ESG등급'])\n",
    "df['지배구조'] = pd.to_numeric(df['지배구조'])\n",
    "df['사회'] = pd.to_numeric(df['사회'])\n",
    "df['환경'] = pd.to_numeric(df['환경'])"
   ]
  },
  {
   "cell_type": "code",
   "execution_count": 114,
   "metadata": {},
   "outputs": [
    {
     "data": {
      "text/html": [
       "<div>\n",
       "<style scoped>\n",
       "    .dataframe tbody tr th:only-of-type {\n",
       "        vertical-align: middle;\n",
       "    }\n",
       "\n",
       "    .dataframe tbody tr th {\n",
       "        vertical-align: top;\n",
       "    }\n",
       "\n",
       "    .dataframe thead th {\n",
       "        text-align: right;\n",
       "    }\n",
       "</style>\n",
       "<table border=\"1\" class=\"dataframe\">\n",
       "  <thead>\n",
       "    <tr style=\"text-align: right;\">\n",
       "      <th></th>\n",
       "      <th>기업명</th>\n",
       "      <th>기업코드</th>\n",
       "      <th>ESG등급</th>\n",
       "      <th>지배구조</th>\n",
       "      <th>사회</th>\n",
       "      <th>환경</th>\n",
       "    </tr>\n",
       "  </thead>\n",
       "  <tbody>\n",
       "    <tr>\n",
       "      <th>0</th>\n",
       "      <td>AJ네트웍스</td>\n",
       "      <td>95570</td>\n",
       "      <td>21.9</td>\n",
       "      <td>21.9</td>\n",
       "      <td>21.9</td>\n",
       "      <td>6.4</td>\n",
       "    </tr>\n",
       "    <tr>\n",
       "      <th>1</th>\n",
       "      <td>AJ렌터카</td>\n",
       "      <td>68400</td>\n",
       "      <td>6.4</td>\n",
       "      <td>8.6</td>\n",
       "      <td>21.9</td>\n",
       "      <td>21.9</td>\n",
       "    </tr>\n",
       "    <tr>\n",
       "      <th>2</th>\n",
       "      <td>AK홀딩스</td>\n",
       "      <td>6840</td>\n",
       "      <td>21.9</td>\n",
       "      <td>21.9</td>\n",
       "      <td>21.9</td>\n",
       "      <td>6.4</td>\n",
       "    </tr>\n",
       "    <tr>\n",
       "      <th>3</th>\n",
       "      <td>AP시스템</td>\n",
       "      <td>265520</td>\n",
       "      <td>6.4</td>\n",
       "      <td>21.9</td>\n",
       "      <td>6.4</td>\n",
       "      <td>6.4</td>\n",
       "    </tr>\n",
       "    <tr>\n",
       "      <th>4</th>\n",
       "      <td>BGF</td>\n",
       "      <td>27410</td>\n",
       "      <td>21.9</td>\n",
       "      <td>21.9</td>\n",
       "      <td>21.4</td>\n",
       "      <td>6.4</td>\n",
       "    </tr>\n",
       "  </tbody>\n",
       "</table>\n",
       "</div>"
      ],
      "text/plain": [
       "       기업명    기업코드  ESG등급  지배구조    사회    환경\n",
       "0   AJ네트웍스   95570   21.9  21.9  21.9   6.4\n",
       "1    AJ렌터카   68400    6.4   8.6  21.9  21.9\n",
       "2    AK홀딩스    6840   21.9  21.9  21.9   6.4\n",
       "3    AP시스템  265520    6.4  21.9   6.4   6.4\n",
       "4      BGF   27410   21.9  21.9  21.4   6.4"
      ]
     },
     "execution_count": 114,
     "metadata": {},
     "output_type": "execute_result"
    }
   ],
   "source": [
    "df.head()"
   ]
  },
  {
   "cell_type": "markdown",
   "metadata": {},
   "source": [
    "# 계정과목 전처리"
   ]
  },
  {
   "cell_type": "raw",
   "metadata": {},
   "source": [
    "\"부채비율\", \"비유동부채/자본총계\", \"이익잉여금/총자산\", \"비유동부채/자산총계\", \"재고자산/유동부채\""
   ]
  },
  {
   "cell_type": "code",
   "execution_count": null,
   "metadata": {},
   "outputs": [],
   "source": []
  }
 ],
 "metadata": {
  "kernelspec": {
   "display_name": "Python 3",
   "language": "python",
   "name": "python3"
  },
  "language_info": {
   "codemirror_mode": {
    "name": "ipython",
    "version": 3
   },
   "file_extension": ".py",
   "mimetype": "text/x-python",
   "name": "python",
   "nbconvert_exporter": "python",
   "pygments_lexer": "ipython3",
   "version": "3.7.4"
  }
 },
 "nbformat": 4,
 "nbformat_minor": 4
}
