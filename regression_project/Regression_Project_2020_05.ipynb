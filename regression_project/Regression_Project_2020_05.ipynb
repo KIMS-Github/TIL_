{
 "cells": [
  {
   "cell_type": "markdown",
   "metadata": {},
   "source": [
    "# Project Outline"
   ]
  },
  {
   "cell_type": "code",
   "execution_count": null,
   "metadata": {},
   "outputs": [],
   "source": [
    "# 1. 회귀분석 프로젝트\n",
    " - 기간 : 5월 27일 ~ 7월 8일 / 6주 \n",
    " - 일정 : 매주 수요일 18:00 ~ 21:00 / 주 1회 / 1회당 3시간 / 총 6회(총 18시간)\n",
    " - 담당 : 부석준 강사님"
   ]
  },
  {
   "cell_type": "markdown",
   "metadata": {},
   "source": [
    "\n",
    "1. y값 예측을 위한 x 데이터를 충분히 모으고 각 데이터종류와 y값과의 상관관계를 파악한다\n",
    "2. EDA : 선형회귀에 대한 내용과 무관하게 데이터별로 \n",
    "    - 연속형은 scatter plot 을 그려보고 rho 값과 p-value 를 체크하고 \n",
    "    - 카테고리 데이터는 ANOVA 분석결과와 box plot등을 그려보고 카테고리간의 차이를 체크한다.\n",
    "3. Base-line modeling: EDA 결과에 따른 데이터의 그래프 유형을 파악하여 느낌대로 x데이터에 제곱, 로그등을 취해보는 기본모델을 만든다.\n",
    "4. 테스트 퍼포먼스(R-Square)를 측정한다. (트레이닝데이터 퍼포먼스가 아닌점에 주의!)\n",
    "\n",
    "- 여기까지가 과정의 10%\n",
    "- 여기서부터 노가다의 시작! come up with idea!!\n",
    "\n",
    "5. 퍼포먼스 향상을 위한 idea를 내고 trial error 해가며 노력한다!\n",
    "6. 노력과 퀄리티는 비례하며 \n",
    "7. 중간중간 강사님들께 여쭤봐가며 하면 된다.\n"
   ]
  },
  {
   "cell_type": "markdown",
   "metadata": {},
   "source": [
    "\n",
    "| Schedule| content  | note|\n",
    "| --- | --- | --- |\n",
    "| May 27 | set a subject |  |\n",
    "| July 8 | Presentation|  |"
   ]
  },
  {
   "cell_type": "code",
   "execution_count": 1,
   "metadata": {},
   "outputs": [],
   "source": [
    "# 분석 1 주제선정:"
   ]
  },
  {
   "cell_type": "code",
   "execution_count": 1,
   "metadata": {},
   "outputs": [
    {
     "ename": "ModuleNotFoundError",
     "evalue": "No module named 'MySQLdb'",
     "output_type": "error",
     "traceback": [
      "\u001b[0;31m---------------------------------------------------------------------------\u001b[0m",
      "\u001b[0;31mModuleNotFoundError\u001b[0m                       Traceback (most recent call last)",
      "\u001b[0;32m<ipython-input-1-1ca246cdd999>\u001b[0m in \u001b[0;36m<module>\u001b[0;34m\u001b[0m\n\u001b[0;32m----> 1\u001b[0;31m \u001b[0;32mimport\u001b[0m \u001b[0mMySQLdb\u001b[0m\u001b[0;34m\u001b[0m\u001b[0;34m\u001b[0m\u001b[0m\n\u001b[0m",
      "\u001b[0;31mModuleNotFoundError\u001b[0m: No module named 'MySQLdb'"
     ]
    }
   ],
   "source": [
    "import MySQLdb"
   ]
  },
  {
   "cell_type": "code",
   "execution_count": null,
   "metadata": {},
   "outputs": [],
   "source": [
    " pip3 install mysql-connector\n",
    " pip3 install ipython-sql\n"
   ]
  },
  {
   "cell_type": "code",
   "execution_count": null,
   "metadata": {},
   "outputs": [],
   "source": []
  },
  {
   "cell_type": "code",
   "execution_count": null,
   "metadata": {},
   "outputs": [],
   "source": []
  },
  {
   "cell_type": "markdown",
   "metadata": {},
   "source": [
    "#  <font color=\"red\"> overfitting \n",
    "### <font color=\"pink\"> SOLUTION \n",
    "#### in sample data testing and out of sample data testing = cross validation"
   ]
  },
  {
   "cell_type": "markdown",
   "metadata": {},
   "source": [
    "# train-test split\n",
    "## 1. training data set\n",
    "## 2. test data set"
   ]
  },
  {
   "cell_type": "markdown",
   "metadata": {},
   "source": [
    "# 테스트에 OLS 다시 써서 구하면 안되~ 다시 트레이닝 되니까"
   ]
  },
  {
   "cell_type": "markdown",
   "metadata": {},
   "source": [
    "# K-fold "
   ]
  },
  {
   "cell_type": "raw",
   "metadata": {},
   "source": [
    "# validation score\n",
    "sklearn\n",
    "cross_val_score"
   ]
  },
  {
   "cell_type": "markdown",
   "metadata": {},
   "source": [
    "#  <font color=\"red\">  multicollinearity"
   ]
  },
  {
   "cell_type": "markdown",
   "metadata": {},
   "source": [
    "### <font color=\"pink\"> SOLUTION \n",
    "##### 1. VIF 의존적 변수 삭제 \n",
    "##### 2. PCA 를 통한 의존적 성분삭제\n",
    "##### 3. 정규화 : w 를 너무 크지 않토록 : 안정적 결과가 나온다\n",
    "    - Ridge 제곱이용\n",
    "    - Lasso 절대값이용  : 패널티(제한조건/정규화가중치)를 크게 주면 w가 작아져서 0이 될수가 있음\n",
    "                        특성을 이용해서 의존적 변수(중요하지 않은)를 제거할 수 있다! lasso path\n",
    "                       그럼 람다(패널티(제한조건/정규화가중치)를 얼마나 줘야하나\n",
    "                        검증성능을 좋아지게 하는 방향으로 \n",
    "<font color=\"red\"> Validation curve \n",
    "                        를 보면서 Trial error 를 하며 맞춰가야함.\n",
    "    - Elastic Net 위의 둘을 섞어이용\n"
   ]
  },
  {
   "cell_type": "markdown",
   "metadata": {},
   "source": [
    "### ststsmodels : fit_regularized"
   ]
  },
  {
   "cell_type": "markdown",
   "metadata": {},
   "source": [
    "### scikit-learn : class + regularized"
   ]
  },
  {
   "cell_type": "raw",
   "metadata": {},
   "source": [
    "위의 모든것이 선형회귀의 마지막 단계인 하이퍼파라미터 튜닝이고 여기에 90%의 에너지를 쏟아야함"
   ]
  },
  {
   "cell_type": "markdown",
   "metadata": {},
   "source": [
    "# 1. Solve A Real Problem With Machine Learning"
   ]
  },
  {
   "cell_type": "code",
   "execution_count": null,
   "metadata": {},
   "outputs": [],
   "source": []
  }
 ],
 "metadata": {
  "kernelspec": {
   "display_name": "Python 3",
   "language": "python",
   "name": "python3"
  },
  "language_info": {
   "codemirror_mode": {
    "name": "ipython",
    "version": 3
   },
   "file_extension": ".py",
   "mimetype": "text/x-python",
   "name": "python",
   "nbconvert_exporter": "python",
   "pygments_lexer": "ipython3",
   "version": "3.7.4"
  }
 },
 "nbformat": 4,
 "nbformat_minor": 4
}
