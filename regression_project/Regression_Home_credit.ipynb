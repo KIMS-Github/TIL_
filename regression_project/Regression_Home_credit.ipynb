{
 "cells": [
  {
   "cell_type": "code",
   "execution_count": null,
   "metadata": {},
   "outputs": [],
   "source": [
    "# step 1. data divide and overview \n",
    "\n",
    "# column 1 : \n",
    "bureau(신용국데이터): 다른 금융 기관에서 고객의 이전 크레딧에 관한 데이터. 이전 크레딧은 각각 신용국데이터내 자체 행이 있지만, application 데이터내 하나의 대출은 여러 개의 이전 크레딧을 가질 수 있다."
   ]
  }
 ],
 "metadata": {
  "kernelspec": {
   "display_name": "Python 3",
   "language": "python",
   "name": "python3"
  },
  "language_info": {
   "codemirror_mode": {
    "name": "ipython",
    "version": 3
   },
   "file_extension": ".py",
   "mimetype": "text/x-python",
   "name": "python",
   "nbconvert_exporter": "python",
   "pygments_lexer": "ipython3",
   "version": "3.7.4"
  }
 },
 "nbformat": 4,
 "nbformat_minor": 4
}
