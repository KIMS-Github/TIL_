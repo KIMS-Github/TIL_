{
 "cells": [
  {
   "cell_type": "markdown",
   "metadata": {},
   "source": [
    "### 대체적으로 \n",
    "-  동적인 페이지는 json parsing\n",
    "-  정적인 페이지는 html 을 이용한 parsing \n",
    "\n",
    "위의 것들을 혼합하여 크롤링을 한다.\n"
   ]
  },
  {
   "cell_type": "markdown",
   "metadata": {},
   "source": [
    "# HTML(Hyper Text Markup Language)\n",
    "- 웹문서 작성언어 \n",
    "    - HTML : layout\n",
    "    - CSS  : style\n",
    "    - Javascript: 클릭, 드래그등 이벤트 액션\n"
   ]
  },
  {
   "cell_type": "raw",
   "metadata": {},
   "source": [
    "- HTML \n",
    "    - Document\n",
    "        페이지 전체\n",
    "    - Element\n",
    "        계층적구조 \n",
    "    - Tag\n",
    "        엘리먼트를 구성</br>\n",
    "        시작태그와 끝태그 //<div> ... /</div> </br>\n",
    "        태그와 태그사이에 문자열데이터</br>\n",
    "        태그의 이름에 따라 태그의 목적이 달라진다</br>\n",
    "    - Attribute\n",
    "        시작태그 안에 포함되는 속성\n",
    "        - id, class : 엘리먼트 선택용으로 만들어진 속성값\n",
    "        - etc. "
   ]
  },
  {
   "cell_type": "raw",
   "metadata": {},
   "source": [
    "%%html\n",
    "<div class=\"Wrapper\">\n",
    "    <button type=\"button\">HTML 1</button>\n",
    "</div> #div : division"
   ]
  },
  {
   "cell_type": "markdown",
   "metadata": {},
   "source": [
    "#### Attribute\n",
    "- id: 웹페이지의 유일한 값\n",
    "- class : 여러가지 값사용이 가능,하나의 엘리먼트에도 여러값사용가능"
   ]
  },
  {
   "cell_type": "raw",
   "metadata": {},
   "source": [
    "#### Tag \n",
    "- Head : from <h1> to <h6>\n",
    "- p    : <p> python </p>\n",
    "- span : <span> python </span> # 한블럭의 문자열출력\n",
    "- div  : <div> </div> # 레이아웃을 나타내는 태그, 가장많이 사용\n",
    "- table: <table>\n",
    "    "
   ]
  },
  {
   "cell_type": "markdown",
   "metadata": {},
   "source": [
    "#### Tag \n",
    "- ul: list\n",
    "- li: list"
   ]
  },
  {
   "cell_type": "raw",
   "metadata": {},
   "source": [
    "- a : 링크를 출력\n",
    "- href 속성값에 이동할 url데이터를 넣습니다."
   ]
  },
  {
   "cell_type": "code",
   "execution_count": 10,
   "metadata": {},
   "outputs": [
    {
     "data": {
      "text/html": [
       "<a href= \"http://fastcampus.co.kr\" target  =  \"_blank\">FastCampus!</a>\n"
      ],
      "text/plain": [
       "<IPython.core.display.HTML object>"
      ]
     },
     "metadata": {},
     "output_type": "display_data"
    }
   ],
   "source": [
    "%%html\n",
    "<a href= \"http://fastcampus.co.kr\" target  =  \"_blank\">FastCampus!</a>"
   ]
  },
  {
   "cell_type": "code",
   "execution_count": 9,
   "metadata": {},
   "outputs": [
    {
     "data": {
      "text/html": [
       "<img style=\"width:200px;\", src=\"cnd.www.fastcampus.co.kr\">\n"
      ],
      "text/plain": [
       "<IPython.core.display.HTML object>"
      ]
     },
     "metadata": {},
     "output_type": "display_data"
    }
   ],
   "source": [
    "%%html\n",
    "<img src=\"width:200px;\", src=\"cnd.www.fastcampus.co.kr\">"
   ]
  },
  {
   "cell_type": "code",
   "execution_count": 1,
   "metadata": {},
   "outputs": [
    {
     "data": {
      "text/html": [
       "<select>\n",
       "    <option>data1</option>\n",
       "    <option>data2</option>\n",
       "</select>\n",
       "# sample page : ted https://www.ted.com/talks\n"
      ],
      "text/plain": [
       "<IPython.core.display.HTML object>"
      ]
     },
     "metadata": {},
     "output_type": "display_data"
    }
   ],
   "source": [
    "%%html\n",
    "<select>\n",
    "    <option>data1</option>\n",
    "    <option>data2</option>\n",
    "</select>\n",
    "# sample page : ted https://www.ted.com/talks"
   ]
  },
  {
   "cell_type": "markdown",
   "metadata": {},
   "source": [
    "## CSS SELECTOR\n",
    "- HTML 엘리먼트에 css 적용\n",
    "    - tag\n",
    "    - id\n",
    "    - class\n",
    "    - attribute"
   ]
  },
  {
   "cell_type": "code",
   "execution_count": 4,
   "metadata": {},
   "outputs": [
    {
     "data": {
      "text/html": [
       "<div>\n",
       "<p>data1</p>\n",
       "</div>\n"
      ],
      "text/plain": [
       "<IPython.core.display.HTML object>"
      ]
     },
     "metadata": {},
     "output_type": "display_data"
    }
   ],
   "source": [
    "%%html\n",
    "<div>\n",
    "<p>data1</p>\n",
    "</div>"
   ]
  },
  {
   "cell_type": "markdown",
   "metadata": {},
   "source": [
    "## css-selector : mixed use\n",
    "    - div  : div\n",
    "    - id   : #txt\n",
    "    - class: .txt\n",
    "    - attribute: [  ]\n"
   ]
  },
  {
   "cell_type": "markdown",
   "metadata": {},
   "source": [
    "#### 혼합해서 사용\n",
    "- span 태그, class 값이 no5 엘리먼트를 선택\n",
    "- css-selector : `span.no5`"
   ]
  },
  {
   "cell_type": "code",
   "execution_count": 10,
   "metadata": {},
   "outputs": [
    {
     "data": {
      "text/html": [
       "<div id=\"wrap\" class=\"dss\">data 1</div>\n",
       "<p id=\"txt\" class=\"dss-txt no1\">data 2</p>\n",
       "<span class=\"dss-txt no2\" val=\"d3\">data 3</span>\n",
       "<span id=\"da4\" val=\"d4\">data 4</span>\n",
       "<span class=\"no5\">data 5</span>\n"
      ],
      "text/plain": [
       "<IPython.core.display.HTML object>"
      ]
     },
     "metadata": {},
     "output_type": "display_data"
    }
   ],
   "source": [
    "%%html\n",
    "<div id=\"wrap\" class=\"dss\">data 1</div>\n",
    "<p id=\"txt\" class=\"dss-txt no1\">data 2</p>\n",
    "<span class=\"dss-txt no2\" val=\"d3\">data 3</span>\n",
    "<span id=\"da4\" val=\"d4\">data 4</span>\n",
    "<span class=\"no5\">data 5</span>"
   ]
  },
  {
   "cell_type": "markdown",
   "metadata": {},
   "source": [
    "### nth-child * 선택되는 순서주의!!! \n",
    "- n 번째의 엘리먼트를 채택 nth-child(3) <- 3번째 채택\n",
    "- ds 가 포함되어 있으면 선택\n",
    "- css-selector : `.ds:nth-child(3)`\n",
    "\n",
    "- 만약에, `<span>data 0</span>` 맨 윗줄에 추가되면 위에서 3번째를 채택하게 되니 이번에는 data 2를 채택"
   ]
  },
  {
   "cell_type": "code",
   "execution_count": 9,
   "metadata": {
    "collapsed": true,
    "jupyter": {
     "outputs_hidden": true
    }
   },
   "outputs": [
    {
     "data": {
      "text/html": [
       "<div>\n",
       "    <span>data 0</span>\n",
       "    <p class=\"ds dss1\">data 1</p>\n",
       "    <p class=\"ds dss2\">data 2</p>\n",
       "    <p class=\"ds dss3\">data 3</p>\n",
       "    <p class=\"ds dss4\">data 4</p>\n",
       "    <div>\n",
       "        <p class=\"ds dss1\">data 1</p>\n",
       "        <p class=\"ds dss2\">data 2</p>\n",
       "        <p class=\"ds dss3\">data 3</p>\n",
       "        <p class=\"ds dss4\">data 4</p>\n",
       "    </div>\n",
       "</div>\n",
       "<div></div>\n",
       "<div class=\"ds\">data 5</div>\n"
      ],
      "text/plain": [
       "<IPython.core.display.HTML object>"
      ]
     },
     "metadata": {},
     "output_type": "display_data"
    }
   ],
   "source": [
    "%%html\n",
    "<div>\n",
    "    <span>data 0</span>\n",
    "    <p class=\"ds dss1\">data 1</p>\n",
    "    <p class=\"ds dss2\">data 2</p>\n",
    "    <p class=\"ds dss3\">data 3</p>\n",
    "    <p class=\"ds dss4\">data 4</p>\n",
    "    <div class=\"wrap\">\n",
    "        <p class=\"ds dss1\">data 1</p>\n",
    "        <p class=\"ds dss2\">data 2</p>\n",
    "        <p class=\"ds dss3\">data 3</p>\n",
    "        <p class=\"ds dss4\">data 4</p>\n",
    "    </div>\n",
    "</div>\n",
    "<div></div>\n",
    "<div class=\"ds\">data 5</div>"
   ]
  },
  {
   "cell_type": "markdown",
   "metadata": {},
   "source": [
    "### 계층구조로 엘리먼트 선택 hierarchy element select"
   ]
  },
  {
   "cell_type": "markdown",
   "metadata": {},
   "source": [
    "\n",
    "- 바로 아래 단계의 엘리먼트 선택 \">\"\n",
    "    - `.wrap-1 > h5` : inner 1 선택\n",
    "- 모든 하위 엘리먼트를 선택 \"space\"\n",
    "    - `.wrap-1 h5` : inner 1, inner 2 선택"
   ]
  },
  {
   "cell_type": "code",
   "execution_count": 12,
   "metadata": {},
   "outputs": [
    {
     "data": {
      "text/html": [
       "<div class=\"wrap-1\">\n",
       "    <h5>inner 1<h5>\n",
       "    <div class=\"wrap-2\">\n",
       "        <h5>inner 2<h5>\n",
       "    </div>\n",
       "</div>\n"
      ],
      "text/plain": [
       "<IPython.core.display.HTML object>"
      ]
     },
     "metadata": {},
     "output_type": "display_data"
    }
   ],
   "source": [
    "%%html\n",
    "<div class=\"wrap-1\">\n",
    "    <h5>inner 1<h5>\n",
    "    <div class=\"wrap-2\">\n",
    "        <h5>inner 2<h5>\n",
    "    </div>\n",
    "</div>"
   ]
  },
  {
   "cell_type": "code",
   "execution_count": null,
   "metadata": {},
   "outputs": [],
   "source": []
  }
 ],
 "metadata": {
  "kernelspec": {
   "display_name": "Python 3",
   "language": "python",
   "name": "python3"
  },
  "language_info": {
   "codemirror_mode": {
    "name": "ipython",
    "version": 3
   },
   "file_extension": ".py",
   "mimetype": "text/x-python",
   "name": "python",
   "nbconvert_exporter": "python",
   "pygments_lexer": "ipython3",
   "version": "3.7.4"
  }
 },
 "nbformat": 4,
 "nbformat_minor": 4
}
