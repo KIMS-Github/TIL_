{
 "cells": [
  {
   "cell_type": "markdown",
   "metadata": {},
   "source": [
    "### 대체적으로 \n",
    "-  동적인 페이지는 json parsing\n",
    "-  정적인 페이지는 html 을 이용한 parsing \n",
    "\n",
    "위의 것들을 혼합하여 크롤링을 한다.\n"
   ]
  },
  {
   "cell_type": "markdown",
   "metadata": {},
   "source": [
    "# HTML(Hyper Text Markup Language)\n",
    "- 웹문서 작성언어 \n",
    "    - HTML : layout\n",
    "    - CSS  : style\n",
    "    - Javascript: 클릭, 드래그등 이벤트 액션\n"
   ]
  },
  {
   "cell_type": "raw",
   "metadata": {},
   "source": [
    "- HTML \n",
    "    - Document\n",
    "        페이지 전체\n",
    "    - Element\n",
    "        계층적구조 \n",
    "    - Tag\n",
    "        엘리먼트를 구성</br>\n",
    "        시작태그와 끝태그 //<div> ... /</div> </br>\n",
    "        태그와 태그사이에 문자열데이터</br>\n",
    "        태그의 이름에 따라 태그의 목적이 달라진다</br>\n",
    "    - Attribute\n",
    "        시작태그 안에 포함되는 속성\n",
    "        - id, class : 엘리먼트 선택용으로 만들어진 속성값\n",
    "        - etc. "
   ]
  },
  {
   "cell_type": "raw",
   "metadata": {},
   "source": [
    "%%html\n",
    "<div class=\"Wrapper\">\n",
    "    <button type=\"button\">HTML 1</button>\n",
    "</div> #div : division"
   ]
  },
  {
   "cell_type": "markdown",
   "metadata": {},
   "source": [
    "#### Attribute\n",
    "- id: 웹페이지의 유일한 값\n",
    "- class : 여러가지 값사용이 가능,하나의 엘리먼트에도 여러값사용가능"
   ]
  },
  {
   "cell_type": "raw",
   "metadata": {},
   "source": [
    "#### Tag \n",
    "- Head : from <h1> to <h6>\n",
    "- p    : <p> python </p>\n",
    "- span : <span> python </span> # 한블럭의 문자열출력\n",
    "- div  : <div> </div> # 레이아웃을 나타내는 태그, 가장많이 사용\n",
    "- table: <table>\n",
    "    "
   ]
  },
  {
   "cell_type": "markdown",
   "metadata": {},
   "source": [
    "#### Tag \n",
    "- ul: list\n",
    "- li: list"
   ]
  },
  {
   "cell_type": "raw",
   "metadata": {},
   "source": [
    "- a : 링크를 출력\n",
    "- href 속성값에 이동할 url데이터를 넣습니다."
   ]
  },
  {
   "cell_type": "code",
   "execution_count": 10,
   "metadata": {},
   "outputs": [
    {
     "data": {
      "text/html": [
       "<a href= \"http://fastcampus.co.kr\" target  =  \"_blank\">FastCampus!</a>\n"
      ],
      "text/plain": [
       "<IPython.core.display.HTML object>"
      ]
     },
     "metadata": {},
     "output_type": "display_data"
    }
   ],
   "source": [
    "%%html\n",
    "<a href= \"http://fastcampus.co.kr\" target  =  \"_blank\">FastCampus!</a>"
   ]
  },
  {
   "cell_type": "code",
   "execution_count": 9,
   "metadata": {},
   "outputs": [
    {
     "data": {
      "text/html": [
       "<img style=\"width:200px;\", src=\"cnd.www.fastcampus.co.kr\">\n"
      ],
      "text/plain": [
       "<IPython.core.display.HTML object>"
      ]
     },
     "metadata": {},
     "output_type": "display_data"
    }
   ],
   "source": [
    "%%html\n",
    "<img src=\"width:200px;\", src=\"cnd.www.fastcampus.co.kr\">"
   ]
  },
  {
   "cell_type": "code",
   "execution_count": null,
   "metadata": {},
   "outputs": [],
   "source": []
  }
 ],
 "metadata": {
  "kernelspec": {
   "display_name": "Python 3",
   "language": "python",
   "name": "python3"
  },
  "language_info": {
   "codemirror_mode": {
    "name": "ipython",
    "version": 3
   },
   "file_extension": ".py",
   "mimetype": "text/x-python",
   "name": "python",
   "nbconvert_exporter": "python",
   "pygments_lexer": "ipython3",
   "version": "3.7.4"
  }
 },
 "nbformat": 4,
 "nbformat_minor": 4
}
