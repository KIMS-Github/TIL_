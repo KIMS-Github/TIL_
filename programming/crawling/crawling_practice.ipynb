{
 "cells": [
  {
   "cell_type": "markdown",
   "metadata": {},
   "source": [
    "# API crawling"
   ]
  },
  {
   "cell_type": "markdown",
   "metadata": {},
   "source": [
    "### Rest API"
   ]
  },
  {
   "cell_type": "code",
   "execution_count": 5,
   "metadata": {},
   "outputs": [
    {
     "data": {
      "text/plain": [
       "'https://api.darksky.net/forecast/1181bba0a7d7f1ec6799a80846a2a98f/37.8267,-122.4233'"
      ]
     },
     "execution_count": 5,
     "metadata": {},
     "output_type": "execute_result"
    }
   ],
   "source": [
    "url = \"https://api.darksky.net/forecast/{}/{},{}\".format(key, lat, lng)\n",
    "url"
   ]
  },
  {
   "cell_type": "code",
   "execution_count": 6,
   "metadata": {},
   "outputs": [
    {
     "data": {
      "text/plain": [
       "<Response [200]>"
      ]
     },
     "execution_count": 6,
     "metadata": {},
     "output_type": "execute_result"
    }
   ],
   "source": [
    "# request.get\n",
    "response = requests.get(url)\n",
    "response\n"
   ]
  },
  {
   "cell_type": "code",
   "execution_count": 9,
   "metadata": {},
   "outputs": [
    {
     "data": {
      "text/plain": [
       "('America/Los_Angeles', 'Clear throughout the day.')"
      ]
     },
     "execution_count": 9,
     "metadata": {},
     "output_type": "execute_result"
    }
   ],
   "source": [
    "data = response.json()\n",
    "data[\"timezone\"], data[\"hourly\"][\"summary\"]"
   ]
  },
  {
   "cell_type": "code",
   "execution_count": 10,
   "metadata": {},
   "outputs": [],
   "source": [
    "def forecast(lat, lng):\n",
    "    url = \"https://api.darksky.net/forecast/{}/{},{}\".format(key, lat, lng)\n",
    "    response = requests.get(url)\n",
    "    data = response.json()\n",
    "    return data[\"timezone\"], data[\"hourly\"][\"summary\"]"
   ]
  },
  {
   "cell_type": "code",
   "execution_count": 11,
   "metadata": {},
   "outputs": [
    {
     "data": {
      "text/plain": [
       "('Asia/Seoul', 'Mostly cloudy throughout the day.')"
      ]
     },
     "execution_count": 11,
     "metadata": {},
     "output_type": "execute_result"
    }
   ],
   "source": [
    "forecast(37.565, 126.9780)"
   ]
  },
  {
   "cell_type": "code",
   "execution_count": null,
   "metadata": {},
   "outputs": [],
   "source": [
    "response = reqeusts.get(url)\n",
    "response"
   ]
  },
  {
   "cell_type": "markdown",
   "metadata": {},
   "source": [
    "# HTTP STATUS CODE\n",
    "- 2XX :SUCCESS\n",
    "- 3XX :redirection\n",
    "- 4XX :request error\n",
    "- 5XX :server error\n",
    "\n",
    "개발할땐 3번때는 False 로 놓으면 좋다"
   ]
  },
  {
   "cell_type": "code",
   "execution_count": 1,
   "metadata": {},
   "outputs": [],
   "source": [
    "import requests\n"
   ]
  },
  {
   "cell_type": "code",
   "execution_count": 2,
   "metadata": {},
   "outputs": [
    {
     "data": {
      "text/plain": [
       "'https://m.stock.naver.com/api/json/sise/dailySiseIndexListJson.nhn?code=KOSPI&pageSize=20&page=1'"
      ]
     },
     "execution_count": 2,
     "metadata": {},
     "output_type": "execute_result"
    }
   ],
   "source": [
    "# 분석이 용이한 mobile page check # url not changed - 동적인 페이지 \n",
    "# 크롬 개발자 모드 XHR 텝으로  json 포맷 확인가능\n",
    "# 1. 웹서비스 분석 : url 찾기 (이부분이 중요하고 어렵다)\n",
    "code, page_size, page = \"KOSPI\", 20, 1\n",
    "#url = \"https://m.stock.naver.com/api/json/sise/dailySiseIndexListJson.nhn?code=KOSPI&pageSize=20&page=4\" \n",
    "url = \"https://m.stock.naver.com/api/json/sise/\\\n",
    "dailySiseIndexListJson.nhn?code={}&pageSize={}&page={}\".format(code, page_size, page)\n",
    "\n",
    "url"
   ]
  },
  {
   "cell_type": "raw",
   "metadata": {},
   "source": [
    "크롤링을 위해 개발자모드에서 확인 할 내용: user-agent: Mozilla/5.0 (Macinto\n",
    "서버에서 잘못된 요청으로 차단하지 않토록 확인해서 맞춰준다."
   ]
  },
  {
   "cell_type": "code",
   "execution_count": 3,
   "metadata": {},
   "outputs": [
    {
     "data": {
      "text/plain": [
       "<Response [200]>"
      ]
     },
     "execution_count": 3,
     "metadata": {},
     "output_type": "execute_result"
    }
   ],
   "source": [
    "#2. requests, response : JSON(str)\n",
    "response = requests.get(url)\n",
    "response"
   ]
  },
  {
   "cell_type": "code",
   "execution_count": 4,
   "metadata": {},
   "outputs": [
    {
     "data": {
      "text/plain": [
       "str"
      ]
     },
     "execution_count": 4,
     "metadata": {},
     "output_type": "execute_result"
    }
   ],
   "source": [
    "#3. json(str) > json(dict) > make df\n",
    "type(response.text)"
   ]
  },
  {
   "cell_type": "code",
   "execution_count": 5,
   "metadata": {},
   "outputs": [
    {
     "data": {
      "text/plain": [
       "dict"
      ]
     },
     "execution_count": 5,
     "metadata": {},
     "output_type": "execute_result"
    }
   ],
   "source": [
    "# json 으로 str > df parsing\n",
    "type(response.json())"
   ]
  },
  {
   "cell_type": "code",
   "execution_count": 8,
   "metadata": {
    "collapsed": true,
    "jupyter": {
     "outputs_hidden": true
    }
   },
   "outputs": [
    {
     "data": {
      "text/plain": [
       "{'result': {'siseList': [{'cd': 'KOSPI',\n",
       "    'dt': '20200624',\n",
       "    'ncv': 2164.22,\n",
       "    'cv': 32.98,\n",
       "    'cr': 1.55,\n",
       "    'ov': 2145.93,\n",
       "    'hv': 2170.89,\n",
       "    'lv': 2143.91},\n",
       "   {'cd': 'KOSPI',\n",
       "    'dt': '20200623',\n",
       "    'ncv': 2131.24,\n",
       "    'cv': 4.51,\n",
       "    'cr': 0.21,\n",
       "    'ov': 2149.13,\n",
       "    'hv': 2158.15,\n",
       "    'lv': 2110.51},\n",
       "   {'cd': 'KOSPI',\n",
       "    'dt': '20200622',\n",
       "    'ncv': 2126.73,\n",
       "    'cv': -14.59,\n",
       "    'cr': -0.68,\n",
       "    'ov': 2126.38,\n",
       "    'hv': 2142.88,\n",
       "    'lv': 2122.1},\n",
       "   {'cd': 'KOSPI',\n",
       "    'dt': '20200619',\n",
       "    'ncv': 2141.32,\n",
       "    'cv': 7.84,\n",
       "    'cr': 0.37,\n",
       "    'ov': 2153.09,\n",
       "    'hv': 2153.57,\n",
       "    'lv': 2108.91},\n",
       "   {'cd': 'KOSPI',\n",
       "    'dt': '20200618',\n",
       "    'ncv': 2133.48,\n",
       "    'cv': -7.57,\n",
       "    'cr': -0.35,\n",
       "    'ov': 2134.35,\n",
       "    'hv': 2145.13,\n",
       "    'lv': 2120.29},\n",
       "   {'cd': 'KOSPI',\n",
       "    'dt': '20200617',\n",
       "    'ncv': 2141.05,\n",
       "    'cv': 3.0,\n",
       "    'cr': 0.14,\n",
       "    'ov': 2133.18,\n",
       "    'hv': 2154.37,\n",
       "    'lv': 2105.26},\n",
       "   {'cd': 'KOSPI',\n",
       "    'dt': '20200616',\n",
       "    'ncv': 2138.05,\n",
       "    'cv': 107.23,\n",
       "    'cr': 5.28,\n",
       "    'ov': 2091.09,\n",
       "    'hv': 2138.08,\n",
       "    'lv': 2079.02},\n",
       "   {'cd': 'KOSPI',\n",
       "    'dt': '20200615',\n",
       "    'ncv': 2030.82,\n",
       "    'cv': -101.48,\n",
       "    'cr': -4.76,\n",
       "    'ov': 2114.41,\n",
       "    'hv': 2129.67,\n",
       "    'lv': 2030.82},\n",
       "   {'cd': 'KOSPI',\n",
       "    'dt': '20200612',\n",
       "    'ncv': 2132.3,\n",
       "    'cv': -44.48,\n",
       "    'cr': -2.04,\n",
       "    'ov': 2088.24,\n",
       "    'hv': 2137.12,\n",
       "    'lv': 2084.63},\n",
       "   {'cd': 'KOSPI',\n",
       "    'dt': '20200611',\n",
       "    'ncv': 2176.78,\n",
       "    'cv': -18.91,\n",
       "    'cr': -0.86,\n",
       "    'ov': 2184.36,\n",
       "    'hv': 2200.72,\n",
       "    'lv': 2148.51},\n",
       "   {'cd': 'KOSPI',\n",
       "    'dt': '20200610',\n",
       "    'ncv': 2195.69,\n",
       "    'cv': 6.77,\n",
       "    'cr': 0.31,\n",
       "    'ov': 2187.91,\n",
       "    'hv': 2200.68,\n",
       "    'lv': 2178.12},\n",
       "   {'cd': 'KOSPI',\n",
       "    'dt': '20200609',\n",
       "    'ncv': 2188.92,\n",
       "    'cv': 4.63,\n",
       "    'cr': 0.21,\n",
       "    'ov': 2206.23,\n",
       "    'hv': 2212.17,\n",
       "    'lv': 2166.01},\n",
       "   {'cd': 'KOSPI',\n",
       "    'dt': '20200608',\n",
       "    'ncv': 2184.29,\n",
       "    'cv': 2.42,\n",
       "    'cr': 0.11,\n",
       "    'ov': 2215.6,\n",
       "    'hv': 2217.21,\n",
       "    'lv': 2174.96},\n",
       "   {'cd': 'KOSPI',\n",
       "    'dt': '20200605',\n",
       "    'ncv': 2181.87,\n",
       "    'cv': 30.69,\n",
       "    'cr': 1.43,\n",
       "    'ov': 2151.17,\n",
       "    'hv': 2187.25,\n",
       "    'lv': 2138.18},\n",
       "   {'cd': 'KOSPI',\n",
       "    'dt': '20200604',\n",
       "    'ncv': 2151.18,\n",
       "    'cv': 4.18,\n",
       "    'cr': 0.19,\n",
       "    'ov': 2181.64,\n",
       "    'hv': 2191.0,\n",
       "    'lv': 2139.68},\n",
       "   {'cd': 'KOSPI',\n",
       "    'dt': '20200603',\n",
       "    'ncv': 2147.0,\n",
       "    'cv': 59.81,\n",
       "    'cr': 2.87,\n",
       "    'ov': 2108.55,\n",
       "    'hv': 2156.55,\n",
       "    'lv': 2107.69},\n",
       "   {'cd': 'KOSPI',\n",
       "    'dt': '20200602',\n",
       "    'ncv': 2087.19,\n",
       "    'cv': 22.11,\n",
       "    'cr': 1.07,\n",
       "    'ov': 2061.45,\n",
       "    'hv': 2089.43,\n",
       "    'lv': 2059.14},\n",
       "   {'cd': 'KOSPI',\n",
       "    'dt': '20200601',\n",
       "    'ncv': 2065.08,\n",
       "    'cv': 35.48,\n",
       "    'cr': 1.75,\n",
       "    'ov': 2037.04,\n",
       "    'hv': 2065.38,\n",
       "    'lv': 2035.63},\n",
       "   {'cd': 'KOSPI',\n",
       "    'dt': '20200529',\n",
       "    'ncv': 2029.6,\n",
       "    'cv': 1.06,\n",
       "    'cr': 0.05,\n",
       "    'ov': 2018.37,\n",
       "    'hv': 2038.89,\n",
       "    'lv': 2006.62},\n",
       "   {'cd': 'KOSPI',\n",
       "    'dt': '20200528',\n",
       "    'ncv': 2028.54,\n",
       "    'cv': -2.66,\n",
       "    'cr': -0.13,\n",
       "    'ov': 2047.08,\n",
       "    'hv': 2054.52,\n",
       "    'lv': 2003.75}]},\n",
       " 'resultCode': 'success'}"
      ]
     },
     "execution_count": 8,
     "metadata": {},
     "output_type": "execute_result"
    }
   ],
   "source": [
    "data = response.json()\n",
    "data"
   ]
  },
  {
   "cell_type": "code",
   "execution_count": 9,
   "metadata": {},
   "outputs": [],
   "source": [
    "data = data[\"result\"][\"siseList\"]"
   ]
  },
  {
   "cell_type": "code",
   "execution_count": 10,
   "metadata": {},
   "outputs": [
    {
     "data": {
      "text/html": [
       "<div>\n",
       "<style scoped>\n",
       "    .dataframe tbody tr th:only-of-type {\n",
       "        vertical-align: middle;\n",
       "    }\n",
       "\n",
       "    .dataframe tbody tr th {\n",
       "        vertical-align: top;\n",
       "    }\n",
       "\n",
       "    .dataframe thead th {\n",
       "        text-align: right;\n",
       "    }\n",
       "</style>\n",
       "<table border=\"1\" class=\"dataframe\">\n",
       "  <thead>\n",
       "    <tr style=\"text-align: right;\">\n",
       "      <th></th>\n",
       "      <th>cd</th>\n",
       "      <th>dt</th>\n",
       "      <th>ncv</th>\n",
       "      <th>cv</th>\n",
       "      <th>cr</th>\n",
       "      <th>ov</th>\n",
       "      <th>hv</th>\n",
       "      <th>lv</th>\n",
       "    </tr>\n",
       "  </thead>\n",
       "  <tbody>\n",
       "    <tr>\n",
       "      <th>15</th>\n",
       "      <td>KOSPI</td>\n",
       "      <td>20200603</td>\n",
       "      <td>2147.00</td>\n",
       "      <td>59.81</td>\n",
       "      <td>2.87</td>\n",
       "      <td>2108.55</td>\n",
       "      <td>2156.55</td>\n",
       "      <td>2107.69</td>\n",
       "    </tr>\n",
       "    <tr>\n",
       "      <th>16</th>\n",
       "      <td>KOSPI</td>\n",
       "      <td>20200602</td>\n",
       "      <td>2087.19</td>\n",
       "      <td>22.11</td>\n",
       "      <td>1.07</td>\n",
       "      <td>2061.45</td>\n",
       "      <td>2089.43</td>\n",
       "      <td>2059.14</td>\n",
       "    </tr>\n",
       "    <tr>\n",
       "      <th>17</th>\n",
       "      <td>KOSPI</td>\n",
       "      <td>20200601</td>\n",
       "      <td>2065.08</td>\n",
       "      <td>35.48</td>\n",
       "      <td>1.75</td>\n",
       "      <td>2037.04</td>\n",
       "      <td>2065.38</td>\n",
       "      <td>2035.63</td>\n",
       "    </tr>\n",
       "    <tr>\n",
       "      <th>18</th>\n",
       "      <td>KOSPI</td>\n",
       "      <td>20200529</td>\n",
       "      <td>2029.60</td>\n",
       "      <td>1.06</td>\n",
       "      <td>0.05</td>\n",
       "      <td>2018.37</td>\n",
       "      <td>2038.89</td>\n",
       "      <td>2006.62</td>\n",
       "    </tr>\n",
       "    <tr>\n",
       "      <th>19</th>\n",
       "      <td>KOSPI</td>\n",
       "      <td>20200528</td>\n",
       "      <td>2028.54</td>\n",
       "      <td>-2.66</td>\n",
       "      <td>-0.13</td>\n",
       "      <td>2047.08</td>\n",
       "      <td>2054.52</td>\n",
       "      <td>2003.75</td>\n",
       "    </tr>\n",
       "  </tbody>\n",
       "</table>\n",
       "</div>"
      ],
      "text/plain": [
       "       cd        dt      ncv     cv    cr       ov       hv       lv\n",
       "15  KOSPI  20200603  2147.00  59.81  2.87  2108.55  2156.55  2107.69\n",
       "16  KOSPI  20200602  2087.19  22.11  1.07  2061.45  2089.43  2059.14\n",
       "17  KOSPI  20200601  2065.08  35.48  1.75  2037.04  2065.38  2035.63\n",
       "18  KOSPI  20200529  2029.60   1.06  0.05  2018.37  2038.89  2006.62\n",
       "19  KOSPI  20200528  2028.54  -2.66 -0.13  2047.08  2054.52  2003.75"
      ]
     },
     "execution_count": 10,
     "metadata": {},
     "output_type": "execute_result"
    }
   ],
   "source": [
    "kospi_df = pd.DataFrame(data)\n",
    "kospi_df.tail()"
   ]
  },
  {
   "cell_type": "code",
   "execution_count": 11,
   "metadata": {},
   "outputs": [],
   "source": [
    "# function\n",
    "def get_stock_data_crawler(code, page_size=20, page=1):\n",
    "    url = \"https://m.stock.naver.com/api/json/sise/\\\n",
    "dailySiseIndexListJson.nhn?code={}&pageSize={}&page={}\".format(code, page_size, page)\n",
    "    response = requests.get(url)\n",
    "    data = response.json()[\"result\"][\"siseList\"]\n",
    "    return pd.DataFrame(data)"
   ]
  },
  {
   "cell_type": "code",
   "execution_count": 17,
   "metadata": {},
   "outputs": [
    {
     "data": {
      "text/html": [
       "<div>\n",
       "<style scoped>\n",
       "    .dataframe tbody tr th:only-of-type {\n",
       "        vertical-align: middle;\n",
       "    }\n",
       "\n",
       "    .dataframe tbody tr th {\n",
       "        vertical-align: top;\n",
       "    }\n",
       "\n",
       "    .dataframe thead th {\n",
       "        text-align: right;\n",
       "    }\n",
       "</style>\n",
       "<table border=\"1\" class=\"dataframe\">\n",
       "  <thead>\n",
       "    <tr style=\"text-align: right;\">\n",
       "      <th></th>\n",
       "      <th>cd</th>\n",
       "      <th>dt</th>\n",
       "      <th>ncv</th>\n",
       "      <th>cv</th>\n",
       "      <th>cr</th>\n",
       "      <th>ov</th>\n",
       "      <th>hv</th>\n",
       "      <th>lv</th>\n",
       "    </tr>\n",
       "  </thead>\n",
       "  <tbody>\n",
       "    <tr>\n",
       "      <th>15</th>\n",
       "      <td>KOSDAQ</td>\n",
       "      <td>20200603</td>\n",
       "      <td>737.66</td>\n",
       "      <td>-5.92</td>\n",
       "      <td>-0.80</td>\n",
       "      <td>749.49</td>\n",
       "      <td>750.14</td>\n",
       "      <td>734.63</td>\n",
       "    </tr>\n",
       "    <tr>\n",
       "      <th>16</th>\n",
       "      <td>KOSDAQ</td>\n",
       "      <td>20200602</td>\n",
       "      <td>743.58</td>\n",
       "      <td>7.86</td>\n",
       "      <td>1.07</td>\n",
       "      <td>737.67</td>\n",
       "      <td>743.70</td>\n",
       "      <td>735.06</td>\n",
       "    </tr>\n",
       "    <tr>\n",
       "      <th>17</th>\n",
       "      <td>KOSDAQ</td>\n",
       "      <td>20200601</td>\n",
       "      <td>735.72</td>\n",
       "      <td>22.04</td>\n",
       "      <td>3.09</td>\n",
       "      <td>716.96</td>\n",
       "      <td>735.72</td>\n",
       "      <td>716.83</td>\n",
       "    </tr>\n",
       "    <tr>\n",
       "      <th>18</th>\n",
       "      <td>KOSDAQ</td>\n",
       "      <td>20200529</td>\n",
       "      <td>713.68</td>\n",
       "      <td>4.93</td>\n",
       "      <td>0.70</td>\n",
       "      <td>706.16</td>\n",
       "      <td>714.51</td>\n",
       "      <td>700.84</td>\n",
       "    </tr>\n",
       "    <tr>\n",
       "      <th>19</th>\n",
       "      <td>KOSDAQ</td>\n",
       "      <td>20200528</td>\n",
       "      <td>708.75</td>\n",
       "      <td>-15.84</td>\n",
       "      <td>-2.19</td>\n",
       "      <td>728.76</td>\n",
       "      <td>728.80</td>\n",
       "      <td>695.30</td>\n",
       "    </tr>\n",
       "  </tbody>\n",
       "</table>\n",
       "</div>"
      ],
      "text/plain": [
       "        cd        dt     ncv     cv    cr      ov      hv      lv\n",
       "15  KOSDAQ  20200603  737.66  -5.92 -0.80  749.49  750.14  734.63\n",
       "16  KOSDAQ  20200602  743.58   7.86  1.07  737.67  743.70  735.06\n",
       "17  KOSDAQ  20200601  735.72  22.04  3.09  716.96  735.72  716.83\n",
       "18  KOSDAQ  20200529  713.68   4.93  0.70  706.16  714.51  700.84\n",
       "19  KOSDAQ  20200528  708.75 -15.84 -2.19  728.76  728.80  695.30"
      ]
     },
     "execution_count": 17,
     "metadata": {},
     "output_type": "execute_result"
    }
   ],
   "source": [
    "# KOSDAQ TEST\n",
    "kosdaq = get_stock_data_crawler(\"KOSDAQ\")\n",
    "kosdaq.tail()"
   ]
  },
  {
   "cell_type": "code",
   "execution_count": 18,
   "metadata": {},
   "outputs": [
    {
     "data": {
      "text/html": [
       "<div>\n",
       "<style scoped>\n",
       "    .dataframe tbody tr th:only-of-type {\n",
       "        vertical-align: middle;\n",
       "    }\n",
       "\n",
       "    .dataframe tbody tr th {\n",
       "        vertical-align: top;\n",
       "    }\n",
       "\n",
       "    .dataframe thead th {\n",
       "        text-align: right;\n",
       "    }\n",
       "</style>\n",
       "<table border=\"1\" class=\"dataframe\">\n",
       "  <thead>\n",
       "    <tr style=\"text-align: right;\">\n",
       "      <th></th>\n",
       "      <th>cd</th>\n",
       "      <th>dt</th>\n",
       "      <th>ncv</th>\n",
       "      <th>cv</th>\n",
       "      <th>cr</th>\n",
       "      <th>ov</th>\n",
       "      <th>hv</th>\n",
       "      <th>lv</th>\n",
       "    </tr>\n",
       "  </thead>\n",
       "  <tbody>\n",
       "    <tr>\n",
       "      <th>95</th>\n",
       "      <td>KOSPI</td>\n",
       "      <td>20200206</td>\n",
       "      <td>2227.94</td>\n",
       "      <td>62.31</td>\n",
       "      <td>2.88</td>\n",
       "      <td>2184.77</td>\n",
       "      <td>2229.99</td>\n",
       "      <td>2182.25</td>\n",
       "    </tr>\n",
       "    <tr>\n",
       "      <th>96</th>\n",
       "      <td>KOSPI</td>\n",
       "      <td>20200205</td>\n",
       "      <td>2165.63</td>\n",
       "      <td>7.73</td>\n",
       "      <td>0.36</td>\n",
       "      <td>2177.26</td>\n",
       "      <td>2181.52</td>\n",
       "      <td>2154.88</td>\n",
       "    </tr>\n",
       "    <tr>\n",
       "      <th>97</th>\n",
       "      <td>KOSPI</td>\n",
       "      <td>20200204</td>\n",
       "      <td>2157.90</td>\n",
       "      <td>39.02</td>\n",
       "      <td>1.84</td>\n",
       "      <td>2121.22</td>\n",
       "      <td>2162.32</td>\n",
       "      <td>2120.53</td>\n",
       "    </tr>\n",
       "    <tr>\n",
       "      <th>98</th>\n",
       "      <td>KOSPI</td>\n",
       "      <td>20200203</td>\n",
       "      <td>2118.88</td>\n",
       "      <td>-0.13</td>\n",
       "      <td>-0.01</td>\n",
       "      <td>2086.61</td>\n",
       "      <td>2126.73</td>\n",
       "      <td>2082.74</td>\n",
       "    </tr>\n",
       "    <tr>\n",
       "      <th>99</th>\n",
       "      <td>KOSPI</td>\n",
       "      <td>20200131</td>\n",
       "      <td>2119.01</td>\n",
       "      <td>-28.99</td>\n",
       "      <td>-1.35</td>\n",
       "      <td>2160.60</td>\n",
       "      <td>2167.23</td>\n",
       "      <td>2119.01</td>\n",
       "    </tr>\n",
       "  </tbody>\n",
       "</table>\n",
       "</div>"
      ],
      "text/plain": [
       "       cd        dt      ncv     cv    cr       ov       hv       lv\n",
       "95  KOSPI  20200206  2227.94  62.31  2.88  2184.77  2229.99  2182.25\n",
       "96  KOSPI  20200205  2165.63   7.73  0.36  2177.26  2181.52  2154.88\n",
       "97  KOSPI  20200204  2157.90  39.02  1.84  2121.22  2162.32  2120.53\n",
       "98  KOSPI  20200203  2118.88  -0.13 -0.01  2086.61  2126.73  2082.74\n",
       "99  KOSPI  20200131  2119.01 -28.99 -1.35  2160.60  2167.23  2119.01"
      ]
     },
     "execution_count": 18,
     "metadata": {},
     "output_type": "execute_result"
    }
   ],
   "source": [
    "# KOSPI TEST\n",
    "kospi = get_stock_data_crawler(\"KOSPI\", 100)\n",
    "kospi.tail()"
   ]
  },
  {
   "cell_type": "markdown",
   "metadata": {},
   "source": [
    "# make WTI Crawling function"
   ]
  },
  {
   "cell_type": "code",
   "execution_count": 35,
   "metadata": {},
   "outputs": [
    {
     "name": "stdout",
     "output_type": "stream",
     "text": [
      "https://m.stock.naver.com/api/json/marketindex/marketIndexDay.nhn?marketIndexCd=OIL_CL&pageSize=20&page=1\n"
     ]
    }
   ],
   "source": [
    "## USD Crawling\n",
    "### 1. url analysis\n",
    "marketIndexCd, pageSize, page = \"OIL_CL\", 20, 1\n",
    "\n",
    "url = \"https://m.stock.naver.com/api/json/marketindex/\\\n",
    "marketIndexDay.nhn?marketIndexCd={}&pageSize={}&page={}\".format(marketIndexCd, pageSize, page)\n",
    "\n",
    "print(url)"
   ]
  },
  {
   "cell_type": "code",
   "execution_count": 36,
   "metadata": {},
   "outputs": [
    {
     "data": {
      "text/plain": [
       "<Response [200]>"
      ]
     },
     "execution_count": 36,
     "metadata": {},
     "output_type": "execute_result"
    }
   ],
   "source": [
    "response = requests.get(url)\n",
    "response"
   ]
  },
  {
   "cell_type": "code",
   "execution_count": 37,
   "metadata": {},
   "outputs": [
    {
     "data": {
      "text/plain": [
       "'{\"result\":{\"errorMessage\":\"로그인이 필요한 서비스 입니다.\\\\n로그인 하시겠습니까?\",\"errorCode\":\"authenticationFail\"},\"resultCode\":\"error\"}'"
      ]
     },
     "execution_count": 37,
     "metadata": {},
     "output_type": "execute_result"
    }
   ],
   "source": [
    "response.text # need a login massage! cookie check!!"
   ]
  },
  {
   "cell_type": "code",
   "execution_count": 41,
   "metadata": {},
   "outputs": [
    {
     "data": {
      "text/plain": [
       "<Response [200]>"
      ]
     },
     "execution_count": 41,
     "metadata": {},
     "output_type": "execute_result"
    }
   ],
   "source": [
    "# add cookie \n",
    "params = { \"cookie\" : \"XSRF-TOKEN=f51022aa-ae62-4516-8fa8-63c6441f54c8; NNB=75ZZCSD3VLZF4; JSESSIONID=86A0D7DAB269412831AE4D3523679138; BMR=\"\n",
    "    \n",
    "}\n",
    "response = requests.get(url, headers = params)\n",
    "response"
   ]
  },
  {
   "cell_type": "code",
   "execution_count": 42,
   "metadata": {},
   "outputs": [
    {
     "data": {
      "text/plain": [
       "'{\"result\":{\"errorMessage\":\"로그인이 필요한 서비스 입니다.\\\\n로그인 하시겠습니까?\",\"errorCode\":\"authenticationFail\"},\"resultCode\":\"error\"}'"
      ]
     },
     "execution_count": 42,
     "metadata": {},
     "output_type": "execute_result"
    }
   ],
   "source": [
    "response.text"
   ]
  },
  {
   "cell_type": "code",
   "execution_count": null,
   "metadata": {},
   "outputs": [],
   "source": []
  }
 ],
 "metadata": {
  "kernelspec": {
   "display_name": "Python 3",
   "language": "python",
   "name": "python3"
  },
  "language_info": {
   "codemirror_mode": {
    "name": "ipython",
    "version": 3
   },
   "file_extension": ".py",
   "mimetype": "text/x-python",
   "name": "python",
   "nbconvert_exporter": "python",
   "pygments_lexer": "ipython3",
   "version": "3.7.4"
  }
 },
 "nbformat": 4,
 "nbformat_minor": 4
}
