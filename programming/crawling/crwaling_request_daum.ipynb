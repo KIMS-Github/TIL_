{
 "cells": [
  {
   "cell_type": "markdown",
   "metadata": {},
   "source": [
    "# 다음환율정보 크롤링 / 블럭이 있을때 클롤링 방법"
   ]
  },
  {
   "cell_type": "code",
   "execution_count": 6,
   "metadata": {},
   "outputs": [
    {
     "data": {
      "text/plain": [
       "<Response [403]>"
      ]
     },
     "execution_count": 6,
     "metadata": {},
     "output_type": "execute_result"
    }
   ],
   "source": [
    "url = \"https://finance.daum.net/api/exchanges/summaries\"\n",
    "response = requests.get(url)\n",
    "response # 403 error occur"
   ]
  },
  {
   "cell_type": "markdown",
   "metadata": {},
   "source": [
    "## 유저에이전트 정보와 레퍼러 파이썬으로 들어가는 바람에 크롤링이 되지 않음\n",
    "다음사이트 샘플: \n",
    "user-agent: Mozilla/5.0 (Macintosh; Intel Mac OS X 10_15_5) AppleWebKit/537.36 (KHTML, like Gecko) Chrome/83.0.4103.106 Safari/537.36"
   ]
  },
  {
   "cell_type": "markdown",
   "metadata": {},
   "source": [
    "# solution :  크롬브라우저의 정상요청처럼 보이도록 바꿔줘야함\n",
    "fake_useragent \n",
    "- pip install fake-useragent"
   ]
  },
  {
   "cell_type": "code",
   "execution_count": 8,
   "metadata": {},
   "outputs": [],
   "source": [
    "from fake_useragent import UserAgent # class object"
   ]
  },
  {
   "cell_type": "code",
   "execution_count": 12,
   "metadata": {},
   "outputs": [
    {
     "data": {
      "text/plain": [
       "'Mozilla/5.0 (Windows NT 6.1; WOW64) AppleWebKit/537.36 (KHTML, like Gecko) Chrome/31.0.1623.0 Safari/537.36'"
      ]
     },
     "execution_count": 12,
     "metadata": {},
     "output_type": "execute_result"
    }
   ],
   "source": [
    "UserAgent().chrome"
   ]
  },
  {
   "cell_type": "code",
   "execution_count": 16,
   "metadata": {},
   "outputs": [
    {
     "data": {
      "text/plain": [
       "<Response [200]>"
      ]
     },
     "execution_count": 16,
     "metadata": {},
     "output_type": "execute_result"
    }
   ],
   "source": [
    "headers = {\n",
    "    \"user-agent\": UserAgent().chrome, \n",
    "    \"referer\"   : \"http://finance.daum.net/exchanges\"\n",
    "}\n",
    "response = requests.get(url, headers = headers)\n",
    "response"
   ]
  },
  {
   "cell_type": "code",
   "execution_count": 18,
   "metadata": {},
   "outputs": [
    {
     "data": {
      "text/html": [
       "<div>\n",
       "<style scoped>\n",
       "    .dataframe tbody tr th:only-of-type {\n",
       "        vertical-align: middle;\n",
       "    }\n",
       "\n",
       "    .dataframe tbody tr th {\n",
       "        vertical-align: top;\n",
       "    }\n",
       "\n",
       "    .dataframe thead th {\n",
       "        text-align: right;\n",
       "    }\n",
       "</style>\n",
       "<table border=\"1\" class=\"dataframe\">\n",
       "  <thead>\n",
       "    <tr style=\"text-align: right;\">\n",
       "      <th></th>\n",
       "      <th>symbolCode</th>\n",
       "      <th>date</th>\n",
       "      <th>currencyCode</th>\n",
       "      <th>currencyName</th>\n",
       "      <th>currencyUnit</th>\n",
       "      <th>country</th>\n",
       "      <th>region</th>\n",
       "      <th>name</th>\n",
       "      <th>recurrenceCount</th>\n",
       "      <th>basePrice</th>\n",
       "      <th>...</th>\n",
       "      <th>changeRate</th>\n",
       "      <th>cashBuyingPrice</th>\n",
       "      <th>cashSellingPrice</th>\n",
       "      <th>ttBuyingPrice</th>\n",
       "      <th>ttSellingPrice</th>\n",
       "      <th>tcBuyingPrice</th>\n",
       "      <th>fcSellingPrice</th>\n",
       "      <th>exchangeCommission</th>\n",
       "      <th>usDollarRate</th>\n",
       "      <th>chartImageUrl</th>\n",
       "    </tr>\n",
       "  </thead>\n",
       "  <tbody>\n",
       "    <tr>\n",
       "      <th>0</th>\n",
       "      <td>FRX.KRWUSD</td>\n",
       "      <td>2020-06-23 09:27:33</td>\n",
       "      <td>USD</td>\n",
       "      <td>달러</td>\n",
       "      <td>1</td>\n",
       "      <td>미국</td>\n",
       "      <td>{'korName': '아메리카', 'engName': 'America'}</td>\n",
       "      <td>미국 (KRW/USD)</td>\n",
       "      <td>61</td>\n",
       "      <td>1206.20</td>\n",
       "      <td>...</td>\n",
       "      <td>0.006425</td>\n",
       "      <td>1227.30</td>\n",
       "      <td>1185.10</td>\n",
       "      <td>1194.40</td>\n",
       "      <td>1218.00</td>\n",
       "      <td>None</td>\n",
       "      <td>None</td>\n",
       "      <td>2.0348</td>\n",
       "      <td>1.0000</td>\n",
       "      <td>{'day': 'https://t1.daumcdn.net/finance/chart/...</td>\n",
       "    </tr>\n",
       "    <tr>\n",
       "      <th>1</th>\n",
       "      <td>FRX.KRWJPY</td>\n",
       "      <td>2020-06-23 09:27:32</td>\n",
       "      <td>JPY</td>\n",
       "      <td>엔</td>\n",
       "      <td>100</td>\n",
       "      <td>일본</td>\n",
       "      <td>{'korName': '아시아', 'engName': 'Asia'}</td>\n",
       "      <td>일본 (KRW/JPY100)</td>\n",
       "      <td>61</td>\n",
       "      <td>1127.92</td>\n",
       "      <td>...</td>\n",
       "      <td>0.006938</td>\n",
       "      <td>1147.65</td>\n",
       "      <td>1108.19</td>\n",
       "      <td>1116.87</td>\n",
       "      <td>1138.97</td>\n",
       "      <td>None</td>\n",
       "      <td>None</td>\n",
       "      <td>1.8707</td>\n",
       "      <td>0.9351</td>\n",
       "      <td>{'day': 'https://t1.daumcdn.net/finance/chart/...</td>\n",
       "    </tr>\n",
       "    <tr>\n",
       "      <th>2</th>\n",
       "      <td>FRX.KRWCNY</td>\n",
       "      <td>2020-06-23 09:27:32</td>\n",
       "      <td>CNY</td>\n",
       "      <td>위안</td>\n",
       "      <td>1</td>\n",
       "      <td>중국</td>\n",
       "      <td>{'korName': '아시아', 'engName': 'Asia'}</td>\n",
       "      <td>중국 (KRW/CNY)</td>\n",
       "      <td>61</td>\n",
       "      <td>170.88</td>\n",
       "      <td>...</td>\n",
       "      <td>0.005008</td>\n",
       "      <td>179.42</td>\n",
       "      <td>162.34</td>\n",
       "      <td>169.18</td>\n",
       "      <td>172.58</td>\n",
       "      <td>None</td>\n",
       "      <td>None</td>\n",
       "      <td>4.4565</td>\n",
       "      <td>0.1417</td>\n",
       "      <td>{'day': 'https://t1.daumcdn.net/finance/chart/...</td>\n",
       "    </tr>\n",
       "    <tr>\n",
       "      <th>3</th>\n",
       "      <td>FRX.KRWEUR</td>\n",
       "      <td>2020-06-23 09:27:32</td>\n",
       "      <td>EUR</td>\n",
       "      <td>유로</td>\n",
       "      <td>1</td>\n",
       "      <td>유로</td>\n",
       "      <td>{'korName': '유럽', 'engName': 'Europe'}</td>\n",
       "      <td>유로 (KRW/EUR)</td>\n",
       "      <td>61</td>\n",
       "      <td>1359.75</td>\n",
       "      <td>...</td>\n",
       "      <td>0.001821</td>\n",
       "      <td>1386.80</td>\n",
       "      <td>1332.70</td>\n",
       "      <td>1346.16</td>\n",
       "      <td>1373.34</td>\n",
       "      <td>None</td>\n",
       "      <td>None</td>\n",
       "      <td>1.4816</td>\n",
       "      <td>1.1273</td>\n",
       "      <td>{'day': 'https://t1.daumcdn.net/finance/chart/...</td>\n",
       "    </tr>\n",
       "    <tr>\n",
       "      <th>4</th>\n",
       "      <td>FRX.KRWGBP</td>\n",
       "      <td>2020-06-23 09:27:32</td>\n",
       "      <td>GBP</td>\n",
       "      <td>파운드</td>\n",
       "      <td>1</td>\n",
       "      <td>영국</td>\n",
       "      <td>{'korName': '유럽', 'engName': 'Europe'}</td>\n",
       "      <td>영국 (KRW/GBP)</td>\n",
       "      <td>61</td>\n",
       "      <td>1506.54</td>\n",
       "      <td>...</td>\n",
       "      <td>0.000983</td>\n",
       "      <td>1536.21</td>\n",
       "      <td>1476.87</td>\n",
       "      <td>1491.48</td>\n",
       "      <td>1521.60</td>\n",
       "      <td>None</td>\n",
       "      <td>None</td>\n",
       "      <td>2.0765</td>\n",
       "      <td>1.2490</td>\n",
       "      <td>{'day': 'https://t1.daumcdn.net/finance/chart/...</td>\n",
       "    </tr>\n",
       "  </tbody>\n",
       "</table>\n",
       "<p>5 rows × 22 columns</p>\n",
       "</div>"
      ],
      "text/plain": [
       "   symbolCode                 date currencyCode currencyName  currencyUnit  \\\n",
       "0  FRX.KRWUSD  2020-06-23 09:27:33          USD           달러             1   \n",
       "1  FRX.KRWJPY  2020-06-23 09:27:32          JPY            엔           100   \n",
       "2  FRX.KRWCNY  2020-06-23 09:27:32          CNY           위안             1   \n",
       "3  FRX.KRWEUR  2020-06-23 09:27:32          EUR           유로             1   \n",
       "4  FRX.KRWGBP  2020-06-23 09:27:32          GBP          파운드             1   \n",
       "\n",
       "  country                                     region             name  \\\n",
       "0      미국  {'korName': '아메리카', 'engName': 'America'}     미국 (KRW/USD)   \n",
       "1      일본      {'korName': '아시아', 'engName': 'Asia'}  일본 (KRW/JPY100)   \n",
       "2      중국      {'korName': '아시아', 'engName': 'Asia'}     중국 (KRW/CNY)   \n",
       "3      유로     {'korName': '유럽', 'engName': 'Europe'}     유로 (KRW/EUR)   \n",
       "4      영국     {'korName': '유럽', 'engName': 'Europe'}     영국 (KRW/GBP)   \n",
       "\n",
       "   recurrenceCount  basePrice  ... changeRate  cashBuyingPrice  \\\n",
       "0               61    1206.20  ...   0.006425          1227.30   \n",
       "1               61    1127.92  ...   0.006938          1147.65   \n",
       "2               61     170.88  ...   0.005008           179.42   \n",
       "3               61    1359.75  ...   0.001821          1386.80   \n",
       "4               61    1506.54  ...   0.000983          1536.21   \n",
       "\n",
       "   cashSellingPrice  ttBuyingPrice  ttSellingPrice  tcBuyingPrice  \\\n",
       "0           1185.10        1194.40         1218.00           None   \n",
       "1           1108.19        1116.87         1138.97           None   \n",
       "2            162.34         169.18          172.58           None   \n",
       "3           1332.70        1346.16         1373.34           None   \n",
       "4           1476.87        1491.48         1521.60           None   \n",
       "\n",
       "   fcSellingPrice exchangeCommission usDollarRate  \\\n",
       "0            None             2.0348       1.0000   \n",
       "1            None             1.8707       0.9351   \n",
       "2            None             4.4565       0.1417   \n",
       "3            None             1.4816       1.1273   \n",
       "4            None             2.0765       1.2490   \n",
       "\n",
       "                                       chartImageUrl  \n",
       "0  {'day': 'https://t1.daumcdn.net/finance/chart/...  \n",
       "1  {'day': 'https://t1.daumcdn.net/finance/chart/...  \n",
       "2  {'day': 'https://t1.daumcdn.net/finance/chart/...  \n",
       "3  {'day': 'https://t1.daumcdn.net/finance/chart/...  \n",
       "4  {'day': 'https://t1.daumcdn.net/finance/chart/...  \n",
       "\n",
       "[5 rows x 22 columns]"
      ]
     },
     "execution_count": 18,
     "metadata": {},
     "output_type": "execute_result"
    }
   ],
   "source": [
    "data = response.json()[\"data\"]\n",
    "result_df = pd.DataFrame(data)\n",
    "result_df.head()"
   ]
  },
  {
   "cell_type": "raw",
   "metadata": {},
   "source": [
    "* api차단 정책 :\n",
    "    특정시간당 요청횟수 \n",
    "    "
   ]
  },
  {
   "cell_type": "code",
   "execution_count": null,
   "metadata": {},
   "outputs": [],
   "source": []
  }
 ],
 "metadata": {
  "kernelspec": {
   "display_name": "Python 3",
   "language": "python",
   "name": "python3"
  },
  "language_info": {
   "codemirror_mode": {
    "name": "ipython",
    "version": 3
   },
   "file_extension": ".py",
   "mimetype": "text/x-python",
   "name": "python",
   "nbconvert_exporter": "python",
   "pygments_lexer": "ipython3",
   "version": "3.7.4"
  }
 },
 "nbformat": 4,
 "nbformat_minor": 4
}
