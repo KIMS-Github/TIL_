{
 "cells": [
  {
   "cell_type": "code",
   "execution_count": 18,
   "metadata": {},
   "outputs": [],
   "source": [
    "import scrapy\n",
    "import requests\n",
    "from scrapy.http import TextResponse\n",
    "from fake_useragent import UserAgent"
   ]
  },
  {
   "cell_type": "markdown",
   "metadata": {},
   "source": [
    "# Crawling Poject : NAVER MOVIE Data\n",
    "\n",
    "- 네이버의 영화 장르별 데이터 크롤링\n",
    "    - 네이버 영화디렉토리 URL \n",
    "        - 네이버영화디렉토리 페이지 URL : https://movie.naver.com/movie/sdb/browsing/bmovie.nhn?genre=19\n",
    "        \n",
    "- 수집 카테고리 : 애니메이션, 액션, 판타지, 드라마, 다큐멘터리, 공포, 에로, 코미디\n",
    "    - 총 115150편\n",
    "    - 영화제목, 주요정보, 별점, 댓글:최근 1~5페이지"
   ]
  },
  {
   "cell_type": "code",
   "execution_count": 19,
   "metadata": {},
   "outputs": [],
   "source": [
    "!rm -rf navermovie"
   ]
  },
  {
   "cell_type": "code",
   "execution_count": 20,
   "metadata": {
    "scrolled": true
   },
   "outputs": [
    {
     "name": "stdout",
     "output_type": "stream",
     "text": [
      "New Scrapy project 'navermovie', using template directory '/Users/jhkim/opt/miniconda3/lib/python3.7/site-packages/scrapy/templates/project', created in:\n",
      "    /Users/jhkim/Documents/dev/TIL_/navermovie\n",
      "\n",
      "You can start your first spider with:\n",
      "    cd navermovie\n",
      "    scrapy genspider example example.com\n"
     ]
    }
   ],
   "source": [
    "!scrapy startproject navermovie"
   ]
  },
  {
   "cell_type": "code",
   "execution_count": 33,
   "metadata": {},
   "outputs": [
    {
     "name": "stdout",
     "output_type": "stream",
     "text": [
      "Overwriting navermovie/navermovie/items.py\n"
     ]
    }
   ],
   "source": [
    "%%writefile navermovie/navermovie/items.py\n",
    "import scrapy\n",
    "\n",
    "\n",
    "class NavermovieItem(scrapy.Item):\n",
    "    title = scrapy.Field()\n",
    "    story = scrapy.Field()\n",
    "    ntz_star = scrapy.Field()\n",
    "    review = scrapy.Field()"
   ]
  },
  {
   "cell_type": "code",
   "execution_count": 22,
   "metadata": {},
   "outputs": [
    {
     "data": {
      "text/plain": [
       "<200 https://movie.naver.com/movie/sdb/browsing/bmovie.nhn?genre=19&page=1>"
      ]
     },
     "execution_count": 22,
     "metadata": {},
     "output_type": "execute_result"
    }
   ],
   "source": [
    "url = \"https://movie.naver.com/movie/sdb/browsing/bmovie.nhn?genre=19&page=1\"\n",
    "\n",
    "req = requests.get(url)\n",
    "response = TextResponse(req.url, body=req.text, encoding=\"utf-8\")\n",
    "\n",
    "# url = \"https://movie.naver.com/movie/sdb/browsing/bmovie.nhn?genre=19&page=1\"\n",
    "# headers = {\"User-Agent\": UserAgent().chrome,\n",
    "#            \"cookie\": \"NRTK=ag#all_gr#1_ma#-2_si#0_en#0_sp#0; NNB=YEPGKPQZBHZV4; nx_ssl=2; MM_NEW=1; NFS=2; MM_NOW_COACH=1; NDARK=Y; _ga=GA1.1.233025110.1593324245; _ga_7VKFYR6RV1=GS1.1.1594610477.8.1.1594610507.30; BMR=s=1594882753112&r=https%3A%2F%2Fm.blog.naver.com%2FPostView.nhn%3FblogId%3Dssdyka%26logNo%3D221494190411%26proxyReferer%3Dhttps%3A%252F%252Fwww.google.com%252F&r2=https%3A%2F%2Fwww.google.com%2F; NM_THUMB_PROMOTION_BLOCK=Y; page_uid=UxnXadprvxssshvf9Vhssssst8V-486356; csrf_token=4a4558ed-1707-4101-a136-e1a770218613; JSESSIONID=6E2DB41908FBFD1080206961B1623C6C\"\n",
    "# }\n",
    "#req = requests.get(url, headers=headers)\n",
    "#response = TextResponse(req.url, body=req.text, encoding=\"utf-8\")\n",
    "response"
   ]
  },
  {
   "cell_type": "code",
   "execution_count": 23,
   "metadata": {},
   "outputs": [
    {
     "data": {
      "text/plain": [
       "20"
      ]
     },
     "execution_count": 23,
     "metadata": {},
     "output_type": "execute_result"
    }
   ],
   "source": [
    "links = response.xpath('//*[@id=\"old_content\"]/ul/li/a/@href').extract()\n",
    "len(links)"
   ]
  },
  {
   "cell_type": "code",
   "execution_count": 24,
   "metadata": {},
   "outputs": [
    {
     "data": {
      "text/plain": [
       "'https://movie.naver.com/movie/bi/mi/basic.nhn?code=10157'"
      ]
     },
     "execution_count": 24,
     "metadata": {},
     "output_type": "execute_result"
    }
   ],
   "source": [
    "link = response.urljoin(links[0])\n",
    "link"
   ]
  },
  {
   "cell_type": "code",
   "execution_count": 25,
   "metadata": {},
   "outputs": [],
   "source": [
    "# 영화 상세데이터 수집"
   ]
  },
  {
   "cell_type": "code",
   "execution_count": 26,
   "metadata": {},
   "outputs": [
    {
     "data": {
      "text/plain": [
       "<200 https://movie.naver.com/movie/bi/mi/basic.nhn?code=10157>"
      ]
     },
     "execution_count": 26,
     "metadata": {},
     "output_type": "execute_result"
    }
   ],
   "source": [
    "req = requests.get(link)\n",
    "response = TextResponse(req.url, body=req.text, encoding=\"utf-8\")\n",
    "response"
   ]
  },
  {
   "cell_type": "code",
   "execution_count": 27,
   "metadata": {},
   "outputs": [
    {
     "data": {
      "text/plain": [
       "('007 골드핑거',\n",
       " '영국 국적의 골드핑거(Auric Goldfinger: 거트 프로브 분)는 정식 금매매업자이며 국제 보석상이다. 그가 보유하고 있는 영국의 상당량의 금을 외국으로 반출시킨다는 정보는 있으나 증거가 없는 영국 은행에서는 007(James Bond: 숀 코넬리 분)에게 증거를 찾도록 M(M: 버나드 리 분)을 통해 임무를 내린다. 명령을 받은 007은 그에게 접근하여 두번의 골탕과 금전적 손실을 입히나 그 대가로 매스터슨(Jill Masterson: 셜리 엣톤 분 / Tilly Masterson: 타니아 말렛 분) 자매가 죽음을 당한다. 제네바까지 쫓아간 007은 골드핑거의 고급승용차인 롤스로이스 팬텀 3의 보디를 금으로 만들어 밀수한다는 사실을 알아낸다. 허나 그 와중에 007은 잡히게 되고 레이저의 위협도 받게 되는데.',\n",
       " '7.41',\n",
       " '역대 007영화 중 최고의 영화')"
      ]
     },
     "execution_count": 27,
     "metadata": {},
     "output_type": "execute_result"
    }
   ],
   "source": [
    "title = response.xpath('//*[@id=\"content\"]/div[1]/div[2]/div[1]/h3/a/text()').extract()[0]\n",
    "story = response.xpath('//*[@id=\"content\"]/div[1]/div[4]/div[1]/div/div/p/text()').extract()[0]\n",
    "ntz_star = response.xpath('//*[@id=\"pointNetizenPersentBasic\"]/em/text()').extract()\n",
    "ntz_star = \"\".join(ntz_star)\n",
    "review = response.xpath('//*[@id=\"content\"]/div[1]/div[4]/div[4]/div[2]/div[4]/ul/li[1]/div[2]/p/text()')[1].extract().strip()\n",
    "title, story, ntz_star, review"
   ]
  },
  {
   "cell_type": "code",
   "execution_count": 34,
   "metadata": {},
   "outputs": [
    {
     "name": "stdout",
     "output_type": "stream",
     "text": [
      "Overwriting navermovie/navermovie/spiders/spider.py\n"
     ]
    }
   ],
   "source": [
    "%%writefile navermovie/navermovie/spiders/spider.py\n",
    "\n",
    "import scrapy\n",
    "import requests\n",
    "\n",
    "from navermovie.items import NavermovieItem\n",
    "\n",
    "class NavermovieSpider(scrapy.Spider):\n",
    "    custom_settings = {\n",
    "        \"DOWNLOADER_MIDDLEWARES\": {\n",
    "            \"scrapy.downloadmiddlewares.useragent.UserAgentMiddleware\": None,\n",
    "            \"scrapy_fake_useragent.middleware.RandomUserAgentMiddleware\": 400,\n",
    "        }\n",
    "    }\n",
    "    \n",
    "    name = \"Navermovie\"\n",
    "    allow_domain = [\"https://movie.naver.com\"]\n",
    "    start_urls = [\"https://movie.naver.com/movie/sdb/browsing/bmovie.nhn?genre=19&page=1\"]\n",
    "    \n",
    "    def parse(self, response):\n",
    "        links = response.xpath('//*[@id=\"old_content\"]/ul/li/a/@href').extract()\n",
    "        links = list(map(lambda data:response.urljoin(data), links))\n",
    "        # 페이지별 링크 만들기\n",
    "        for link in links:\n",
    "            link = response.urljoin(link)\n",
    "            yield scrapy.Request(link, callback=self.parse_page)\n",
    "            \n",
    "    def parse_page(self, response):\n",
    "        links = response.xpath('//*[@id=\"old_content\"]/ul/li[1]/a/@href').extract()\n",
    "        links = list(map(lambda data:response.urljoin(data), links))\n",
    "        for link in links:\n",
    "            yield scrapy.Request(link, callback=self.parse_page_contents)\n",
    "\n",
    "    \n",
    "   \n",
    "    # 상세페이지에서 컨텐츠 가져오기            \n",
    "    def parse_page_contents(self, response):\n",
    "        item = NavermovieItem()\n",
    "        item[\"title\"] = response.xpath('//*[@id=\"content\"]/div[1]/div[2]/div[1]/h3/a/text()').extract()[0]\n",
    "        item[\"story\"] = response.xpath('//*[@id=\"content\"]/div[1]/div[4]/div[1]/div/div/p/text()').extract()[0]\n",
    "        item[\"ntz_star\"] = response.xpath('//*[@id=\"pointNetizenPersentBasic\"]/em/text()').extract()\n",
    "        ntz_star = \"\".join(ntz_star)\n",
    "        item[\"review\"] = response.xpath('//*[@id=\"content\"]/div[1]/div[4]/div[4]/div[2]/div[4]/ul/li[1]/div[2]/p/text()')[1].extract().strip()\n",
    "        yield item"
   ]
  },
  {
   "cell_type": "code",
   "execution_count": 35,
   "metadata": {},
   "outputs": [
    {
     "name": "stdout",
     "output_type": "stream",
     "text": [
      "Overwriting run.sh\n"
     ]
    }
   ],
   "source": [
    "%%writefile run.sh\n",
    "cd navermovie\n",
    "scrapy crawl Navermovie -o navermovie01.csv"
   ]
  },
  {
   "cell_type": "code",
   "execution_count": 37,
   "metadata": {},
   "outputs": [
    {
     "name": "stdout",
     "output_type": "stream",
     "text": [
      "2020-07-21 19:18:18 [scrapy.utils.log] INFO: Scrapy 1.6.0 started (bot: navermovie)\n",
      "2020-07-21 19:18:18 [scrapy.utils.log] INFO: Versions: lxml 4.5.0.0, libxml2 2.9.9, cssselect 1.1.0, parsel 1.5.2, w3lib 1.21.0, Twisted 19.10.0, Python 3.7.4 (default, Aug 13 2019, 15:17:50) - [Clang 4.0.1 (tags/RELEASE_401/final)], pyOpenSSL 19.1.0 (OpenSSL 1.1.1g  21 Apr 2020), cryptography 2.8, Platform Darwin-19.6.0-x86_64-i386-64bit\n",
      "2020-07-21 19:18:18 [scrapy.crawler] INFO: Overridden settings: {'BOT_NAME': 'navermovie', 'FEED_FORMAT': 'csv', 'FEED_URI': 'navermovie01.csv', 'NEWSPIDER_MODULE': 'navermovie.spiders', 'SPIDER_MODULES': ['navermovie.spiders']}\n",
      "2020-07-21 19:18:18 [scrapy.extensions.telnet] INFO: Telnet Password: 465ed8163ac6d806\n",
      "2020-07-21 19:18:18 [scrapy.middleware] INFO: Enabled extensions:\n",
      "['scrapy.extensions.corestats.CoreStats',\n",
      " 'scrapy.extensions.telnet.TelnetConsole',\n",
      " 'scrapy.extensions.memusage.MemoryUsage',\n",
      " 'scrapy.extensions.feedexport.FeedExporter',\n",
      " 'scrapy.extensions.logstats.LogStats']\n",
      "2020-07-21 19:18:18 [scrapy.middleware] INFO: Enabled downloader middlewares:\n",
      "['scrapy.downloadermiddlewares.httpauth.HttpAuthMiddleware',\n",
      " 'scrapy.downloadermiddlewares.downloadtimeout.DownloadTimeoutMiddleware',\n",
      " 'scrapy.downloadermiddlewares.defaultheaders.DefaultHeadersMiddleware',\n",
      " 'scrapy_fake_useragent.middleware.RandomUserAgentMiddleware',\n",
      " 'scrapy.downloadermiddlewares.useragent.UserAgentMiddleware',\n",
      " 'scrapy.downloadermiddlewares.retry.RetryMiddleware',\n",
      " 'scrapy.downloadermiddlewares.redirect.MetaRefreshMiddleware',\n",
      " 'scrapy.downloadermiddlewares.httpcompression.HttpCompressionMiddleware',\n",
      " 'scrapy.downloadermiddlewares.redirect.RedirectMiddleware',\n",
      " 'scrapy.downloadermiddlewares.cookies.CookiesMiddleware',\n",
      " 'scrapy.downloadermiddlewares.httpproxy.HttpProxyMiddleware',\n",
      " 'scrapy.downloadermiddlewares.stats.DownloaderStats']\n",
      "2020-07-21 19:18:18 [scrapy.middleware] INFO: Enabled spider middlewares:\n",
      "['scrapy.spidermiddlewares.httperror.HttpErrorMiddleware',\n",
      " 'scrapy.spidermiddlewares.offsite.OffsiteMiddleware',\n",
      " 'scrapy.spidermiddlewares.referer.RefererMiddleware',\n",
      " 'scrapy.spidermiddlewares.urllength.UrlLengthMiddleware',\n",
      " 'scrapy.spidermiddlewares.depth.DepthMiddleware']\n",
      "2020-07-21 19:18:18 [scrapy.middleware] INFO: Enabled item pipelines:\n",
      "[]\n",
      "2020-07-21 19:18:18 [scrapy.core.engine] INFO: Spider opened\n",
      "2020-07-21 19:18:18 [scrapy.extensions.logstats] INFO: Crawled 0 pages (at 0 pages/min), scraped 0 items (at 0 items/min)\n",
      "2020-07-21 19:18:18 [scrapy.extensions.telnet] INFO: Telnet console listening on 127.0.0.1:6023\n",
      "2020-07-21 19:18:18 [scrapy.core.engine] DEBUG: Crawled (200) <GET https://movie.naver.com/movie/sdb/browsing/bmovie.nhn?genre=19&page=1> (referer: None)\n",
      "2020-07-21 19:18:18 [scrapy.core.engine] DEBUG: Crawled (200) <GET https://movie.naver.com/movie/bi/mi/basic.nhn?code=10167> (referer: https://movie.naver.com/movie/sdb/browsing/bmovie.nhn?genre=19&page=1)\n",
      "2020-07-21 19:18:18 [scrapy.core.engine] DEBUG: Crawled (200) <GET https://movie.naver.com/movie/bi/mi/basic.nhn?code=34160> (referer: https://movie.naver.com/movie/sdb/browsing/bmovie.nhn?genre=19&page=1)\n",
      "2020-07-21 19:18:18 [scrapy.core.engine] DEBUG: Crawled (200) <GET https://movie.naver.com/movie/bi/mi/basic.nhn?code=10158> (referer: https://movie.naver.com/movie/sdb/browsing/bmovie.nhn?genre=19&page=1)\n",
      "2020-07-21 19:18:18 [scrapy.core.engine] DEBUG: Crawled (200) <GET https://movie.naver.com/movie/bi/mi/basic.nhn?code=10155> (referer: https://movie.naver.com/movie/sdb/browsing/bmovie.nhn?genre=19&page=1)\n",
      "2020-07-21 19:18:18 [scrapy.core.engine] DEBUG: Crawled (200) <GET https://movie.naver.com/movie/bi/mi/basic.nhn?code=27897> (referer: https://movie.naver.com/movie/sdb/browsing/bmovie.nhn?genre=19&page=1)\n",
      "2020-07-21 19:18:18 [scrapy.core.engine] DEBUG: Crawled (200) <GET https://movie.naver.com/movie/bi/mi/basic.nhn?code=99701> (referer: https://movie.naver.com/movie/sdb/browsing/bmovie.nhn?genre=19&page=1)\n",
      "2020-07-21 19:18:18 [scrapy.core.engine] DEBUG: Crawled (200) <GET https://movie.naver.com/movie/bi/mi/basic.nhn?code=10169> (referer: https://movie.naver.com/movie/sdb/browsing/bmovie.nhn?genre=19&page=1)\n",
      "2020-07-21 19:18:18 [scrapy.core.engine] DEBUG: Crawled (200) <GET https://movie.naver.com/movie/bi/mi/basic.nhn?code=70994> (referer: https://movie.naver.com/movie/sdb/browsing/bmovie.nhn?genre=19&page=1)\n",
      "2020-07-21 19:18:18 [scrapy.core.engine] DEBUG: Crawled (200) <GET https://movie.naver.com/movie/bi/mi/basic.nhn?code=10172> (referer: https://movie.naver.com/movie/sdb/browsing/bmovie.nhn?genre=19&page=1)\n",
      "2020-07-21 19:18:18 [scrapy.core.engine] DEBUG: Crawled (200) <GET https://movie.naver.com/movie/bi/mi/basic.nhn?code=10170> (referer: https://movie.naver.com/movie/sdb/browsing/bmovie.nhn?genre=19&page=1)\n",
      "2020-07-21 19:18:18 [scrapy.core.engine] DEBUG: Crawled (200) <GET https://movie.naver.com/movie/bi/mi/basic.nhn?code=10171> (referer: https://movie.naver.com/movie/sdb/browsing/bmovie.nhn?genre=19&page=1)\n",
      "2020-07-21 19:18:18 [scrapy.core.engine] DEBUG: Crawled (200) <GET https://movie.naver.com/movie/bi/mi/basic.nhn?code=17149> (referer: https://movie.naver.com/movie/sdb/browsing/bmovie.nhn?genre=19&page=1)\n",
      "2020-07-21 19:18:18 [scrapy.core.engine] DEBUG: Crawled (200) <GET https://movie.naver.com/movie/bi/mi/basic.nhn?code=10159> (referer: https://movie.naver.com/movie/sdb/browsing/bmovie.nhn?genre=19&page=1)\n",
      "2020-07-21 19:18:18 [scrapy.core.engine] DEBUG: Crawled (200) <GET https://movie.naver.com/movie/bi/mi/basic.nhn?code=10162> (referer: https://movie.naver.com/movie/sdb/browsing/bmovie.nhn?genre=19&page=1)\n",
      "2020-07-21 19:18:18 [scrapy.core.engine] DEBUG: Crawled (200) <GET https://movie.naver.com/movie/bi/mi/basic.nhn?code=65610> (referer: https://movie.naver.com/movie/sdb/browsing/bmovie.nhn?genre=19&page=1)\n",
      "2020-07-21 19:18:18 [scrapy.core.engine] DEBUG: Crawled (200) <GET https://movie.naver.com/movie/bi/mi/basic.nhn?code=99702> (referer: https://movie.naver.com/movie/sdb/browsing/bmovie.nhn?genre=19&page=1)\n",
      "2020-07-21 19:18:18 [scrapy.core.engine] DEBUG: Crawled (200) <GET https://movie.naver.com/movie/bi/mi/basic.nhn?code=10168> (referer: https://movie.naver.com/movie/sdb/browsing/bmovie.nhn?genre=19&page=1)\n",
      "2020-07-21 19:18:18 [scrapy.core.engine] DEBUG: Crawled (200) <GET https://movie.naver.com/movie/bi/mi/basic.nhn?code=42117> (referer: https://movie.naver.com/movie/sdb/browsing/bmovie.nhn?genre=19&page=1)\n",
      "2020-07-21 19:18:19 [scrapy.core.engine] DEBUG: Crawled (200) <GET https://movie.naver.com/movie/bi/mi/basic.nhn?code=10163> (referer: https://movie.naver.com/movie/sdb/browsing/bmovie.nhn?genre=19&page=1)\n",
      "2020-07-21 19:18:19 [scrapy.core.engine] DEBUG: Crawled (200) <GET https://movie.naver.com/movie/bi/mi/basic.nhn?code=10157> (referer: https://movie.naver.com/movie/sdb/browsing/bmovie.nhn?genre=19&page=1)\n",
      "2020-07-21 19:18:19 [scrapy.core.engine] INFO: Closing spider (finished)\n",
      "2020-07-21 19:18:19 [scrapy.statscollectors] INFO: Dumping Scrapy stats:\n",
      "{'downloader/request_bytes': 9680,\n",
      " 'downloader/request_count': 21,\n",
      " 'downloader/request_method_count/GET': 21,\n",
      " 'downloader/response_bytes': 616093,\n",
      " 'downloader/response_count': 21,\n",
      " 'downloader/response_status_count/200': 21,\n",
      " 'finish_reason': 'finished',\n",
      " 'finish_time': datetime.datetime(2020, 7, 21, 10, 18, 19, 195267),\n",
      " 'log_count/DEBUG': 21,\n",
      " 'log_count/INFO': 9,\n",
      " 'memusage/max': 55283712,\n",
      " 'memusage/startup': 55283712,\n",
      " 'request_depth_max': 1,\n",
      " 'response_received_count': 21,\n",
      " 'scheduler/dequeued': 21,\n",
      " 'scheduler/dequeued/memory': 21,\n",
      " 'scheduler/enqueued': 21,\n",
      " 'scheduler/enqueued/memory': 21,\n",
      " 'start_time': datetime.datetime(2020, 7, 21, 10, 18, 18, 328798)}\n",
      "2020-07-21 19:18:19 [scrapy.core.engine] INFO: Spider closed (finished)\n"
     ]
    }
   ],
   "source": [
    "!source run.sh"
   ]
  },
  {
   "cell_type": "code",
   "execution_count": 36,
   "metadata": {},
   "outputs": [
    {
     "name": "stdout",
     "output_type": "stream",
     "text": [
      "# Obey robots.txt rules\n",
      "ROBOTSTXT_OBEY = False\n",
      "\n",
      "# Configure maximum concurrent requests performed by Scrapy (default: 16)\n",
      "#CONCURRENT_REQUESTS = 32\n"
     ]
    }
   ],
   "source": [
    "!head -n 25 navermovie/navermovie/settings.py | tail -n 5"
   ]
  },
  {
   "cell_type": "code",
   "execution_count": 71,
   "metadata": {},
   "outputs": [
    {
     "name": "stdout",
     "output_type": "stream",
     "text": [
      "sed: 1: \"navermovie/navermovie/s ...\": extra characters at the end of n command\n"
     ]
    }
   ],
   "source": [
    "!sed -i 's/ROBOTSTXT_OBEY = True/ROBOTSTXT_OBEY = False/' navermovie/navermovie/settings.py"
   ]
  },
  {
   "cell_type": "code",
   "execution_count": 39,
   "metadata": {},
   "outputs": [
    {
     "ename": "EmptyDataError",
     "evalue": "No columns to parse from file",
     "output_type": "error",
     "traceback": [
      "\u001b[0;31m---------------------------------------------------------------------------\u001b[0m",
      "\u001b[0;31mEmptyDataError\u001b[0m                            Traceback (most recent call last)",
      "\u001b[0;32m<ipython-input-39-547919640192>\u001b[0m in \u001b[0;36m<module>\u001b[0;34m\u001b[0m\n\u001b[0;32m----> 1\u001b[0;31m \u001b[0mdf\u001b[0m \u001b[0;34m=\u001b[0m \u001b[0mpd\u001b[0m\u001b[0;34m.\u001b[0m\u001b[0mread_csv\u001b[0m\u001b[0;34m(\u001b[0m\u001b[0;34m\"navermovie/navermovie01.csv\"\u001b[0m\u001b[0;34m)\u001b[0m\u001b[0;34m\u001b[0m\u001b[0;34m\u001b[0m\u001b[0m\n\u001b[0m\u001b[1;32m      2\u001b[0m \u001b[0mdf\u001b[0m\u001b[0;34m.\u001b[0m\u001b[0mtail\u001b[0m\u001b[0;34m(\u001b[0m\u001b[0;36m2\u001b[0m\u001b[0;34m)\u001b[0m\u001b[0;34m\u001b[0m\u001b[0;34m\u001b[0m\u001b[0m\n",
      "\u001b[0;32m~/opt/miniconda3/lib/python3.7/site-packages/pandas/io/parsers.py\u001b[0m in \u001b[0;36mparser_f\u001b[0;34m(filepath_or_buffer, sep, delimiter, header, names, index_col, usecols, squeeze, prefix, mangle_dupe_cols, dtype, engine, converters, true_values, false_values, skipinitialspace, skiprows, skipfooter, nrows, na_values, keep_default_na, na_filter, verbose, skip_blank_lines, parse_dates, infer_datetime_format, keep_date_col, date_parser, dayfirst, cache_dates, iterator, chunksize, compression, thousands, decimal, lineterminator, quotechar, quoting, doublequote, escapechar, comment, encoding, dialect, error_bad_lines, warn_bad_lines, delim_whitespace, low_memory, memory_map, float_precision)\u001b[0m\n\u001b[1;32m    674\u001b[0m         )\n\u001b[1;32m    675\u001b[0m \u001b[0;34m\u001b[0m\u001b[0m\n\u001b[0;32m--> 676\u001b[0;31m         \u001b[0;32mreturn\u001b[0m \u001b[0m_read\u001b[0m\u001b[0;34m(\u001b[0m\u001b[0mfilepath_or_buffer\u001b[0m\u001b[0;34m,\u001b[0m \u001b[0mkwds\u001b[0m\u001b[0;34m)\u001b[0m\u001b[0;34m\u001b[0m\u001b[0;34m\u001b[0m\u001b[0m\n\u001b[0m\u001b[1;32m    677\u001b[0m \u001b[0;34m\u001b[0m\u001b[0m\n\u001b[1;32m    678\u001b[0m     \u001b[0mparser_f\u001b[0m\u001b[0;34m.\u001b[0m\u001b[0m__name__\u001b[0m \u001b[0;34m=\u001b[0m \u001b[0mname\u001b[0m\u001b[0;34m\u001b[0m\u001b[0;34m\u001b[0m\u001b[0m\n",
      "\u001b[0;32m~/opt/miniconda3/lib/python3.7/site-packages/pandas/io/parsers.py\u001b[0m in \u001b[0;36m_read\u001b[0;34m(filepath_or_buffer, kwds)\u001b[0m\n\u001b[1;32m    446\u001b[0m \u001b[0;34m\u001b[0m\u001b[0m\n\u001b[1;32m    447\u001b[0m     \u001b[0;31m# Create the parser.\u001b[0m\u001b[0;34m\u001b[0m\u001b[0;34m\u001b[0m\u001b[0;34m\u001b[0m\u001b[0m\n\u001b[0;32m--> 448\u001b[0;31m     \u001b[0mparser\u001b[0m \u001b[0;34m=\u001b[0m \u001b[0mTextFileReader\u001b[0m\u001b[0;34m(\u001b[0m\u001b[0mfp_or_buf\u001b[0m\u001b[0;34m,\u001b[0m \u001b[0;34m**\u001b[0m\u001b[0mkwds\u001b[0m\u001b[0;34m)\u001b[0m\u001b[0;34m\u001b[0m\u001b[0;34m\u001b[0m\u001b[0m\n\u001b[0m\u001b[1;32m    449\u001b[0m \u001b[0;34m\u001b[0m\u001b[0m\n\u001b[1;32m    450\u001b[0m     \u001b[0;32mif\u001b[0m \u001b[0mchunksize\u001b[0m \u001b[0;32mor\u001b[0m \u001b[0miterator\u001b[0m\u001b[0;34m:\u001b[0m\u001b[0;34m\u001b[0m\u001b[0;34m\u001b[0m\u001b[0m\n",
      "\u001b[0;32m~/opt/miniconda3/lib/python3.7/site-packages/pandas/io/parsers.py\u001b[0m in \u001b[0;36m__init__\u001b[0;34m(self, f, engine, **kwds)\u001b[0m\n\u001b[1;32m    878\u001b[0m             \u001b[0mself\u001b[0m\u001b[0;34m.\u001b[0m\u001b[0moptions\u001b[0m\u001b[0;34m[\u001b[0m\u001b[0;34m\"has_index_names\"\u001b[0m\u001b[0;34m]\u001b[0m \u001b[0;34m=\u001b[0m \u001b[0mkwds\u001b[0m\u001b[0;34m[\u001b[0m\u001b[0;34m\"has_index_names\"\u001b[0m\u001b[0;34m]\u001b[0m\u001b[0;34m\u001b[0m\u001b[0;34m\u001b[0m\u001b[0m\n\u001b[1;32m    879\u001b[0m \u001b[0;34m\u001b[0m\u001b[0m\n\u001b[0;32m--> 880\u001b[0;31m         \u001b[0mself\u001b[0m\u001b[0;34m.\u001b[0m\u001b[0m_make_engine\u001b[0m\u001b[0;34m(\u001b[0m\u001b[0mself\u001b[0m\u001b[0;34m.\u001b[0m\u001b[0mengine\u001b[0m\u001b[0;34m)\u001b[0m\u001b[0;34m\u001b[0m\u001b[0;34m\u001b[0m\u001b[0m\n\u001b[0m\u001b[1;32m    881\u001b[0m \u001b[0;34m\u001b[0m\u001b[0m\n\u001b[1;32m    882\u001b[0m     \u001b[0;32mdef\u001b[0m \u001b[0mclose\u001b[0m\u001b[0;34m(\u001b[0m\u001b[0mself\u001b[0m\u001b[0;34m)\u001b[0m\u001b[0;34m:\u001b[0m\u001b[0;34m\u001b[0m\u001b[0;34m\u001b[0m\u001b[0m\n",
      "\u001b[0;32m~/opt/miniconda3/lib/python3.7/site-packages/pandas/io/parsers.py\u001b[0m in \u001b[0;36m_make_engine\u001b[0;34m(self, engine)\u001b[0m\n\u001b[1;32m   1112\u001b[0m     \u001b[0;32mdef\u001b[0m \u001b[0m_make_engine\u001b[0m\u001b[0;34m(\u001b[0m\u001b[0mself\u001b[0m\u001b[0;34m,\u001b[0m \u001b[0mengine\u001b[0m\u001b[0;34m=\u001b[0m\u001b[0;34m\"c\"\u001b[0m\u001b[0;34m)\u001b[0m\u001b[0;34m:\u001b[0m\u001b[0;34m\u001b[0m\u001b[0;34m\u001b[0m\u001b[0m\n\u001b[1;32m   1113\u001b[0m         \u001b[0;32mif\u001b[0m \u001b[0mengine\u001b[0m \u001b[0;34m==\u001b[0m \u001b[0;34m\"c\"\u001b[0m\u001b[0;34m:\u001b[0m\u001b[0;34m\u001b[0m\u001b[0;34m\u001b[0m\u001b[0m\n\u001b[0;32m-> 1114\u001b[0;31m             \u001b[0mself\u001b[0m\u001b[0;34m.\u001b[0m\u001b[0m_engine\u001b[0m \u001b[0;34m=\u001b[0m \u001b[0mCParserWrapper\u001b[0m\u001b[0;34m(\u001b[0m\u001b[0mself\u001b[0m\u001b[0;34m.\u001b[0m\u001b[0mf\u001b[0m\u001b[0;34m,\u001b[0m \u001b[0;34m**\u001b[0m\u001b[0mself\u001b[0m\u001b[0;34m.\u001b[0m\u001b[0moptions\u001b[0m\u001b[0;34m)\u001b[0m\u001b[0;34m\u001b[0m\u001b[0;34m\u001b[0m\u001b[0m\n\u001b[0m\u001b[1;32m   1115\u001b[0m         \u001b[0;32melse\u001b[0m\u001b[0;34m:\u001b[0m\u001b[0;34m\u001b[0m\u001b[0;34m\u001b[0m\u001b[0m\n\u001b[1;32m   1116\u001b[0m             \u001b[0;32mif\u001b[0m \u001b[0mengine\u001b[0m \u001b[0;34m==\u001b[0m \u001b[0;34m\"python\"\u001b[0m\u001b[0;34m:\u001b[0m\u001b[0;34m\u001b[0m\u001b[0;34m\u001b[0m\u001b[0m\n",
      "\u001b[0;32m~/opt/miniconda3/lib/python3.7/site-packages/pandas/io/parsers.py\u001b[0m in \u001b[0;36m__init__\u001b[0;34m(self, src, **kwds)\u001b[0m\n\u001b[1;32m   1889\u001b[0m         \u001b[0mkwds\u001b[0m\u001b[0;34m[\u001b[0m\u001b[0;34m\"usecols\"\u001b[0m\u001b[0;34m]\u001b[0m \u001b[0;34m=\u001b[0m \u001b[0mself\u001b[0m\u001b[0;34m.\u001b[0m\u001b[0musecols\u001b[0m\u001b[0;34m\u001b[0m\u001b[0;34m\u001b[0m\u001b[0m\n\u001b[1;32m   1890\u001b[0m \u001b[0;34m\u001b[0m\u001b[0m\n\u001b[0;32m-> 1891\u001b[0;31m         \u001b[0mself\u001b[0m\u001b[0;34m.\u001b[0m\u001b[0m_reader\u001b[0m \u001b[0;34m=\u001b[0m \u001b[0mparsers\u001b[0m\u001b[0;34m.\u001b[0m\u001b[0mTextReader\u001b[0m\u001b[0;34m(\u001b[0m\u001b[0msrc\u001b[0m\u001b[0;34m,\u001b[0m \u001b[0;34m**\u001b[0m\u001b[0mkwds\u001b[0m\u001b[0;34m)\u001b[0m\u001b[0;34m\u001b[0m\u001b[0;34m\u001b[0m\u001b[0m\n\u001b[0m\u001b[1;32m   1892\u001b[0m         \u001b[0mself\u001b[0m\u001b[0;34m.\u001b[0m\u001b[0munnamed_cols\u001b[0m \u001b[0;34m=\u001b[0m \u001b[0mself\u001b[0m\u001b[0;34m.\u001b[0m\u001b[0m_reader\u001b[0m\u001b[0;34m.\u001b[0m\u001b[0munnamed_cols\u001b[0m\u001b[0;34m\u001b[0m\u001b[0;34m\u001b[0m\u001b[0m\n\u001b[1;32m   1893\u001b[0m \u001b[0;34m\u001b[0m\u001b[0m\n",
      "\u001b[0;32mpandas/_libs/parsers.pyx\u001b[0m in \u001b[0;36mpandas._libs.parsers.TextReader.__cinit__\u001b[0;34m()\u001b[0m\n",
      "\u001b[0;31mEmptyDataError\u001b[0m: No columns to parse from file"
     ]
    }
   ],
   "source": [
    "df = pd.read_csv(\"navermovie/navermovie01.csv\")\n",
    "df.tail(2)"
   ]
  },
  {
   "cell_type": "code",
   "execution_count": null,
   "metadata": {},
   "outputs": [],
   "source": []
  },
  {
   "cell_type": "code",
   "execution_count": null,
   "metadata": {},
   "outputs": [],
   "source": []
  },
  {
   "cell_type": "code",
   "execution_count": null,
   "metadata": {},
   "outputs": [],
   "source": []
  }
 ],
 "metadata": {
  "kernelspec": {
   "display_name": "Python 3",
   "language": "python",
   "name": "python3"
  },
  "language_info": {
   "codemirror_mode": {
    "name": "ipython",
    "version": 3
   },
   "file_extension": ".py",
   "mimetype": "text/x-python",
   "name": "python",
   "nbconvert_exporter": "python",
   "pygments_lexer": "ipython3",
   "version": "3.7.4"
  }
 },
 "nbformat": 4,
 "nbformat_minor": 4
}
