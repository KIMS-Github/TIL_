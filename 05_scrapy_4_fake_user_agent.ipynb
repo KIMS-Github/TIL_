{
 "cells": [
  {
   "cell_type": "markdown",
   "metadata": {},
   "source": [
    "### Playnomore\n",
    "- 가방, 옷, 악세사리 판매하는 쇼핑몰\n",
    "- http://playnomore.co.kr/"
   ]
  },
  {
   "cell_type": "code",
   "execution_count": 1,
   "metadata": {},
   "outputs": [],
   "source": [
    "import scrapy\n",
    "import requests\n",
    "from scrapy.http import TextResponse\n",
    "from fake_useragent import UserAgent"
   ]
  },
  {
   "cell_type": "code",
   "execution_count": 2,
   "metadata": {},
   "outputs": [],
   "source": [
    "# 1. 프로젝트 생성"
   ]
  },
  {
   "cell_type": "code",
   "execution_count": 3,
   "metadata": {},
   "outputs": [
    {
     "name": "stdout",
     "output_type": "stream",
     "text": [
      "Error: scrapy.cfg already exists in /Users/jhkim/Documents/dev/TIL_/playnomore\n"
     ]
    }
   ],
   "source": [
    "!scrapy startproject playnomore"
   ]
  },
  {
   "cell_type": "code",
   "execution_count": 4,
   "metadata": {},
   "outputs": [],
   "source": [
    "# 2. items.py 코드 작성"
   ]
  },
  {
   "cell_type": "code",
   "execution_count": 5,
   "metadata": {},
   "outputs": [
    {
     "name": "stdout",
     "output_type": "stream",
     "text": [
      "Overwriting playnomore/playnomore/items.py\n"
     ]
    }
   ],
   "source": [
    "%%writefile playnomore/playnomore/items.py\n",
    "import scrapy\n",
    "\n",
    "class PlaynomoreItem(scrapy.Item):\n",
    "    title = scrapy.Field()\n",
    "    price = scrapy.Field()\n",
    "    img = scrapy.Field()\n",
    "    link = scrapy.Field()"
   ]
  },
  {
   "cell_type": "code",
   "execution_count": 6,
   "metadata": {},
   "outputs": [],
   "source": [
    "# 3. xpath 찾기 : 링크, 상품 데이터"
   ]
  },
  {
   "cell_type": "code",
   "execution_count": 7,
   "metadata": {},
   "outputs": [],
   "source": [
    "# 링크"
   ]
  },
  {
   "cell_type": "code",
   "execution_count": 8,
   "metadata": {},
   "outputs": [
    {
     "data": {
      "text/plain": [
       "<200 http://playnomore.co.kr/category/bag/24/>"
      ]
     },
     "execution_count": 8,
     "metadata": {},
     "output_type": "execute_result"
    }
   ],
   "source": [
    "url = \"http://playnomore.co.kr/category/bag/24/\"\n",
    "# headers = {\"User-Agent\": \"Mozilla/5.0 (Macintosh; Intel Mac OS X 10_15_4) AppleWebKit/537.36 (KHTML, like Gecko) Chrome/83.0.4103.116 Safari/537.36\"}\n",
    "headers = {\"User-Agent\": UserAgent().chrome}\n",
    "req = requests.get(url, headers=headers)\n",
    "response = TextResponse(req.url, body=req.text, encoding=\"utf-8\")\n",
    "response"
   ]
  },
  {
   "cell_type": "code",
   "execution_count": 9,
   "metadata": {},
   "outputs": [
    {
     "data": {
      "text/plain": [
       "['http://playnomore.co.kr/product/detail.html?product_no=573&cate_no=24&display_group=1',\n",
       " 'http://playnomore.co.kr/product/detail.html?product_no=572&cate_no=24&display_group=1',\n",
       " 'http://playnomore.co.kr/product/detail.html?product_no=550&cate_no=24&display_group=1']"
      ]
     },
     "execution_count": 9,
     "metadata": {},
     "output_type": "execute_result"
    }
   ],
   "source": [
    "links = response.xpath('//*[@id=\"contents\"]/div[2]/div/ul/li/div[1]/a/@href').extract()\n",
    "links = list(map(lambda data:response.urljoin(data), links))\n",
    "links[:3]"
   ]
  },
  {
   "cell_type": "code",
   "execution_count": 10,
   "metadata": {},
   "outputs": [],
   "source": [
    "# 상세 데이터"
   ]
  },
  {
   "cell_type": "code",
   "execution_count": 11,
   "metadata": {},
   "outputs": [
    {
     "data": {
      "text/plain": [
       "<200 http://playnomore.co.kr/product/pre-order20off-micro-baguette-yellow-180/573/?cate_no=24&display_group=1>"
      ]
     },
     "execution_count": 11,
     "metadata": {},
     "output_type": "execute_result"
    }
   ],
   "source": [
    "url = \"http://playnomore.co.kr/product/pre-order20off-micro-baguette-yellow-180/573/?cate_no=24&display_group=1\"\n",
    "headers = {\"User-Agent\": UserAgent().chrome}\n",
    "req = requests.get(url, headers=headers)\n",
    "response = TextResponse(req.url, body=req.text, encoding=\"utf-8\")\n",
    "response"
   ]
  },
  {
   "cell_type": "code",
   "execution_count": 12,
   "metadata": {},
   "outputs": [
    {
     "data": {
      "text/plain": [
       "('[Pre-Order/20%off]  MICRO BAGUETTE  yellow ',\n",
       " '$ 144',\n",
       " 'http://playnomore.co.kr/web/product/small/20200407/43ec3b61d30531a05a3d727780c9b1f3.jpg')"
      ]
     },
     "execution_count": 12,
     "metadata": {},
     "output_type": "execute_result"
    }
   ],
   "source": [
    "title1 = response.xpath(\n",
    "    '//*[@id=\"contents\"]/div[1]/div[1]/div[2]/div[1]/font/text()')[0].extract()\n",
    "title2 = response.xpath(\n",
    "    '//*[@id=\"contents\"]/div[1]/div[1]/div[2]/div[1]/text()').extract()\n",
    "title = title1 + \" \".join(title2)\n",
    "price = response.xpath(\n",
    "    '//*[@id=\"contents\"]/div[1]/div[1]/div[2]/div[2]/text()')[0].extract()\n",
    "img = \"http:\" + response.xpath(\n",
    "    '//*[@id=\"contents\"]/div[1]/div[1]/div[1]/div[2]/ul/li[1]/img/@src')[0].extract()\n",
    "\n",
    "title, price, img"
   ]
  },
  {
   "cell_type": "code",
   "execution_count": 13,
   "metadata": {},
   "outputs": [],
   "source": [
    "# 4. spider.py 코드 작성 : fake user agent 설정"
   ]
  },
  {
   "cell_type": "code",
   "execution_count": 14,
   "metadata": {},
   "outputs": [
    {
     "name": "stdout",
     "output_type": "stream",
     "text": [
      "Requirement already satisfied: scrapy-fake-useragent in /Users/jhkim/opt/miniconda3/lib/python3.7/site-packages (1.2.0)\n",
      "Requirement already satisfied: fake-useragent in /Users/jhkim/opt/miniconda3/lib/python3.7/site-packages (from scrapy-fake-useragent) (0.1.11)\n"
     ]
    }
   ],
   "source": [
    "!pip install scrapy-fake-useragent"
   ]
  },
  {
   "cell_type": "code",
   "execution_count": 21,
   "metadata": {},
   "outputs": [
    {
     "name": "stdout",
     "output_type": "stream",
     "text": [
      "Overwriting playnomore/playnomore/spiders/spiders.py\n"
     ]
    }
   ],
   "source": [
    "%%writefile playnomore/playnomore/spiders/spiders.py\n",
    "import scrapy\n",
    "from playnomore.items import PlaynomoreItem\n",
    "\n",
    "class PlaynomoreSpider(scrapy.Spider):\n",
    "    name = \"Playnomore\"\n",
    "    custom_settings = {\n",
    "        \"DOWNLOADER_MIDDLEWARES\": {\n",
    "            \"scrapy.downloadmiddlewares.useragent.UserAgentMiddleware\": None,\n",
    "            \"scrapy_fake_useragent.middleware.RandomUserAgentMiddleware\": 400,\n",
    "        }\n",
    "    }\n",
    "    \n",
    "    def __init__(self,category1, category2, **kwargs): #스크래피 실행시 아규먼트 설정\n",
    "        self.start_urls = [\"http://palynomore.co.kr/category/{}/{}\".format(category1, category2)]#스크래피 실행시 아규먼트 설정\n",
    "        super.__init__(**kwargs)#스크래피 실행시 아규먼트 설정\n",
    "    \n",
    "    def start_requests(self):\n",
    "        self.start_urls = [\"http://playnomore.co.kr/category/bag/24/\"]#스크래피 실행시 아규먼트 설정\n",
    "        for url in urls:\n",
    "            yield scrapy.Request(url, callback=self.parse)\n",
    "    \n",
    "    def parse(self, response):\n",
    "        links = response.xpath('//*[@id=\"contents\"]/div[2]/div/ul/li/div[1]/a/@href').extract()\n",
    "        links = list(map(lambda data:response.urljoin(data), links))\n",
    "        for link in links:\n",
    "            yield scrapy.Request(link, callback=self.parse_content)\n",
    "            \n",
    "    def parse_content(self, response):\n",
    "        item = PlaynomoreItem()\n",
    "        title1 = response.xpath('//*[@id=\"contents\"]/div[1]/div[1]/div[2]/div[1]/font/text()')[0].extract()\n",
    "        title2 = response.xpath('//*[@id=\"contents\"]/div[1]/div[1]/div[2]/div[1]/text()').extract()\n",
    "        item[\"title\"] = title1 + \" \".join(title2)\n",
    "        item[\"price\"] = response.xpath('//*[@id=\"contents\"]/div[1]/div[1]/div[2]/div[2]/text()')[0].extract()\n",
    "        item[\"img\"] = \"http:\" + response.xpath('//*[@id=\"contents\"]/div[1]/div[1]/div[1]/div[2]/ul/li[1]/img/@src')[0].extract()\n",
    "        item[\"link\"] = response.url\n",
    "        yield item"
   ]
  },
  {
   "cell_type": "code",
   "execution_count": 16,
   "metadata": {},
   "outputs": [],
   "source": [
    "# 5. 스크래피 실행시 아규먼트 설정"
   ]
  },
  {
   "cell_type": "code",
   "execution_count": null,
   "metadata": {},
   "outputs": [],
   "source": [
    "# bag/24/\n",
    "# shoes/25/\n",
    "# beauty/28/"
   ]
  },
  {
   "cell_type": "code",
   "execution_count": 17,
   "metadata": {},
   "outputs": [],
   "source": [
    "# 6. 스크레피 실행"
   ]
  },
  {
   "cell_type": "code",
   "execution_count": 18,
   "metadata": {},
   "outputs": [
    {
     "name": "stdout",
     "output_type": "stream",
     "text": [
      "Writing run.sh\n"
     ]
    }
   ],
   "source": [
    "%%writefile run.sh\n",
    "cd playnomore\n",
    "scrapy crawl Playnomore -o playnomore.csv"
   ]
  },
  {
   "cell_type": "code",
   "execution_count": 19,
   "metadata": {},
   "outputs": [
    {
     "name": "stdout",
     "output_type": "stream",
     "text": [
      "2020-07-10 14:59:32 [scrapy.utils.log] INFO: Scrapy 1.6.0 started (bot: playnomore)\n",
      "2020-07-10 14:59:32 [scrapy.utils.log] INFO: Versions: lxml 4.5.0.0, libxml2 2.9.9, cssselect 1.1.0, parsel 1.5.2, w3lib 1.21.0, Twisted 19.10.0, Python 3.7.4 (default, Aug 13 2019, 15:17:50) - [Clang 4.0.1 (tags/RELEASE_401/final)], pyOpenSSL 19.1.0 (OpenSSL 1.1.1g  21 Apr 2020), cryptography 2.8, Platform Darwin-19.5.0-x86_64-i386-64bit\n",
      "2020-07-10 14:59:32 [scrapy.crawler] INFO: Overridden settings: {'BOT_NAME': 'playnomore', 'FEED_FORMAT': 'csv', 'FEED_URI': 'playnomore.csv', 'NEWSPIDER_MODULE': 'playnomore.spiders', 'ROBOTSTXT_OBEY': True, 'SPIDER_MODULES': ['playnomore.spiders']}\n",
      "2020-07-10 14:59:32 [scrapy.extensions.telnet] INFO: Telnet Password: 3f2d30d7da119219\n",
      "2020-07-10 14:59:32 [scrapy.middleware] INFO: Enabled extensions:\n",
      "['scrapy.extensions.corestats.CoreStats',\n",
      " 'scrapy.extensions.telnet.TelnetConsole',\n",
      " 'scrapy.extensions.memusage.MemoryUsage',\n",
      " 'scrapy.extensions.feedexport.FeedExporter',\n",
      " 'scrapy.extensions.logstats.LogStats']\n",
      "2020-07-10 14:59:32 [scrapy.middleware] INFO: Enabled downloader middlewares:\n",
      "['scrapy.downloadermiddlewares.robotstxt.RobotsTxtMiddleware',\n",
      " 'scrapy.downloadermiddlewares.httpauth.HttpAuthMiddleware',\n",
      " 'scrapy.downloadermiddlewares.downloadtimeout.DownloadTimeoutMiddleware',\n",
      " 'scrapy.downloadermiddlewares.defaultheaders.DefaultHeadersMiddleware',\n",
      " 'scrapy_fake_useragent.middleware.RandomUserAgentMiddleware',\n",
      " 'scrapy.downloadermiddlewares.useragent.UserAgentMiddleware',\n",
      " 'scrapy.downloadermiddlewares.retry.RetryMiddleware',\n",
      " 'scrapy.downloadermiddlewares.redirect.MetaRefreshMiddleware',\n",
      " 'scrapy.downloadermiddlewares.httpcompression.HttpCompressionMiddleware',\n",
      " 'scrapy.downloadermiddlewares.redirect.RedirectMiddleware',\n",
      " 'scrapy.downloadermiddlewares.cookies.CookiesMiddleware',\n",
      " 'scrapy.downloadermiddlewares.httpproxy.HttpProxyMiddleware',\n",
      " 'scrapy.downloadermiddlewares.stats.DownloaderStats']\n",
      "2020-07-10 14:59:32 [scrapy.middleware] INFO: Enabled spider middlewares:\n",
      "['scrapy.spidermiddlewares.httperror.HttpErrorMiddleware',\n",
      " 'scrapy.spidermiddlewares.offsite.OffsiteMiddleware',\n",
      " 'scrapy.spidermiddlewares.referer.RefererMiddleware',\n",
      " 'scrapy.spidermiddlewares.urllength.UrlLengthMiddleware',\n",
      " 'scrapy.spidermiddlewares.depth.DepthMiddleware']\n",
      "2020-07-10 14:59:32 [scrapy.middleware] INFO: Enabled item pipelines:\n",
      "[]\n",
      "2020-07-10 14:59:32 [scrapy.core.engine] INFO: Spider opened\n",
      "2020-07-10 14:59:32 [scrapy.extensions.logstats] INFO: Crawled 0 pages (at 0 pages/min), scraped 0 items (at 0 items/min)\n",
      "2020-07-10 14:59:32 [scrapy.extensions.telnet] INFO: Telnet console listening on 127.0.0.1:6023\n",
      "2020-07-10 14:59:32 [scrapy.core.engine] DEBUG: Crawled (200) <GET http://playnomore.co.kr/robots.txt> (referer: None)\n",
      "2020-07-10 14:59:32 [scrapy.core.engine] DEBUG: Crawled (200) <GET http://playnomore.co.kr/category/bag/24/> (referer: None)\n",
      "2020-07-10 14:59:33 [scrapy.downloadermiddlewares.redirect] DEBUG: Redirecting (301) to <GET http://playnomore.co.kr/product/new-open-event-10-rainbow-hobo-red-180/569/?cate_no=24&display_group=1> from <GET http://playnomore.co.kr/product/detail.html?product_no=569&cate_no=24&display_group=1>\n",
      "2020-07-10 14:59:33 [scrapy.downloadermiddlewares.redirect] DEBUG: Redirecting (301) to <GET http://playnomore.co.kr/product/new-open-event-10-rainbow-hobo-ice-grey-180/565/?cate_no=24&display_group=1> from <GET http://playnomore.co.kr/product/detail.html?product_no=565&cate_no=24&display_group=1>\n",
      "2020-07-10 14:59:33 [scrapy.downloadermiddlewares.redirect] DEBUG: Redirecting (301) to <GET http://playnomore.co.kr/product/new-open-event-10-rainbow-hobo-whtie-180/563/?cate_no=24&display_group=1> from <GET http://playnomore.co.kr/product/detail.html?product_no=563&cate_no=24&display_group=1>\n",
      "2020-07-10 14:59:33 [scrapy.downloadermiddlewares.redirect] DEBUG: Redirecting (301) to <GET http://playnomore.co.kr/product/new-open-event-10-rainbow-hobo-mint-180/566/?cate_no=24&display_group=1> from <GET http://playnomore.co.kr/product/detail.html?product_no=566&cate_no=24&display_group=1>\n",
      "2020-07-10 14:59:33 [scrapy.downloadermiddlewares.redirect] DEBUG: Redirecting (301) to <GET http://playnomore.co.kr/product/new-open-event-10-rainbow-hobo-candy-pink-180/564/?cate_no=24&display_group=1> from <GET http://playnomore.co.kr/product/detail.html?product_no=564&cate_no=24&display_group=1>\n",
      "2020-07-10 14:59:33 [scrapy.downloadermiddlewares.redirect] DEBUG: Redirecting (301) to <GET http://playnomore.co.kr/product//545/?cate_no=24&display_group=1> from <GET http://playnomore.co.kr/product/detail.html?product_no=545&cate_no=24&display_group=1>\n",
      "2020-07-10 14:59:33 [scrapy.downloadermiddlewares.redirect] DEBUG: Redirecting (301) to <GET http://playnomore.co.kr/product/new-open-event-10-rainbow-hobo-green-180/568/?cate_no=24&display_group=1> from <GET http://playnomore.co.kr/product/detail.html?product_no=568&cate_no=24&display_group=1>\n",
      "2020-07-10 14:59:33 [scrapy.downloadermiddlewares.redirect] DEBUG: Redirecting (301) to <GET http://playnomore.co.kr/product/new-open-event-10-rainbow-hobo-black-180/562/?cate_no=24&display_group=1> from <GET http://playnomore.co.kr/product/detail.html?product_no=562&cate_no=24&display_group=1>\n",
      "2020-07-10 14:59:33 [scrapy.downloadermiddlewares.redirect] DEBUG: Redirecting (301) to <GET http://playnomore.co.kr/product/new-open-event-10-rainbow-hobo-blue-180/567/?cate_no=24&display_group=1> from <GET http://playnomore.co.kr/product/detail.html?product_no=567&cate_no=24&display_group=1>\n",
      "2020-07-10 14:59:33 [scrapy.downloadermiddlewares.redirect] DEBUG: Redirecting (301) to <GET http://playnomore.co.kr/product/15off-micro-candy-magenta-180/493/?cate_no=24&display_group=1> from <GET http://playnomore.co.kr/product/detail.html?product_no=493&cate_no=24&display_group=1>\n",
      "2020-07-10 14:59:33 [scrapy.downloadermiddlewares.redirect] DEBUG: Redirecting (301) to <GET http://playnomore.co.kr/product/spring-sale-15-micro-candy-white-180/507/?cate_no=24&display_group=1> from <GET http://playnomore.co.kr/product/detail.html?product_no=507&cate_no=24&display_group=1>\n",
      "2020-07-10 14:59:33 [scrapy.downloadermiddlewares.redirect] DEBUG: Redirecting (301) to <GET http://playnomore.co.kr/product/15off-micro-candy-natural-180/532/?cate_no=24&display_group=1> from <GET http://playnomore.co.kr/product/detail.html?product_no=532&cate_no=24&display_group=1>\n",
      "2020-07-10 14:59:33 [scrapy.downloadermiddlewares.redirect] DEBUG: Redirecting (301) to <GET http://playnomore.co.kr/product/pre-order20off-micro-baguette-yellow-180/573/?cate_no=24&display_group=1> from <GET http://playnomore.co.kr/product/detail.html?product_no=573&cate_no=24&display_group=1>\n",
      "2020-07-10 14:59:33 [scrapy.downloadermiddlewares.redirect] DEBUG: Redirecting (301) to <GET http://playnomore.co.kr/product/15off-micro-candy-dot-180/550/?cate_no=24&display_group=1> from <GET http://playnomore.co.kr/product/detail.html?product_no=550&cate_no=24&display_group=1>\n",
      "2020-07-10 14:59:33 [scrapy.downloadermiddlewares.redirect] DEBUG: Redirecting (301) to <GET http://playnomore.co.kr/product/pre-order20off-micro-baguette-white-180/572/?cate_no=24&display_group=1> from <GET http://playnomore.co.kr/product/detail.html?product_no=572&cate_no=24&display_group=1>\n",
      "2020-07-10 14:59:33 [scrapy.core.engine] DEBUG: Crawled (404) <GET http://playnomore.co.kr/product//545/?cate_no=24&display_group=1> (referer: http://playnomore.co.kr/category/bag/24/)\n",
      "2020-07-10 14:59:33 [scrapy.spidermiddlewares.httperror] INFO: Ignoring response <404 http://playnomore.co.kr/product//545/?cate_no=24&display_group=1>: HTTP status code is not handled or not allowed\n",
      "2020-07-10 14:59:33 [scrapy.core.engine] DEBUG: Crawled (200) <GET http://playnomore.co.kr/product/new-open-event-10-rainbow-hobo-ice-grey-180/565/?cate_no=24&display_group=1> (referer: http://playnomore.co.kr/category/bag/24/)\n",
      "2020-07-10 14:59:33 [scrapy.core.engine] DEBUG: Crawled (200) <GET http://playnomore.co.kr/product/new-open-event-10-rainbow-hobo-black-180/562/?cate_no=24&display_group=1> (referer: http://playnomore.co.kr/category/bag/24/)\n",
      "2020-07-10 14:59:33 [scrapy.core.engine] DEBUG: Crawled (200) <GET http://playnomore.co.kr/product/new-open-event-10-rainbow-hobo-mint-180/566/?cate_no=24&display_group=1> (referer: http://playnomore.co.kr/category/bag/24/)\n",
      "2020-07-10 14:59:33 [scrapy.core.engine] DEBUG: Crawled (200) <GET http://playnomore.co.kr/product/new-open-event-10-rainbow-hobo-candy-pink-180/564/?cate_no=24&display_group=1> (referer: http://playnomore.co.kr/category/bag/24/)\n",
      "2020-07-10 14:59:33 [scrapy.core.engine] DEBUG: Crawled (200) <GET http://playnomore.co.kr/product/new-open-event-10-rainbow-hobo-blue-180/567/?cate_no=24&display_group=1> (referer: http://playnomore.co.kr/category/bag/24/)\n",
      "2020-07-10 14:59:33 [scrapy.core.engine] DEBUG: Crawled (200) <GET http://playnomore.co.kr/product/new-open-event-10-rainbow-hobo-whtie-180/563/?cate_no=24&display_group=1> (referer: http://playnomore.co.kr/category/bag/24/)\n",
      "2020-07-10 14:59:33 [scrapy.core.engine] DEBUG: Crawled (200) <GET http://playnomore.co.kr/product/new-open-event-10-rainbow-hobo-green-180/568/?cate_no=24&display_group=1> (referer: http://playnomore.co.kr/category/bag/24/)\n",
      "2020-07-10 14:59:33 [scrapy.core.engine] DEBUG: Crawled (200) <GET http://playnomore.co.kr/product/new-open-event-10-rainbow-hobo-red-180/569/?cate_no=24&display_group=1> (referer: http://playnomore.co.kr/category/bag/24/)\n",
      "2020-07-10 14:59:33 [scrapy.core.scraper] DEBUG: Scraped from <200 http://playnomore.co.kr/product/new-open-event-10-rainbow-hobo-ice-grey-180/565/?cate_no=24&display_group=1>\n",
      "{'img': 'http://playnomore.co.kr/web/product/small/20200306/75290e1b637990bb4cf896a5ca4fb267.jpg',\n",
      " 'link': 'http://playnomore.co.kr/product/new-open-event-10-rainbow-hobo-ice-grey-180/565/?cate_no=24&display_group=1',\n",
      " 'price': '$ 162',\n",
      " 'title': '[New Open Event 10%]  RAINBOW HOBO  ice grey '}\n",
      "2020-07-10 14:59:33 [scrapy.core.scraper] DEBUG: Scraped from <200 http://playnomore.co.kr/product/new-open-event-10-rainbow-hobo-black-180/562/?cate_no=24&display_group=1>\n",
      "{'img': 'http://playnomore.co.kr/web/product/small/20200306/9cf8fd53be5b7b895b1e7c8e0b82e650.jpg',\n",
      " 'link': 'http://playnomore.co.kr/product/new-open-event-10-rainbow-hobo-black-180/562/?cate_no=24&display_group=1',\n",
      " 'price': '$ 162',\n",
      " 'title': '[New Open Event 10%]  RAINBOW HOBO  black '}\n",
      "2020-07-10 14:59:33 [scrapy.core.scraper] DEBUG: Scraped from <200 http://playnomore.co.kr/product/new-open-event-10-rainbow-hobo-mint-180/566/?cate_no=24&display_group=1>\n",
      "{'img': 'http://playnomore.co.kr/web/product/small/20200306/28f7f6e8f2f4dfa313fcc6ff6db201f1.jpg',\n",
      " 'link': 'http://playnomore.co.kr/product/new-open-event-10-rainbow-hobo-mint-180/566/?cate_no=24&display_group=1',\n",
      " 'price': '$ 162',\n",
      " 'title': '[New Open Event 10%]  RAINBOW HOBO  mint '}\n",
      "2020-07-10 14:59:33 [scrapy.core.scraper] DEBUG: Scraped from <200 http://playnomore.co.kr/product/new-open-event-10-rainbow-hobo-candy-pink-180/564/?cate_no=24&display_group=1>\n",
      "{'img': 'http://playnomore.co.kr/web/product/small/20200306/3f99553f5f15b27a9375f6edca74c9ea.jpg',\n",
      " 'link': 'http://playnomore.co.kr/product/new-open-event-10-rainbow-hobo-candy-pink-180/564/?cate_no=24&display_group=1',\n",
      " 'price': '$ 162',\n",
      " 'title': '[New Open Event 10%]  RAINBOW HOBO  candy pink '}\n",
      "2020-07-10 14:59:33 [scrapy.core.scraper] DEBUG: Scraped from <200 http://playnomore.co.kr/product/new-open-event-10-rainbow-hobo-blue-180/567/?cate_no=24&display_group=1>\n",
      "{'img': 'http://playnomore.co.kr/web/product/small/20200306/dbac22b93ab0c50bb2a44c90127f23f8.jpg',\n",
      " 'link': 'http://playnomore.co.kr/product/new-open-event-10-rainbow-hobo-blue-180/567/?cate_no=24&display_group=1',\n",
      " 'price': '$ 162',\n",
      " 'title': '[New Open Event 10%]  RAINBOW HOBO  blue '}\n",
      "2020-07-10 14:59:33 [scrapy.core.scraper] DEBUG: Scraped from <200 http://playnomore.co.kr/product/new-open-event-10-rainbow-hobo-whtie-180/563/?cate_no=24&display_group=1>\n",
      "{'img': 'http://playnomore.co.kr/web/product/small/20200306/fab492923caca059e0d6387f9057a073.jpg',\n",
      " 'link': 'http://playnomore.co.kr/product/new-open-event-10-rainbow-hobo-whtie-180/563/?cate_no=24&display_group=1',\n",
      " 'price': '$ 162',\n",
      " 'title': '[New Open Event 10%]  RAINBOW HOBO  whtie '}\n",
      "2020-07-10 14:59:33 [scrapy.core.scraper] DEBUG: Scraped from <200 http://playnomore.co.kr/product/new-open-event-10-rainbow-hobo-green-180/568/?cate_no=24&display_group=1>\n",
      "{'img': 'http://playnomore.co.kr/web/product/small/20200306/088ee75563ab6d936b6ec34e8d306b10.jpg',\n",
      " 'link': 'http://playnomore.co.kr/product/new-open-event-10-rainbow-hobo-green-180/568/?cate_no=24&display_group=1',\n",
      " 'price': '$ 162',\n",
      " 'title': '[New Open Event 10%]  RAINBOW HOBO  green '}\n",
      "2020-07-10 14:59:33 [scrapy.core.scraper] DEBUG: Scraped from <200 http://playnomore.co.kr/product/new-open-event-10-rainbow-hobo-red-180/569/?cate_no=24&display_group=1>\n",
      "{'img': 'http://playnomore.co.kr/web/product/small/20200306/3bec71692a428c9f70752ac8cd94e37d.jpg',\n",
      " 'link': 'http://playnomore.co.kr/product/new-open-event-10-rainbow-hobo-red-180/569/?cate_no=24&display_group=1',\n",
      " 'price': '$ 162',\n",
      " 'title': '[New Open Event 10%]  RAINBOW HOBO  red '}\n",
      "2020-07-10 14:59:34 [scrapy.core.engine] DEBUG: Crawled (200) <GET http://playnomore.co.kr/product/15off-micro-candy-magenta-180/493/?cate_no=24&display_group=1> (referer: http://playnomore.co.kr/category/bag/24/)\n",
      "2020-07-10 14:59:34 [scrapy.core.engine] DEBUG: Crawled (200) <GET http://playnomore.co.kr/product/pre-order20off-micro-baguette-yellow-180/573/?cate_no=24&display_group=1> (referer: http://playnomore.co.kr/category/bag/24/)\n",
      "2020-07-10 14:59:34 [scrapy.core.engine] DEBUG: Crawled (200) <GET http://playnomore.co.kr/product/pre-order20off-micro-baguette-white-180/572/?cate_no=24&display_group=1> (referer: http://playnomore.co.kr/category/bag/24/)\n",
      "2020-07-10 14:59:34 [scrapy.core.engine] DEBUG: Crawled (200) <GET http://playnomore.co.kr/product/spring-sale-15-micro-candy-white-180/507/?cate_no=24&display_group=1> (referer: http://playnomore.co.kr/category/bag/24/)\n",
      "2020-07-10 14:59:34 [scrapy.core.engine] DEBUG: Crawled (200) <GET http://playnomore.co.kr/product/15off-micro-candy-natural-180/532/?cate_no=24&display_group=1> (referer: http://playnomore.co.kr/category/bag/24/)\n",
      "2020-07-10 14:59:34 [scrapy.core.engine] DEBUG: Crawled (200) <GET http://playnomore.co.kr/product/15off-micro-candy-dot-180/550/?cate_no=24&display_group=1> (referer: http://playnomore.co.kr/category/bag/24/)\n",
      "2020-07-10 14:59:34 [scrapy.core.scraper] DEBUG: Scraped from <200 http://playnomore.co.kr/product/15off-micro-candy-magenta-180/493/?cate_no=24&display_group=1>\n",
      "{'img': 'http://playnomore.co.kr/web/product/small/20200303/f5b889e86cb0d3d4cf67407b24923aec.jpg',\n",
      " 'link': 'http://playnomore.co.kr/product/15off-micro-candy-magenta-180/493/?cate_no=24&display_group=1',\n",
      " 'price': '$ 153',\n",
      " 'title': '[15%off]  MICRO CANDY  magenta '}\n",
      "2020-07-10 14:59:34 [scrapy.core.scraper] DEBUG: Scraped from <200 http://playnomore.co.kr/product/pre-order20off-micro-baguette-yellow-180/573/?cate_no=24&display_group=1>\n",
      "{'img': 'http://playnomore.co.kr/web/product/small/20200407/43ec3b61d30531a05a3d727780c9b1f3.jpg',\n",
      " 'link': 'http://playnomore.co.kr/product/pre-order20off-micro-baguette-yellow-180/573/?cate_no=24&display_group=1',\n",
      " 'price': '$ 144',\n",
      " 'title': '[Pre-Order/20%off]  MICRO BAGUETTE  yellow '}\n",
      "2020-07-10 14:59:34 [scrapy.core.scraper] DEBUG: Scraped from <200 http://playnomore.co.kr/product/pre-order20off-micro-baguette-white-180/572/?cate_no=24&display_group=1>\n",
      "{'img': 'http://playnomore.co.kr/web/product/small/20200407/eef9ce3ad735dede740528ee8bf61e63.jpg',\n",
      " 'link': 'http://playnomore.co.kr/product/pre-order20off-micro-baguette-white-180/572/?cate_no=24&display_group=1',\n",
      " 'price': '$ 144',\n",
      " 'title': '[Pre-Order/20%off]  MICRO BAGUETTE  white '}\n",
      "2020-07-10 14:59:34 [scrapy.core.scraper] DEBUG: Scraped from <200 http://playnomore.co.kr/product/spring-sale-15-micro-candy-white-180/507/?cate_no=24&display_group=1>\n",
      "{'img': 'http://playnomore.co.kr/web/product/small/20200303/34d2ead55c717fd36aca0add1ec31204.jpg',\n",
      " 'link': 'http://playnomore.co.kr/product/spring-sale-15-micro-candy-white-180/507/?cate_no=24&display_group=1',\n",
      " 'price': '$ 153',\n",
      " 'title': '[Spring SALE 15%]  MICRO CANDY  white '}\n",
      "2020-07-10 14:59:34 [scrapy.core.scraper] DEBUG: Scraped from <200 http://playnomore.co.kr/product/15off-micro-candy-natural-180/532/?cate_no=24&display_group=1>\n",
      "{'img': 'http://playnomore.co.kr/web/product/small/20200303/771b7bf7138fe20f74ac9ffda80019f3.jpg',\n",
      " 'link': 'http://playnomore.co.kr/product/15off-micro-candy-natural-180/532/?cate_no=24&display_group=1',\n",
      " 'price': '$ 153',\n",
      " 'title': '[15%off]  MICRO CANDY  natural '}\n",
      "2020-07-10 14:59:34 [scrapy.core.scraper] DEBUG: Scraped from <200 http://playnomore.co.kr/product/15off-micro-candy-dot-180/550/?cate_no=24&display_group=1>\n",
      "{'img': 'http://playnomore.co.kr/web/product/small/20200303/9faa637457bf6c8e85c4b5097b31e0e0.jpg',\n",
      " 'link': 'http://playnomore.co.kr/product/15off-micro-candy-dot-180/550/?cate_no=24&display_group=1',\n",
      " 'price': '$ 153',\n",
      " 'title': '[15%off]  MICRO CANDY  dot '}\n",
      "2020-07-10 14:59:34 [scrapy.core.engine] INFO: Closing spider (finished)\n",
      "2020-07-10 14:59:34 [scrapy.extensions.feedexport] INFO: Stored csv feed (14 items) in: playnomore.csv\n",
      "2020-07-10 14:59:34 [scrapy.statscollectors] INFO: Dumping Scrapy stats:\n",
      "{'downloader/request_bytes': 15927,\n",
      " 'downloader/request_count': 32,\n",
      " 'downloader/request_method_count/GET': 32,\n",
      " 'downloader/response_bytes': 294188,\n",
      " 'downloader/response_count': 32,\n",
      " 'downloader/response_status_count/200': 16,\n",
      " 'downloader/response_status_count/301': 15,\n",
      " 'downloader/response_status_count/404': 1,\n",
      " 'finish_reason': 'finished',\n",
      " 'finish_time': datetime.datetime(2020, 7, 10, 5, 59, 34, 411043),\n",
      " 'httperror/response_ignored_count': 1,\n",
      " 'httperror/response_ignored_status_count/404': 1,\n",
      " 'item_scraped_count': 14,\n",
      " 'log_count/DEBUG': 46,\n",
      " 'log_count/INFO': 11,\n",
      " 'memusage/max': 50237440,\n",
      " 'memusage/startup': 50237440,\n",
      " 'request_depth_max': 1,\n",
      " 'response_received_count': 17,\n",
      " 'robotstxt/request_count': 1,\n",
      " 'robotstxt/response_count': 1,\n",
      " 'robotstxt/response_status_count/200': 1,\n",
      " 'scheduler/dequeued': 31,\n",
      " 'scheduler/dequeued/memory': 31,\n",
      " 'scheduler/enqueued': 31,\n",
      " 'scheduler/enqueued/memory': 31,\n",
      " 'start_time': datetime.datetime(2020, 7, 10, 5, 59, 32, 532223)}\n",
      "2020-07-10 14:59:34 [scrapy.core.engine] INFO: Spider closed (finished)\n"
     ]
    }
   ],
   "source": [
    "!source run.sh"
   ]
  },
  {
   "cell_type": "code",
   "execution_count": 20,
   "metadata": {},
   "outputs": [
    {
     "data": {
      "text/html": [
       "<div>\n",
       "<style scoped>\n",
       "    .dataframe tbody tr th:only-of-type {\n",
       "        vertical-align: middle;\n",
       "    }\n",
       "\n",
       "    .dataframe tbody tr th {\n",
       "        vertical-align: top;\n",
       "    }\n",
       "\n",
       "    .dataframe thead th {\n",
       "        text-align: right;\n",
       "    }\n",
       "</style>\n",
       "<table border=\"1\" class=\"dataframe\">\n",
       "  <thead>\n",
       "    <tr style=\"text-align: right;\">\n",
       "      <th></th>\n",
       "      <th>img</th>\n",
       "      <th>link</th>\n",
       "      <th>price</th>\n",
       "      <th>title</th>\n",
       "    </tr>\n",
       "  </thead>\n",
       "  <tbody>\n",
       "    <tr>\n",
       "      <th>0</th>\n",
       "      <td>http://playnomore.co.kr/web/product/small/2020...</td>\n",
       "      <td>http://playnomore.co.kr/product/new-open-event...</td>\n",
       "      <td>$ 162</td>\n",
       "      <td>[New Open Event 10%]  RAINBOW HOBO  ice grey</td>\n",
       "    </tr>\n",
       "    <tr>\n",
       "      <th>1</th>\n",
       "      <td>http://playnomore.co.kr/web/product/small/2020...</td>\n",
       "      <td>http://playnomore.co.kr/product/new-open-event...</td>\n",
       "      <td>$ 162</td>\n",
       "      <td>[New Open Event 10%]  RAINBOW HOBO  black</td>\n",
       "    </tr>\n",
       "    <tr>\n",
       "      <th>2</th>\n",
       "      <td>http://playnomore.co.kr/web/product/small/2020...</td>\n",
       "      <td>http://playnomore.co.kr/product/new-open-event...</td>\n",
       "      <td>$ 162</td>\n",
       "      <td>[New Open Event 10%]  RAINBOW HOBO  mint</td>\n",
       "    </tr>\n",
       "    <tr>\n",
       "      <th>3</th>\n",
       "      <td>http://playnomore.co.kr/web/product/small/2020...</td>\n",
       "      <td>http://playnomore.co.kr/product/new-open-event...</td>\n",
       "      <td>$ 162</td>\n",
       "      <td>[New Open Event 10%]  RAINBOW HOBO  candy pink</td>\n",
       "    </tr>\n",
       "    <tr>\n",
       "      <th>4</th>\n",
       "      <td>http://playnomore.co.kr/web/product/small/2020...</td>\n",
       "      <td>http://playnomore.co.kr/product/new-open-event...</td>\n",
       "      <td>$ 162</td>\n",
       "      <td>[New Open Event 10%]  RAINBOW HOBO  blue</td>\n",
       "    </tr>\n",
       "    <tr>\n",
       "      <th>5</th>\n",
       "      <td>http://playnomore.co.kr/web/product/small/2020...</td>\n",
       "      <td>http://playnomore.co.kr/product/new-open-event...</td>\n",
       "      <td>$ 162</td>\n",
       "      <td>[New Open Event 10%]  RAINBOW HOBO  whtie</td>\n",
       "    </tr>\n",
       "    <tr>\n",
       "      <th>6</th>\n",
       "      <td>http://playnomore.co.kr/web/product/small/2020...</td>\n",
       "      <td>http://playnomore.co.kr/product/new-open-event...</td>\n",
       "      <td>$ 162</td>\n",
       "      <td>[New Open Event 10%]  RAINBOW HOBO  green</td>\n",
       "    </tr>\n",
       "    <tr>\n",
       "      <th>7</th>\n",
       "      <td>http://playnomore.co.kr/web/product/small/2020...</td>\n",
       "      <td>http://playnomore.co.kr/product/new-open-event...</td>\n",
       "      <td>$ 162</td>\n",
       "      <td>[New Open Event 10%]  RAINBOW HOBO  red</td>\n",
       "    </tr>\n",
       "    <tr>\n",
       "      <th>8</th>\n",
       "      <td>http://playnomore.co.kr/web/product/small/2020...</td>\n",
       "      <td>http://playnomore.co.kr/product/15off-micro-ca...</td>\n",
       "      <td>$ 153</td>\n",
       "      <td>[15%off]  MICRO CANDY  magenta</td>\n",
       "    </tr>\n",
       "    <tr>\n",
       "      <th>9</th>\n",
       "      <td>http://playnomore.co.kr/web/product/small/2020...</td>\n",
       "      <td>http://playnomore.co.kr/product/pre-order20off...</td>\n",
       "      <td>$ 144</td>\n",
       "      <td>[Pre-Order/20%off]  MICRO BAGUETTE  yellow</td>\n",
       "    </tr>\n",
       "    <tr>\n",
       "      <th>10</th>\n",
       "      <td>http://playnomore.co.kr/web/product/small/2020...</td>\n",
       "      <td>http://playnomore.co.kr/product/pre-order20off...</td>\n",
       "      <td>$ 144</td>\n",
       "      <td>[Pre-Order/20%off]  MICRO BAGUETTE  white</td>\n",
       "    </tr>\n",
       "    <tr>\n",
       "      <th>11</th>\n",
       "      <td>http://playnomore.co.kr/web/product/small/2020...</td>\n",
       "      <td>http://playnomore.co.kr/product/spring-sale-15...</td>\n",
       "      <td>$ 153</td>\n",
       "      <td>[Spring SALE 15%]  MICRO CANDY  white</td>\n",
       "    </tr>\n",
       "    <tr>\n",
       "      <th>12</th>\n",
       "      <td>http://playnomore.co.kr/web/product/small/2020...</td>\n",
       "      <td>http://playnomore.co.kr/product/15off-micro-ca...</td>\n",
       "      <td>$ 153</td>\n",
       "      <td>[15%off]  MICRO CANDY  natural</td>\n",
       "    </tr>\n",
       "    <tr>\n",
       "      <th>13</th>\n",
       "      <td>http://playnomore.co.kr/web/product/small/2020...</td>\n",
       "      <td>http://playnomore.co.kr/product/15off-micro-ca...</td>\n",
       "      <td>$ 153</td>\n",
       "      <td>[15%off]  MICRO CANDY  dot</td>\n",
       "    </tr>\n",
       "  </tbody>\n",
       "</table>\n",
       "</div>"
      ],
      "text/plain": [
       "                                                  img  \\\n",
       "0   http://playnomore.co.kr/web/product/small/2020...   \n",
       "1   http://playnomore.co.kr/web/product/small/2020...   \n",
       "2   http://playnomore.co.kr/web/product/small/2020...   \n",
       "3   http://playnomore.co.kr/web/product/small/2020...   \n",
       "4   http://playnomore.co.kr/web/product/small/2020...   \n",
       "5   http://playnomore.co.kr/web/product/small/2020...   \n",
       "6   http://playnomore.co.kr/web/product/small/2020...   \n",
       "7   http://playnomore.co.kr/web/product/small/2020...   \n",
       "8   http://playnomore.co.kr/web/product/small/2020...   \n",
       "9   http://playnomore.co.kr/web/product/small/2020...   \n",
       "10  http://playnomore.co.kr/web/product/small/2020...   \n",
       "11  http://playnomore.co.kr/web/product/small/2020...   \n",
       "12  http://playnomore.co.kr/web/product/small/2020...   \n",
       "13  http://playnomore.co.kr/web/product/small/2020...   \n",
       "\n",
       "                                                 link  price  \\\n",
       "0   http://playnomore.co.kr/product/new-open-event...  $ 162   \n",
       "1   http://playnomore.co.kr/product/new-open-event...  $ 162   \n",
       "2   http://playnomore.co.kr/product/new-open-event...  $ 162   \n",
       "3   http://playnomore.co.kr/product/new-open-event...  $ 162   \n",
       "4   http://playnomore.co.kr/product/new-open-event...  $ 162   \n",
       "5   http://playnomore.co.kr/product/new-open-event...  $ 162   \n",
       "6   http://playnomore.co.kr/product/new-open-event...  $ 162   \n",
       "7   http://playnomore.co.kr/product/new-open-event...  $ 162   \n",
       "8   http://playnomore.co.kr/product/15off-micro-ca...  $ 153   \n",
       "9   http://playnomore.co.kr/product/pre-order20off...  $ 144   \n",
       "10  http://playnomore.co.kr/product/pre-order20off...  $ 144   \n",
       "11  http://playnomore.co.kr/product/spring-sale-15...  $ 153   \n",
       "12  http://playnomore.co.kr/product/15off-micro-ca...  $ 153   \n",
       "13  http://playnomore.co.kr/product/15off-micro-ca...  $ 153   \n",
       "\n",
       "                                              title  \n",
       "0     [New Open Event 10%]  RAINBOW HOBO  ice grey   \n",
       "1        [New Open Event 10%]  RAINBOW HOBO  black   \n",
       "2         [New Open Event 10%]  RAINBOW HOBO  mint   \n",
       "3   [New Open Event 10%]  RAINBOW HOBO  candy pink   \n",
       "4         [New Open Event 10%]  RAINBOW HOBO  blue   \n",
       "5        [New Open Event 10%]  RAINBOW HOBO  whtie   \n",
       "6        [New Open Event 10%]  RAINBOW HOBO  green   \n",
       "7          [New Open Event 10%]  RAINBOW HOBO  red   \n",
       "8                   [15%off]  MICRO CANDY  magenta   \n",
       "9       [Pre-Order/20%off]  MICRO BAGUETTE  yellow   \n",
       "10       [Pre-Order/20%off]  MICRO BAGUETTE  white   \n",
       "11           [Spring SALE 15%]  MICRO CANDY  white   \n",
       "12                  [15%off]  MICRO CANDY  natural   \n",
       "13                      [15%off]  MICRO CANDY  dot   "
      ]
     },
     "execution_count": 20,
     "metadata": {},
     "output_type": "execute_result"
    }
   ],
   "source": [
    "pd.read_csv(\"playnomore/playnomore.csv\")"
   ]
  },
  {
   "cell_type": "code",
   "execution_count": null,
   "metadata": {},
   "outputs": [],
   "source": []
  }
 ],
 "metadata": {
  "kernelspec": {
   "display_name": "Python 3",
   "language": "python",
   "name": "python3"
  },
  "language_info": {
   "codemirror_mode": {
    "name": "ipython",
    "version": 3
   },
   "file_extension": ".py",
   "mimetype": "text/x-python",
   "name": "python",
   "nbconvert_exporter": "python",
   "pygments_lexer": "ipython3",
   "version": "3.7.4"
  }
 },
 "nbformat": 4,
 "nbformat_minor": 4
}
