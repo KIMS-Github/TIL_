{
 "cells": [
  {
   "cell_type": "markdown",
   "metadata": {},
   "source": [
    "### summary \n",
    "- function\n",
    "    - docstring\n",
    "    - scope: global, local # search local and than global\n",
    "    - inner fuction\n",
    "    - lambda fuction\n",
    "    - decorator \n",
    "- class\n",
    "    - Classes provide a means of bundling data and functionality together\n",
    "    - Creating a new class creates a new type of object\n",
    "        "
   ]
  },
  {
   "cell_type": "markdown",
   "metadata": {},
   "source": [
    "take 2"
   ]
  },
  {
   "cell_type": "code",
   "execution_count": 79,
   "metadata": {},
   "outputs": [],
   "source": [
    "uuid = [\n",
    "    {\"user\":\"test\", \"pw\":\"1234\", \"count\":0},\n",
    "    {\"user\":\"kim\", \"pw\":\"1111\", \"count\":0}\n",
    "]"
   ]
  },
  {
   "cell_type": "code",
   "execution_count": 80,
   "metadata": {},
   "outputs": [],
   "source": [
    "def need_login(func):\n",
    "    def wrapper(*args, **kwargs):\n",
    "        user, pw = tuple(input(\"insert your username and pw : \").split(\" \"))\n",
    "        \n",
    "        for idx, user_data in enumerate(uuid):\n",
    "            \n",
    "            if user_data[\"user\"] == user and user_data[\"pw\"] == pw:\n",
    "                uuid[idx][\"count\"] += 1\n",
    "                return func(*args, **kwargs)\n",
    "        return \"Please check your username and password\"\n",
    "    return wrapper\n",
    "                       \n",
    "        "
   ]
  },
  {
   "cell_type": "code",
   "execution_count": 81,
   "metadata": {},
   "outputs": [],
   "source": [
    "@need_login\n",
    "def plus(num1, num2):\n",
    "    return num1 + num2"
   ]
  },
  {
   "cell_type": "code",
   "execution_count": 82,
   "metadata": {},
   "outputs": [
    {
     "name": "stdin",
     "output_type": "stream",
     "text": [
      "insert your username and pw :  test 1234\n"
     ]
    },
    {
     "data": {
      "text/plain": [
       "3"
      ]
     },
     "execution_count": 82,
     "metadata": {},
     "output_type": "execute_result"
    }
   ],
   "source": [
    "plus(1,2)"
   ]
  },
  {
   "cell_type": "code",
   "execution_count": 83,
   "metadata": {},
   "outputs": [
    {
     "data": {
      "text/plain": [
       "[{'user': 'test', 'pw': '1234', 'count': 1},\n",
       " {'user': 'kim', 'pw': '1111', 'count': 0}]"
      ]
     },
     "execution_count": 83,
     "metadata": {},
     "output_type": "execute_result"
    }
   ],
   "source": [
    "uuid"
   ]
  },
  {
   "cell_type": "markdown",
   "metadata": {},
   "source": [
    "take 3"
   ]
  },
  {
   "cell_type": "code",
   "execution_count": 120,
   "metadata": {},
   "outputs": [],
   "source": [
    "uuid2 = [\n",
    "    {\"user\": \"test1\", \"pw\":\"1234\", \"count\":0},\n",
    "    {\"user\": \"test2\", \"pw\":\"5678\", \"count\":0}\n",
    "]"
   ]
  },
  {
   "cell_type": "code",
   "execution_count": 121,
   "metadata": {},
   "outputs": [],
   "source": [
    "def need_login2(func):\n",
    "    def wrapper2(*args, **kwargs):\n",
    "        user, pw = tuple(input(\"insert your username and pw : \").split(\" \"))\n",
    "        \n",
    "        for idx, user_data in enumerate(uuid2):\n",
    "            if user_data[\"user\"] == user and user_data[\"pw\"] == pw:\n",
    "                uuid2[idx][\"count\"] += 1\n",
    "                return func(*args, **kwargs)\n",
    "        return \"Please check your username and password\"\n",
    "    return wrapper2"
   ]
  },
  {
   "cell_type": "code",
   "execution_count": 122,
   "metadata": {},
   "outputs": [],
   "source": [
    "@need_login2\n",
    "def plus2(n1,n2):\n",
    "    return n1 + n2"
   ]
  },
  {
   "cell_type": "code",
   "execution_count": 127,
   "metadata": {},
   "outputs": [
    {
     "name": "stdin",
     "output_type": "stream",
     "text": [
      "insert your username and pw :  test2 5678\n"
     ]
    },
    {
     "data": {
      "text/plain": [
       "3"
      ]
     },
     "execution_count": 127,
     "metadata": {},
     "output_type": "execute_result"
    }
   ],
   "source": [
    "plus2(1,2)"
   ]
  },
  {
   "cell_type": "code",
   "execution_count": 128,
   "metadata": {},
   "outputs": [
    {
     "data": {
      "text/plain": [
       "[{'user': 'test1', 'pw': '1234', 'count': 1},\n",
       " {'user': 'test2', 'pw': '5678', 'count': 2}]"
      ]
     },
     "execution_count": 128,
     "metadata": {},
     "output_type": "execute_result"
    }
   ],
   "source": [
    "uuid2"
   ]
  },
  {
   "cell_type": "markdown",
   "metadata": {},
   "source": [
    "# Starcraft Marine Unit Class making"
   ]
  },
  {
   "cell_type": "code",
   "execution_count": 326,
   "metadata": {},
   "outputs": [],
   "source": [
    "# take2 \n",
    "class Marine:\n",
    "    \n",
    "    def __init__(self, max_hl = 40, att_pow = 5):\n",
    "        \n",
    "        self.health = max_hl\n",
    "        self.att_pow = att_pow\n",
    "        self.max_hl = max_hl\n",
    "    \n",
    "    def attack (self, unit):\n",
    "        unit.health -= self.att_pow\n",
    "        if unit.health <=0: \n",
    "            unit.health = 0\n",
    "            print(\"you die!!\")\n",
    "        return unit.health\n",
    "        \n",
    "        "
   ]
  },
  {
   "cell_type": "code",
   "execution_count": 327,
   "metadata": {},
   "outputs": [],
   "source": [
    "unit1 = Marine()"
   ]
  },
  {
   "cell_type": "code",
   "execution_count": 328,
   "metadata": {},
   "outputs": [],
   "source": [
    "unit2 = Marine()"
   ]
  },
  {
   "cell_type": "markdown",
   "metadata": {},
   "source": [
    "<font color =\"yellow\"> Medic class making"
   ]
  },
  {
   "cell_type": "code",
   "execution_count": 329,
   "metadata": {},
   "outputs": [],
   "source": [
    "# take 2\n",
    "class Medic:\n",
    "    \n",
    "    def __init__(self, max_hl = 40, hl_pw = 6):\n",
    "        self.health = max_hl\n",
    "        self.max_hl = max_hl\n",
    "        self.hl_pw = hl_pw\n",
    "        \n",
    "    def healing(self, unit):\n",
    "        if unit.health > 0:\n",
    "            unit.health += self.hl_pw\n",
    "            if unit.health >= unit.max_hl:\n",
    "                unit.heath = unit.max_hl\n",
    "        \n",
    "        else: \n",
    "            print(\"Alreay dead!! Medic you're so late!! fuck!!\")\n",
    "    \n",
    "    "
   ]
  },
  {
   "cell_type": "code",
   "execution_count": 330,
   "metadata": {},
   "outputs": [],
   "source": [
    "medic1 = Medic()"
   ]
  },
  {
   "cell_type": "code",
   "execution_count": 331,
   "metadata": {},
   "outputs": [
    {
     "data": {
      "text/plain": [
       "35"
      ]
     },
     "execution_count": 331,
     "metadata": {},
     "output_type": "execute_result"
    }
   ],
   "source": [
    "unit1.attack(unit2)"
   ]
  },
  {
   "cell_type": "code",
   "execution_count": 332,
   "metadata": {},
   "outputs": [],
   "source": [
    "medic1.healing(unit2)"
   ]
  },
  {
   "cell_type": "code",
   "execution_count": 333,
   "metadata": {},
   "outputs": [
    {
     "data": {
      "text/plain": [
       "41"
      ]
     },
     "execution_count": 333,
     "metadata": {},
     "output_type": "execute_result"
    }
   ],
   "source": [
    "unit2.health"
   ]
  },
  {
   "cell_type": "code",
   "execution_count": 318,
   "metadata": {},
   "outputs": [
    {
     "data": {
      "text/plain": [
       "36"
      ]
     },
     "execution_count": 318,
     "metadata": {},
     "output_type": "execute_result"
    }
   ],
   "source": [
    "unit1.attack(unit2)"
   ]
  },
  {
   "cell_type": "markdown",
   "metadata": {},
   "source": [
    "need more pratice at least 3~4 times"
   ]
  },
  {
   "cell_type": "code",
   "execution_count": null,
   "metadata": {},
   "outputs": [],
   "source": []
  }
 ],
 "metadata": {
  "kernelspec": {
   "display_name": "Python 3",
   "language": "python",
   "name": "python3"
  },
  "language_info": {
   "codemirror_mode": {
    "name": "ipython",
    "version": 3
   },
   "file_extension": ".py",
   "mimetype": "text/x-python",
   "name": "python",
   "nbconvert_exporter": "python",
   "pygments_lexer": "ipython3",
   "version": "3.7.4"
  }
 },
 "nbformat": 4,
 "nbformat_minor": 4
}
